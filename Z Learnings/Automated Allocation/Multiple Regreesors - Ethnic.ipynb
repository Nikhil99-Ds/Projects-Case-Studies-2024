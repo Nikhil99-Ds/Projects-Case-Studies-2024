{
 "cells": [
  {
   "cell_type": "code",
   "execution_count": 0,
   "metadata": {
    "application/vnd.databricks.v1+cell": {
     "cellMetadata": {
      "byteLimit": 2048000,
      "rowLimit": 10000
     },
     "inputWidgets": {},
     "nuid": "7733ca95-dd43-4dad-a52d-fa751cfd4175",
     "showTitle": false,
     "title": ""
    }
   },
   "outputs": [],
   "source": [
    "import pandas as pd\n",
    "import numpy as np\n",
    "\n",
    "import teradatasql\n",
    "\n",
    "import matplotlib.pyplot as plt\n",
    "import seaborn as sns\n",
    "import mlflow\n",
    "from statsmodels.tsa.stattools import adfuller\n",
    "import itertools\n",
    "import optuna\n",
    "from statsmodels.tsa.statespace.sarimax import SARIMAX\n",
    "\n",
    "import warnings\n",
    "warnings.filterwarnings(\"ignore\")"
   ]
  },
  {
   "cell_type": "code",
   "execution_count": 0,
   "metadata": {
    "application/vnd.databricks.v1+cell": {
     "cellMetadata": {
      "byteLimit": 2048000,
      "rowLimit": 10000
     },
     "inputWidgets": {},
     "nuid": "40bc304a-f4ed-4650-aea2-ae6e179e70bf",
     "showTitle": false,
     "title": ""
    }
   },
   "outputs": [],
   "source": [
    "# Create widget\n",
    "# dbutils.widgets.text(\"Style\",\"RB103+SSLSETRMCBT00004\")"
   ]
  },
  {
   "cell_type": "code",
   "execution_count": 0,
   "metadata": {
    "application/vnd.databricks.v1+cell": {
     "cellMetadata": {
      "byteLimit": 2048000,
      "rowLimit": 10000
     },
     "inputWidgets": {},
     "nuid": "964fe121-9d72-4ea1-b6d6-09df225cf1e3",
     "showTitle": false,
     "title": ""
    }
   },
   "outputs": [
    {
     "output_type": "execute_result",
     "data": {
      "text/plain": [
       "\"'RB101','SSLSETRMCBT00003'\""
      ]
     },
     "execution_count": 70,
     "metadata": {},
     "output_type": "execute_result"
    }
   ],
   "source": [
    "#Get widget\n",
    "Style = dbutils.widgets.get(\"Style\")\n",
    "Style"
   ]
  },
  {
   "cell_type": "markdown",
   "metadata": {
    "application/vnd.databricks.v1+cell": {
     "cellMetadata": {
      "byteLimit": 2048000,
      "rowLimit": 10000
     },
     "inputWidgets": {},
     "nuid": "2dda765b-3b64-4673-b549-12a2b0deb1d4",
     "showTitle": false,
     "title": ""
    }
   },
   "source": [
    "#Reading Data from Teradata"
   ]
  },
  {
   "cell_type": "code",
   "execution_count": 0,
   "metadata": {
    "application/vnd.databricks.v1+cell": {
     "cellMetadata": {
      "byteLimit": 2048000,
      "rowLimit": 10000
     },
     "inputWidgets": {},
     "nuid": "2d781f9a-f0f8-4554-82da-7d39971c4c66",
     "showTitle": false,
     "title": ""
    }
   },
   "outputs": [
    {
     "output_type": "stream",
     "name": "stdout",
     "output_type": "stream",
     "text": [
      "CPU times: user 5.09 s, sys: 584 ms, total: 5.67 s\nWall time: 22.9 s\n"
     ]
    }
   ],
   "source": [
    "%%time\n",
    "query = f'''\n",
    "        select s.sls_date, s.GSV, s.SLS_MRP, sum(s.sls_qty),s.site_code, a.Option_code, st.site_zone\n",
    "        from pfrl_it.sls_summary_v as s\n",
    "        left join pfrl_it.sls_marticle as a on s.article_code=a.article_code \n",
    "        left join pfrl_it.sls_marticlehierarchy as h on a.mc_code=h.mc_code\n",
    "        inner join pfrl_it.sls_msite as st on s.site_code=st.site_code \n",
    "        where a.Style in({Style})  \n",
    "        and h.new_mc_product_class in ('CORE', 'C/CP')\n",
    "        and st.concept in ('PT','PW','PK')\n",
    "        and h.mc_type in ('PT')\n",
    "        and s.bill_type in ('ZPOS','ZRMS','ZBOS','ZOMB','ZOMS','ZBMS') \n",
    "        and h.new_world in ('ETHNIC APPAREL')\n",
    "        group by s.sls_date, s.GSV, s.SLS_MRP,s.site_code, a.Option_code, st.site_zone;\n",
    "              \n",
    "        '''\n",
    "with teradatasql.connect(host='10.150.9.10', user='Swayam Sharma', password='Abfls@123') as connect:\n",
    "        df = pd.read_sql(query,connect)"
   ]
  },
  {
   "cell_type": "code",
   "execution_count": 0,
   "metadata": {
    "application/vnd.databricks.v1+cell": {
     "cellMetadata": {
      "byteLimit": 2048000,
      "rowLimit": 10000
     },
     "inputWidgets": {},
     "nuid": "929cad4d-865c-4464-92c4-bdce15a6de01",
     "showTitle": false,
     "title": ""
    }
   },
   "outputs": [
    {
     "output_type": "execute_result",
     "data": {
      "text/html": [
       "<div>\n",
       "<style scoped>\n",
       "    .dataframe tbody tr th:only-of-type {\n",
       "        vertical-align: middle;\n",
       "    }\n",
       "\n",
       "    .dataframe tbody tr th {\n",
       "        vertical-align: top;\n",
       "    }\n",
       "\n",
       "    .dataframe thead th {\n",
       "        text-align: right;\n",
       "    }\n",
       "</style>\n",
       "<table border=\"1\" class=\"dataframe\">\n",
       "  <thead>\n",
       "    <tr style=\"text-align: right;\">\n",
       "      <th></th>\n",
       "      <th>SLS_Date</th>\n",
       "      <th>GSV</th>\n",
       "      <th>SLS_MRP</th>\n",
       "      <th>SLS_Qty</th>\n",
       "      <th>Site_Code</th>\n",
       "      <th>Option_Code</th>\n",
       "      <th>Site_Zone</th>\n",
       "    </tr>\n",
       "  </thead>\n",
       "  <tbody>\n",
       "    <tr>\n",
       "      <th>0</th>\n",
       "      <td>2022-08-14</td>\n",
       "      <td>799.00</td>\n",
       "      <td>799.0</td>\n",
       "      <td>1.0</td>\n",
       "      <td>P126</td>\n",
       "      <td>110121651INDIGO</td>\n",
       "      <td>EAST</td>\n",
       "    </tr>\n",
       "    <tr>\n",
       "      <th>1</th>\n",
       "      <td>2023-10-24</td>\n",
       "      <td>799.00</td>\n",
       "      <td>799.0</td>\n",
       "      <td>1.0</td>\n",
       "      <td>P680</td>\n",
       "      <td>110137145GOLD</td>\n",
       "      <td>SOUTH</td>\n",
       "    </tr>\n",
       "    <tr>\n",
       "      <th>2</th>\n",
       "      <td>2024-05-05</td>\n",
       "      <td>719.10</td>\n",
       "      <td>799.0</td>\n",
       "      <td>1.0</td>\n",
       "      <td>P006</td>\n",
       "      <td>110137145OFFWHITE</td>\n",
       "      <td>EAST</td>\n",
       "    </tr>\n",
       "    <tr>\n",
       "      <th>3</th>\n",
       "      <td>2023-06-03</td>\n",
       "      <td>799.00</td>\n",
       "      <td>799.0</td>\n",
       "      <td>1.0</td>\n",
       "      <td>P306</td>\n",
       "      <td>110121651BLACK</td>\n",
       "      <td>NORTH</td>\n",
       "    </tr>\n",
       "    <tr>\n",
       "      <th>4</th>\n",
       "      <td>2024-02-19</td>\n",
       "      <td>799.00</td>\n",
       "      <td>799.0</td>\n",
       "      <td>1.0</td>\n",
       "      <td>P103</td>\n",
       "      <td>110137145RED</td>\n",
       "      <td>SOUTH</td>\n",
       "    </tr>\n",
       "    <tr>\n",
       "      <th>...</th>\n",
       "      <td>...</td>\n",
       "      <td>...</td>\n",
       "      <td>...</td>\n",
       "      <td>...</td>\n",
       "      <td>...</td>\n",
       "      <td>...</td>\n",
       "      <td>...</td>\n",
       "    </tr>\n",
       "    <tr>\n",
       "      <th>145152</th>\n",
       "      <td>2022-09-30</td>\n",
       "      <td>719.10</td>\n",
       "      <td>799.0</td>\n",
       "      <td>1.0</td>\n",
       "      <td>P615</td>\n",
       "      <td>110121651BLACK</td>\n",
       "      <td>SOUTH</td>\n",
       "    </tr>\n",
       "    <tr>\n",
       "      <th>145153</th>\n",
       "      <td>2024-05-01</td>\n",
       "      <td>799.00</td>\n",
       "      <td>799.0</td>\n",
       "      <td>1.0</td>\n",
       "      <td>P502</td>\n",
       "      <td>110137145CHARCOAL</td>\n",
       "      <td>SOUTH</td>\n",
       "    </tr>\n",
       "    <tr>\n",
       "      <th>145154</th>\n",
       "      <td>2023-12-20</td>\n",
       "      <td>503.37</td>\n",
       "      <td>799.0</td>\n",
       "      <td>1.0</td>\n",
       "      <td>P192</td>\n",
       "      <td>110117431BLACK</td>\n",
       "      <td>NORTH</td>\n",
       "    </tr>\n",
       "    <tr>\n",
       "      <th>145155</th>\n",
       "      <td>2021-03-19</td>\n",
       "      <td>799.00</td>\n",
       "      <td>799.0</td>\n",
       "      <td>1.0</td>\n",
       "      <td>P048</td>\n",
       "      <td>110095982CORAL</td>\n",
       "      <td>WEST</td>\n",
       "    </tr>\n",
       "    <tr>\n",
       "      <th>145156</th>\n",
       "      <td>2021-06-27</td>\n",
       "      <td>799.00</td>\n",
       "      <td>799.0</td>\n",
       "      <td>1.0</td>\n",
       "      <td>P048</td>\n",
       "      <td>110098505BLACK</td>\n",
       "      <td>WEST</td>\n",
       "    </tr>\n",
       "  </tbody>\n",
       "</table>\n",
       "<p>145157 rows × 7 columns</p>\n",
       "</div>"
      ],
      "text/plain": [
       "          SLS_Date     GSV  SLS_MRP  ...  Site_Code        Option_Code Site_Zone\n",
       "0       2022-08-14  799.00    799.0  ...       P126    110121651INDIGO      EAST\n",
       "1       2023-10-24  799.00    799.0  ...       P680      110137145GOLD     SOUTH\n",
       "2       2024-05-05  719.10    799.0  ...       P006  110137145OFFWHITE      EAST\n",
       "3       2023-06-03  799.00    799.0  ...       P306     110121651BLACK     NORTH\n",
       "4       2024-02-19  799.00    799.0  ...       P103       110137145RED     SOUTH\n",
       "...            ...     ...      ...  ...        ...                ...       ...\n",
       "145152  2022-09-30  719.10    799.0  ...       P615     110121651BLACK     SOUTH\n",
       "145153  2024-05-01  799.00    799.0  ...       P502  110137145CHARCOAL     SOUTH\n",
       "145154  2023-12-20  503.37    799.0  ...       P192     110117431BLACK     NORTH\n",
       "145155  2021-03-19  799.00    799.0  ...       P048     110095982CORAL      WEST\n",
       "145156  2021-06-27  799.00    799.0  ...       P048     110098505BLACK      WEST\n",
       "\n",
       "[145157 rows x 7 columns]"
      ]
     },
     "execution_count": 72,
     "metadata": {},
     "output_type": "execute_result"
    }
   ],
   "source": [
    "df"
   ]
  },
  {
   "cell_type": "code",
   "execution_count": 0,
   "metadata": {
    "application/vnd.databricks.v1+cell": {
     "cellMetadata": {
      "byteLimit": 2048000,
      "rowLimit": 10000
     },
     "inputWidgets": {},
     "nuid": "e91e5804-1818-4e61-82f3-5b670eca8692",
     "showTitle": false,
     "title": ""
    }
   },
   "outputs": [],
   "source": [
    "sales_df = df.copy()\n",
    "sales_df['SLS_Date'] = pd.to_datetime(sales_df['SLS_Date'])\n",
    "sales_df.sort_values(by=['SLS_Date'], inplace =True)\n",
    "sales_df['MD'] = round(((sales_df['SLS_MRP'] - sales_df['GSV'])/sales_df['SLS_MRP'])*100)\n",
    "sales_df.drop(['SLS_MRP', 'GSV'], inplace=True, axis=1)\n",
    "sales_df['MD'] = sales_df['MD'].apply(lambda x: 0 if x<0 else x)\n",
    "sales_df['MD'] = sales_df['MD'].apply(lambda x: 0 if x>100 else x)\n",
    "sales_df.set_index('SLS_Date',inplace=True)"
   ]
  },
  {
   "cell_type": "code",
   "execution_count": 0,
   "metadata": {
    "application/vnd.databricks.v1+cell": {
     "cellMetadata": {
      "byteLimit": 2048000,
      "rowLimit": 10000
     },
     "inputWidgets": {},
     "nuid": "deec62fc-09eb-41b2-8ccd-4603120a88cd",
     "showTitle": false,
     "title": ""
    }
   },
   "outputs": [
    {
     "output_type": "execute_result",
     "data": {
      "text/html": [
       "<div>\n",
       "<style scoped>\n",
       "    .dataframe tbody tr th:only-of-type {\n",
       "        vertical-align: middle;\n",
       "    }\n",
       "\n",
       "    .dataframe tbody tr th {\n",
       "        vertical-align: top;\n",
       "    }\n",
       "\n",
       "    .dataframe thead th {\n",
       "        text-align: right;\n",
       "    }\n",
       "</style>\n",
       "<table border=\"1\" class=\"dataframe\">\n",
       "  <thead>\n",
       "    <tr style=\"text-align: right;\">\n",
       "      <th></th>\n",
       "      <th>SLS_Qty</th>\n",
       "      <th>Site_Code</th>\n",
       "      <th>Option_Code</th>\n",
       "      <th>Site_Zone</th>\n",
       "      <th>MD</th>\n",
       "    </tr>\n",
       "    <tr>\n",
       "      <th>SLS_Date</th>\n",
       "      <th></th>\n",
       "      <th></th>\n",
       "      <th></th>\n",
       "      <th></th>\n",
       "      <th></th>\n",
       "    </tr>\n",
       "  </thead>\n",
       "  <tbody>\n",
       "    <tr>\n",
       "      <th>2021-01-16</th>\n",
       "      <td>1.0</td>\n",
       "      <td>P243</td>\n",
       "      <td>110095982CHARCOAL</td>\n",
       "      <td>SOUTH</td>\n",
       "      <td>0.0</td>\n",
       "    </tr>\n",
       "    <tr>\n",
       "      <th>2021-01-17</th>\n",
       "      <td>1.0</td>\n",
       "      <td>P382</td>\n",
       "      <td>110095982CHARCOAL</td>\n",
       "      <td>SOUTH</td>\n",
       "      <td>0.0</td>\n",
       "    </tr>\n",
       "    <tr>\n",
       "      <th>2021-01-18</th>\n",
       "      <td>1.0</td>\n",
       "      <td>P071</td>\n",
       "      <td>110095982RED</td>\n",
       "      <td>EAST</td>\n",
       "      <td>0.0</td>\n",
       "    </tr>\n",
       "    <tr>\n",
       "      <th>2021-01-19</th>\n",
       "      <td>1.0</td>\n",
       "      <td>P420</td>\n",
       "      <td>110095982CORAL</td>\n",
       "      <td>SOUTH</td>\n",
       "      <td>0.0</td>\n",
       "    </tr>\n",
       "    <tr>\n",
       "      <th>2021-01-20</th>\n",
       "      <td>1.0</td>\n",
       "      <td>W014</td>\n",
       "      <td>110095982CORAL</td>\n",
       "      <td>SOUTH</td>\n",
       "      <td>0.0</td>\n",
       "    </tr>\n",
       "    <tr>\n",
       "      <th>...</th>\n",
       "      <td>...</td>\n",
       "      <td>...</td>\n",
       "      <td>...</td>\n",
       "      <td>...</td>\n",
       "      <td>...</td>\n",
       "    </tr>\n",
       "    <tr>\n",
       "      <th>2024-07-02</th>\n",
       "      <td>1.0</td>\n",
       "      <td>P032</td>\n",
       "      <td>110137145BLACK</td>\n",
       "      <td>SOUTH</td>\n",
       "      <td>10.0</td>\n",
       "    </tr>\n",
       "    <tr>\n",
       "      <th>2024-07-02</th>\n",
       "      <td>1.0</td>\n",
       "      <td>P305</td>\n",
       "      <td>110137145WHITE</td>\n",
       "      <td>SOUTH</td>\n",
       "      <td>0.0</td>\n",
       "    </tr>\n",
       "    <tr>\n",
       "      <th>2024-07-02</th>\n",
       "      <td>3.0</td>\n",
       "      <td>P058</td>\n",
       "      <td>110137145BLACK</td>\n",
       "      <td>WEST</td>\n",
       "      <td>0.0</td>\n",
       "    </tr>\n",
       "    <tr>\n",
       "      <th>2024-07-02</th>\n",
       "      <td>1.0</td>\n",
       "      <td>P389</td>\n",
       "      <td>110121651CHARCOAL</td>\n",
       "      <td>EAST</td>\n",
       "      <td>10.0</td>\n",
       "    </tr>\n",
       "    <tr>\n",
       "      <th>2024-07-02</th>\n",
       "      <td>1.0</td>\n",
       "      <td>P096</td>\n",
       "      <td>110137145WHITE</td>\n",
       "      <td>SOUTH</td>\n",
       "      <td>0.0</td>\n",
       "    </tr>\n",
       "  </tbody>\n",
       "</table>\n",
       "<p>145157 rows × 5 columns</p>\n",
       "</div>"
      ],
      "text/plain": [
       "            SLS_Qty Site_Code        Option_Code Site_Zone    MD\n",
       "SLS_Date                                                        \n",
       "2021-01-16      1.0      P243  110095982CHARCOAL     SOUTH   0.0\n",
       "2021-01-17      1.0      P382  110095982CHARCOAL     SOUTH   0.0\n",
       "2021-01-18      1.0      P071       110095982RED      EAST   0.0\n",
       "2021-01-19      1.0      P420     110095982CORAL     SOUTH   0.0\n",
       "2021-01-20      1.0      W014     110095982CORAL     SOUTH   0.0\n",
       "...             ...       ...                ...       ...   ...\n",
       "2024-07-02      1.0      P032     110137145BLACK     SOUTH  10.0\n",
       "2024-07-02      1.0      P305     110137145WHITE     SOUTH   0.0\n",
       "2024-07-02      3.0      P058     110137145BLACK      WEST   0.0\n",
       "2024-07-02      1.0      P389  110121651CHARCOAL      EAST  10.0\n",
       "2024-07-02      1.0      P096     110137145WHITE     SOUTH   0.0\n",
       "\n",
       "[145157 rows x 5 columns]"
      ]
     },
     "execution_count": 74,
     "metadata": {},
     "output_type": "execute_result"
    }
   ],
   "source": [
    "sales_df"
   ]
  },
  {
   "cell_type": "code",
   "execution_count": 0,
   "metadata": {
    "application/vnd.databricks.v1+cell": {
     "cellMetadata": {
      "byteLimit": 2048000,
      "rowLimit": 10000
     },
     "inputWidgets": {},
     "nuid": "58aa0ea0-7798-4aaa-9434-9c1d7e9d1811",
     "showTitle": false,
     "title": ""
    }
   },
   "outputs": [
    {
     "output_type": "execute_result",
     "data": {
      "text/html": [
       "<div>\n",
       "<style scoped>\n",
       "    .dataframe tbody tr th:only-of-type {\n",
       "        vertical-align: middle;\n",
       "    }\n",
       "\n",
       "    .dataframe tbody tr th {\n",
       "        vertical-align: top;\n",
       "    }\n",
       "\n",
       "    .dataframe thead th {\n",
       "        text-align: right;\n",
       "    }\n",
       "</style>\n",
       "<table border=\"1\" class=\"dataframe\">\n",
       "  <thead>\n",
       "    <tr style=\"text-align: right;\">\n",
       "      <th></th>\n",
       "      <th>SLS_Qty</th>\n",
       "    </tr>\n",
       "    <tr>\n",
       "      <th>SLS_Date</th>\n",
       "      <th></th>\n",
       "    </tr>\n",
       "  </thead>\n",
       "  <tbody>\n",
       "    <tr>\n",
       "      <th>2021-01-31</th>\n",
       "      <td>200.0</td>\n",
       "    </tr>\n",
       "    <tr>\n",
       "      <th>2021-02-28</th>\n",
       "      <td>654.0</td>\n",
       "    </tr>\n",
       "    <tr>\n",
       "      <th>2021-03-31</th>\n",
       "      <td>2424.0</td>\n",
       "    </tr>\n",
       "    <tr>\n",
       "      <th>2021-04-30</th>\n",
       "      <td>2035.0</td>\n",
       "    </tr>\n",
       "    <tr>\n",
       "      <th>2021-05-31</th>\n",
       "      <td>181.0</td>\n",
       "    </tr>\n",
       "    <tr>\n",
       "      <th>2021-06-30</th>\n",
       "      <td>1003.0</td>\n",
       "    </tr>\n",
       "    <tr>\n",
       "      <th>2021-07-31</th>\n",
       "      <td>2003.0</td>\n",
       "    </tr>\n",
       "    <tr>\n",
       "      <th>2021-08-31</th>\n",
       "      <td>2088.0</td>\n",
       "    </tr>\n",
       "    <tr>\n",
       "      <th>2021-09-30</th>\n",
       "      <td>2394.0</td>\n",
       "    </tr>\n",
       "    <tr>\n",
       "      <th>2021-10-31</th>\n",
       "      <td>3552.0</td>\n",
       "    </tr>\n",
       "    <tr>\n",
       "      <th>2021-11-30</th>\n",
       "      <td>1820.0</td>\n",
       "    </tr>\n",
       "    <tr>\n",
       "      <th>2021-12-31</th>\n",
       "      <td>1494.0</td>\n",
       "    </tr>\n",
       "    <tr>\n",
       "      <th>2022-01-31</th>\n",
       "      <td>1653.0</td>\n",
       "    </tr>\n",
       "    <tr>\n",
       "      <th>2022-02-28</th>\n",
       "      <td>2581.0</td>\n",
       "    </tr>\n",
       "    <tr>\n",
       "      <th>2022-03-31</th>\n",
       "      <td>5017.0</td>\n",
       "    </tr>\n",
       "    <tr>\n",
       "      <th>2022-04-30</th>\n",
       "      <td>5308.0</td>\n",
       "    </tr>\n",
       "    <tr>\n",
       "      <th>2022-05-31</th>\n",
       "      <td>5689.0</td>\n",
       "    </tr>\n",
       "    <tr>\n",
       "      <th>2022-06-30</th>\n",
       "      <td>5499.0</td>\n",
       "    </tr>\n",
       "    <tr>\n",
       "      <th>2022-07-31</th>\n",
       "      <td>5948.0</td>\n",
       "    </tr>\n",
       "    <tr>\n",
       "      <th>2022-08-31</th>\n",
       "      <td>6396.0</td>\n",
       "    </tr>\n",
       "    <tr>\n",
       "      <th>2022-09-30</th>\n",
       "      <td>5905.0</td>\n",
       "    </tr>\n",
       "    <tr>\n",
       "      <th>2022-10-31</th>\n",
       "      <td>5940.0</td>\n",
       "    </tr>\n",
       "    <tr>\n",
       "      <th>2022-11-30</th>\n",
       "      <td>3294.0</td>\n",
       "    </tr>\n",
       "    <tr>\n",
       "      <th>2022-12-31</th>\n",
       "      <td>3803.0</td>\n",
       "    </tr>\n",
       "    <tr>\n",
       "      <th>2023-01-31</th>\n",
       "      <td>3173.0</td>\n",
       "    </tr>\n",
       "    <tr>\n",
       "      <th>2023-02-28</th>\n",
       "      <td>2870.0</td>\n",
       "    </tr>\n",
       "    <tr>\n",
       "      <th>2023-03-31</th>\n",
       "      <td>4458.0</td>\n",
       "    </tr>\n",
       "    <tr>\n",
       "      <th>2023-04-30</th>\n",
       "      <td>5518.0</td>\n",
       "    </tr>\n",
       "    <tr>\n",
       "      <th>2023-05-31</th>\n",
       "      <td>4652.0</td>\n",
       "    </tr>\n",
       "    <tr>\n",
       "      <th>2023-06-30</th>\n",
       "      <td>5412.0</td>\n",
       "    </tr>\n",
       "    <tr>\n",
       "      <th>2023-07-31</th>\n",
       "      <td>5245.0</td>\n",
       "    </tr>\n",
       "    <tr>\n",
       "      <th>2023-08-31</th>\n",
       "      <td>3811.0</td>\n",
       "    </tr>\n",
       "    <tr>\n",
       "      <th>2023-09-30</th>\n",
       "      <td>3794.0</td>\n",
       "    </tr>\n",
       "    <tr>\n",
       "      <th>2023-10-31</th>\n",
       "      <td>3958.0</td>\n",
       "    </tr>\n",
       "    <tr>\n",
       "      <th>2023-11-30</th>\n",
       "      <td>2857.0</td>\n",
       "    </tr>\n",
       "    <tr>\n",
       "      <th>2023-12-31</th>\n",
       "      <td>2837.0</td>\n",
       "    </tr>\n",
       "    <tr>\n",
       "      <th>2024-01-31</th>\n",
       "      <td>2466.0</td>\n",
       "    </tr>\n",
       "    <tr>\n",
       "      <th>2024-02-29</th>\n",
       "      <td>2379.0</td>\n",
       "    </tr>\n",
       "    <tr>\n",
       "      <th>2024-03-31</th>\n",
       "      <td>3529.0</td>\n",
       "    </tr>\n",
       "    <tr>\n",
       "      <th>2024-04-30</th>\n",
       "      <td>3735.0</td>\n",
       "    </tr>\n",
       "    <tr>\n",
       "      <th>2024-05-31</th>\n",
       "      <td>3731.0</td>\n",
       "    </tr>\n",
       "    <tr>\n",
       "      <th>2024-06-30</th>\n",
       "      <td>4205.0</td>\n",
       "    </tr>\n",
       "    <tr>\n",
       "      <th>2024-07-31</th>\n",
       "      <td>153.0</td>\n",
       "    </tr>\n",
       "  </tbody>\n",
       "</table>\n",
       "</div>"
      ],
      "text/plain": [
       "            SLS_Qty\n",
       "SLS_Date           \n",
       "2021-01-31    200.0\n",
       "2021-02-28    654.0\n",
       "2021-03-31   2424.0\n",
       "2021-04-30   2035.0\n",
       "2021-05-31    181.0\n",
       "2021-06-30   1003.0\n",
       "2021-07-31   2003.0\n",
       "2021-08-31   2088.0\n",
       "2021-09-30   2394.0\n",
       "2021-10-31   3552.0\n",
       "2021-11-30   1820.0\n",
       "2021-12-31   1494.0\n",
       "2022-01-31   1653.0\n",
       "2022-02-28   2581.0\n",
       "2022-03-31   5017.0\n",
       "2022-04-30   5308.0\n",
       "2022-05-31   5689.0\n",
       "2022-06-30   5499.0\n",
       "2022-07-31   5948.0\n",
       "2022-08-31   6396.0\n",
       "2022-09-30   5905.0\n",
       "2022-10-31   5940.0\n",
       "2022-11-30   3294.0\n",
       "2022-12-31   3803.0\n",
       "2023-01-31   3173.0\n",
       "2023-02-28   2870.0\n",
       "2023-03-31   4458.0\n",
       "2023-04-30   5518.0\n",
       "2023-05-31   4652.0\n",
       "2023-06-30   5412.0\n",
       "2023-07-31   5245.0\n",
       "2023-08-31   3811.0\n",
       "2023-09-30   3794.0\n",
       "2023-10-31   3958.0\n",
       "2023-11-30   2857.0\n",
       "2023-12-31   2837.0\n",
       "2024-01-31   2466.0\n",
       "2024-02-29   2379.0\n",
       "2024-03-31   3529.0\n",
       "2024-04-30   3735.0\n",
       "2024-05-31   3731.0\n",
       "2024-06-30   4205.0\n",
       "2024-07-31    153.0"
      ]
     },
     "execution_count": 75,
     "metadata": {},
     "output_type": "execute_result"
    }
   ],
   "source": [
    "monthly_df = sales_df.resample('M').agg({'SLS_Qty': 'sum'})\n",
    "monthly_df"
   ]
  },
  {
   "cell_type": "code",
   "execution_count": 0,
   "metadata": {
    "application/vnd.databricks.v1+cell": {
     "cellMetadata": {
      "byteLimit": 2048000,
      "rowLimit": 10000
     },
     "inputWidgets": {},
     "nuid": "a90b9aeb-5d4e-480c-882d-0f9f633676fa",
     "showTitle": false,
     "title": ""
    }
   },
   "outputs": [
    {
     "output_type": "execute_result",
     "data": {
      "text/plain": [
       "<Axes: xlabel='SLS_Date'>"
      ]
     },
     "execution_count": 76,
     "metadata": {},
     "output_type": "execute_result"
    },
    {
     "output_type": "display_data",
     "data": {
      "image/png": "[encoded data removed]",
      "text/plain": [
       "<Figure size 1500x600 with 1 Axes>"
      ]
     },
     "metadata": {},
     "output_type": "display_data"
    }
   ],
   "source": [
    "## Checking for trends\n",
    "monthly_df.plot(figsize=(15,6))"
   ]
  },
  {
   "cell_type": "code",
   "execution_count": 0,
   "metadata": {
    "application/vnd.databricks.v1+cell": {
     "cellMetadata": {
      "byteLimit": 2048000,
      "rowLimit": 10000
     },
     "inputWidgets": {},
     "nuid": "94b6db29-32f0-4125-ab23-aea1965298fb",
     "showTitle": false,
     "title": ""
    }
   },
   "outputs": [],
   "source": [
    "# for zone in ['NORTH', 'SOUTH', 'EAST', 'WEST']:\n",
    "#   month_df = sales_df[sales_df['Site_Zone']==zone]\n",
    "#   month_df = month_df.resample('M').agg({'Site_Code': 'nunique'})\n",
    "#   month_df.rename(columns={f'Site_Code': f'Site_Code_{zone}'}, inplace=True)\n",
    "#   monthly_df = monthly_df.reset_index()\n",
    "#   month_df = month_df.reset_index()\n",
    "#   monthly_df = monthly_df.merge(month_df, on = 'SLS_Date', how='left')\n",
    "#   if zone != 'NORTH': \n",
    "#     monthly_df.drop(['index'], inplace = True, axis=1)\n",
    "# monthly_df.set_index('SLS_Date',inplace=True)\n"
   ]
  },
  {
   "cell_type": "code",
   "execution_count": 0,
   "metadata": {
    "application/vnd.databricks.v1+cell": {
     "cellMetadata": {
      "byteLimit": 2048000,
      "rowLimit": 10000
     },
     "inputWidgets": {},
     "nuid": "d1bad742-7c8d-4a34-aef7-06e874992f39",
     "showTitle": false,
     "title": ""
    }
   },
   "outputs": [],
   "source": [
    "month_df = sales_df.resample('M').agg({'Site_Code': 'nunique','Option_Code': 'nunique'})\n",
    "monthly_df = monthly_df.reset_index()\n",
    "month_df = month_df.reset_index()\n",
    "monthly_df = monthly_df.merge(month_df, on = 'SLS_Date', how='left')\n",
    "monthly_df.set_index('SLS_Date',inplace=True)"
   ]
  },
  {
   "cell_type": "code",
   "execution_count": 0,
   "metadata": {
    "application/vnd.databricks.v1+cell": {
     "cellMetadata": {
      "byteLimit": 2048000,
      "rowLimit": 10000
     },
     "inputWidgets": {},
     "nuid": "5c9ec565-0e4f-4132-bc26-483707c72373",
     "showTitle": false,
     "title": ""
    }
   },
   "outputs": [
    {
     "output_type": "execute_result",
     "data": {
      "text/html": [
       "<div>\n",
       "<style scoped>\n",
       "    .dataframe tbody tr th:only-of-type {\n",
       "        vertical-align: middle;\n",
       "    }\n",
       "\n",
       "    .dataframe tbody tr th {\n",
       "        vertical-align: top;\n",
       "    }\n",
       "\n",
       "    .dataframe thead th {\n",
       "        text-align: right;\n",
       "    }\n",
       "</style>\n",
       "<table border=\"1\" class=\"dataframe\">\n",
       "  <thead>\n",
       "    <tr style=\"text-align: right;\">\n",
       "      <th></th>\n",
       "      <th>SLS_Qty</th>\n",
       "      <th>Site_Code</th>\n",
       "      <th>Option_Code</th>\n",
       "    </tr>\n",
       "    <tr>\n",
       "      <th>SLS_Date</th>\n",
       "      <th></th>\n",
       "      <th></th>\n",
       "      <th></th>\n",
       "    </tr>\n",
       "  </thead>\n",
       "  <tbody>\n",
       "    <tr>\n",
       "      <th>2021-01-31</th>\n",
       "      <td>200.0</td>\n",
       "      <td>75</td>\n",
       "      <td>4</td>\n",
       "    </tr>\n",
       "    <tr>\n",
       "      <th>2021-02-28</th>\n",
       "      <td>654.0</td>\n",
       "      <td>175</td>\n",
       "      <td>4</td>\n",
       "    </tr>\n",
       "    <tr>\n",
       "      <th>2021-03-31</th>\n",
       "      <td>2424.0</td>\n",
       "      <td>301</td>\n",
       "      <td>9</td>\n",
       "    </tr>\n",
       "    <tr>\n",
       "      <th>2021-04-30</th>\n",
       "      <td>2035.0</td>\n",
       "      <td>285</td>\n",
       "      <td>9</td>\n",
       "    </tr>\n",
       "    <tr>\n",
       "      <th>2021-05-31</th>\n",
       "      <td>181.0</td>\n",
       "      <td>87</td>\n",
       "      <td>9</td>\n",
       "    </tr>\n",
       "    <tr>\n",
       "      <th>2021-06-30</th>\n",
       "      <td>1003.0</td>\n",
       "      <td>234</td>\n",
       "      <td>9</td>\n",
       "    </tr>\n",
       "    <tr>\n",
       "      <th>2021-07-31</th>\n",
       "      <td>2003.0</td>\n",
       "      <td>281</td>\n",
       "      <td>9</td>\n",
       "    </tr>\n",
       "    <tr>\n",
       "      <th>2021-08-31</th>\n",
       "      <td>2088.0</td>\n",
       "      <td>308</td>\n",
       "      <td>12</td>\n",
       "    </tr>\n",
       "    <tr>\n",
       "      <th>2021-09-30</th>\n",
       "      <td>2394.0</td>\n",
       "      <td>313</td>\n",
       "      <td>14</td>\n",
       "    </tr>\n",
       "    <tr>\n",
       "      <th>2021-10-31</th>\n",
       "      <td>3552.0</td>\n",
       "      <td>335</td>\n",
       "      <td>14</td>\n",
       "    </tr>\n",
       "    <tr>\n",
       "      <th>2021-11-30</th>\n",
       "      <td>1820.0</td>\n",
       "      <td>321</td>\n",
       "      <td>14</td>\n",
       "    </tr>\n",
       "    <tr>\n",
       "      <th>2021-12-31</th>\n",
       "      <td>1494.0</td>\n",
       "      <td>300</td>\n",
       "      <td>21</td>\n",
       "    </tr>\n",
       "    <tr>\n",
       "      <th>2022-01-31</th>\n",
       "      <td>1653.0</td>\n",
       "      <td>296</td>\n",
       "      <td>23</td>\n",
       "    </tr>\n",
       "    <tr>\n",
       "      <th>2022-02-28</th>\n",
       "      <td>2581.0</td>\n",
       "      <td>344</td>\n",
       "      <td>23</td>\n",
       "    </tr>\n",
       "    <tr>\n",
       "      <th>2022-03-31</th>\n",
       "      <td>5017.0</td>\n",
       "      <td>355</td>\n",
       "      <td>23</td>\n",
       "    </tr>\n",
       "    <tr>\n",
       "      <th>2022-04-30</th>\n",
       "      <td>5308.0</td>\n",
       "      <td>368</td>\n",
       "      <td>28</td>\n",
       "    </tr>\n",
       "    <tr>\n",
       "      <th>2022-05-31</th>\n",
       "      <td>5689.0</td>\n",
       "      <td>363</td>\n",
       "      <td>28</td>\n",
       "    </tr>\n",
       "    <tr>\n",
       "      <th>2022-06-30</th>\n",
       "      <td>5499.0</td>\n",
       "      <td>366</td>\n",
       "      <td>39</td>\n",
       "    </tr>\n",
       "    <tr>\n",
       "      <th>2022-07-31</th>\n",
       "      <td>5948.0</td>\n",
       "      <td>374</td>\n",
       "      <td>39</td>\n",
       "    </tr>\n",
       "    <tr>\n",
       "      <th>2022-08-31</th>\n",
       "      <td>6396.0</td>\n",
       "      <td>374</td>\n",
       "      <td>39</td>\n",
       "    </tr>\n",
       "    <tr>\n",
       "      <th>2022-09-30</th>\n",
       "      <td>5905.0</td>\n",
       "      <td>380</td>\n",
       "      <td>39</td>\n",
       "    </tr>\n",
       "    <tr>\n",
       "      <th>2022-10-31</th>\n",
       "      <td>5940.0</td>\n",
       "      <td>389</td>\n",
       "      <td>39</td>\n",
       "    </tr>\n",
       "    <tr>\n",
       "      <th>2022-11-30</th>\n",
       "      <td>3294.0</td>\n",
       "      <td>376</td>\n",
       "      <td>39</td>\n",
       "    </tr>\n",
       "    <tr>\n",
       "      <th>2022-12-31</th>\n",
       "      <td>3803.0</td>\n",
       "      <td>381</td>\n",
       "      <td>39</td>\n",
       "    </tr>\n",
       "    <tr>\n",
       "      <th>2023-01-31</th>\n",
       "      <td>3173.0</td>\n",
       "      <td>387</td>\n",
       "      <td>44</td>\n",
       "    </tr>\n",
       "    <tr>\n",
       "      <th>2023-02-28</th>\n",
       "      <td>2870.0</td>\n",
       "      <td>387</td>\n",
       "      <td>41</td>\n",
       "    </tr>\n",
       "    <tr>\n",
       "      <th>2023-03-31</th>\n",
       "      <td>4458.0</td>\n",
       "      <td>407</td>\n",
       "      <td>31</td>\n",
       "    </tr>\n",
       "    <tr>\n",
       "      <th>2023-04-30</th>\n",
       "      <td>5518.0</td>\n",
       "      <td>422</td>\n",
       "      <td>37</td>\n",
       "    </tr>\n",
       "    <tr>\n",
       "      <th>2023-05-31</th>\n",
       "      <td>4652.0</td>\n",
       "      <td>424</td>\n",
       "      <td>34</td>\n",
       "    </tr>\n",
       "    <tr>\n",
       "      <th>2023-06-30</th>\n",
       "      <td>5412.0</td>\n",
       "      <td>427</td>\n",
       "      <td>46</td>\n",
       "    </tr>\n",
       "    <tr>\n",
       "      <th>2023-07-31</th>\n",
       "      <td>5245.0</td>\n",
       "      <td>424</td>\n",
       "      <td>49</td>\n",
       "    </tr>\n",
       "    <tr>\n",
       "      <th>2023-08-31</th>\n",
       "      <td>3811.0</td>\n",
       "      <td>420</td>\n",
       "      <td>44</td>\n",
       "    </tr>\n",
       "    <tr>\n",
       "      <th>2023-09-30</th>\n",
       "      <td>3794.0</td>\n",
       "      <td>416</td>\n",
       "      <td>47</td>\n",
       "    </tr>\n",
       "    <tr>\n",
       "      <th>2023-10-31</th>\n",
       "      <td>3958.0</td>\n",
       "      <td>423</td>\n",
       "      <td>43</td>\n",
       "    </tr>\n",
       "    <tr>\n",
       "      <th>2023-11-30</th>\n",
       "      <td>2857.0</td>\n",
       "      <td>412</td>\n",
       "      <td>43</td>\n",
       "    </tr>\n",
       "    <tr>\n",
       "      <th>2023-12-31</th>\n",
       "      <td>2837.0</td>\n",
       "      <td>399</td>\n",
       "      <td>46</td>\n",
       "    </tr>\n",
       "    <tr>\n",
       "      <th>2024-01-31</th>\n",
       "      <td>2466.0</td>\n",
       "      <td>381</td>\n",
       "      <td>45</td>\n",
       "    </tr>\n",
       "    <tr>\n",
       "      <th>2024-02-29</th>\n",
       "      <td>2379.0</td>\n",
       "      <td>384</td>\n",
       "      <td>37</td>\n",
       "    </tr>\n",
       "    <tr>\n",
       "      <th>2024-03-31</th>\n",
       "      <td>3529.0</td>\n",
       "      <td>404</td>\n",
       "      <td>38</td>\n",
       "    </tr>\n",
       "    <tr>\n",
       "      <th>2024-04-30</th>\n",
       "      <td>3735.0</td>\n",
       "      <td>402</td>\n",
       "      <td>37</td>\n",
       "    </tr>\n",
       "    <tr>\n",
       "      <th>2024-05-31</th>\n",
       "      <td>3731.0</td>\n",
       "      <td>395</td>\n",
       "      <td>39</td>\n",
       "    </tr>\n",
       "    <tr>\n",
       "      <th>2024-06-30</th>\n",
       "      <td>4205.0</td>\n",
       "      <td>404</td>\n",
       "      <td>38</td>\n",
       "    </tr>\n",
       "    <tr>\n",
       "      <th>2024-07-31</th>\n",
       "      <td>153.0</td>\n",
       "      <td>110</td>\n",
       "      <td>24</td>\n",
       "    </tr>\n",
       "  </tbody>\n",
       "</table>\n",
       "</div>"
      ],
      "text/plain": [
       "            SLS_Qty  Site_Code  Option_Code\n",
       "SLS_Date                                   \n",
       "2021-01-31    200.0         75            4\n",
       "2021-02-28    654.0        175            4\n",
       "2021-03-31   2424.0        301            9\n",
       "2021-04-30   2035.0        285            9\n",
       "2021-05-31    181.0         87            9\n",
       "2021-06-30   1003.0        234            9\n",
       "2021-07-31   2003.0        281            9\n",
       "2021-08-31   2088.0        308           12\n",
       "2021-09-30   2394.0        313           14\n",
       "2021-10-31   3552.0        335           14\n",
       "2021-11-30   1820.0        321           14\n",
       "2021-12-31   1494.0        300           21\n",
       "2022-01-31   1653.0        296           23\n",
       "2022-02-28   2581.0        344           23\n",
       "2022-03-31   5017.0        355           23\n",
       "2022-04-30   5308.0        368           28\n",
       "2022-05-31   5689.0        363           28\n",
       "2022-06-30   5499.0        366           39\n",
       "2022-07-31   5948.0        374           39\n",
       "2022-08-31   6396.0        374           39\n",
       "2022-09-30   5905.0        380           39\n",
       "2022-10-31   5940.0        389           39\n",
       "2022-11-30   3294.0        376           39\n",
       "2022-12-31   3803.0        381           39\n",
       "2023-01-31   3173.0        387           44\n",
       "2023-02-28   2870.0        387           41\n",
       "2023-03-31   4458.0        407           31\n",
       "2023-04-30   5518.0        422           37\n",
       "2023-05-31   4652.0        424           34\n",
       "2023-06-30   5412.0        427           46\n",
       "2023-07-31   5245.0        424           49\n",
       "2023-08-31   3811.0        420           44\n",
       "2023-09-30   3794.0        416           47\n",
       "2023-10-31   3958.0        423           43\n",
       "2023-11-30   2857.0        412           43\n",
       "2023-12-31   2837.0        399           46\n",
       "2024-01-31   2466.0        381           45\n",
       "2024-02-29   2379.0        384           37\n",
       "2024-03-31   3529.0        404           38\n",
       "2024-04-30   3735.0        402           37\n",
       "2024-05-31   3731.0        395           39\n",
       "2024-06-30   4205.0        404           38\n",
       "2024-07-31    153.0        110           24"
      ]
     },
     "execution_count": 79,
     "metadata": {},
     "output_type": "execute_result"
    }
   ],
   "source": [
    "monthly_df"
   ]
  },
  {
   "cell_type": "code",
   "execution_count": 0,
   "metadata": {
    "application/vnd.databricks.v1+cell": {
     "cellMetadata": {
      "byteLimit": 2048000,
      "rowLimit": 10000
     },
     "inputWidgets": {},
     "nuid": "7b233289-c2d6-4033-bc03-30ce24120c0c",
     "showTitle": false,
     "title": ""
    }
   },
   "outputs": [
    {
     "output_type": "execute_result",
     "data": {
      "text/plain": [
       "[<matplotlib.lines.Line2D at 0x7ff2b85f5090>]"
      ]
     },
     "execution_count": 80,
     "metadata": {},
     "output_type": "execute_result"
    },
    {
     "output_type": "display_data",
     "data": {
      "image/png": "[encoded data removed]",
      "text/plain": [
       "<Figure size 1500x600 with 1 Axes>"
      ]
     },
     "metadata": {},
     "output_type": "display_data"
    }
   ],
   "source": [
    "plt.figure(figsize=(15,6))\n",
    "plt.plot(monthly_df.index,monthly_df['SLS_Qty'])"
   ]
  },
  {
   "cell_type": "code",
   "execution_count": 0,
   "metadata": {
    "application/vnd.databricks.v1+cell": {
     "cellMetadata": {
      "byteLimit": 2048000,
      "rowLimit": 10000
     },
     "inputWidgets": {},
     "nuid": "c69fc9f6-05a8-4a13-aa99-8a32ffdd9444",
     "showTitle": false,
     "title": ""
    }
   },
   "outputs": [],
   "source": [
    "# eoss_df = pd.DataFrame({'SLS_Date':pd.date_range(start='2019-03-01',end='2024-07-31',)})\n",
    "\n",
    "# eoss = pd.read_csv('/Workspace/Repos/Abfrl_Analytics/Scripts/Customer_Analytics/Development/Pantaloons_Sales_Forecasting/Bottom Up/Nikhil/EOSS_Dates.csv')\n",
    "# eoss.columns = ['date','EOSS']\n",
    "# eoss['date'] = pd.to_datetime(eoss['date'])\n",
    "# eoss=eoss[eoss['date']>='2018-01-01']\n",
    "\n",
    "# eoss_df = (eoss_df.merge(eoss, left_on='SLS_Date', right_on='date',how='left'))\n",
    "# eoss_df.drop('date',inplace=True,axis=1)\n",
    "# eoss_df['EOSS'] = eoss_df['EOSS'].fillna(0)\n",
    "# eoss_df.set_index('SLS_Date',inplace=True)\n",
    "# # eoss_df['EOSS'][(eoss_df.index.year==2023) & (eoss_df.index.month==7)] = 1\n",
    "# eoss_df.loc[(eoss_df.index >= '2023-06-28') & (eoss_df.index <= '2023-07-31'), 'EOSS'] = 1\n",
    "# eoss_df.loc[(eoss_df.index >= '2023-12-15') & (eoss_df.index <= '2024 '), 'EOSS'] = 1\n",
    "# eoss_df.loc[(eoss_df.index >= '2024-06-28') & (eoss_df.index <= '2024-07-31'), 'EOSS'] = 1"
   ]
  },
  {
   "cell_type": "code",
   "execution_count": 0,
   "metadata": {
    "application/vnd.databricks.v1+cell": {
     "cellMetadata": {
      "byteLimit": 2048000,
      "rowLimit": 10000
     },
     "inputWidgets": {},
     "nuid": "4458b035-1c73-48ec-93c1-dc1e9ba36eee",
     "showTitle": false,
     "title": ""
    }
   },
   "outputs": [],
   "source": [
    "# Load EOSS data from the CSV file\n",
    "eoss = pd.read_csv('/Workspace/Repos/Abfrl_Analytics/Scripts/Customer_Analytics/Development/Pantaloons_Sales_Forecasting/Bottom Up/Nikhil/EOSS_Dates.csv')\n",
    "eoss.columns = ['date', 'EOSS']\n",
    "eoss['date'] = pd.to_datetime(eoss['date'])\n",
    "eoss = eoss[eoss['date'] >= '2018-01-01']\n",
    "\n",
    "# Create a DataFrame for the entire range of dates\n",
    "eoss_df = pd.DataFrame({'SLS_Date': pd.date_range(start=sales_df.index[0], end='2025-03-31')})\n",
    "\n",
    "# Merge EOSS data with the date range DataFrame\n",
    "eoss_df = eoss_df.merge(eoss, left_on='SLS_Date', right_on='date', how='left')\n",
    "eoss_df.drop('date', inplace=True, axis=1)\n",
    "eoss_df['EOSS'] = eoss_df['EOSS'].fillna(0)\n",
    "eoss_df.set_index('SLS_Date', inplace=True)\n",
    "\n",
    "eoss_df.loc[(eoss_df.index >= '2023-06-28') & (eoss_df.index <= '2023-07-31'), 'EOSS'] = 1\n",
    "eoss_df.loc[(eoss_df.index >= '2023-12-15') & (eoss_df.index <= '2024-01-28'), 'EOSS'] = 1\n",
    "eoss_df.loc[(eoss_df.index >= '2024-06-28') & (eoss_df.index <= '2024-07-31'), 'EOSS'] = 1\n",
    "\n",
    "# # Set EOSS to 1 for specific date ranges for EOSS winter and summer\n",
    "# eoss_df['EOSS_winter'] = 0\n",
    "# eoss_df.loc[(eoss_df['EOSS'] == 1) & ((eoss_df.index.month ==12) | (eoss_df.index.month ==1)), 'EOSS_winter'] = 1\n",
    "# eoss_df['EOSS_summer'] = 0\n",
    "# eoss_df.loc[(eoss_df['EOSS'] == 1) & ((eoss_df.index.month == 6) | (eoss_df.index.month == 7)), 'EOSS_summer'] = 1\n",
    "\n",
    "eoss_df.drop('EOSS', axis=1, inplace= True)"
   ]
  },
  {
   "cell_type": "code",
   "execution_count": 0,
   "metadata": {
    "application/vnd.databricks.v1+cell": {
     "cellMetadata": {
      "byteLimit": 2048000,
      "rowLimit": 10000
     },
     "inputWidgets": {},
     "nuid": "f6110a8c-6940-491d-b73c-d10fa835ba70",
     "showTitle": false,
     "title": ""
    }
   },
   "outputs": [],
   "source": [
    "def is_covid(dt):\n",
    "    year_month={\n",
    "    2020:[3,4,5,6,7],\n",
    "    2021:[4,5,6,7],\n",
    "    }\n",
    "\n",
    "    if year_month.get(dt.year) and dt.month in year_month.get(dt.year):\n",
    "        return 1\n",
    "    return 0\n",
    "eoss_df['covid'] = eoss_df.index.map(lambda dt:is_covid(dt))"
   ]
  },
  {
   "cell_type": "code",
   "execution_count": 0,
   "metadata": {
    "application/vnd.databricks.v1+cell": {
     "cellMetadata": {
      "byteLimit": 2048000,
      "rowLimit": 10000
     },
     "inputWidgets": {},
     "nuid": "3c2b96a6-7e8c-4090-80f7-52a283bdf9f7",
     "showTitle": false,
     "title": ""
    }
   },
   "outputs": [
    {
     "output_type": "execute_result",
     "data": {
      "text/html": [
       "<div>\n",
       "<style scoped>\n",
       "    .dataframe tbody tr th:only-of-type {\n",
       "        vertical-align: middle;\n",
       "    }\n",
       "\n",
       "    .dataframe tbody tr th {\n",
       "        vertical-align: top;\n",
       "    }\n",
       "\n",
       "    .dataframe thead th {\n",
       "        text-align: right;\n",
       "    }\n",
       "</style>\n",
       "<table border=\"1\" class=\"dataframe\">\n",
       "  <thead>\n",
       "    <tr style=\"text-align: right;\">\n",
       "      <th></th>\n",
       "      <th>covid</th>\n",
       "    </tr>\n",
       "    <tr>\n",
       "      <th>SLS_Date</th>\n",
       "      <th></th>\n",
       "    </tr>\n",
       "  </thead>\n",
       "  <tbody>\n",
       "    <tr>\n",
       "      <th>2021-01-16</th>\n",
       "      <td>0</td>\n",
       "    </tr>\n",
       "    <tr>\n",
       "      <th>2021-01-17</th>\n",
       "      <td>0</td>\n",
       "    </tr>\n",
       "    <tr>\n",
       "      <th>2021-01-18</th>\n",
       "      <td>0</td>\n",
       "    </tr>\n",
       "    <tr>\n",
       "      <th>2021-01-19</th>\n",
       "      <td>0</td>\n",
       "    </tr>\n",
       "    <tr>\n",
       "      <th>2021-01-20</th>\n",
       "      <td>0</td>\n",
       "    </tr>\n",
       "    <tr>\n",
       "      <th>...</th>\n",
       "      <td>...</td>\n",
       "    </tr>\n",
       "    <tr>\n",
       "      <th>2025-03-27</th>\n",
       "      <td>0</td>\n",
       "    </tr>\n",
       "    <tr>\n",
       "      <th>2025-03-28</th>\n",
       "      <td>0</td>\n",
       "    </tr>\n",
       "    <tr>\n",
       "      <th>2025-03-29</th>\n",
       "      <td>0</td>\n",
       "    </tr>\n",
       "    <tr>\n",
       "      <th>2025-03-30</th>\n",
       "      <td>0</td>\n",
       "    </tr>\n",
       "    <tr>\n",
       "      <th>2025-03-31</th>\n",
       "      <td>0</td>\n",
       "    </tr>\n",
       "  </tbody>\n",
       "</table>\n",
       "<p>1536 rows × 1 columns</p>\n",
       "</div>"
      ],
      "text/plain": [
       "            covid\n",
       "SLS_Date         \n",
       "2021-01-16      0\n",
       "2021-01-17      0\n",
       "2021-01-18      0\n",
       "2021-01-19      0\n",
       "2021-01-20      0\n",
       "...           ...\n",
       "2025-03-27      0\n",
       "2025-03-28      0\n",
       "2025-03-29      0\n",
       "2025-03-30      0\n",
       "2025-03-31      0\n",
       "\n",
       "[1536 rows x 1 columns]"
      ]
     },
     "execution_count": 84,
     "metadata": {},
     "output_type": "execute_result"
    }
   ],
   "source": [
    "eoss_df"
   ]
  },
  {
   "cell_type": "code",
   "execution_count": 0,
   "metadata": {
    "application/vnd.databricks.v1+cell": {
     "cellMetadata": {
      "byteLimit": 2048000,
      "rowLimit": 10000
     },
     "inputWidgets": {},
     "nuid": "88c09ccf-5df4-44ee-a1e8-b6e93633323d",
     "showTitle": false,
     "title": ""
    }
   },
   "outputs": [],
   "source": [
    "def create_regressor_for_festival(sales_df, festive_periods, festival_name, days_before):\n",
    "    regressor_dates = []\n",
    "    for year, (festival_start, festival_end) in festive_periods.items():\n",
    "        regressor_dates.extend(pd.date_range(start=festival_start - pd.DateOffset(days=days_before), end=festival_end, freq='D'))\n",
    "    \n",
    "    regressor_df = pd.DataFrame({'Date': regressor_dates})\n",
    "    regressor_df[f'{festival_name}_regressor'] = 1\n",
    "    regressor_df.set_index('Date', inplace=True)        \n",
    "    \n",
    "    sales_df[f'{festival_name}_regressor'] = sales_df['SLS_Date'].map(regressor_df[f'{festival_name}_regressor'])\n",
    "    sales_df[f'{festival_name}_regressor'].fillna(0, inplace=True)\n",
    "    \n",
    "    return sales_df"
   ]
  },
  {
   "cell_type": "code",
   "execution_count": 0,
   "metadata": {
    "application/vnd.databricks.v1+cell": {
     "cellMetadata": {
      "byteLimit": 2048000,
      "rowLimit": 10000
     },
     "inputWidgets": {},
     "nuid": "16923f4e-3623-4792-b50b-65bd4d2f6e46",
     "showTitle": false,
     "title": ""
    }
   },
   "outputs": [],
   "source": [
    "shraad_periods = {\n",
    "    2018: (pd.Timestamp('2018-09-24'), pd.Timestamp('2018-10-08')),\n",
    "    2019: (pd.Timestamp('2019-09-13'), pd.Timestamp('2019-09-28')),\n",
    "    2020: (pd.Timestamp('2020-09-01'), pd.Timestamp('2020-09-17')),\n",
    "    2021: (pd.Timestamp('2021-09-20'), pd.Timestamp('2021-10-06')),\n",
    "    2022: (pd.Timestamp('2022-09-10'), pd.Timestamp('2022-09-25')),\n",
    "    2023: (pd.Timestamp('2023-09-29'), pd.Timestamp('2023-10-14')),\n",
    "    2024: (pd.Timestamp('2024-09-17'), pd.Timestamp('2024-10-02'))\n",
    "}\n",
    "\n",
    "navratri_periods = {\n",
    "    2018: (pd.Timestamp('2018-10-10'), pd.Timestamp('2018-10-19')),\n",
    "    2019: (pd.Timestamp('2019-09-29'), pd.Timestamp('2019-10-08')),\n",
    "    2020: (pd.Timestamp('2020-10-17'), pd.Timestamp('2020-10-25')),\n",
    "    2021: (pd.Timestamp('2021-10-07'), pd.Timestamp('2021-10-15')),\n",
    "    2022: (pd.Timestamp('2022-09-26'), pd.Timestamp('2022-10-05')),\n",
    "    2023: (pd.Timestamp('2023-10-15'), pd.Timestamp('2023-10-24')),\n",
    "    2024: (pd.Timestamp('2024-10-03'), pd.Timestamp('2024-10-12'))\n",
    "}\n",
    "\n",
    "diwali_periods = {\n",
    "    2018: (pd.Timestamp('2018-11-05'), pd.Timestamp('2018-11-09')),\n",
    "    2019: (pd.Timestamp('2019-10-25'), pd.Timestamp('2019-10-29')),\n",
    "    2020: (pd.Timestamp('2020-11-13'), pd.Timestamp('2020-11-16')),\n",
    "    2021: (pd.Timestamp('2021-11-02'), pd.Timestamp('2021-11-06')),\n",
    "    2022: (pd.Timestamp('2022-10-22'), pd.Timestamp('2022-10-26')),\n",
    "    2023: (pd.Timestamp('2023-11-10'), pd.Timestamp('2023-11-14')),\n",
    "    2024: (pd.Timestamp('2024-10-29'), pd.Timestamp('2024-11-03'))\n",
    "}"
   ]
  },
  {
   "cell_type": "code",
   "execution_count": 0,
   "metadata": {
    "application/vnd.databricks.v1+cell": {
     "cellMetadata": {
      "byteLimit": 2048000,
      "rowLimit": 10000
     },
     "inputWidgets": {},
     "nuid": "edde7ced-8064-48b6-a57d-36f3b4c13fe6",
     "showTitle": false,
     "title": ""
    }
   },
   "outputs": [],
   "source": [
    "eoss_df = eoss_df.reset_index()\n",
    "eoss_df = create_regressor_for_festival(eoss_df, diwali_periods, 'Diwali', 14)\n",
    "eoss_df = create_regressor_for_festival(eoss_df, navratri_periods, 'Navratri', 7)\n",
    "eoss_df = create_regressor_for_festival(eoss_df, shraad_periods, 'Shraad', 7)"
   ]
  },
  {
   "cell_type": "code",
   "execution_count": 0,
   "metadata": {
    "application/vnd.databricks.v1+cell": {
     "cellMetadata": {
      "byteLimit": 2048000,
      "rowLimit": 10000
     },
     "inputWidgets": {},
     "nuid": "9f1ad86d-cee9-42a1-b5c2-30b4ba9e7bf1",
     "showTitle": false,
     "title": ""
    }
   },
   "outputs": [
    {
     "output_type": "execute_result",
     "data": {
      "text/html": [
       "<div>\n",
       "<style scoped>\n",
       "    .dataframe tbody tr th:only-of-type {\n",
       "        vertical-align: middle;\n",
       "    }\n",
       "\n",
       "    .dataframe tbody tr th {\n",
       "        vertical-align: top;\n",
       "    }\n",
       "\n",
       "    .dataframe thead th {\n",
       "        text-align: right;\n",
       "    }\n",
       "</style>\n",
       "<table border=\"1\" class=\"dataframe\">\n",
       "  <thead>\n",
       "    <tr style=\"text-align: right;\">\n",
       "      <th></th>\n",
       "      <th>SLS_Date</th>\n",
       "      <th>covid</th>\n",
       "      <th>Diwali_regressor</th>\n",
       "      <th>Navratri_regressor</th>\n",
       "      <th>Shraad_regressor</th>\n",
       "    </tr>\n",
       "  </thead>\n",
       "  <tbody>\n",
       "    <tr>\n",
       "      <th>997</th>\n",
       "      <td>2023-10-10</td>\n",
       "      <td>0</td>\n",
       "      <td>0.0</td>\n",
       "      <td>1.0</td>\n",
       "      <td>1.0</td>\n",
       "    </tr>\n",
       "    <tr>\n",
       "      <th>998</th>\n",
       "      <td>2023-10-11</td>\n",
       "      <td>0</td>\n",
       "      <td>0.0</td>\n",
       "      <td>1.0</td>\n",
       "      <td>1.0</td>\n",
       "    </tr>\n",
       "    <tr>\n",
       "      <th>999</th>\n",
       "      <td>2023-10-12</td>\n",
       "      <td>0</td>\n",
       "      <td>0.0</td>\n",
       "      <td>1.0</td>\n",
       "      <td>1.0</td>\n",
       "    </tr>\n",
       "    <tr>\n",
       "      <th>1000</th>\n",
       "      <td>2023-10-13</td>\n",
       "      <td>0</td>\n",
       "      <td>0.0</td>\n",
       "      <td>1.0</td>\n",
       "      <td>1.0</td>\n",
       "    </tr>\n",
       "    <tr>\n",
       "      <th>1001</th>\n",
       "      <td>2023-10-14</td>\n",
       "      <td>0</td>\n",
       "      <td>0.0</td>\n",
       "      <td>1.0</td>\n",
       "      <td>1.0</td>\n",
       "    </tr>\n",
       "    <tr>\n",
       "      <th>1002</th>\n",
       "      <td>2023-10-15</td>\n",
       "      <td>0</td>\n",
       "      <td>0.0</td>\n",
       "      <td>1.0</td>\n",
       "      <td>0.0</td>\n",
       "    </tr>\n",
       "    <tr>\n",
       "      <th>1003</th>\n",
       "      <td>2023-10-16</td>\n",
       "      <td>0</td>\n",
       "      <td>0.0</td>\n",
       "      <td>1.0</td>\n",
       "      <td>0.0</td>\n",
       "    </tr>\n",
       "    <tr>\n",
       "      <th>1004</th>\n",
       "      <td>2023-10-17</td>\n",
       "      <td>0</td>\n",
       "      <td>0.0</td>\n",
       "      <td>1.0</td>\n",
       "      <td>0.0</td>\n",
       "    </tr>\n",
       "    <tr>\n",
       "      <th>1005</th>\n",
       "      <td>2023-10-18</td>\n",
       "      <td>0</td>\n",
       "      <td>0.0</td>\n",
       "      <td>1.0</td>\n",
       "      <td>0.0</td>\n",
       "    </tr>\n",
       "    <tr>\n",
       "      <th>1006</th>\n",
       "      <td>2023-10-19</td>\n",
       "      <td>0</td>\n",
       "      <td>0.0</td>\n",
       "      <td>1.0</td>\n",
       "      <td>0.0</td>\n",
       "    </tr>\n",
       "    <tr>\n",
       "      <th>1007</th>\n",
       "      <td>2023-10-20</td>\n",
       "      <td>0</td>\n",
       "      <td>0.0</td>\n",
       "      <td>1.0</td>\n",
       "      <td>0.0</td>\n",
       "    </tr>\n",
       "    <tr>\n",
       "      <th>1008</th>\n",
       "      <td>2023-10-21</td>\n",
       "      <td>0</td>\n",
       "      <td>0.0</td>\n",
       "      <td>1.0</td>\n",
       "      <td>0.0</td>\n",
       "    </tr>\n",
       "    <tr>\n",
       "      <th>1009</th>\n",
       "      <td>2023-10-22</td>\n",
       "      <td>0</td>\n",
       "      <td>0.0</td>\n",
       "      <td>1.0</td>\n",
       "      <td>0.0</td>\n",
       "    </tr>\n",
       "    <tr>\n",
       "      <th>1010</th>\n",
       "      <td>2023-10-23</td>\n",
       "      <td>0</td>\n",
       "      <td>0.0</td>\n",
       "      <td>1.0</td>\n",
       "      <td>0.0</td>\n",
       "    </tr>\n",
       "    <tr>\n",
       "      <th>1011</th>\n",
       "      <td>2023-10-24</td>\n",
       "      <td>0</td>\n",
       "      <td>0.0</td>\n",
       "      <td>1.0</td>\n",
       "      <td>0.0</td>\n",
       "    </tr>\n",
       "    <tr>\n",
       "      <th>1012</th>\n",
       "      <td>2023-10-25</td>\n",
       "      <td>0</td>\n",
       "      <td>0.0</td>\n",
       "      <td>0.0</td>\n",
       "      <td>0.0</td>\n",
       "    </tr>\n",
       "    <tr>\n",
       "      <th>1013</th>\n",
       "      <td>2023-10-26</td>\n",
       "      <td>0</td>\n",
       "      <td>0.0</td>\n",
       "      <td>0.0</td>\n",
       "      <td>0.0</td>\n",
       "    </tr>\n",
       "    <tr>\n",
       "      <th>1014</th>\n",
       "      <td>2023-10-27</td>\n",
       "      <td>0</td>\n",
       "      <td>1.0</td>\n",
       "      <td>0.0</td>\n",
       "      <td>0.0</td>\n",
       "    </tr>\n",
       "    <tr>\n",
       "      <th>1015</th>\n",
       "      <td>2023-10-28</td>\n",
       "      <td>0</td>\n",
       "      <td>1.0</td>\n",
       "      <td>0.0</td>\n",
       "      <td>0.0</td>\n",
       "    </tr>\n",
       "    <tr>\n",
       "      <th>1016</th>\n",
       "      <td>2023-10-29</td>\n",
       "      <td>0</td>\n",
       "      <td>1.0</td>\n",
       "      <td>0.0</td>\n",
       "      <td>0.0</td>\n",
       "    </tr>\n",
       "  </tbody>\n",
       "</table>\n",
       "</div>"
      ],
      "text/plain": [
       "       SLS_Date  covid  Diwali_regressor  Navratri_regressor  Shraad_regressor\n",
       "997  2023-10-10      0               0.0                 1.0               1.0\n",
       "998  2023-10-11      0               0.0                 1.0               1.0\n",
       "999  2023-10-12      0               0.0                 1.0               1.0\n",
       "1000 2023-10-13      0               0.0                 1.0               1.0\n",
       "1001 2023-10-14      0               0.0                 1.0               1.0\n",
       "1002 2023-10-15      0               0.0                 1.0               0.0\n",
       "1003 2023-10-16      0               0.0                 1.0               0.0\n",
       "1004 2023-10-17      0               0.0                 1.0               0.0\n",
       "1005 2023-10-18      0               0.0                 1.0               0.0\n",
       "1006 2023-10-19      0               0.0                 1.0               0.0\n",
       "1007 2023-10-20      0               0.0                 1.0               0.0\n",
       "1008 2023-10-21      0               0.0                 1.0               0.0\n",
       "1009 2023-10-22      0               0.0                 1.0               0.0\n",
       "1010 2023-10-23      0               0.0                 1.0               0.0\n",
       "1011 2023-10-24      0               0.0                 1.0               0.0\n",
       "1012 2023-10-25      0               0.0                 0.0               0.0\n",
       "1013 2023-10-26      0               0.0                 0.0               0.0\n",
       "1014 2023-10-27      0               1.0                 0.0               0.0\n",
       "1015 2023-10-28      0               1.0                 0.0               0.0\n",
       "1016 2023-10-29      0               1.0                 0.0               0.0"
      ]
     },
     "execution_count": 88,
     "metadata": {},
     "output_type": "execute_result"
    }
   ],
   "source": [
    "eoss_df[eoss_df['SLS_Date']>='2023-10-10'].head(20)"
   ]
  },
  {
   "cell_type": "code",
   "execution_count": 0,
   "metadata": {
    "application/vnd.databricks.v1+cell": {
     "cellMetadata": {
      "byteLimit": 2048000,
      "rowLimit": 10000
     },
     "inputWidgets": {},
     "nuid": "b9d1e819-c850-40a0-b00d-d228cfe15687",
     "showTitle": false,
     "title": ""
    }
   },
   "outputs": [],
   "source": [
    "# from datetime import datetime\n",
    "\n",
    "# def is_festive(dt):\n",
    "#     if isinstance(dt, int):\n",
    "#         dt = datetime.fromtimestamp(dt)\n",
    "    \n",
    "#     year_month = {\n",
    "#         2018: [10, 11],\n",
    "#         2019: [9, 10],\n",
    "#         2020: [10, 11],\n",
    "#         2021: [10, 11],\n",
    "#         2022: [9, 10],\n",
    "#         2023: [10, 11],\n",
    "#         2024: [9, 10]\n",
    "#     }\n",
    "\n",
    "#     if year_month.get(dt.year) and dt.month in year_month.get(dt.year):\n",
    "#         return 1\n",
    "#     return 0\n",
    "\n",
    "# eoss_df['Festive'] = eoss_df.index.map(lambda dt: is_festive(dt))"
   ]
  },
  {
   "cell_type": "code",
   "execution_count": 0,
   "metadata": {
    "application/vnd.databricks.v1+cell": {
     "cellMetadata": {
      "byteLimit": 2048000,
      "rowLimit": 10000
     },
     "inputWidgets": {},
     "nuid": "662e43f9-c174-4de2-8a98-c825745fd633",
     "showTitle": false,
     "title": ""
    }
   },
   "outputs": [],
   "source": [
    "eoss_df['Weekend_regressor'] = (eoss_df['SLS_Date'].dt.dayofweek >= 5).astype(int)"
   ]
  },
  {
   "cell_type": "code",
   "execution_count": 0,
   "metadata": {
    "application/vnd.databricks.v1+cell": {
     "cellMetadata": {
      "byteLimit": 2048000,
      "rowLimit": 10000
     },
     "inputWidgets": {},
     "nuid": "8e9a15f2-9b94-4ec8-bdbf-3b1bba0f4dbd",
     "showTitle": false,
     "title": ""
    }
   },
   "outputs": [],
   "source": [
    "eoss_df.set_index('SLS_Date', inplace=True)\n",
    "eoss_df = eoss_df.resample('M').sum()"
   ]
  },
  {
   "cell_type": "code",
   "execution_count": 0,
   "metadata": {
    "application/vnd.databricks.v1+cell": {
     "cellMetadata": {
      "byteLimit": 2048000,
      "rowLimit": 10000
     },
     "inputWidgets": {},
     "nuid": "4d5c9d95-2abd-4fd0-b4cf-dd2e8c1b5873",
     "showTitle": false,
     "title": ""
    }
   },
   "outputs": [
    {
     "output_type": "execute_result",
     "data": {
      "text/html": [
       "<div>\n",
       "<style scoped>\n",
       "    .dataframe tbody tr th:only-of-type {\n",
       "        vertical-align: middle;\n",
       "    }\n",
       "\n",
       "    .dataframe tbody tr th {\n",
       "        vertical-align: top;\n",
       "    }\n",
       "\n",
       "    .dataframe thead th {\n",
       "        text-align: right;\n",
       "    }\n",
       "</style>\n",
       "<table border=\"1\" class=\"dataframe\">\n",
       "  <thead>\n",
       "    <tr style=\"text-align: right;\">\n",
       "      <th></th>\n",
       "      <th>covid</th>\n",
       "      <th>Diwali_regressor</th>\n",
       "      <th>Navratri_regressor</th>\n",
       "      <th>Shraad_regressor</th>\n",
       "      <th>Weekend_regressor</th>\n",
       "    </tr>\n",
       "    <tr>\n",
       "      <th>SLS_Date</th>\n",
       "      <th></th>\n",
       "      <th></th>\n",
       "      <th></th>\n",
       "      <th></th>\n",
       "      <th></th>\n",
       "    </tr>\n",
       "  </thead>\n",
       "  <tbody>\n",
       "    <tr>\n",
       "      <th>2021-01-31</th>\n",
       "      <td>0</td>\n",
       "      <td>0.0</td>\n",
       "      <td>0.0</td>\n",
       "      <td>0.0</td>\n",
       "      <td>6</td>\n",
       "    </tr>\n",
       "    <tr>\n",
       "      <th>2021-02-28</th>\n",
       "      <td>0</td>\n",
       "      <td>0.0</td>\n",
       "      <td>0.0</td>\n",
       "      <td>0.0</td>\n",
       "      <td>8</td>\n",
       "    </tr>\n",
       "    <tr>\n",
       "      <th>2021-03-31</th>\n",
       "      <td>0</td>\n",
       "      <td>0.0</td>\n",
       "      <td>0.0</td>\n",
       "      <td>0.0</td>\n",
       "      <td>8</td>\n",
       "    </tr>\n",
       "    <tr>\n",
       "      <th>2021-04-30</th>\n",
       "      <td>30</td>\n",
       "      <td>0.0</td>\n",
       "      <td>0.0</td>\n",
       "      <td>0.0</td>\n",
       "      <td>8</td>\n",
       "    </tr>\n",
       "    <tr>\n",
       "      <th>2021-05-31</th>\n",
       "      <td>31</td>\n",
       "      <td>0.0</td>\n",
       "      <td>0.0</td>\n",
       "      <td>0.0</td>\n",
       "      <td>10</td>\n",
       "    </tr>\n",
       "    <tr>\n",
       "      <th>2021-06-30</th>\n",
       "      <td>30</td>\n",
       "      <td>0.0</td>\n",
       "      <td>0.0</td>\n",
       "      <td>0.0</td>\n",
       "      <td>8</td>\n",
       "    </tr>\n",
       "    <tr>\n",
       "      <th>2021-07-31</th>\n",
       "      <td>31</td>\n",
       "      <td>0.0</td>\n",
       "      <td>0.0</td>\n",
       "      <td>0.0</td>\n",
       "      <td>9</td>\n",
       "    </tr>\n",
       "    <tr>\n",
       "      <th>2021-08-31</th>\n",
       "      <td>0</td>\n",
       "      <td>0.0</td>\n",
       "      <td>0.0</td>\n",
       "      <td>0.0</td>\n",
       "      <td>9</td>\n",
       "    </tr>\n",
       "    <tr>\n",
       "      <th>2021-09-30</th>\n",
       "      <td>0</td>\n",
       "      <td>0.0</td>\n",
       "      <td>1.0</td>\n",
       "      <td>18.0</td>\n",
       "      <td>8</td>\n",
       "    </tr>\n",
       "    <tr>\n",
       "      <th>2021-10-31</th>\n",
       "      <td>0</td>\n",
       "      <td>13.0</td>\n",
       "      <td>15.0</td>\n",
       "      <td>6.0</td>\n",
       "      <td>10</td>\n",
       "    </tr>\n",
       "  </tbody>\n",
       "</table>\n",
       "</div>"
      ],
      "text/plain": [
       "            covid  Diwali_regressor  ...  Shraad_regressor  Weekend_regressor\n",
       "SLS_Date                             ...                                     \n",
       "2021-01-31      0               0.0  ...               0.0                  6\n",
       "2021-02-28      0               0.0  ...               0.0                  8\n",
       "2021-03-31      0               0.0  ...               0.0                  8\n",
       "2021-04-30     30               0.0  ...               0.0                  8\n",
       "2021-05-31     31               0.0  ...               0.0                 10\n",
       "2021-06-30     30               0.0  ...               0.0                  8\n",
       "2021-07-31     31               0.0  ...               0.0                  9\n",
       "2021-08-31      0               0.0  ...               0.0                  9\n",
       "2021-09-30      0               0.0  ...              18.0                  8\n",
       "2021-10-31      0              13.0  ...               6.0                 10\n",
       "\n",
       "[10 rows x 5 columns]"
      ]
     },
     "execution_count": 92,
     "metadata": {},
     "output_type": "execute_result"
    }
   ],
   "source": [
    "eoss_df.head(10)"
   ]
  },
  {
   "cell_type": "code",
   "execution_count": 0,
   "metadata": {
    "application/vnd.databricks.v1+cell": {
     "cellMetadata": {
      "byteLimit": 2048000,
      "rowLimit": 10000
     },
     "inputWidgets": {},
     "nuid": "7968c55d-ef95-4301-a66c-d066a5b1e0e3",
     "showTitle": false,
     "title": ""
    }
   },
   "outputs": [],
   "source": [
    "# eoss_df['EOSS'] = np.round(eoss_df['EOSS']/eoss_df.index.day,2)\n",
    "# eoss_df['covid'] = np.round(eoss_df['covid']/eoss_df.index.day,2)\n",
    "# eoss_df['Festive'] = np.round(eoss_df['Festive']/eoss_df.index.day,2)"
   ]
  },
  {
   "cell_type": "code",
   "execution_count": 0,
   "metadata": {
    "application/vnd.databricks.v1+cell": {
     "cellMetadata": {
      "byteLimit": 2048000,
      "rowLimit": 10000
     },
     "inputWidgets": {},
     "nuid": "8d218fd7-501f-46a0-a722-a14f21c46758",
     "showTitle": false,
     "title": ""
    }
   },
   "outputs": [],
   "source": [
    "monthly_grouped_df = (eoss_df.merge(monthly_df, right_on='SLS_Date', left_on=eoss_df.index ,how='left'))"
   ]
  },
  {
   "cell_type": "code",
   "execution_count": 0,
   "metadata": {
    "application/vnd.databricks.v1+cell": {
     "cellMetadata": {
      "byteLimit": 2048000,
      "rowLimit": 10000
     },
     "inputWidgets": {},
     "nuid": "ca1e637f-dae6-4e31-98f7-af568980954a",
     "showTitle": false,
     "title": ""
    }
   },
   "outputs": [],
   "source": [
    "monthly_grouped_df.set_index('SLS_Date', inplace=True)"
   ]
  },
  {
   "cell_type": "code",
   "execution_count": 0,
   "metadata": {
    "application/vnd.databricks.v1+cell": {
     "cellMetadata": {
      "byteLimit": 2048000,
      "rowLimit": 10000
     },
     "inputWidgets": {},
     "nuid": "917c744b-b8ce-4b72-93f8-8eba73749298",
     "showTitle": false,
     "title": ""
    }
   },
   "outputs": [
    {
     "output_type": "execute_result",
     "data": {
      "text/html": [
       "<div>\n",
       "<style scoped>\n",
       "    .dataframe tbody tr th:only-of-type {\n",
       "        vertical-align: middle;\n",
       "    }\n",
       "\n",
       "    .dataframe tbody tr th {\n",
       "        vertical-align: top;\n",
       "    }\n",
       "\n",
       "    .dataframe thead th {\n",
       "        text-align: right;\n",
       "    }\n",
       "</style>\n",
       "<table border=\"1\" class=\"dataframe\">\n",
       "  <thead>\n",
       "    <tr style=\"text-align: right;\">\n",
       "      <th></th>\n",
       "      <th>covid</th>\n",
       "      <th>Diwali_regressor</th>\n",
       "      <th>Navratri_regressor</th>\n",
       "      <th>Shraad_regressor</th>\n",
       "      <th>Weekend_regressor</th>\n",
       "      <th>SLS_Qty</th>\n",
       "      <th>Site_Code</th>\n",
       "      <th>Option_Code</th>\n",
       "    </tr>\n",
       "    <tr>\n",
       "      <th>SLS_Date</th>\n",
       "      <th></th>\n",
       "      <th></th>\n",
       "      <th></th>\n",
       "      <th></th>\n",
       "      <th></th>\n",
       "      <th></th>\n",
       "      <th></th>\n",
       "      <th></th>\n",
       "    </tr>\n",
       "  </thead>\n",
       "  <tbody>\n",
       "    <tr>\n",
       "      <th>2021-01-31</th>\n",
       "      <td>0</td>\n",
       "      <td>0.0</td>\n",
       "      <td>0.0</td>\n",
       "      <td>0.0</td>\n",
       "      <td>6</td>\n",
       "      <td>200.0</td>\n",
       "      <td>75.0</td>\n",
       "      <td>4.0</td>\n",
       "    </tr>\n",
       "    <tr>\n",
       "      <th>2021-02-28</th>\n",
       "      <td>0</td>\n",
       "      <td>0.0</td>\n",
       "      <td>0.0</td>\n",
       "      <td>0.0</td>\n",
       "      <td>8</td>\n",
       "      <td>654.0</td>\n",
       "      <td>175.0</td>\n",
       "      <td>4.0</td>\n",
       "    </tr>\n",
       "    <tr>\n",
       "      <th>2021-03-31</th>\n",
       "      <td>0</td>\n",
       "      <td>0.0</td>\n",
       "      <td>0.0</td>\n",
       "      <td>0.0</td>\n",
       "      <td>8</td>\n",
       "      <td>2424.0</td>\n",
       "      <td>301.0</td>\n",
       "      <td>9.0</td>\n",
       "    </tr>\n",
       "    <tr>\n",
       "      <th>2021-04-30</th>\n",
       "      <td>30</td>\n",
       "      <td>0.0</td>\n",
       "      <td>0.0</td>\n",
       "      <td>0.0</td>\n",
       "      <td>8</td>\n",
       "      <td>2035.0</td>\n",
       "      <td>285.0</td>\n",
       "      <td>9.0</td>\n",
       "    </tr>\n",
       "    <tr>\n",
       "      <th>2021-05-31</th>\n",
       "      <td>31</td>\n",
       "      <td>0.0</td>\n",
       "      <td>0.0</td>\n",
       "      <td>0.0</td>\n",
       "      <td>10</td>\n",
       "      <td>181.0</td>\n",
       "      <td>87.0</td>\n",
       "      <td>9.0</td>\n",
       "    </tr>\n",
       "    <tr>\n",
       "      <th>2021-06-30</th>\n",
       "      <td>30</td>\n",
       "      <td>0.0</td>\n",
       "      <td>0.0</td>\n",
       "      <td>0.0</td>\n",
       "      <td>8</td>\n",
       "      <td>1003.0</td>\n",
       "      <td>234.0</td>\n",
       "      <td>9.0</td>\n",
       "    </tr>\n",
       "    <tr>\n",
       "      <th>2021-07-31</th>\n",
       "      <td>31</td>\n",
       "      <td>0.0</td>\n",
       "      <td>0.0</td>\n",
       "      <td>0.0</td>\n",
       "      <td>9</td>\n",
       "      <td>2003.0</td>\n",
       "      <td>281.0</td>\n",
       "      <td>9.0</td>\n",
       "    </tr>\n",
       "    <tr>\n",
       "      <th>2021-08-31</th>\n",
       "      <td>0</td>\n",
       "      <td>0.0</td>\n",
       "      <td>0.0</td>\n",
       "      <td>0.0</td>\n",
       "      <td>9</td>\n",
       "      <td>2088.0</td>\n",
       "      <td>308.0</td>\n",
       "      <td>12.0</td>\n",
       "    </tr>\n",
       "    <tr>\n",
       "      <th>2021-09-30</th>\n",
       "      <td>0</td>\n",
       "      <td>0.0</td>\n",
       "      <td>1.0</td>\n",
       "      <td>18.0</td>\n",
       "      <td>8</td>\n",
       "      <td>2394.0</td>\n",
       "      <td>313.0</td>\n",
       "      <td>14.0</td>\n",
       "    </tr>\n",
       "    <tr>\n",
       "      <th>2021-10-31</th>\n",
       "      <td>0</td>\n",
       "      <td>13.0</td>\n",
       "      <td>15.0</td>\n",
       "      <td>6.0</td>\n",
       "      <td>10</td>\n",
       "      <td>3552.0</td>\n",
       "      <td>335.0</td>\n",
       "      <td>14.0</td>\n",
       "    </tr>\n",
       "    <tr>\n",
       "      <th>2021-11-30</th>\n",
       "      <td>0</td>\n",
       "      <td>6.0</td>\n",
       "      <td>0.0</td>\n",
       "      <td>0.0</td>\n",
       "      <td>8</td>\n",
       "      <td>1820.0</td>\n",
       "      <td>321.0</td>\n",
       "      <td>14.0</td>\n",
       "    </tr>\n",
       "    <tr>\n",
       "      <th>2021-12-31</th>\n",
       "      <td>0</td>\n",
       "      <td>0.0</td>\n",
       "      <td>0.0</td>\n",
       "      <td>0.0</td>\n",
       "      <td>8</td>\n",
       "      <td>1494.0</td>\n",
       "      <td>300.0</td>\n",
       "      <td>21.0</td>\n",
       "    </tr>\n",
       "    <tr>\n",
       "      <th>2022-01-31</th>\n",
       "      <td>0</td>\n",
       "      <td>0.0</td>\n",
       "      <td>0.0</td>\n",
       "      <td>0.0</td>\n",
       "      <td>10</td>\n",
       "      <td>1653.0</td>\n",
       "      <td>296.0</td>\n",
       "      <td>23.0</td>\n",
       "    </tr>\n",
       "    <tr>\n",
       "      <th>2022-02-28</th>\n",
       "      <td>0</td>\n",
       "      <td>0.0</td>\n",
       "      <td>0.0</td>\n",
       "      <td>0.0</td>\n",
       "      <td>8</td>\n",
       "      <td>2581.0</td>\n",
       "      <td>344.0</td>\n",
       "      <td>23.0</td>\n",
       "    </tr>\n",
       "    <tr>\n",
       "      <th>2022-03-31</th>\n",
       "      <td>0</td>\n",
       "      <td>0.0</td>\n",
       "      <td>0.0</td>\n",
       "      <td>0.0</td>\n",
       "      <td>8</td>\n",
       "      <td>5017.0</td>\n",
       "      <td>355.0</td>\n",
       "      <td>23.0</td>\n",
       "    </tr>\n",
       "    <tr>\n",
       "      <th>2022-04-30</th>\n",
       "      <td>0</td>\n",
       "      <td>0.0</td>\n",
       "      <td>0.0</td>\n",
       "      <td>0.0</td>\n",
       "      <td>9</td>\n",
       "      <td>5308.0</td>\n",
       "      <td>368.0</td>\n",
       "      <td>28.0</td>\n",
       "    </tr>\n",
       "    <tr>\n",
       "      <th>2022-05-31</th>\n",
       "      <td>0</td>\n",
       "      <td>0.0</td>\n",
       "      <td>0.0</td>\n",
       "      <td>0.0</td>\n",
       "      <td>9</td>\n",
       "      <td>5689.0</td>\n",
       "      <td>363.0</td>\n",
       "      <td>28.0</td>\n",
       "    </tr>\n",
       "    <tr>\n",
       "      <th>2022-06-30</th>\n",
       "      <td>0</td>\n",
       "      <td>0.0</td>\n",
       "      <td>0.0</td>\n",
       "      <td>0.0</td>\n",
       "      <td>8</td>\n",
       "      <td>5499.0</td>\n",
       "      <td>366.0</td>\n",
       "      <td>39.0</td>\n",
       "    </tr>\n",
       "    <tr>\n",
       "      <th>2022-07-31</th>\n",
       "      <td>0</td>\n",
       "      <td>0.0</td>\n",
       "      <td>0.0</td>\n",
       "      <td>0.0</td>\n",
       "      <td>10</td>\n",
       "      <td>5948.0</td>\n",
       "      <td>374.0</td>\n",
       "      <td>39.0</td>\n",
       "    </tr>\n",
       "    <tr>\n",
       "      <th>2022-08-31</th>\n",
       "      <td>0</td>\n",
       "      <td>0.0</td>\n",
       "      <td>0.0</td>\n",
       "      <td>0.0</td>\n",
       "      <td>8</td>\n",
       "      <td>6396.0</td>\n",
       "      <td>374.0</td>\n",
       "      <td>39.0</td>\n",
       "    </tr>\n",
       "    <tr>\n",
       "      <th>2022-09-30</th>\n",
       "      <td>0</td>\n",
       "      <td>0.0</td>\n",
       "      <td>12.0</td>\n",
       "      <td>23.0</td>\n",
       "      <td>8</td>\n",
       "      <td>5905.0</td>\n",
       "      <td>380.0</td>\n",
       "      <td>39.0</td>\n",
       "    </tr>\n",
       "    <tr>\n",
       "      <th>2022-10-31</th>\n",
       "      <td>0</td>\n",
       "      <td>19.0</td>\n",
       "      <td>5.0</td>\n",
       "      <td>0.0</td>\n",
       "      <td>10</td>\n",
       "      <td>5940.0</td>\n",
       "      <td>389.0</td>\n",
       "      <td>39.0</td>\n",
       "    </tr>\n",
       "    <tr>\n",
       "      <th>2022-11-30</th>\n",
       "      <td>0</td>\n",
       "      <td>0.0</td>\n",
       "      <td>0.0</td>\n",
       "      <td>0.0</td>\n",
       "      <td>8</td>\n",
       "      <td>3294.0</td>\n",
       "      <td>376.0</td>\n",
       "      <td>39.0</td>\n",
       "    </tr>\n",
       "    <tr>\n",
       "      <th>2022-12-31</th>\n",
       "      <td>0</td>\n",
       "      <td>0.0</td>\n",
       "      <td>0.0</td>\n",
       "      <td>0.0</td>\n",
       "      <td>9</td>\n",
       "      <td>3803.0</td>\n",
       "      <td>381.0</td>\n",
       "      <td>39.0</td>\n",
       "    </tr>\n",
       "    <tr>\n",
       "      <th>2023-01-31</th>\n",
       "      <td>0</td>\n",
       "      <td>0.0</td>\n",
       "      <td>0.0</td>\n",
       "      <td>0.0</td>\n",
       "      <td>9</td>\n",
       "      <td>3173.0</td>\n",
       "      <td>387.0</td>\n",
       "      <td>44.0</td>\n",
       "    </tr>\n",
       "    <tr>\n",
       "      <th>2023-02-28</th>\n",
       "      <td>0</td>\n",
       "      <td>0.0</td>\n",
       "      <td>0.0</td>\n",
       "      <td>0.0</td>\n",
       "      <td>8</td>\n",
       "      <td>2870.0</td>\n",
       "      <td>387.0</td>\n",
       "      <td>41.0</td>\n",
       "    </tr>\n",
       "    <tr>\n",
       "      <th>2023-03-31</th>\n",
       "      <td>0</td>\n",
       "      <td>0.0</td>\n",
       "      <td>0.0</td>\n",
       "      <td>0.0</td>\n",
       "      <td>8</td>\n",
       "      <td>4458.0</td>\n",
       "      <td>407.0</td>\n",
       "      <td>31.0</td>\n",
       "    </tr>\n",
       "    <tr>\n",
       "      <th>2023-04-30</th>\n",
       "      <td>0</td>\n",
       "      <td>0.0</td>\n",
       "      <td>0.0</td>\n",
       "      <td>0.0</td>\n",
       "      <td>10</td>\n",
       "      <td>5518.0</td>\n",
       "      <td>422.0</td>\n",
       "      <td>37.0</td>\n",
       "    </tr>\n",
       "    <tr>\n",
       "      <th>2023-05-31</th>\n",
       "      <td>0</td>\n",
       "      <td>0.0</td>\n",
       "      <td>0.0</td>\n",
       "      <td>0.0</td>\n",
       "      <td>8</td>\n",
       "      <td>4652.0</td>\n",
       "      <td>424.0</td>\n",
       "      <td>34.0</td>\n",
       "    </tr>\n",
       "    <tr>\n",
       "      <th>2023-06-30</th>\n",
       "      <td>0</td>\n",
       "      <td>0.0</td>\n",
       "      <td>0.0</td>\n",
       "      <td>0.0</td>\n",
       "      <td>8</td>\n",
       "      <td>5412.0</td>\n",
       "      <td>427.0</td>\n",
       "      <td>46.0</td>\n",
       "    </tr>\n",
       "    <tr>\n",
       "      <th>2023-07-31</th>\n",
       "      <td>0</td>\n",
       "      <td>0.0</td>\n",
       "      <td>0.0</td>\n",
       "      <td>0.0</td>\n",
       "      <td>10</td>\n",
       "      <td>5245.0</td>\n",
       "      <td>424.0</td>\n",
       "      <td>49.0</td>\n",
       "    </tr>\n",
       "    <tr>\n",
       "      <th>2023-08-31</th>\n",
       "      <td>0</td>\n",
       "      <td>0.0</td>\n",
       "      <td>0.0</td>\n",
       "      <td>0.0</td>\n",
       "      <td>8</td>\n",
       "      <td>3811.0</td>\n",
       "      <td>420.0</td>\n",
       "      <td>44.0</td>\n",
       "    </tr>\n",
       "    <tr>\n",
       "      <th>2023-09-30</th>\n",
       "      <td>0</td>\n",
       "      <td>0.0</td>\n",
       "      <td>0.0</td>\n",
       "      <td>9.0</td>\n",
       "      <td>9</td>\n",
       "      <td>3794.0</td>\n",
       "      <td>416.0</td>\n",
       "      <td>47.0</td>\n",
       "    </tr>\n",
       "    <tr>\n",
       "      <th>2023-10-31</th>\n",
       "      <td>0</td>\n",
       "      <td>5.0</td>\n",
       "      <td>17.0</td>\n",
       "      <td>14.0</td>\n",
       "      <td>9</td>\n",
       "      <td>3958.0</td>\n",
       "      <td>423.0</td>\n",
       "      <td>43.0</td>\n",
       "    </tr>\n",
       "    <tr>\n",
       "      <th>2023-11-30</th>\n",
       "      <td>0</td>\n",
       "      <td>14.0</td>\n",
       "      <td>0.0</td>\n",
       "      <td>0.0</td>\n",
       "      <td>8</td>\n",
       "      <td>2857.0</td>\n",
       "      <td>412.0</td>\n",
       "      <td>43.0</td>\n",
       "    </tr>\n",
       "    <tr>\n",
       "      <th>2023-12-31</th>\n",
       "      <td>0</td>\n",
       "      <td>0.0</td>\n",
       "      <td>0.0</td>\n",
       "      <td>0.0</td>\n",
       "      <td>10</td>\n",
       "      <td>2837.0</td>\n",
       "      <td>399.0</td>\n",
       "      <td>46.0</td>\n",
       "    </tr>\n",
       "    <tr>\n",
       "      <th>2024-01-31</th>\n",
       "      <td>0</td>\n",
       "      <td>0.0</td>\n",
       "      <td>0.0</td>\n",
       "      <td>0.0</td>\n",
       "      <td>8</td>\n",
       "      <td>2466.0</td>\n",
       "      <td>381.0</td>\n",
       "      <td>45.0</td>\n",
       "    </tr>\n",
       "    <tr>\n",
       "      <th>2024-02-29</th>\n",
       "      <td>0</td>\n",
       "      <td>0.0</td>\n",
       "      <td>0.0</td>\n",
       "      <td>0.0</td>\n",
       "      <td>8</td>\n",
       "      <td>2379.0</td>\n",
       "      <td>384.0</td>\n",
       "      <td>37.0</td>\n",
       "    </tr>\n",
       "    <tr>\n",
       "      <th>2024-03-31</th>\n",
       "      <td>0</td>\n",
       "      <td>0.0</td>\n",
       "      <td>0.0</td>\n",
       "      <td>0.0</td>\n",
       "      <td>10</td>\n",
       "      <td>3529.0</td>\n",
       "      <td>404.0</td>\n",
       "      <td>38.0</td>\n",
       "    </tr>\n",
       "    <tr>\n",
       "      <th>2024-04-30</th>\n",
       "      <td>0</td>\n",
       "      <td>0.0</td>\n",
       "      <td>0.0</td>\n",
       "      <td>0.0</td>\n",
       "      <td>8</td>\n",
       "      <td>3735.0</td>\n",
       "      <td>402.0</td>\n",
       "      <td>37.0</td>\n",
       "    </tr>\n",
       "    <tr>\n",
       "      <th>2024-05-31</th>\n",
       "      <td>0</td>\n",
       "      <td>0.0</td>\n",
       "      <td>0.0</td>\n",
       "      <td>0.0</td>\n",
       "      <td>8</td>\n",
       "      <td>3731.0</td>\n",
       "      <td>395.0</td>\n",
       "      <td>39.0</td>\n",
       "    </tr>\n",
       "    <tr>\n",
       "      <th>2024-06-30</th>\n",
       "      <td>0</td>\n",
       "      <td>0.0</td>\n",
       "      <td>0.0</td>\n",
       "      <td>0.0</td>\n",
       "      <td>10</td>\n",
       "      <td>4205.0</td>\n",
       "      <td>404.0</td>\n",
       "      <td>38.0</td>\n",
       "    </tr>\n",
       "    <tr>\n",
       "      <th>2024-07-31</th>\n",
       "      <td>0</td>\n",
       "      <td>0.0</td>\n",
       "      <td>0.0</td>\n",
       "      <td>0.0</td>\n",
       "      <td>8</td>\n",
       "      <td>153.0</td>\n",
       "      <td>110.0</td>\n",
       "      <td>24.0</td>\n",
       "    </tr>\n",
       "    <tr>\n",
       "      <th>2024-08-31</th>\n",
       "      <td>0</td>\n",
       "      <td>0.0</td>\n",
       "      <td>0.0</td>\n",
       "      <td>0.0</td>\n",
       "      <td>9</td>\n",
       "      <td>NaN</td>\n",
       "      <td>NaN</td>\n",
       "      <td>NaN</td>\n",
       "    </tr>\n",
       "    <tr>\n",
       "      <th>2024-09-30</th>\n",
       "      <td>0</td>\n",
       "      <td>0.0</td>\n",
       "      <td>5.0</td>\n",
       "      <td>21.0</td>\n",
       "      <td>9</td>\n",
       "      <td>NaN</td>\n",
       "      <td>NaN</td>\n",
       "      <td>NaN</td>\n",
       "    </tr>\n",
       "    <tr>\n",
       "      <th>2024-10-31</th>\n",
       "      <td>0</td>\n",
       "      <td>17.0</td>\n",
       "      <td>12.0</td>\n",
       "      <td>2.0</td>\n",
       "      <td>8</td>\n",
       "      <td>NaN</td>\n",
       "      <td>NaN</td>\n",
       "      <td>NaN</td>\n",
       "    </tr>\n",
       "    <tr>\n",
       "      <th>2024-11-30</th>\n",
       "      <td>0</td>\n",
       "      <td>3.0</td>\n",
       "      <td>0.0</td>\n",
       "      <td>0.0</td>\n",
       "      <td>9</td>\n",
       "      <td>NaN</td>\n",
       "      <td>NaN</td>\n",
       "      <td>NaN</td>\n",
       "    </tr>\n",
       "    <tr>\n",
       "      <th>2024-12-31</th>\n",
       "      <td>0</td>\n",
       "      <td>0.0</td>\n",
       "      <td>0.0</td>\n",
       "      <td>0.0</td>\n",
       "      <td>9</td>\n",
       "      <td>NaN</td>\n",
       "      <td>NaN</td>\n",
       "      <td>NaN</td>\n",
       "    </tr>\n",
       "    <tr>\n",
       "      <th>2025-01-31</th>\n",
       "      <td>0</td>\n",
       "      <td>0.0</td>\n",
       "      <td>0.0</td>\n",
       "      <td>0.0</td>\n",
       "      <td>8</td>\n",
       "      <td>NaN</td>\n",
       "      <td>NaN</td>\n",
       "      <td>NaN</td>\n",
       "    </tr>\n",
       "    <tr>\n",
       "      <th>2025-02-28</th>\n",
       "      <td>0</td>\n",
       "      <td>0.0</td>\n",
       "      <td>0.0</td>\n",
       "      <td>0.0</td>\n",
       "      <td>8</td>\n",
       "      <td>NaN</td>\n",
       "      <td>NaN</td>\n",
       "      <td>NaN</td>\n",
       "    </tr>\n",
       "    <tr>\n",
       "      <th>2025-03-31</th>\n",
       "      <td>0</td>\n",
       "      <td>0.0</td>\n",
       "      <td>0.0</td>\n",
       "      <td>0.0</td>\n",
       "      <td>10</td>\n",
       "      <td>NaN</td>\n",
       "      <td>NaN</td>\n",
       "      <td>NaN</td>\n",
       "    </tr>\n",
       "  </tbody>\n",
       "</table>\n",
       "</div>"
      ],
      "text/plain": [
       "            covid  Diwali_regressor  ...  Site_Code  Option_Code\n",
       "SLS_Date                             ...                        \n",
       "2021-01-31      0               0.0  ...       75.0          4.0\n",
       "2021-02-28      0               0.0  ...      175.0          4.0\n",
       "2021-03-31      0               0.0  ...      301.0          9.0\n",
       "2021-04-30     30               0.0  ...      285.0          9.0\n",
       "2021-05-31     31               0.0  ...       87.0          9.0\n",
       "2021-06-30     30               0.0  ...      234.0          9.0\n",
       "2021-07-31     31               0.0  ...      281.0          9.0\n",
       "2021-08-31      0               0.0  ...      308.0         12.0\n",
       "2021-09-30      0               0.0  ...      313.0         14.0\n",
       "2021-10-31      0              13.0  ...      335.0         14.0\n",
       "2021-11-30      0               6.0  ...      321.0         14.0\n",
       "2021-12-31      0               0.0  ...      300.0         21.0\n",
       "2022-01-31      0               0.0  ...      296.0         23.0\n",
       "2022-02-28      0               0.0  ...      344.0         23.0\n",
       "2022-03-31      0               0.0  ...      355.0         23.0\n",
       "2022-04-30      0               0.0  ...      368.0         28.0\n",
       "2022-05-31      0               0.0  ...      363.0         28.0\n",
       "2022-06-30      0               0.0  ...      366.0         39.0\n",
       "2022-07-31      0               0.0  ...      374.0         39.0\n",
       "2022-08-31      0               0.0  ...      374.0         39.0\n",
       "2022-09-30      0               0.0  ...      380.0         39.0\n",
       "2022-10-31      0              19.0  ...      389.0         39.0\n",
       "2022-11-30      0               0.0  ...      376.0         39.0\n",
       "2022-12-31      0               0.0  ...      381.0         39.0\n",
       "2023-01-31      0               0.0  ...      387.0         44.0\n",
       "2023-02-28      0               0.0  ...      387.0         41.0\n",
       "2023-03-31      0               0.0  ...      407.0         31.0\n",
       "2023-04-30      0               0.0  ...      422.0         37.0\n",
       "2023-05-31      0               0.0  ...      424.0         34.0\n",
       "2023-06-30      0               0.0  ...      427.0         46.0\n",
       "2023-07-31      0               0.0  ...      424.0         49.0\n",
       "2023-08-31      0               0.0  ...      420.0         44.0\n",
       "2023-09-30      0               0.0  ...      416.0         47.0\n",
       "2023-10-31      0               5.0  ...      423.0         43.0\n",
       "2023-11-30      0              14.0  ...      412.0         43.0\n",
       "2023-12-31      0               0.0  ...      399.0         46.0\n",
       "2024-01-31      0               0.0  ...      381.0         45.0\n",
       "2024-02-29      0               0.0  ...      384.0         37.0\n",
       "2024-03-31      0               0.0  ...      404.0         38.0\n",
       "2024-04-30      0               0.0  ...      402.0         37.0\n",
       "2024-05-31      0               0.0  ...      395.0         39.0\n",
       "2024-06-30      0               0.0  ...      404.0         38.0\n",
       "2024-07-31      0               0.0  ...      110.0         24.0\n",
       "2024-08-31      0               0.0  ...        NaN          NaN\n",
       "2024-09-30      0               0.0  ...        NaN          NaN\n",
       "2024-10-31      0              17.0  ...        NaN          NaN\n",
       "2024-11-30      0               3.0  ...        NaN          NaN\n",
       "2024-12-31      0               0.0  ...        NaN          NaN\n",
       "2025-01-31      0               0.0  ...        NaN          NaN\n",
       "2025-02-28      0               0.0  ...        NaN          NaN\n",
       "2025-03-31      0               0.0  ...        NaN          NaN\n",
       "\n",
       "[51 rows x 8 columns]"
      ]
     },
     "execution_count": 96,
     "metadata": {},
     "output_type": "execute_result"
    }
   ],
   "source": [
    "monthly_grouped_df"
   ]
  },
  {
   "cell_type": "code",
   "execution_count": 0,
   "metadata": {
    "application/vnd.databricks.v1+cell": {
     "cellMetadata": {
      "byteLimit": 2048000,
      "rowLimit": 10000
     },
     "inputWidgets": {},
     "nuid": "a0ddd800-4c2c-45d2-985a-b4141fea097f",
     "showTitle": false,
     "title": ""
    }
   },
   "outputs": [
    {
     "output_type": "execute_result",
     "data": {
      "text/html": [
       "<div>\n",
       "<style scoped>\n",
       "    .dataframe tbody tr th:only-of-type {\n",
       "        vertical-align: middle;\n",
       "    }\n",
       "\n",
       "    .dataframe tbody tr th {\n",
       "        vertical-align: top;\n",
       "    }\n",
       "\n",
       "    .dataframe thead th {\n",
       "        text-align: right;\n",
       "    }\n",
       "</style>\n",
       "<table border=\"1\" class=\"dataframe\">\n",
       "  <thead>\n",
       "    <tr style=\"text-align: right;\">\n",
       "      <th></th>\n",
       "      <th>covid</th>\n",
       "      <th>Diwali_regressor</th>\n",
       "      <th>Navratri_regressor</th>\n",
       "      <th>Shraad_regressor</th>\n",
       "      <th>Weekend_regressor</th>\n",
       "      <th>SLS_Qty</th>\n",
       "      <th>Site_Code</th>\n",
       "      <th>Option_Code</th>\n",
       "    </tr>\n",
       "    <tr>\n",
       "      <th>SLS_Date</th>\n",
       "      <th></th>\n",
       "      <th></th>\n",
       "      <th></th>\n",
       "      <th></th>\n",
       "      <th></th>\n",
       "      <th></th>\n",
       "      <th></th>\n",
       "      <th></th>\n",
       "    </tr>\n",
       "  </thead>\n",
       "  <tbody>\n",
       "    <tr>\n",
       "      <th>2021-08-31</th>\n",
       "      <td>0</td>\n",
       "      <td>0.0</td>\n",
       "      <td>0.0</td>\n",
       "      <td>0.0</td>\n",
       "      <td>9</td>\n",
       "      <td>2088.0</td>\n",
       "      <td>308.0</td>\n",
       "      <td>12.0</td>\n",
       "    </tr>\n",
       "    <tr>\n",
       "      <th>2021-09-30</th>\n",
       "      <td>0</td>\n",
       "      <td>0.0</td>\n",
       "      <td>1.0</td>\n",
       "      <td>18.0</td>\n",
       "      <td>8</td>\n",
       "      <td>2394.0</td>\n",
       "      <td>313.0</td>\n",
       "      <td>14.0</td>\n",
       "    </tr>\n",
       "    <tr>\n",
       "      <th>2021-10-31</th>\n",
       "      <td>0</td>\n",
       "      <td>13.0</td>\n",
       "      <td>15.0</td>\n",
       "      <td>6.0</td>\n",
       "      <td>10</td>\n",
       "      <td>3552.0</td>\n",
       "      <td>335.0</td>\n",
       "      <td>14.0</td>\n",
       "    </tr>\n",
       "    <tr>\n",
       "      <th>2021-11-30</th>\n",
       "      <td>0</td>\n",
       "      <td>6.0</td>\n",
       "      <td>0.0</td>\n",
       "      <td>0.0</td>\n",
       "      <td>8</td>\n",
       "      <td>1820.0</td>\n",
       "      <td>321.0</td>\n",
       "      <td>14.0</td>\n",
       "    </tr>\n",
       "    <tr>\n",
       "      <th>2021-12-31</th>\n",
       "      <td>0</td>\n",
       "      <td>0.0</td>\n",
       "      <td>0.0</td>\n",
       "      <td>0.0</td>\n",
       "      <td>8</td>\n",
       "      <td>1494.0</td>\n",
       "      <td>300.0</td>\n",
       "      <td>21.0</td>\n",
       "    </tr>\n",
       "    <tr>\n",
       "      <th>2022-01-31</th>\n",
       "      <td>0</td>\n",
       "      <td>0.0</td>\n",
       "      <td>0.0</td>\n",
       "      <td>0.0</td>\n",
       "      <td>10</td>\n",
       "      <td>1653.0</td>\n",
       "      <td>296.0</td>\n",
       "      <td>23.0</td>\n",
       "    </tr>\n",
       "    <tr>\n",
       "      <th>2022-02-28</th>\n",
       "      <td>0</td>\n",
       "      <td>0.0</td>\n",
       "      <td>0.0</td>\n",
       "      <td>0.0</td>\n",
       "      <td>8</td>\n",
       "      <td>2581.0</td>\n",
       "      <td>344.0</td>\n",
       "      <td>23.0</td>\n",
       "    </tr>\n",
       "    <tr>\n",
       "      <th>2022-03-31</th>\n",
       "      <td>0</td>\n",
       "      <td>0.0</td>\n",
       "      <td>0.0</td>\n",
       "      <td>0.0</td>\n",
       "      <td>8</td>\n",
       "      <td>5017.0</td>\n",
       "      <td>355.0</td>\n",
       "      <td>23.0</td>\n",
       "    </tr>\n",
       "    <tr>\n",
       "      <th>2022-04-30</th>\n",
       "      <td>0</td>\n",
       "      <td>0.0</td>\n",
       "      <td>0.0</td>\n",
       "      <td>0.0</td>\n",
       "      <td>9</td>\n",
       "      <td>5308.0</td>\n",
       "      <td>368.0</td>\n",
       "      <td>28.0</td>\n",
       "    </tr>\n",
       "    <tr>\n",
       "      <th>2022-05-31</th>\n",
       "      <td>0</td>\n",
       "      <td>0.0</td>\n",
       "      <td>0.0</td>\n",
       "      <td>0.0</td>\n",
       "      <td>9</td>\n",
       "      <td>5689.0</td>\n",
       "      <td>363.0</td>\n",
       "      <td>28.0</td>\n",
       "    </tr>\n",
       "    <tr>\n",
       "      <th>2022-06-30</th>\n",
       "      <td>0</td>\n",
       "      <td>0.0</td>\n",
       "      <td>0.0</td>\n",
       "      <td>0.0</td>\n",
       "      <td>8</td>\n",
       "      <td>5499.0</td>\n",
       "      <td>366.0</td>\n",
       "      <td>39.0</td>\n",
       "    </tr>\n",
       "    <tr>\n",
       "      <th>2022-07-31</th>\n",
       "      <td>0</td>\n",
       "      <td>0.0</td>\n",
       "      <td>0.0</td>\n",
       "      <td>0.0</td>\n",
       "      <td>10</td>\n",
       "      <td>5948.0</td>\n",
       "      <td>374.0</td>\n",
       "      <td>39.0</td>\n",
       "    </tr>\n",
       "    <tr>\n",
       "      <th>2022-08-31</th>\n",
       "      <td>0</td>\n",
       "      <td>0.0</td>\n",
       "      <td>0.0</td>\n",
       "      <td>0.0</td>\n",
       "      <td>8</td>\n",
       "      <td>6396.0</td>\n",
       "      <td>374.0</td>\n",
       "      <td>39.0</td>\n",
       "    </tr>\n",
       "    <tr>\n",
       "      <th>2022-09-30</th>\n",
       "      <td>0</td>\n",
       "      <td>0.0</td>\n",
       "      <td>12.0</td>\n",
       "      <td>23.0</td>\n",
       "      <td>8</td>\n",
       "      <td>5905.0</td>\n",
       "      <td>380.0</td>\n",
       "      <td>39.0</td>\n",
       "    </tr>\n",
       "    <tr>\n",
       "      <th>2022-10-31</th>\n",
       "      <td>0</td>\n",
       "      <td>19.0</td>\n",
       "      <td>5.0</td>\n",
       "      <td>0.0</td>\n",
       "      <td>10</td>\n",
       "      <td>5940.0</td>\n",
       "      <td>389.0</td>\n",
       "      <td>39.0</td>\n",
       "    </tr>\n",
       "    <tr>\n",
       "      <th>2022-11-30</th>\n",
       "      <td>0</td>\n",
       "      <td>0.0</td>\n",
       "      <td>0.0</td>\n",
       "      <td>0.0</td>\n",
       "      <td>8</td>\n",
       "      <td>3294.0</td>\n",
       "      <td>376.0</td>\n",
       "      <td>39.0</td>\n",
       "    </tr>\n",
       "    <tr>\n",
       "      <th>2022-12-31</th>\n",
       "      <td>0</td>\n",
       "      <td>0.0</td>\n",
       "      <td>0.0</td>\n",
       "      <td>0.0</td>\n",
       "      <td>9</td>\n",
       "      <td>3803.0</td>\n",
       "      <td>381.0</td>\n",
       "      <td>39.0</td>\n",
       "    </tr>\n",
       "    <tr>\n",
       "      <th>2023-01-31</th>\n",
       "      <td>0</td>\n",
       "      <td>0.0</td>\n",
       "      <td>0.0</td>\n",
       "      <td>0.0</td>\n",
       "      <td>9</td>\n",
       "      <td>3173.0</td>\n",
       "      <td>387.0</td>\n",
       "      <td>44.0</td>\n",
       "    </tr>\n",
       "    <tr>\n",
       "      <th>2023-02-28</th>\n",
       "      <td>0</td>\n",
       "      <td>0.0</td>\n",
       "      <td>0.0</td>\n",
       "      <td>0.0</td>\n",
       "      <td>8</td>\n",
       "      <td>2870.0</td>\n",
       "      <td>387.0</td>\n",
       "      <td>41.0</td>\n",
       "    </tr>\n",
       "    <tr>\n",
       "      <th>2023-03-31</th>\n",
       "      <td>0</td>\n",
       "      <td>0.0</td>\n",
       "      <td>0.0</td>\n",
       "      <td>0.0</td>\n",
       "      <td>8</td>\n",
       "      <td>4458.0</td>\n",
       "      <td>407.0</td>\n",
       "      <td>31.0</td>\n",
       "    </tr>\n",
       "    <tr>\n",
       "      <th>2023-04-30</th>\n",
       "      <td>0</td>\n",
       "      <td>0.0</td>\n",
       "      <td>0.0</td>\n",
       "      <td>0.0</td>\n",
       "      <td>10</td>\n",
       "      <td>5518.0</td>\n",
       "      <td>422.0</td>\n",
       "      <td>37.0</td>\n",
       "    </tr>\n",
       "    <tr>\n",
       "      <th>2023-05-31</th>\n",
       "      <td>0</td>\n",
       "      <td>0.0</td>\n",
       "      <td>0.0</td>\n",
       "      <td>0.0</td>\n",
       "      <td>8</td>\n",
       "      <td>4652.0</td>\n",
       "      <td>424.0</td>\n",
       "      <td>34.0</td>\n",
       "    </tr>\n",
       "    <tr>\n",
       "      <th>2023-06-30</th>\n",
       "      <td>0</td>\n",
       "      <td>0.0</td>\n",
       "      <td>0.0</td>\n",
       "      <td>0.0</td>\n",
       "      <td>8</td>\n",
       "      <td>5412.0</td>\n",
       "      <td>427.0</td>\n",
       "      <td>46.0</td>\n",
       "    </tr>\n",
       "    <tr>\n",
       "      <th>2023-07-31</th>\n",
       "      <td>0</td>\n",
       "      <td>0.0</td>\n",
       "      <td>0.0</td>\n",
       "      <td>0.0</td>\n",
       "      <td>10</td>\n",
       "      <td>5245.0</td>\n",
       "      <td>424.0</td>\n",
       "      <td>49.0</td>\n",
       "    </tr>\n",
       "    <tr>\n",
       "      <th>2023-08-31</th>\n",
       "      <td>0</td>\n",
       "      <td>0.0</td>\n",
       "      <td>0.0</td>\n",
       "      <td>0.0</td>\n",
       "      <td>8</td>\n",
       "      <td>3811.0</td>\n",
       "      <td>420.0</td>\n",
       "      <td>44.0</td>\n",
       "    </tr>\n",
       "    <tr>\n",
       "      <th>2023-09-30</th>\n",
       "      <td>0</td>\n",
       "      <td>0.0</td>\n",
       "      <td>0.0</td>\n",
       "      <td>9.0</td>\n",
       "      <td>9</td>\n",
       "      <td>3794.0</td>\n",
       "      <td>416.0</td>\n",
       "      <td>47.0</td>\n",
       "    </tr>\n",
       "    <tr>\n",
       "      <th>2023-10-31</th>\n",
       "      <td>0</td>\n",
       "      <td>5.0</td>\n",
       "      <td>17.0</td>\n",
       "      <td>14.0</td>\n",
       "      <td>9</td>\n",
       "      <td>3958.0</td>\n",
       "      <td>423.0</td>\n",
       "      <td>43.0</td>\n",
       "    </tr>\n",
       "    <tr>\n",
       "      <th>2023-11-30</th>\n",
       "      <td>0</td>\n",
       "      <td>14.0</td>\n",
       "      <td>0.0</td>\n",
       "      <td>0.0</td>\n",
       "      <td>8</td>\n",
       "      <td>2857.0</td>\n",
       "      <td>412.0</td>\n",
       "      <td>43.0</td>\n",
       "    </tr>\n",
       "    <tr>\n",
       "      <th>2023-12-31</th>\n",
       "      <td>0</td>\n",
       "      <td>0.0</td>\n",
       "      <td>0.0</td>\n",
       "      <td>0.0</td>\n",
       "      <td>10</td>\n",
       "      <td>2837.0</td>\n",
       "      <td>399.0</td>\n",
       "      <td>46.0</td>\n",
       "    </tr>\n",
       "    <tr>\n",
       "      <th>2024-01-31</th>\n",
       "      <td>0</td>\n",
       "      <td>0.0</td>\n",
       "      <td>0.0</td>\n",
       "      <td>0.0</td>\n",
       "      <td>8</td>\n",
       "      <td>2466.0</td>\n",
       "      <td>381.0</td>\n",
       "      <td>45.0</td>\n",
       "    </tr>\n",
       "    <tr>\n",
       "      <th>2024-02-29</th>\n",
       "      <td>0</td>\n",
       "      <td>0.0</td>\n",
       "      <td>0.0</td>\n",
       "      <td>0.0</td>\n",
       "      <td>8</td>\n",
       "      <td>2379.0</td>\n",
       "      <td>384.0</td>\n",
       "      <td>37.0</td>\n",
       "    </tr>\n",
       "    <tr>\n",
       "      <th>2024-03-31</th>\n",
       "      <td>0</td>\n",
       "      <td>0.0</td>\n",
       "      <td>0.0</td>\n",
       "      <td>0.0</td>\n",
       "      <td>10</td>\n",
       "      <td>3529.0</td>\n",
       "      <td>404.0</td>\n",
       "      <td>38.0</td>\n",
       "    </tr>\n",
       "    <tr>\n",
       "      <th>2024-04-30</th>\n",
       "      <td>0</td>\n",
       "      <td>0.0</td>\n",
       "      <td>0.0</td>\n",
       "      <td>0.0</td>\n",
       "      <td>8</td>\n",
       "      <td>3735.0</td>\n",
       "      <td>402.0</td>\n",
       "      <td>37.0</td>\n",
       "    </tr>\n",
       "    <tr>\n",
       "      <th>2024-05-31</th>\n",
       "      <td>0</td>\n",
       "      <td>0.0</td>\n",
       "      <td>0.0</td>\n",
       "      <td>0.0</td>\n",
       "      <td>8</td>\n",
       "      <td>3731.0</td>\n",
       "      <td>395.0</td>\n",
       "      <td>39.0</td>\n",
       "    </tr>\n",
       "    <tr>\n",
       "      <th>2024-06-30</th>\n",
       "      <td>0</td>\n",
       "      <td>0.0</td>\n",
       "      <td>0.0</td>\n",
       "      <td>0.0</td>\n",
       "      <td>10</td>\n",
       "      <td>4205.0</td>\n",
       "      <td>404.0</td>\n",
       "      <td>38.0</td>\n",
       "    </tr>\n",
       "    <tr>\n",
       "      <th>2024-07-31</th>\n",
       "      <td>0</td>\n",
       "      <td>0.0</td>\n",
       "      <td>0.0</td>\n",
       "      <td>0.0</td>\n",
       "      <td>8</td>\n",
       "      <td>153.0</td>\n",
       "      <td>110.0</td>\n",
       "      <td>24.0</td>\n",
       "    </tr>\n",
       "    <tr>\n",
       "      <th>2024-08-31</th>\n",
       "      <td>0</td>\n",
       "      <td>0.0</td>\n",
       "      <td>0.0</td>\n",
       "      <td>0.0</td>\n",
       "      <td>9</td>\n",
       "      <td>NaN</td>\n",
       "      <td>NaN</td>\n",
       "      <td>NaN</td>\n",
       "    </tr>\n",
       "    <tr>\n",
       "      <th>2024-09-30</th>\n",
       "      <td>0</td>\n",
       "      <td>0.0</td>\n",
       "      <td>5.0</td>\n",
       "      <td>21.0</td>\n",
       "      <td>9</td>\n",
       "      <td>NaN</td>\n",
       "      <td>NaN</td>\n",
       "      <td>NaN</td>\n",
       "    </tr>\n",
       "    <tr>\n",
       "      <th>2024-10-31</th>\n",
       "      <td>0</td>\n",
       "      <td>17.0</td>\n",
       "      <td>12.0</td>\n",
       "      <td>2.0</td>\n",
       "      <td>8</td>\n",
       "      <td>NaN</td>\n",
       "      <td>NaN</td>\n",
       "      <td>NaN</td>\n",
       "    </tr>\n",
       "    <tr>\n",
       "      <th>2024-11-30</th>\n",
       "      <td>0</td>\n",
       "      <td>3.0</td>\n",
       "      <td>0.0</td>\n",
       "      <td>0.0</td>\n",
       "      <td>9</td>\n",
       "      <td>NaN</td>\n",
       "      <td>NaN</td>\n",
       "      <td>NaN</td>\n",
       "    </tr>\n",
       "    <tr>\n",
       "      <th>2024-12-31</th>\n",
       "      <td>0</td>\n",
       "      <td>0.0</td>\n",
       "      <td>0.0</td>\n",
       "      <td>0.0</td>\n",
       "      <td>9</td>\n",
       "      <td>NaN</td>\n",
       "      <td>NaN</td>\n",
       "      <td>NaN</td>\n",
       "    </tr>\n",
       "    <tr>\n",
       "      <th>2025-01-31</th>\n",
       "      <td>0</td>\n",
       "      <td>0.0</td>\n",
       "      <td>0.0</td>\n",
       "      <td>0.0</td>\n",
       "      <td>8</td>\n",
       "      <td>NaN</td>\n",
       "      <td>NaN</td>\n",
       "      <td>NaN</td>\n",
       "    </tr>\n",
       "    <tr>\n",
       "      <th>2025-02-28</th>\n",
       "      <td>0</td>\n",
       "      <td>0.0</td>\n",
       "      <td>0.0</td>\n",
       "      <td>0.0</td>\n",
       "      <td>8</td>\n",
       "      <td>NaN</td>\n",
       "      <td>NaN</td>\n",
       "      <td>NaN</td>\n",
       "    </tr>\n",
       "    <tr>\n",
       "      <th>2025-03-31</th>\n",
       "      <td>0</td>\n",
       "      <td>0.0</td>\n",
       "      <td>0.0</td>\n",
       "      <td>0.0</td>\n",
       "      <td>10</td>\n",
       "      <td>NaN</td>\n",
       "      <td>NaN</td>\n",
       "      <td>NaN</td>\n",
       "    </tr>\n",
       "  </tbody>\n",
       "</table>\n",
       "</div>"
      ],
      "text/plain": [
       "            covid  Diwali_regressor  ...  Site_Code  Option_Code\n",
       "SLS_Date                             ...                        \n",
       "2021-08-31      0               0.0  ...      308.0         12.0\n",
       "2021-09-30      0               0.0  ...      313.0         14.0\n",
       "2021-10-31      0              13.0  ...      335.0         14.0\n",
       "2021-11-30      0               6.0  ...      321.0         14.0\n",
       "2021-12-31      0               0.0  ...      300.0         21.0\n",
       "2022-01-31      0               0.0  ...      296.0         23.0\n",
       "2022-02-28      0               0.0  ...      344.0         23.0\n",
       "2022-03-31      0               0.0  ...      355.0         23.0\n",
       "2022-04-30      0               0.0  ...      368.0         28.0\n",
       "2022-05-31      0               0.0  ...      363.0         28.0\n",
       "2022-06-30      0               0.0  ...      366.0         39.0\n",
       "2022-07-31      0               0.0  ...      374.0         39.0\n",
       "2022-08-31      0               0.0  ...      374.0         39.0\n",
       "2022-09-30      0               0.0  ...      380.0         39.0\n",
       "2022-10-31      0              19.0  ...      389.0         39.0\n",
       "2022-11-30      0               0.0  ...      376.0         39.0\n",
       "2022-12-31      0               0.0  ...      381.0         39.0\n",
       "2023-01-31      0               0.0  ...      387.0         44.0\n",
       "2023-02-28      0               0.0  ...      387.0         41.0\n",
       "2023-03-31      0               0.0  ...      407.0         31.0\n",
       "2023-04-30      0               0.0  ...      422.0         37.0\n",
       "2023-05-31      0               0.0  ...      424.0         34.0\n",
       "2023-06-30      0               0.0  ...      427.0         46.0\n",
       "2023-07-31      0               0.0  ...      424.0         49.0\n",
       "2023-08-31      0               0.0  ...      420.0         44.0\n",
       "2023-09-30      0               0.0  ...      416.0         47.0\n",
       "2023-10-31      0               5.0  ...      423.0         43.0\n",
       "2023-11-30      0              14.0  ...      412.0         43.0\n",
       "2023-12-31      0               0.0  ...      399.0         46.0\n",
       "2024-01-31      0               0.0  ...      381.0         45.0\n",
       "2024-02-29      0               0.0  ...      384.0         37.0\n",
       "2024-03-31      0               0.0  ...      404.0         38.0\n",
       "2024-04-30      0               0.0  ...      402.0         37.0\n",
       "2024-05-31      0               0.0  ...      395.0         39.0\n",
       "2024-06-30      0               0.0  ...      404.0         38.0\n",
       "2024-07-31      0               0.0  ...      110.0         24.0\n",
       "2024-08-31      0               0.0  ...        NaN          NaN\n",
       "2024-09-30      0               0.0  ...        NaN          NaN\n",
       "2024-10-31      0              17.0  ...        NaN          NaN\n",
       "2024-11-30      0               3.0  ...        NaN          NaN\n",
       "2024-12-31      0               0.0  ...        NaN          NaN\n",
       "2025-01-31      0               0.0  ...        NaN          NaN\n",
       "2025-02-28      0               0.0  ...        NaN          NaN\n",
       "2025-03-31      0               0.0  ...        NaN          NaN\n",
       "\n",
       "[44 rows x 8 columns]"
      ]
     },
     "execution_count": 97,
     "metadata": {},
     "output_type": "execute_result"
    }
   ],
   "source": [
    "grouped_df = monthly_grouped_df[monthly_grouped_df.index >= '2021-08-01']\n",
    "grouped_df"
   ]
  },
  {
   "cell_type": "code",
   "execution_count": 0,
   "metadata": {
    "application/vnd.databricks.v1+cell": {
     "cellMetadata": {
      "byteLimit": 2048000,
      "rowLimit": 10000
     },
     "inputWidgets": {},
     "nuid": "48d0294d-f3c8-4508-a24b-570e65334415",
     "showTitle": false,
     "title": ""
    }
   },
   "outputs": [],
   "source": [
    "def fill_future_with_avg(df):\n",
    "    col_name = df.index[0]\n",
    "    if pd.isna(df[col_name]):\n",
    "      current_month = df.name.strftime('%m')\n",
    "      return (grouped_df[grouped_df[col_name].index.strftime('%m')==current_month][col_name][:-1].mean())\n",
    "    else:\n",
    "      return df[0]"
   ]
  },
  {
   "cell_type": "code",
   "execution_count": 0,
   "metadata": {
    "application/vnd.databricks.v1+cell": {
     "cellMetadata": {
      "byteLimit": 2048000,
      "rowLimit": 10000
     },
     "inputWidgets": {},
     "nuid": "b2aa06b6-2cf0-4817-ae09-c3c72457dee3",
     "showTitle": false,
     "title": ""
    }
   },
   "outputs": [],
   "source": [
    "# col_fill = ['Site_Code_NORTH', 'Site_Code_SOUTH', 'Site_Code_EAST', 'Site_Code_WEST']\n",
    "\n",
    "\n",
    "col_fill = ['Site_Code','Option_Code']\n"
   ]
  },
  {
   "cell_type": "code",
   "execution_count": 0,
   "metadata": {
    "application/vnd.databricks.v1+cell": {
     "cellMetadata": {
      "byteLimit": 2048000,
      "rowLimit": 10000
     },
     "inputWidgets": {},
     "nuid": "a11a2738-a359-4d42-a14a-5e055727f353",
     "showTitle": false,
     "title": ""
    }
   },
   "outputs": [],
   "source": [
    "for cols in col_fill:\n",
    "  monthly_grouped_df[cols] = monthly_grouped_df[[cols]].apply(fill_future_with_avg, axis=1)"
   ]
  },
  {
   "cell_type": "code",
   "execution_count": 0,
   "metadata": {
    "application/vnd.databricks.v1+cell": {
     "cellMetadata": {
      "byteLimit": 2048000,
      "rowLimit": 10000
     },
     "inputWidgets": {},
     "nuid": "65f42f46-f8c9-41f2-a36c-a06de38ebe78",
     "showTitle": false,
     "title": ""
    }
   },
   "outputs": [],
   "source": [
    "monthly_grouped_df.fillna(0, inplace= True)"
   ]
  },
  {
   "cell_type": "code",
   "execution_count": 0,
   "metadata": {
    "application/vnd.databricks.v1+cell": {
     "cellMetadata": {
      "byteLimit": 2048000,
      "rowLimit": 10000
     },
     "inputWidgets": {},
     "nuid": "6d5c6d80-defc-49d0-9948-ee4c985e53ae",
     "showTitle": false,
     "title": ""
    }
   },
   "outputs": [
    {
     "output_type": "execute_result",
     "data": {
      "text/html": [
       "<div>\n",
       "<style scoped>\n",
       "    .dataframe tbody tr th:only-of-type {\n",
       "        vertical-align: middle;\n",
       "    }\n",
       "\n",
       "    .dataframe tbody tr th {\n",
       "        vertical-align: top;\n",
       "    }\n",
       "\n",
       "    .dataframe thead th {\n",
       "        text-align: right;\n",
       "    }\n",
       "</style>\n",
       "<table border=\"1\" class=\"dataframe\">\n",
       "  <thead>\n",
       "    <tr style=\"text-align: right;\">\n",
       "      <th></th>\n",
       "      <th>covid</th>\n",
       "      <th>Diwali_regressor</th>\n",
       "      <th>Navratri_regressor</th>\n",
       "      <th>Shraad_regressor</th>\n",
       "      <th>Weekend_regressor</th>\n",
       "      <th>SLS_Qty</th>\n",
       "      <th>Site_Code</th>\n",
       "      <th>Option_Code</th>\n",
       "    </tr>\n",
       "    <tr>\n",
       "      <th>SLS_Date</th>\n",
       "      <th></th>\n",
       "      <th></th>\n",
       "      <th></th>\n",
       "      <th></th>\n",
       "      <th></th>\n",
       "      <th></th>\n",
       "      <th></th>\n",
       "      <th></th>\n",
       "    </tr>\n",
       "  </thead>\n",
       "  <tbody>\n",
       "    <tr>\n",
       "      <th>2023-08-31</th>\n",
       "      <td>0</td>\n",
       "      <td>0.0</td>\n",
       "      <td>0.0</td>\n",
       "      <td>0.0</td>\n",
       "      <td>8</td>\n",
       "      <td>3811.0</td>\n",
       "      <td>420.000000</td>\n",
       "      <td>44.000000</td>\n",
       "    </tr>\n",
       "    <tr>\n",
       "      <th>2023-09-30</th>\n",
       "      <td>0</td>\n",
       "      <td>0.0</td>\n",
       "      <td>0.0</td>\n",
       "      <td>9.0</td>\n",
       "      <td>9</td>\n",
       "      <td>3794.0</td>\n",
       "      <td>416.000000</td>\n",
       "      <td>47.000000</td>\n",
       "    </tr>\n",
       "    <tr>\n",
       "      <th>2023-10-31</th>\n",
       "      <td>0</td>\n",
       "      <td>5.0</td>\n",
       "      <td>17.0</td>\n",
       "      <td>14.0</td>\n",
       "      <td>9</td>\n",
       "      <td>3958.0</td>\n",
       "      <td>423.000000</td>\n",
       "      <td>43.000000</td>\n",
       "    </tr>\n",
       "    <tr>\n",
       "      <th>2023-11-30</th>\n",
       "      <td>0</td>\n",
       "      <td>14.0</td>\n",
       "      <td>0.0</td>\n",
       "      <td>0.0</td>\n",
       "      <td>8</td>\n",
       "      <td>2857.0</td>\n",
       "      <td>412.000000</td>\n",
       "      <td>43.000000</td>\n",
       "    </tr>\n",
       "    <tr>\n",
       "      <th>2023-12-31</th>\n",
       "      <td>0</td>\n",
       "      <td>0.0</td>\n",
       "      <td>0.0</td>\n",
       "      <td>0.0</td>\n",
       "      <td>10</td>\n",
       "      <td>2837.0</td>\n",
       "      <td>399.000000</td>\n",
       "      <td>46.000000</td>\n",
       "    </tr>\n",
       "    <tr>\n",
       "      <th>2024-01-31</th>\n",
       "      <td>0</td>\n",
       "      <td>0.0</td>\n",
       "      <td>0.0</td>\n",
       "      <td>0.0</td>\n",
       "      <td>8</td>\n",
       "      <td>2466.0</td>\n",
       "      <td>381.000000</td>\n",
       "      <td>45.000000</td>\n",
       "    </tr>\n",
       "    <tr>\n",
       "      <th>2024-02-29</th>\n",
       "      <td>0</td>\n",
       "      <td>0.0</td>\n",
       "      <td>0.0</td>\n",
       "      <td>0.0</td>\n",
       "      <td>8</td>\n",
       "      <td>2379.0</td>\n",
       "      <td>384.000000</td>\n",
       "      <td>37.000000</td>\n",
       "    </tr>\n",
       "    <tr>\n",
       "      <th>2024-03-31</th>\n",
       "      <td>0</td>\n",
       "      <td>0.0</td>\n",
       "      <td>0.0</td>\n",
       "      <td>0.0</td>\n",
       "      <td>10</td>\n",
       "      <td>3529.0</td>\n",
       "      <td>404.000000</td>\n",
       "      <td>38.000000</td>\n",
       "    </tr>\n",
       "    <tr>\n",
       "      <th>2024-04-30</th>\n",
       "      <td>0</td>\n",
       "      <td>0.0</td>\n",
       "      <td>0.0</td>\n",
       "      <td>0.0</td>\n",
       "      <td>8</td>\n",
       "      <td>3735.0</td>\n",
       "      <td>402.000000</td>\n",
       "      <td>37.000000</td>\n",
       "    </tr>\n",
       "    <tr>\n",
       "      <th>2024-05-31</th>\n",
       "      <td>0</td>\n",
       "      <td>0.0</td>\n",
       "      <td>0.0</td>\n",
       "      <td>0.0</td>\n",
       "      <td>8</td>\n",
       "      <td>3731.0</td>\n",
       "      <td>395.000000</td>\n",
       "      <td>39.000000</td>\n",
       "    </tr>\n",
       "    <tr>\n",
       "      <th>2024-06-30</th>\n",
       "      <td>0</td>\n",
       "      <td>0.0</td>\n",
       "      <td>0.0</td>\n",
       "      <td>0.0</td>\n",
       "      <td>10</td>\n",
       "      <td>4205.0</td>\n",
       "      <td>404.000000</td>\n",
       "      <td>38.000000</td>\n",
       "    </tr>\n",
       "    <tr>\n",
       "      <th>2024-07-31</th>\n",
       "      <td>0</td>\n",
       "      <td>0.0</td>\n",
       "      <td>0.0</td>\n",
       "      <td>0.0</td>\n",
       "      <td>8</td>\n",
       "      <td>153.0</td>\n",
       "      <td>110.000000</td>\n",
       "      <td>24.000000</td>\n",
       "    </tr>\n",
       "    <tr>\n",
       "      <th>2024-08-31</th>\n",
       "      <td>0</td>\n",
       "      <td>0.0</td>\n",
       "      <td>0.0</td>\n",
       "      <td>0.0</td>\n",
       "      <td>9</td>\n",
       "      <td>0.0</td>\n",
       "      <td>367.333333</td>\n",
       "      <td>31.666667</td>\n",
       "    </tr>\n",
       "    <tr>\n",
       "      <th>2024-09-30</th>\n",
       "      <td>0</td>\n",
       "      <td>0.0</td>\n",
       "      <td>5.0</td>\n",
       "      <td>21.0</td>\n",
       "      <td>9</td>\n",
       "      <td>0.0</td>\n",
       "      <td>369.666667</td>\n",
       "      <td>33.333333</td>\n",
       "    </tr>\n",
       "    <tr>\n",
       "      <th>2024-10-31</th>\n",
       "      <td>0</td>\n",
       "      <td>17.0</td>\n",
       "      <td>12.0</td>\n",
       "      <td>2.0</td>\n",
       "      <td>8</td>\n",
       "      <td>0.0</td>\n",
       "      <td>382.333333</td>\n",
       "      <td>32.000000</td>\n",
       "    </tr>\n",
       "    <tr>\n",
       "      <th>2024-11-30</th>\n",
       "      <td>0</td>\n",
       "      <td>3.0</td>\n",
       "      <td>0.0</td>\n",
       "      <td>0.0</td>\n",
       "      <td>9</td>\n",
       "      <td>0.0</td>\n",
       "      <td>369.666667</td>\n",
       "      <td>32.000000</td>\n",
       "    </tr>\n",
       "    <tr>\n",
       "      <th>2024-12-31</th>\n",
       "      <td>0</td>\n",
       "      <td>0.0</td>\n",
       "      <td>0.0</td>\n",
       "      <td>0.0</td>\n",
       "      <td>9</td>\n",
       "      <td>0.0</td>\n",
       "      <td>360.000000</td>\n",
       "      <td>35.333333</td>\n",
       "    </tr>\n",
       "    <tr>\n",
       "      <th>2025-01-31</th>\n",
       "      <td>0</td>\n",
       "      <td>0.0</td>\n",
       "      <td>0.0</td>\n",
       "      <td>0.0</td>\n",
       "      <td>8</td>\n",
       "      <td>0.0</td>\n",
       "      <td>354.666667</td>\n",
       "      <td>37.333333</td>\n",
       "    </tr>\n",
       "    <tr>\n",
       "      <th>2025-02-28</th>\n",
       "      <td>0</td>\n",
       "      <td>0.0</td>\n",
       "      <td>0.0</td>\n",
       "      <td>0.0</td>\n",
       "      <td>8</td>\n",
       "      <td>0.0</td>\n",
       "      <td>371.666667</td>\n",
       "      <td>33.666667</td>\n",
       "    </tr>\n",
       "    <tr>\n",
       "      <th>2025-03-31</th>\n",
       "      <td>0</td>\n",
       "      <td>0.0</td>\n",
       "      <td>0.0</td>\n",
       "      <td>0.0</td>\n",
       "      <td>10</td>\n",
       "      <td>0.0</td>\n",
       "      <td>388.666667</td>\n",
       "      <td>30.666667</td>\n",
       "    </tr>\n",
       "  </tbody>\n",
       "</table>\n",
       "</div>"
      ],
      "text/plain": [
       "            covid  Diwali_regressor  ...   Site_Code  Option_Code\n",
       "SLS_Date                             ...                         \n",
       "2023-08-31      0               0.0  ...  420.000000    44.000000\n",
       "2023-09-30      0               0.0  ...  416.000000    47.000000\n",
       "2023-10-31      0               5.0  ...  423.000000    43.000000\n",
       "2023-11-30      0              14.0  ...  412.000000    43.000000\n",
       "2023-12-31      0               0.0  ...  399.000000    46.000000\n",
       "2024-01-31      0               0.0  ...  381.000000    45.000000\n",
       "2024-02-29      0               0.0  ...  384.000000    37.000000\n",
       "2024-03-31      0               0.0  ...  404.000000    38.000000\n",
       "2024-04-30      0               0.0  ...  402.000000    37.000000\n",
       "2024-05-31      0               0.0  ...  395.000000    39.000000\n",
       "2024-06-30      0               0.0  ...  404.000000    38.000000\n",
       "2024-07-31      0               0.0  ...  110.000000    24.000000\n",
       "2024-08-31      0               0.0  ...  367.333333    31.666667\n",
       "2024-09-30      0               0.0  ...  369.666667    33.333333\n",
       "2024-10-31      0              17.0  ...  382.333333    32.000000\n",
       "2024-11-30      0               3.0  ...  369.666667    32.000000\n",
       "2024-12-31      0               0.0  ...  360.000000    35.333333\n",
       "2025-01-31      0               0.0  ...  354.666667    37.333333\n",
       "2025-02-28      0               0.0  ...  371.666667    33.666667\n",
       "2025-03-31      0               0.0  ...  388.666667    30.666667\n",
       "\n",
       "[20 rows x 8 columns]"
      ]
     },
     "execution_count": 102,
     "metadata": {},
     "output_type": "execute_result"
    }
   ],
   "source": [
    "monthly_grouped_df.tail(20)"
   ]
  },
  {
   "cell_type": "markdown",
   "metadata": {
    "application/vnd.databricks.v1+cell": {
     "cellMetadata": {
      "byteLimit": 2048000,
      "rowLimit": 10000
     },
     "inputWidgets": {},
     "nuid": "9669f79a-da25-4e20-92bd-3f10df8c12c3",
     "showTitle": false,
     "title": ""
    }
   },
   "source": [
    "## SARIMAX"
   ]
  },
  {
   "cell_type": "code",
   "execution_count": 0,
   "metadata": {
    "application/vnd.databricks.v1+cell": {
     "cellMetadata": {
      "byteLimit": 2048000,
      "rowLimit": 10000
     },
     "inputWidgets": {},
     "nuid": "bd779923-7d98-436f-827c-012d18df3f70",
     "showTitle": false,
     "title": ""
    }
   },
   "outputs": [
    {
     "output_type": "stream",
     "name": "stdout",
     "output_type": "stream",
     "text": [
      "Results of Dickey Fuller Test:\nTest Statistic                 -2.462112\np-value                         0.124967\n#Lags Used                      0.000000\nNumber of Observations Used    40.000000\nCritical Value (1%)            -3.605565\nCritical Value (5%)            -2.937069\nCritical Value (10%)           -2.606986\ndtype: float64\n"
     ]
    }
   ],
   "source": [
    "#Dickey–Fuller test:\n",
    "print('Results of Dickey Fuller Test:')\n",
    "dftest = adfuller(monthly_grouped_df['SLS_Qty'][:-10], autolag= 'AIC')\n",
    "\n",
    "dfoutput = pd.Series(dftest[0:4], index=['Test Statistic','p-value','#Lags Used','Number of Observations Used'])\n",
    "for key,value in dftest[4].items():\n",
    "    dfoutput['Critical Value (%s)'%key] = value\n",
    "    \n",
    "print(dfoutput)"
   ]
  },
  {
   "cell_type": "code",
   "execution_count": 0,
   "metadata": {
    "application/vnd.databricks.v1+cell": {
     "cellMetadata": {
      "byteLimit": 2048000,
      "rowLimit": 10000
     },
     "inputWidgets": {},
     "nuid": "ba3270aa-b321-4a22-93cd-0a9d48acddb1",
     "showTitle": false,
     "title": ""
    }
   },
   "outputs": [
    {
     "output_type": "display_data",
     "data": {
      "image/png": "[encoded data removed]",
      "text/plain": [
       "<Figure size 2000x500 with 1 Axes>"
      ]
     },
     "metadata": {},
     "output_type": "display_data"
    }
   ],
   "source": [
    "from statsmodels.graphics.tsaplots import plot_acf\n",
    "plt.figure(figsize=(20,5))\n",
    "plt.grid()\n",
    "plot_acf(monthly_grouped_df['SLS_Qty'][:-9], ax=plt.gca(), lags = 15)\n",
    "plt.show()"
   ]
  },
  {
   "cell_type": "code",
   "execution_count": 0,
   "metadata": {
    "application/vnd.databricks.v1+cell": {
     "cellMetadata": {
      "byteLimit": 2048000,
      "rowLimit": 10000
     },
     "inputWidgets": {},
     "nuid": "e9ddd2fb-3472-4a7f-9036-fe0b05cf40d2",
     "showTitle": false,
     "title": ""
    }
   },
   "outputs": [
    {
     "output_type": "display_data",
     "data": {
      "image/png": "[encoded data removed]",
      "text/plain": [
       "<Figure size 2000x500 with 1 Axes>"
      ]
     },
     "metadata": {},
     "output_type": "display_data"
    }
   ],
   "source": [
    "from statsmodels.graphics.tsaplots import plot_pacf\n",
    "plt.figure(figsize=(20,5))\n",
    "plt.grid()\n",
    "plot_pacf(monthly_grouped_df['SLS_Qty'][:-9], ax=plt.gca(), lags = 15)\n",
    "plt.show()"
   ]
  },
  {
   "cell_type": "code",
   "execution_count": 0,
   "metadata": {
    "application/vnd.databricks.v1+cell": {
     "cellMetadata": {
      "byteLimit": 2048000,
      "rowLimit": 10000
     },
     "inputWidgets": {},
     "nuid": "45778a36-d8e6-4f83-9da1-d15b07ac4bb8",
     "showTitle": false,
     "title": ""
    }
   },
   "outputs": [],
   "source": [
    "monthly_df = monthly_grouped_df[['SLS_Qty']]\n",
    "regressors_df = monthly_grouped_df.drop('SLS_Qty', axis=1)"
   ]
  },
  {
   "cell_type": "code",
   "execution_count": 0,
   "metadata": {
    "application/vnd.databricks.v1+cell": {
     "cellMetadata": {
      "byteLimit": 2048000,
      "rowLimit": 10000
     },
     "inputWidgets": {},
     "nuid": "b746ebd6-abdb-4427-8430-8e79c6cf25f8",
     "showTitle": false,
     "title": ""
    }
   },
   "outputs": [],
   "source": [
    "# Split data into train / test sets ### from May to Oct --> Nov\n",
    "sales_train,sales_test = monthly_df[monthly_df.index<='2024-02-29'],monthly_df[monthly_df.index>'2024-02-29']\n",
    "reg_train,reg_test = regressors_df[regressors_df.index<='2024-02-29'],regressors_df[regressors_df.index>'2024-02-29']"
   ]
  },
  {
   "cell_type": "markdown",
   "metadata": {
    "application/vnd.databricks.v1+cell": {
     "cellMetadata": {
      "byteLimit": 2048000,
      "rowLimit": 10000
     },
     "inputWidgets": {},
     "nuid": "bc91aee5-a7a8-4d68-b7b5-b2a5afef7245",
     "showTitle": false,
     "title": ""
    }
   },
   "source": [
    "## Optuna to find Best Order"
   ]
  },
  {
   "cell_type": "code",
   "execution_count": 0,
   "metadata": {
    "application/vnd.databricks.v1+cell": {
     "cellMetadata": {
      "byteLimit": 2048000,
      "rowLimit": 10000
     },
     "inputWidgets": {},
     "nuid": "05f91f9e-bcc5-49ed-9186-b034dc385423",
     "showTitle": false,
     "title": ""
    }
   },
   "outputs": [],
   "source": [
    "## Testing Dataset\n",
    "reg_test_optuna = reg_test[reg_test.index <= '2024-06-30']\n",
    "sales_test_optuna = sales_test[sales_test.index <= '2024-06-30']"
   ]
  },
  {
   "cell_type": "code",
   "execution_count": 0,
   "metadata": {
    "application/vnd.databricks.v1+cell": {
     "cellMetadata": {
      "byteLimit": 2048000,
      "rowLimit": 10000
     },
     "inputWidgets": {},
     "nuid": "8ed9df01-2bb3-4920-8afa-9aebc7ef3667",
     "showTitle": false,
     "title": ""
    }
   },
   "outputs": [],
   "source": [
    "p = q = range(0, 4)\n",
    "d = range(0, 2)\n",
    "pdq = list(itertools.product(p, d, q))\n",
    "pdqs = [(x[0], x[1], x[2], 12) for x in list(itertools.product(p, d, q))]"
   ]
  },
  {
   "cell_type": "code",
   "execution_count": 0,
   "metadata": {
    "application/vnd.databricks.v1+cell": {
     "cellMetadata": {
      "byteLimit": 2048000,
      "rowLimit": 10000
     },
     "inputWidgets": {},
     "nuid": "9b980ea4-84bd-4c38-809d-8e38aad8d6eb",
     "showTitle": false,
     "title": ""
    }
   },
   "outputs": [
    {
     "output_type": "stream",
     "name": "stderr",
     "output_type": "stream",
     "text": [
      "[I 2024-07-03 11:04:50,211] A new study created in memory with name: no-name-4c525aa7-6341-4736-b9d7-2444d574017b\n This problem is unconstrained.\n"
     ]
    },
    {
     "output_type": "stream",
     "name": "stdout",
     "output_type": "stream",
     "text": [
      "RUNNING THE L-BFGS-B CODE\n\n           * * *\n\nMachine precision = 2.220D-16\n N =           16     M =           10\n\nAt X0         0 variables are exactly at the bounds\n\nAt iterate    0    f=  7.73679D+00    |proj g|=  2.19579D-01\n\nAt iterate    5    f=  7.70425D+00    |proj g|=  6.53332D-03\n\nAt iterate   10    f=  7.69664D+00    |proj g|=  3.40467D-02\n\nAt iterate   15    f=  7.69493D+00    |proj g|=  1.11561D-02\n\nAt iterate   20    f=  7.69143D+00    |proj g|=  7.38682D-03\n\nAt iterate   25    f=  7.68716D+00    |proj g|=  1.61872D-02\n\nAt iterate   30    f=  7.67862D+00    |proj g|=  3.22141D-03\n\nAt iterate   35    f=  7.67846D+00    |proj g|=  6.35941D-03\n\nAt iterate   40    f=  7.67762D+00    |proj g|=  2.12648D-03\n\nAt iterate   45    f=  7.67720D+00    |proj g|=  3.50847D-03\n"
     ]
    },
    {
     "output_type": "stream",
     "name": "stderr",
     "output_type": "stream",
     "text": [
      "[I 2024-07-03 11:04:51,877] Trial 0 finished with value: 5.997506916672669 and parameters: {'order': (3, 1, 1), 'seasonal_order': (2, 0, 2, 12)}. Best is trial 0 with value: 5.997506916672669.\n"
     ]
    },
    {
     "output_type": "stream",
     "name": "stdout",
     "output_type": "stream",
     "text": [
      "\nAt iterate   50    f=  7.67518D+00    |proj g|=  6.62358D-03\n\n           * * *\n\nTit   = total number of iterations\nTnf   = total number of function evaluations\nTnint = total number of segments explored during Cauchy searches\nSkip  = number of BFGS updates skipped\nNact  = number of active bounds at final generalized Cauchy point\nProjg = norm of the final projected gradient\nF     = final function value\n\n           * * *\n\n   N    Tit     Tnf  Tnint  Skip  Nact     Projg        F\n   16     50     56      1     0     0   6.624D-03   7.675D+00\n  F =   7.6751792089316861     \n\nSTOP: TOTAL NO. of ITERATIONS REACHED LIMIT                 \nRUNNING THE L-BFGS-B CODE\n\n           * * *\n\nMachine precision = 2.220D-16\n N =           16     M =           10\n\nAt X0         0 variables are exactly at the bounds\n\nAt iterate    0    f=  7.73924D+00    |proj g|=  2.30229D-01\n"
     ]
    },
    {
     "output_type": "stream",
     "name": "stderr",
     "output_type": "stream",
     "text": [
      " This problem is unconstrained.\n"
     ]
    },
    {
     "output_type": "stream",
     "name": "stdout",
     "output_type": "stream",
     "text": [
      "\nAt iterate    5    f=  7.70304D+00    |proj g|=  7.25358D-03\n\nAt iterate   10    f=  7.69839D+00    |proj g|=  2.02288D-02\n\nAt iterate   15    f=  7.69708D+00    |proj g|=  4.00530D-03\n\nAt iterate   20    f=  7.69690D+00    |proj g|=  1.06511D-03\n\nAt iterate   25    f=  7.69669D+00    |proj g|=  1.08311D-02\n\nAt iterate   30    f=  7.69642D+00    |proj g|=  2.24482D-03\n\nAt iterate   35    f=  7.69546D+00    |proj g|=  6.92971D-03\n\nAt iterate   40    f=  7.69319D+00    |proj g|=  3.30389D-03\n\nAt iterate   45    f=  7.69221D+00    |proj g|=  6.55400D-03\n"
     ]
    },
    {
     "output_type": "stream",
     "name": "stderr",
     "output_type": "stream",
     "text": [
      "[I 2024-07-03 11:04:54,173] Trial 1 finished with value: 4.731460192283769 and parameters: {'order': (2, 1, 0), 'seasonal_order': (3, 0, 3, 12)}. Best is trial 1 with value: 4.731460192283769.\n"
     ]
    },
    {
     "output_type": "stream",
     "name": "stdout",
     "output_type": "stream",
     "text": [
      "\nAt iterate   50    f=  7.69198D+00    |proj g|=  8.81206D-04\n\n           * * *\n\nTit   = total number of iterations\nTnf   = total number of function evaluations\nTnint = total number of segments explored during Cauchy searches\nSkip  = number of BFGS updates skipped\nNact  = number of active bounds at final generalized Cauchy point\nProjg = norm of the final projected gradient\nF     = final function value\n\n           * * *\n\n   N    Tit     Tnf  Tnint  Skip  Nact     Projg        F\n   16     50     54      1     0     0   8.812D-04   7.692D+00\n  F =   7.6919845460102971     \n\nSTOP: TOTAL NO. of ITERATIONS REACHED LIMIT                 \nRUNNING THE L-BFGS-B CODE\n\n           * * *\n\nMachine precision = 2.220D-16\n N =           13     M =           10\n\nAt X0         0 variables are exactly at the bounds\n\nAt iterate    0    f=  5.75459D+00    |proj g|=  2.42180D-01\n"
     ]
    },
    {
     "output_type": "stream",
     "name": "stderr",
     "output_type": "stream",
     "text": [
      " This problem is unconstrained.\n"
     ]
    },
    {
     "output_type": "stream",
     "name": "stdout",
     "output_type": "stream",
     "text": [
      "\nAt iterate    5    f=  5.59033D+00    |proj g|=  6.23163D-03\n\nAt iterate   10    f=  5.57868D+00    |proj g|=  4.32079D-02\n\nAt iterate   15    f=  5.57439D+00    |proj g|=  5.33958D-03\n\nAt iterate   20    f=  5.56855D+00    |proj g|=  2.48350D-02\n\nAt iterate   25    f=  5.56441D+00    |proj g|=  1.31913D-02\n\nAt iterate   30    f=  5.56055D+00    |proj g|=  1.25208D-02\n\nAt iterate   35    f=  5.55368D+00    |proj g|=  6.55023D-03\n\nAt iterate   40    f=  5.55319D+00    |proj g|=  1.01154D-03\n\nAt iterate   45    f=  5.55193D+00    |proj g|=  7.93318D-03\n"
     ]
    },
    {
     "output_type": "stream",
     "name": "stderr",
     "output_type": "stream",
     "text": [
      "[I 2024-07-03 11:04:55,829] Trial 2 finished with value: 21.038287911655708 and parameters: {'order': (1, 0, 1), 'seasonal_order': (2, 1, 1, 12)}. Best is trial 1 with value: 4.731460192283769.\n"
     ]
    },
    {
     "output_type": "stream",
     "name": "stdout",
     "output_type": "stream",
     "text": [
      "\nAt iterate   50    f=  5.53531D+00    |proj g|=  6.72274D-03\n\n           * * *\n\nTit   = total number of iterations\nTnf   = total number of function evaluations\nTnint = total number of segments explored during Cauchy searches\nSkip  = number of BFGS updates skipped\nNact  = number of active bounds at final generalized Cauchy point\nProjg = norm of the final projected gradient\nF     = final function value\n\n           * * *\n\n   N    Tit     Tnf  Tnint  Skip  Nact     Projg        F\n   13     50     60      1     0     0   6.723D-03   5.535D+00\n  F =   5.5353110064860056     \n\nSTOP: TOTAL NO. of ITERATIONS REACHED LIMIT                 \nRUNNING THE L-BFGS-B CODE\n\n           * * *\n\nMachine precision = 2.220D-16\n N =           15     M =           10\n\nAt X0         0 variables are exactly at the bounds\n\nAt iterate    0    f=  5.34595D+00    |proj g|=  1.95302D-01\n"
     ]
    },
    {
     "output_type": "stream",
     "name": "stderr",
     "output_type": "stream",
     "text": [
      " This problem is unconstrained.\n"
     ]
    },
    {
     "output_type": "stream",
     "name": "stdout",
     "output_type": "stream",
     "text": [
      "\nAt iterate    5    f=  5.28661D+00    |proj g|=  3.12815D-03\n\nAt iterate   10    f=  5.28452D+00    |proj g|=  1.53870D-02\n\nAt iterate   15    f=  5.28374D+00    |proj g|=  1.88116D-03\n\nAt iterate   20    f=  5.27917D+00    |proj g|=  3.72093D-02\n\nAt iterate   25    f=  5.25202D+00    |proj g|=  2.65038D-02\n\nAt iterate   30    f=  5.24223D+00    |proj g|=  1.51848D-03\n\nAt iterate   35    f=  5.24212D+00    |proj g|=  1.56291D-03\n\nAt iterate   40    f=  5.24208D+00    |proj g|=  5.52490D-03\n\nAt iterate   45    f=  5.23957D+00    |proj g|=  7.40904D-03\n\nAt iterate   50    f=  5.23050D+00    |proj g|=  3.59362D-02\n\n           * * *\n\nTit   = total number of iterations\nTnf   = total number of function evaluations\nTnint = total number of segments explored during Cauchy searches\nSkip  = number of BFGS updates skipped\nNact  = number of active bounds at final generalized Cauchy point\nProjg = norm of the final projected gradient\nF     = final function value\n\n           * * *\n\n   N    Tit     Tnf  Tnint  Skip  Nact     Projg        F\n   15     50     56      1     0     0   3.594D-02   5.231D+00\n  F =   5.2305009612344602     \n\nSTOP: TOTAL NO. of ITERATIONS REACHED LIMIT                 \n"
     ]
    },
    {
     "output_type": "stream",
     "name": "stderr",
     "output_type": "stream",
     "text": [
      "[I 2024-07-03 11:04:58,531] Trial 3 finished with value: 32.393615347711105 and parameters: {'order': (0, 1, 2), 'seasonal_order': (3, 1, 2, 12)}. Best is trial 1 with value: 4.731460192283769.\n This problem is unconstrained.\n"
     ]
    },
    {
     "output_type": "stream",
     "name": "stdout",
     "output_type": "stream",
     "text": [
      "RUNNING THE L-BFGS-B CODE\n\n           * * *\n\nMachine precision = 2.220D-16\n N =           15     M =           10\n\nAt X0         0 variables are exactly at the bounds\n\nAt iterate    0    f=  5.34286D+00    |proj g|=  1.89621D-01\n\nAt iterate    5    f=  5.28550D+00    |proj g|=  3.81957D-03\n\nAt iterate   10    f=  5.28372D+00    |proj g|=  5.90405D-03\n\nAt iterate   15    f=  5.28282D+00    |proj g|=  1.39286D-02\n\nAt iterate   20    f=  5.28200D+00    |proj g|=  3.74551D-03\n\nAt iterate   25    f=  5.28149D+00    |proj g|=  1.63797D-03\n\nAt iterate   30    f=  5.27256D+00    |proj g|=  3.58951D-02\n\nAt iterate   35    f=  5.24511D+00    |proj g|=  1.74268D-02\n\nAt iterate   40    f=  5.24189D+00    |proj g|=  9.90222D-04\n\nAt iterate   45    f=  5.24075D+00    |proj g|=  2.29442D-03\n"
     ]
    },
    {
     "output_type": "stream",
     "name": "stderr",
     "output_type": "stream",
     "text": [
      "[I 2024-07-03 11:05:00,318] Trial 4 finished with value: 30.524540401118806 and parameters: {'order': (1, 1, 2), 'seasonal_order': (2, 1, 2, 12)}. Best is trial 1 with value: 4.731460192283769.\n"
     ]
    },
    {
     "output_type": "stream",
     "name": "stdout",
     "output_type": "stream",
     "text": [
      "\nAt iterate   50    f=  5.24068D+00    |proj g|=  1.67006D-03\n\n           * * *\n\nTit   = total number of iterations\nTnf   = total number of function evaluations\nTnint = total number of segments explored during Cauchy searches\nSkip  = number of BFGS updates skipped\nNact  = number of active bounds at final generalized Cauchy point\nProjg = norm of the final projected gradient\nF     = final function value\n\n           * * *\n\n   N    Tit     Tnf  Tnint  Skip  Nact     Projg        F\n   15     50     55      1     0     0   1.670D-03   5.241D+00\n  F =   5.2406750469519210     \n\nSTOP: TOTAL NO. of ITERATIONS REACHED LIMIT                 \nRUNNING THE L-BFGS-B CODE\n\n           * * *\n\nMachine precision = 2.220D-16\n N =           16     M =           10\n\nAt X0         0 variables are exactly at the bounds\n\nAt iterate    0    f=  8.04350D+00    |proj g|=  1.87178D-01\n"
     ]
    },
    {
     "output_type": "stream",
     "name": "stderr",
     "output_type": "stream",
     "text": [
      " This problem is unconstrained.\n"
     ]
    },
    {
     "output_type": "stream",
     "name": "stdout",
     "output_type": "stream",
     "text": [
      "\nAt iterate    5    f=  8.01018D+00    |proj g|=  1.29156D-02\n\nAt iterate   10    f=  8.00312D+00    |proj g|=  9.21167D-03\n\nAt iterate   15    f=  8.00287D+00    |proj g|=  4.75230D-03\n\nAt iterate   20    f=  8.00244D+00    |proj g|=  1.59797D-03\n\nAt iterate   25    f=  7.99955D+00    |proj g|=  4.46311D-02\n\nAt iterate   30    f=  7.98133D+00    |proj g|=  1.64506D-02\n\nAt iterate   35    f=  7.96706D+00    |proj g|=  2.89152D-02\n\nAt iterate   40    f=  7.96304D+00    |proj g|=  4.76995D-03\n"
     ]
    },
    {
     "output_type": "stream",
     "name": "stderr",
     "output_type": "stream",
     "text": [
      "[I 2024-07-03 11:05:01,863] Trial 5 finished with value: 3.848124669595984 and parameters: {'order': (2, 0, 2), 'seasonal_order': (2, 0, 2, 12)}. Best is trial 5 with value: 3.848124669595984.\n"
     ]
    },
    {
     "output_type": "stream",
     "name": "stdout",
     "output_type": "stream",
     "text": [
      "\nAt iterate   45    f=  7.96277D+00    |proj g|=  1.02511D-03\n\nAt iterate   50    f=  7.96247D+00    |proj g|=  4.45367D-03\n\n           * * *\n\nTit   = total number of iterations\nTnf   = total number of function evaluations\nTnint = total number of segments explored during Cauchy searches\nSkip  = number of BFGS updates skipped\nNact  = number of active bounds at final generalized Cauchy point\nProjg = norm of the final projected gradient\nF     = final function value\n\n           * * *\n\n   N    Tit     Tnf  Tnint  Skip  Nact     Projg        F\n   16     50     55      1     0     0   4.454D-03   7.962D+00\n  F =   7.9624699521091493     \n\nSTOP: TOTAL NO. of ITERATIONS REACHED LIMIT                 \nRUNNING THE L-BFGS-B CODE\n\n           * * *\n\nMachine precision = 2.220D-16\n N =           13     M =           10\n\nAt X0         0 variables are exactly at the bounds\n\nAt iterate    0    f=  5.62070D+00    |proj g|=  2.69149D-01\n"
     ]
    },
    {
     "output_type": "stream",
     "name": "stderr",
     "output_type": "stream",
     "text": [
      " This problem is unconstrained.\n"
     ]
    },
    {
     "output_type": "stream",
     "name": "stdout",
     "output_type": "stream",
     "text": [
      "\nAt iterate    5    f=  5.56069D+00    |proj g|=  3.93538D-03\n\nAt iterate   10    f=  5.55914D+00    |proj g|=  3.16201D-03\n\nAt iterate   15    f=  5.55685D+00    |proj g|=  7.28309D-03\n\nAt iterate   20    f=  5.55644D+00    |proj g|=  3.63428D-03\n\nAt iterate   25    f=  5.54071D+00    |proj g|=  4.80930D-02\n\nAt iterate   30    f=  5.52185D+00    |proj g|=  5.60923D-03\n\nAt iterate   35    f=  5.52055D+00    |proj g|=  4.74302D-03\n\nAt iterate   40    f=  5.51926D+00    |proj g|=  2.73312D-03\n\nAt iterate   45    f=  5.51873D+00    |proj g|=  7.26140D-04\n\nAt iterate   50    f=  5.51835D+00    |proj g|=  9.39802D-04\n\n           * * *\n\nTit   = total number of iterations\nTnf   = total number of function evaluations\nTnint = total number of segments explored during Cauchy searches\nSkip  = number of BFGS updates skipped\nNact  = number of active bounds at final generalized Cauchy point\nProjg = norm of the final projected gradient\nF     = final function value\n\n           * * *\n\n   N    Tit     Tnf  Tnint  Skip  Nact     Projg        F\n   13     50     55      1     0     0   9.398D-04   5.518D+00\n  F =   5.5183539037594720     \n\nSTOP: TOTAL NO. of ITERATIONS REACHED LIMIT                 \n"
     ]
    },
    {
     "output_type": "stream",
     "name": "stderr",
     "output_type": "stream",
     "text": [
      "[I 2024-07-03 11:05:02,672] Trial 6 finished with value: 23.288213107800242 and parameters: {'order': (3, 0, 1), 'seasonal_order': (1, 1, 0, 12)}. Best is trial 5 with value: 3.848124669595984.\n This problem is unconstrained.\n"
     ]
    },
    {
     "output_type": "stream",
     "name": "stdout",
     "output_type": "stream",
     "text": [
      "RUNNING THE L-BFGS-B CODE\n\n           * * *\n\nMachine precision = 2.220D-16\n N =           12     M =           10\n\nAt X0         0 variables are exactly at the bounds\n\nAt iterate    0    f=  5.64131D+00    |proj g|=  2.69270D-01\n\nAt iterate    5    f=  5.57235D+00    |proj g|=  3.18759D-03\n\nAt iterate   10    f=  5.57083D+00    |proj g|=  7.14901D-03\n\nAt iterate   15    f=  5.56863D+00    |proj g|=  2.86673D-03\n\nAt iterate   20    f=  5.56769D+00    |proj g|=  1.34485D-02\n\nAt iterate   25    f=  5.54471D+00    |proj g|=  2.17454D-02\n\nAt iterate   30    f=  5.54121D+00    |proj g|=  9.04229D-03\n\nAt iterate   35    f=  5.53737D+00    |proj g|=  1.69659D-02\n\nAt iterate   40    f=  5.53602D+00    |proj g|=  7.01153D-04\n\nAt iterate   45    f=  5.53558D+00    |proj g|=  7.01907D-03\n"
     ]
    },
    {
     "output_type": "stream",
     "name": "stderr",
     "output_type": "stream",
     "text": [
      "[I 2024-07-03 11:05:04,032] Trial 7 finished with value: 20.748832055897925 and parameters: {'order': (2, 0, 0), 'seasonal_order': (2, 1, 0, 12)}. Best is trial 5 with value: 3.848124669595984.\n"
     ]
    },
    {
     "output_type": "stream",
     "name": "stdout",
     "output_type": "stream",
     "text": [
      "\nAt iterate   50    f=  5.52693D+00    |proj g|=  2.82700D-02\n\n           * * *\n\nTit   = total number of iterations\nTnf   = total number of function evaluations\nTnint = total number of segments explored during Cauchy searches\nSkip  = number of BFGS updates skipped\nNact  = number of active bounds at final generalized Cauchy point\nProjg = norm of the final projected gradient\nF     = final function value\n\n           * * *\n\n   N    Tit     Tnf  Tnint  Skip  Nact     Projg        F\n   12     50     58      1     0     0   2.827D-02   5.527D+00\n  F =   5.5269285444163954     \n\nSTOP: TOTAL NO. of ITERATIONS REACHED LIMIT                 \nRUNNING THE L-BFGS-B CODE\n\n           * * *\n\nMachine precision = 2.220D-16\n N =           13     M =           10\n\nAt X0         0 variables are exactly at the bounds\n\nAt iterate    0    f=  7.75163D+00    |proj g|=  2.40505D-01\n"
     ]
    },
    {
     "output_type": "stream",
     "name": "stderr",
     "output_type": "stream",
     "text": [
      " This problem is unconstrained.\n"
     ]
    },
    {
     "output_type": "stream",
     "name": "stdout",
     "output_type": "stream",
     "text": [
      "\nAt iterate    5    f=  7.71691D+00    |proj g|=  1.00053D-02\n\nAt iterate   10    f=  7.71167D+00    |proj g|=  1.82273D-02\n\nAt iterate   15    f=  7.70915D+00    |proj g|=  2.07239D-03\n\nAt iterate   20    f=  7.70894D+00    |proj g|=  2.02233D-03\n\nAt iterate   25    f=  7.70757D+00    |proj g|=  2.30743D-02\n\nAt iterate   30    f=  7.70289D+00    |proj g|=  3.58967D-03\n\nAt iterate   35    f=  7.70282D+00    |proj g|=  2.30632D-04\n\nAt iterate   40    f=  7.70274D+00    |proj g|=  3.52396D-03\n\nAt iterate   45    f=  7.70061D+00    |proj g|=  1.34583D-02\n"
     ]
    },
    {
     "output_type": "stream",
     "name": "stderr",
     "output_type": "stream",
     "text": [
      "[I 2024-07-03 11:05:05,721] Trial 8 finished with value: 7.807999767401505 and parameters: {'order': (0, 1, 0), 'seasonal_order': (2, 0, 3, 12)}. Best is trial 5 with value: 3.848124669595984.\n"
     ]
    },
    {
     "output_type": "stream",
     "name": "stdout",
     "output_type": "stream",
     "text": [
      "\nAt iterate   50    f=  7.70017D+00    |proj g|=  1.21333D-03\n\n           * * *\n\nTit   = total number of iterations\nTnf   = total number of function evaluations\nTnint = total number of segments explored during Cauchy searches\nSkip  = number of BFGS updates skipped\nNact  = number of active bounds at final generalized Cauchy point\nProjg = norm of the final projected gradient\nF     = final function value\n\n           * * *\n\n   N    Tit     Tnf  Tnint  Skip  Nact     Projg        F\n   13     50     52      1     0     0   1.213D-03   7.700D+00\n  F =   7.7001700432733502     \n\nSTOP: TOTAL NO. of ITERATIONS REACHED LIMIT                 \nRUNNING THE L-BFGS-B CODE\n\n           * * *\n\nMachine precision = 2.220D-16\n N =           16     M =           10\n\nAt X0         0 variables are exactly at the bounds\n\nAt iterate    0    f=  7.75417D+00    |proj g|=  1.62279D-01\n"
     ]
    },
    {
     "output_type": "stream",
     "name": "stderr",
     "output_type": "stream",
     "text": [
      " This problem is unconstrained.\n"
     ]
    },
    {
     "output_type": "stream",
     "name": "stdout",
     "output_type": "stream",
     "text": [
      "\nAt iterate    5    f=  7.72838D+00    |proj g|=  4.38295D-03\n\nAt iterate   10    f=  7.72572D+00    |proj g|=  1.20986D-02\n\nAt iterate   15    f=  7.72530D+00    |proj g|=  8.03121D-04\n\nAt iterate   20    f=  7.72286D+00    |proj g|=  1.49411D-02\n\nAt iterate   25    f=  7.71689D+00    |proj g|=  6.26017D-03\n\nAt iterate   30    f=  7.71604D+00    |proj g|=  1.57373D-03\n\nAt iterate   35    f=  7.71590D+00    |proj g|=  2.84159D-03\n\nAt iterate   40    f=  7.71373D+00    |proj g|=  1.83334D-02\n\nAt iterate   45    f=  7.71096D+00    |proj g|=  4.90914D-03\n\nAt iterate   50    f=  7.71034D+00    |proj g|=  1.75595D-02\n\n           * * *\n\nTit   = total number of iterations\nTnf   = total number of function evaluations\nTnint = total number of segments explored during Cauchy searches\nSkip  = number of BFGS updates skipped\nNact  = number of active bounds at final generalized Cauchy point\nProjg = norm of the final projected gradient\nF     = final function value\n\n           * * *\n\n   N    Tit     Tnf  Tnint  Skip  Nact     Projg        F\n   16     50     60      1     0     0   1.756D-02   7.710D+00\n  F =   7.7103375608283979     \n\nSTOP: TOTAL NO. of ITERATIONS REACHED LIMIT                 \n"
     ]
    },
    {
     "output_type": "stream",
     "name": "stderr",
     "output_type": "stream",
     "text": [
      "[I 2024-07-03 11:05:08,296] Trial 9 finished with value: 9.141490765162002 and parameters: {'order': (0, 1, 3), 'seasonal_order': (3, 0, 2, 12)}. Best is trial 5 with value: 3.848124669595984.\n This problem is unconstrained.\n"
     ]
    },
    {
     "output_type": "stream",
     "name": "stdout",
     "output_type": "stream",
     "text": [
      "RUNNING THE L-BFGS-B CODE\n\n           * * *\n\nMachine precision = 2.220D-16\n N =           15     M =           10\n\nAt X0         0 variables are exactly at the bounds\n\nAt iterate    0    f=  5.66286D+00    |proj g|=  3.80284D-01\n\nAt iterate    5    f=  5.51903D+00    |proj g|=  8.41017D-03\n\nAt iterate   10    f=  5.51853D+00    |proj g|=  1.98995D-03\n\nAt iterate   15    f=  5.51771D+00    |proj g|=  1.41655D-03\n\nAt iterate   20    f=  5.51724D+00    |proj g|=  1.07407D-02\n\nAt iterate   25    f=  5.51587D+00    |proj g|=  2.50096D-03\n\nAt iterate   30    f=  5.51168D+00    |proj g|=  2.12193D-02\n\nAt iterate   35    f=  5.48073D+00    |proj g|=  3.38710D-02\n\nAt iterate   40    f=  5.47596D+00    |proj g|=  1.93563D-03\n\nAt iterate   45    f=  5.47587D+00    |proj g|=  3.07035D-03\n"
     ]
    },
    {
     "output_type": "stream",
     "name": "stderr",
     "output_type": "stream",
     "text": [
      "[I 2024-07-03 11:05:11,165] Trial 10 finished with value: 31.94636865168862 and parameters: {'order': (2, 0, 2), 'seasonal_order': (3, 1, 0, 12)}. Best is trial 5 with value: 3.848124669595984.\n"
     ]
    },
    {
     "output_type": "stream",
     "name": "stdout",
     "output_type": "stream",
     "text": [
      "\nAt iterate   50    f=  5.47254D+00    |proj g|=  1.32237D-02\n\n           * * *\n\nTit   = total number of iterations\nTnf   = total number of function evaluations\nTnint = total number of segments explored during Cauchy searches\nSkip  = number of BFGS updates skipped\nNact  = number of active bounds at final generalized Cauchy point\nProjg = norm of the final projected gradient\nF     = final function value\n\n           * * *\n\n   N    Tit     Tnf  Tnint  Skip  Nact     Projg        F\n   15     50     52      1     0     0   1.322D-02   5.473D+00\n  F =   5.4725375680132835     \n\nSTOP: TOTAL NO. of ITERATIONS REACHED LIMIT                 \nRUNNING THE L-BFGS-B CODE\n\n           * * *\n\nMachine precision = 2.220D-16\n N =           16     M =           10\n\nAt X0         0 variables are exactly at the bounds\n\nAt iterate    0    f=  7.73924D+00    |proj g|=  2.30229D-01\n"
     ]
    },
    {
     "output_type": "stream",
     "name": "stderr",
     "output_type": "stream",
     "text": [
      " This problem is unconstrained.\n"
     ]
    },
    {
     "output_type": "stream",
     "name": "stdout",
     "output_type": "stream",
     "text": [
      "\nAt iterate    5    f=  7.70304D+00    |proj g|=  7.25358D-03\n\nAt iterate   10    f=  7.69839D+00    |proj g|=  2.02288D-02\n\nAt iterate   15    f=  7.69708D+00    |proj g|=  4.00530D-03\n\nAt iterate   20    f=  7.69690D+00    |proj g|=  1.06511D-03\n\nAt iterate   25    f=  7.69669D+00    |proj g|=  1.08311D-02\n\nAt iterate   30    f=  7.69642D+00    |proj g|=  2.24482D-03\n\nAt iterate   35    f=  7.69546D+00    |proj g|=  6.92971D-03\n\nAt iterate   40    f=  7.69319D+00    |proj g|=  3.30389D-03\n\nAt iterate   45    f=  7.69221D+00    |proj g|=  6.55400D-03\n"
     ]
    },
    {
     "output_type": "stream",
     "name": "stderr",
     "output_type": "stream",
     "text": [
      "[I 2024-07-03 11:05:13,656] Trial 11 finished with value: 4.731460192283769 and parameters: {'order': (2, 1, 0), 'seasonal_order': (3, 0, 3, 12)}. Best is trial 5 with value: 3.848124669595984.\n"
     ]
    },
    {
     "output_type": "stream",
     "name": "stdout",
     "output_type": "stream",
     "text": [
      "\nAt iterate   50    f=  7.69198D+00    |proj g|=  8.81206D-04\n\n           * * *\n\nTit   = total number of iterations\nTnf   = total number of function evaluations\nTnint = total number of segments explored during Cauchy searches\nSkip  = number of BFGS updates skipped\nNact  = number of active bounds at final generalized Cauchy point\nProjg = norm of the final projected gradient\nF     = final function value\n\n           * * *\n\n   N    Tit     Tnf  Tnint  Skip  Nact     Projg        F\n   16     50     54      1     0     0   8.812D-04   7.692D+00\n  F =   7.6919845460102971     \n\nSTOP: TOTAL NO. of ITERATIONS REACHED LIMIT                 \nRUNNING THE L-BFGS-B CODE\n\n           * * *\n\nMachine precision = 2.220D-16\n N =           12     M =           10\n\nAt X0         0 variables are exactly at the bounds\n\nAt iterate    0    f=  8.03916D+00    |proj g|=  3.10285D-02\n\nAt iterate    5    f=  8.03446D+00    |proj g|=  1.68055D-02\n\nAt iterate   10    f=  8.03379D+00    |proj g|=  1.18365D-02\n\nAt iterate   15    f=  8.03309D+00    |proj g|=  1.82831D-02\n"
     ]
    },
    {
     "output_type": "stream",
     "name": "stderr",
     "output_type": "stream",
     "text": [
      " This problem is unconstrained.\n"
     ]
    },
    {
     "output_type": "stream",
     "name": "stdout",
     "output_type": "stream",
     "text": [
      "\nAt iterate   20    f=  8.01512D+00    |proj g|=  5.35032D-02\n\nAt iterate   25    f=  8.00327D+00    |proj g|=  2.39467D-03\n\nAt iterate   30    f=  8.00322D+00    |proj g|=  1.16811D-03\n\nAt iterate   35    f=  8.00309D+00    |proj g|=  1.90876D-03\n\nAt iterate   40    f=  8.00172D+00    |proj g|=  3.03050D-02\n"
     ]
    },
    {
     "output_type": "stream",
     "name": "stderr",
     "output_type": "stream",
     "text": [
      "[I 2024-07-03 11:05:13,935] Trial 12 finished with value: 13.296756180479003 and parameters: {'order': (1, 0, 3), 'seasonal_order': (0, 0, 0, 12)}. Best is trial 5 with value: 3.848124669595984.\n"
     ]
    },
    {
     "output_type": "stream",
     "name": "stdout",
     "output_type": "stream",
     "text": [
      "\nAt iterate   45    f=  7.98624D+00    |proj g|=  1.87368D-02\n\nAt iterate   50    f=  7.98569D+00    |proj g|=  9.37324D-04\n\n           * * *\n\nTit   = total number of iterations\nTnf   = total number of function evaluations\nTnint = total number of segments explored during Cauchy searches\nSkip  = number of BFGS updates skipped\nNact  = number of active bounds at final generalized Cauchy point\nProjg = norm of the final projected gradient\nF     = final function value\n\n           * * *\n\n   N    Tit     Tnf  Tnint  Skip  Nact     Projg        F\n   12     50     58      1     0     0   9.373D-04   7.986D+00\n  F =   7.9856859533764863     \n\nSTOP: TOTAL NO. of ITERATIONS REACHED LIMIT                 \nRUNNING THE L-BFGS-B CODE\n\n           * * *\n\nMachine precision = 2.220D-16\n N =           17     M =           10\n\nAt X0         0 variables are exactly at the bounds\n\nAt iterate    0    f=  7.73711D+00    |proj g|=  2.26638D-01\n"
     ]
    },
    {
     "output_type": "stream",
     "name": "stderr",
     "output_type": "stream",
     "text": [
      " This problem is unconstrained.\n"
     ]
    },
    {
     "output_type": "stream",
     "name": "stdout",
     "output_type": "stream",
     "text": [
      "\nAt iterate    5    f=  7.70267D+00    |proj g|=  6.99322D-03\n\nAt iterate   10    f=  7.69858D+00    |proj g|=  2.74154D-02\n\nAt iterate   15    f=  7.69701D+00    |proj g|=  2.22316D-03\n\nAt iterate   20    f=  7.69683D+00    |proj g|=  1.04523D-03\n\nAt iterate   25    f=  7.69594D+00    |proj g|=  9.11828D-03\n\nAt iterate   30    f=  7.69338D+00    |proj g|=  1.10203D-02\n\nAt iterate   35    f=  7.69099D+00    |proj g|=  1.21891D-02\n\nAt iterate   40    f=  7.69059D+00    |proj g|=  1.42223D-03\n\nAt iterate   45    f=  7.69042D+00    |proj g|=  9.82287D-04\n"
     ]
    },
    {
     "output_type": "stream",
     "name": "stderr",
     "output_type": "stream",
     "text": [
      "[I 2024-07-03 11:05:16,778] Trial 13 finished with value: 6.508285042950543 and parameters: {'order': (3, 1, 0), 'seasonal_order': (3, 0, 3, 12)}. Best is trial 5 with value: 3.848124669595984.\n"
     ]
    },
    {
     "output_type": "stream",
     "name": "stdout",
     "output_type": "stream",
     "text": [
      "\nAt iterate   50    f=  7.69034D+00    |proj g|=  1.73924D-03\n\n           * * *\n\nTit   = total number of iterations\nTnf   = total number of function evaluations\nTnint = total number of segments explored during Cauchy searches\nSkip  = number of BFGS updates skipped\nNact  = number of active bounds at final generalized Cauchy point\nProjg = norm of the final projected gradient\nF     = final function value\n\n           * * *\n\n   N    Tit     Tnf  Tnint  Skip  Nact     Projg        F\n   17     50     56      1     0     0   1.739D-03   7.690D+00\n  F =   7.6903366071858139     \n\nSTOP: TOTAL NO. of ITERATIONS REACHED LIMIT                 \nRUNNING THE L-BFGS-B CODE\n\n           * * *\n\nMachine precision = 2.220D-16\n N =           16     M =           10\n\nAt X0         0 variables are exactly at the bounds\n\nAt iterate    0    f=  8.04350D+00    |proj g|=  1.87178D-01\n"
     ]
    },
    {
     "output_type": "stream",
     "name": "stderr",
     "output_type": "stream",
     "text": [
      " This problem is unconstrained.\n"
     ]
    },
    {
     "output_type": "stream",
     "name": "stdout",
     "output_type": "stream",
     "text": [
      "\nAt iterate    5    f=  8.01018D+00    |proj g|=  1.29156D-02\n\nAt iterate   10    f=  8.00312D+00    |proj g|=  9.21167D-03\n\nAt iterate   15    f=  8.00287D+00    |proj g|=  4.75230D-03\n\nAt iterate   20    f=  8.00244D+00    |proj g|=  1.59797D-03\n\nAt iterate   25    f=  7.99955D+00    |proj g|=  4.46311D-02\n\nAt iterate   30    f=  7.98133D+00    |proj g|=  1.64506D-02\n\nAt iterate   35    f=  7.96706D+00    |proj g|=  2.89152D-02\n\nAt iterate   40    f=  7.96304D+00    |proj g|=  4.76995D-03\n"
     ]
    },
    {
     "output_type": "stream",
     "name": "stderr",
     "output_type": "stream",
     "text": [
      "[I 2024-07-03 11:05:18,280] Trial 14 finished with value: 3.848124669595984 and parameters: {'order': (2, 0, 2), 'seasonal_order': (2, 0, 2, 12)}. Best is trial 5 with value: 3.848124669595984.\n"
     ]
    },
    {
     "output_type": "stream",
     "name": "stdout",
     "output_type": "stream",
     "text": [
      "\nAt iterate   45    f=  7.96277D+00    |proj g|=  1.02511D-03\n\nAt iterate   50    f=  7.96247D+00    |proj g|=  4.45367D-03\n\n           * * *\n\nTit   = total number of iterations\nTnf   = total number of function evaluations\nTnint = total number of segments explored during Cauchy searches\nSkip  = number of BFGS updates skipped\nNact  = number of active bounds at final generalized Cauchy point\nProjg = norm of the final projected gradient\nF     = final function value\n\n           * * *\n\n   N    Tit     Tnf  Tnint  Skip  Nact     Projg        F\n   16     50     55      1     0     0   4.454D-03   7.962D+00\n  F =   7.9624699521091493     \n\nSTOP: TOTAL NO. of ITERATIONS REACHED LIMIT                 \n"
     ]
    },
    {
     "output_type": "stream",
     "name": "stderr",
     "output_type": "stream",
     "text": [
      " This problem is unconstrained.\n"
     ]
    },
    {
     "output_type": "stream",
     "name": "stdout",
     "output_type": "stream",
     "text": [
      "RUNNING THE L-BFGS-B CODE\n\n           * * *\n\nMachine precision = 2.220D-16\n N =           16     M =           10\n\nAt X0         0 variables are exactly at the bounds\n\nAt iterate    0    f=  8.04350D+00    |proj g|=  1.87178D-01\n\nAt iterate    5    f=  8.01018D+00    |proj g|=  1.29156D-02\n\nAt iterate   10    f=  8.00312D+00    |proj g|=  9.21167D-03\n\nAt iterate   15    f=  8.00287D+00    |proj g|=  4.75230D-03\n\nAt iterate   20    f=  8.00244D+00    |proj g|=  1.59797D-03\n\nAt iterate   25    f=  7.99955D+00    |proj g|=  4.46311D-02\n\nAt iterate   30    f=  7.98133D+00    |proj g|=  1.64506D-02\n\nAt iterate   35    f=  7.96706D+00    |proj g|=  2.89152D-02\n\nAt iterate   40    f=  7.96304D+00    |proj g|=  4.76995D-03\n\nAt iterate   45    f=  7.96277D+00    |proj g|=  1.02511D-03\n"
     ]
    },
    {
     "output_type": "stream",
     "name": "stderr",
     "output_type": "stream",
     "text": [
      "[I 2024-07-03 11:05:19,798] Trial 15 finished with value: 3.848124669595984 and parameters: {'order': (2, 0, 2), 'seasonal_order': (2, 0, 2, 12)}. Best is trial 5 with value: 3.848124669595984.\n"
     ]
    },
    {
     "output_type": "stream",
     "name": "stdout",
     "output_type": "stream",
     "text": [
      "\nAt iterate   50    f=  7.96247D+00    |proj g|=  4.45367D-03\n\n           * * *\n\nTit   = total number of iterations\nTnf   = total number of function evaluations\nTnint = total number of segments explored during Cauchy searches\nSkip  = number of BFGS updates skipped\nNact  = number of active bounds at final generalized Cauchy point\nProjg = norm of the final projected gradient\nF     = final function value\n\n           * * *\n\n   N    Tit     Tnf  Tnint  Skip  Nact     Projg        F\n   16     50     55      1     0     0   4.454D-03   7.962D+00\n  F =   7.9624699521091493     \n\nSTOP: TOTAL NO. of ITERATIONS REACHED LIMIT                 \nRUNNING THE L-BFGS-B CODE\n\n           * * *\n\nMachine precision = 2.220D-16\n N =           10     M =           10\n\nAt X0         0 variables are exactly at the bounds\n\nAt iterate    0    f=  8.05923D+00    |proj g|=  3.08552D-02\n\nAt iterate    5    f=  8.05660D+00    |proj g|=  1.00383D-02\n\nAt iterate   10    f=  8.05291D+00    |proj g|=  1.65010D-02\n"
     ]
    },
    {
     "output_type": "stream",
     "name": "stderr",
     "output_type": "stream",
     "text": [
      " This problem is unconstrained.\n"
     ]
    },
    {
     "output_type": "stream",
     "name": "stdout",
     "output_type": "stream",
     "text": [
      "\nAt iterate   15    f=  8.01901D+00    |proj g|=  2.29176D-02\n\nAt iterate   20    f=  7.98376D+00    |proj g|=  4.99154D-03\n\nAt iterate   25    f=  7.98266D+00    |proj g|=  7.96021D-03\n\nAt iterate   30    f=  7.96931D+00    |proj g|=  2.82131D-02\n"
     ]
    },
    {
     "output_type": "stream",
     "name": "stderr",
     "output_type": "stream",
     "text": [
      "[I 2024-07-03 11:05:20,315] Trial 16 finished with value: 3.1593911414897837 and parameters: {'order': (1, 0, 0), 'seasonal_order': (1, 0, 0, 12)}. Best is trial 16 with value: 3.1593911414897837.\n"
     ]
    },
    {
     "output_type": "stream",
     "name": "stdout",
     "output_type": "stream",
     "text": [
      "\nAt iterate   35    f=  7.96345D+00    |proj g|=  1.15263D-02\n\nAt iterate   40    f=  7.96280D+00    |proj g|=  2.34937D-03\n\nAt iterate   45    f=  7.95784D+00    |proj g|=  3.81479D-03\n\nAt iterate   50    f=  7.94598D+00    |proj g|=  1.53477D-03\n\n           * * *\n\nTit   = total number of iterations\nTnf   = total number of function evaluations\nTnint = total number of segments explored during Cauchy searches\nSkip  = number of BFGS updates skipped\nNact  = number of active bounds at final generalized Cauchy point\nProjg = norm of the final projected gradient\nF     = final function value\n\n           * * *\n\n   N    Tit     Tnf  Tnint  Skip  Nact     Projg        F\n   10     50     59      1     0     0   1.535D-03   7.946D+00\n  F =   7.9459765791329087     \n\nSTOP: TOTAL NO. of ITERATIONS REACHED LIMIT                 \nRUNNING THE L-BFGS-B CODE\n\n           * * *\n\nMachine precision = 2.220D-16\n N =           14     M =           10\n\nAt X0         0 variables are exactly at the bounds\n\nAt iterate    0    f=  5.70003D+00    |proj g|=  2.31965D-01\n"
     ]
    },
    {
     "output_type": "stream",
     "name": "stderr",
     "output_type": "stream",
     "text": [
      " This problem is unconstrained.\n"
     ]
    },
    {
     "output_type": "stream",
     "name": "stdout",
     "output_type": "stream",
     "text": [
      "\nAt iterate    5    f=  5.63922D+00    |proj g|=  4.09976D-02\n\nAt iterate   10    f=  5.63479D+00    |proj g|=  1.12350D-02\n\nAt iterate   15    f=  5.62638D+00    |proj g|=  4.14159D-03\n\nAt iterate   20    f=  5.62623D+00    |proj g|=  3.64718D-03\n\nAt iterate   25    f=  5.62229D+00    |proj g|=  1.49582D-02\n\nAt iterate   30    f=  5.59856D+00    |proj g|=  3.22380D-02\n\nAt iterate   35    f=  5.57128D+00    |proj g|=  2.91773D-03\n\nAt iterate   40    f=  5.56944D+00    |proj g|=  1.30995D-03\n\nAt iterate   45    f=  5.56457D+00    |proj g|=  2.02478D-02\n"
     ]
    },
    {
     "output_type": "stream",
     "name": "stderr",
     "output_type": "stream",
     "text": [
      "[I 2024-07-03 11:05:22,608] Trial 17 finished with value: 22.111731048567 and parameters: {'order': (1, 0, 0), 'seasonal_order': (2, 1, 3, 12)}. Best is trial 16 with value: 3.1593911414897837.\n"
     ]
    },
    {
     "output_type": "stream",
     "name": "stdout",
     "output_type": "stream",
     "text": [
      "\nAt iterate   50    f=  5.55710D+00    |proj g|=  4.92703D-04\n\n           * * *\n\nTit   = total number of iterations\nTnf   = total number of function evaluations\nTnint = total number of segments explored during Cauchy searches\nSkip  = number of BFGS updates skipped\nNact  = number of active bounds at final generalized Cauchy point\nProjg = norm of the final projected gradient\nF     = final function value\n\n           * * *\n\n   N    Tit     Tnf  Tnint  Skip  Nact     Projg        F\n   14     50     55      1     0     0   4.927D-04   5.557D+00\n  F =   5.5571005620786282     \n\nSTOP: TOTAL NO. of ITERATIONS REACHED LIMIT                 \nRUNNING THE L-BFGS-B CODE\n\n           * * *\n\nMachine precision = 2.220D-16\n N =            9     M =           10\n\nAt X0         0 variables are exactly at the bounds\n\nAt iterate    0    f=  5.70003D+00    |proj g|=  4.39713D-03\n\nAt iterate    5    f=  5.69338D+00    |proj g|=  2.98639D-02\n\nAt iterate   10    f=  5.61207D+00    |proj g|=  5.92899D-03\n"
     ]
    },
    {
     "output_type": "stream",
     "name": "stderr",
     "output_type": "stream",
     "text": [
      " This problem is unconstrained.\n[I 2024-07-03 11:05:22,857] Trial 18 finished with value: 24.361419991636758 and parameters: {'order': (1, 0, 0), 'seasonal_order': (0, 1, 0, 12)}. Best is trial 16 with value: 3.1593911414897837.\n"
     ]
    },
    {
     "output_type": "stream",
     "name": "stdout",
     "output_type": "stream",
     "text": [
      "\nAt iterate   15    f=  5.58417D+00    |proj g|=  3.61102D-03\n\nAt iterate   20    f=  5.58068D+00    |proj g|=  2.31722D-03\n\nAt iterate   25    f=  5.57089D+00    |proj g|=  2.46939D-04\n\nAt iterate   30    f=  5.56925D+00    |proj g|=  5.45600D-03\n\nAt iterate   35    f=  5.54992D+00    |proj g|=  1.36126D-03\n\nAt iterate   40    f=  5.53942D+00    |proj g|=  5.22120D-03\n\nAt iterate   45    f=  5.52475D+00    |proj g|=  2.86556D-03\n\nAt iterate   50    f=  5.52387D+00    |proj g|=  1.70434D-04\n\n           * * *\n\nTit   = total number of iterations\nTnf   = total number of function evaluations\nTnint = total number of segments explored during Cauchy searches\nSkip  = number of BFGS updates skipped\nNact  = number of active bounds at final generalized Cauchy point\nProjg = norm of the final projected gradient\nF     = final function value\n\n           * * *\n\n   N    Tit     Tnf  Tnint  Skip  Nact     Projg        F\n    9     50     74      1     0     0   1.704D-04   5.524D+00\n  F =   5.5238686352753410     \n\nSTOP: TOTAL NO. of ITERATIONS REACHED LIMIT                 \nRUNNING THE L-BFGS-B CODE\n\n           * * *\n\nMachine precision = 2.220D-16\n N =           12     M =           10\n\nAt X0         0 variables are exactly at the bounds\n\nAt iterate    0    f=  8.02725D+00    |proj g|=  5.62611D-02\n"
     ]
    },
    {
     "output_type": "stream",
     "name": "stderr",
     "output_type": "stream",
     "text": [
      " This problem is unconstrained.\n"
     ]
    },
    {
     "output_type": "stream",
     "name": "stdout",
     "output_type": "stream",
     "text": [
      "\nAt iterate    5    f=  8.02058D+00    |proj g|=  6.51461D-03\n\nAt iterate   10    f=  8.01923D+00    |proj g|=  6.20949D-03\n\nAt iterate   15    f=  8.00207D+00    |proj g|=  3.29370D-02\n\nAt iterate   20    f=  7.96825D+00    |proj g|=  2.13825D-02\n\nAt iterate   25    f=  7.96522D+00    |proj g|=  8.03831D-04\n\nAt iterate   30    f=  7.96403D+00    |proj g|=  2.18189D-02\n\nAt iterate   35    f=  7.94970D+00    |proj g|=  2.47474D-02\n\nAt iterate   40    f=  7.94881D+00    |proj g|=  3.33166D-03\n\nAt iterate   45    f=  7.94874D+00    |proj g|=  3.02917D-03\n\nAt iterate   50    f=  7.94735D+00    |proj g|=  1.99272D-02\n\n           * * *\n\nTit   = total number of iterations\nTnf   = total number of function evaluations\nTnint = total number of segments explored during Cauchy searches\nSkip  = number of BFGS updates skipped\nNact  = number of active bounds at final generalized Cauchy point\nProjg = norm of the final projected gradient\nF     = final function value\n\n           * * *\n\n   N    Tit     Tnf  Tnint  Skip  Nact     Projg        F\n   12     50     56      1     0     0   1.993D-02   7.947D+00\n  F =   7.9473547518572616     \n\nSTOP: TOTAL NO. of ITERATIONS REACHED LIMIT                 \n"
     ]
    },
    {
     "output_type": "stream",
     "name": "stderr",
     "output_type": "stream",
     "text": [
      "[I 2024-07-03 11:05:23,361] Trial 19 finished with value: 4.088186065143237 and parameters: {'order': (3, 0, 0), 'seasonal_order': (1, 0, 0, 12)}. Best is trial 16 with value: 3.1593911414897837.\n This problem is unconstrained.\n"
     ]
    },
    {
     "output_type": "stream",
     "name": "stdout",
     "output_type": "stream",
     "text": [
      "RUNNING THE L-BFGS-B CODE\n\n           * * *\n\nMachine precision = 2.220D-16\n N =           17     M =           10\n\nAt X0         0 variables are exactly at the bounds\n\nAt iterate    0    f=  7.75080D+00    |proj g|=  1.82981D-01\n\nAt iterate    5    f=  7.71206D+00    |proj g|=  2.21024D-02\n\nAt iterate   10    f=  7.69945D+00    |proj g|=  1.70363D-02\n\nAt iterate   15    f=  7.68224D+00    |proj g|=  7.75943D-03\n\nAt iterate   20    f=  7.67888D+00    |proj g|=  1.98990D-03\n\nAt iterate   25    f=  7.67855D+00    |proj g|=  1.37405D-03\n\nAt iterate   30    f=  7.67812D+00    |proj g|=  6.61375D-03\n\nAt iterate   35    f=  7.67750D+00    |proj g|=  2.32234D-03\n\nAt iterate   40    f=  7.67474D+00    |proj g|=  4.55967D-03\n\nAt iterate   45    f=  7.67042D+00    |proj g|=  1.20215D-02\n\nAt iterate   50    f=  7.66812D+00    |proj g|=  3.91038D-03\n\n           * * *\n\nTit   = total number of iterations\nTnf   = total number of function evaluations\nTnint = total number of segments explored during Cauchy searches\nSkip  = number of BFGS updates skipped\nNact  = number of active bounds at final generalized Cauchy point\nProjg = norm of the final projected gradient\nF     = final function value\n\n           * * *\n\n   N    Tit     Tnf  Tnint  Skip  Nact     Projg        F\n   17     50     56      1     0     0   3.910D-03   7.668D+00\n  F =   7.6681211854161537     \n\nSTOP: TOTAL NO. of ITERATIONS REACHED LIMIT                 \n"
     ]
    },
    {
     "output_type": "stream",
     "name": "stderr",
     "output_type": "stream",
     "text": [
      "[I 2024-07-03 11:05:25,498] Trial 20 finished with value: 14.005851069787361 and parameters: {'order': (3, 1, 3), 'seasonal_order': (0, 0, 3, 12)}. Best is trial 16 with value: 3.1593911414897837.\n This problem is unconstrained.\n"
     ]
    },
    {
     "output_type": "stream",
     "name": "stdout",
     "output_type": "stream",
     "text": [
      "RUNNING THE L-BFGS-B CODE\n\n           * * *\n\nMachine precision = 2.220D-16\n N =           17     M =           10\n\nAt X0         0 variables are exactly at the bounds\n\nAt iterate    0    f=  8.04887D+00    |proj g|=  1.90218D-01\n\nAt iterate    5    f=  8.00917D+00    |proj g|=  4.07643D-02\n\nAt iterate   10    f=  8.00341D+00    |proj g|=  1.35028D-02\n\nAt iterate   15    f=  8.00080D+00    |proj g|=  5.07147D-03\n\nAt iterate   20    f=  8.00072D+00    |proj g|=  4.68375D-03\n\nAt iterate   25    f=  8.00002D+00    |proj g|=  3.96517D-03\n\nAt iterate   30    f=  7.99943D+00    |proj g|=  2.50743D-02\n\nAt iterate   35    f=  7.97908D+00    |proj g|=  4.60311D-02\n\nAt iterate   40    f=  7.96977D+00    |proj g|=  6.16275D-03\n\nAt iterate   45    f=  7.96955D+00    |proj g|=  1.49054D-03\n"
     ]
    },
    {
     "output_type": "stream",
     "name": "stderr",
     "output_type": "stream",
     "text": [
      "[I 2024-07-03 11:05:28,405] Trial 21 finished with value: 7.85783507945797 and parameters: {'order': (3, 0, 2), 'seasonal_order': (3, 0, 1, 12)}. Best is trial 16 with value: 3.1593911414897837.\n"
     ]
    },
    {
     "output_type": "stream",
     "name": "stdout",
     "output_type": "stream",
     "text": [
      "\nAt iterate   50    f=  7.95913D+00    |proj g|=  2.88129D-02\n\n           * * *\n\nTit   = total number of iterations\nTnf   = total number of function evaluations\nTnint = total number of segments explored during Cauchy searches\nSkip  = number of BFGS updates skipped\nNact  = number of active bounds at final generalized Cauchy point\nProjg = norm of the final projected gradient\nF     = final function value\n\n           * * *\n\n   N    Tit     Tnf  Tnint  Skip  Nact     Projg        F\n   17     50     58      1     0     0   2.881D-02   7.959D+00\n  F =   7.9591256122086831     \n\nSTOP: TOTAL NO. of ITERATIONS REACHED LIMIT                 \nRUNNING THE L-BFGS-B CODE\n\n           * * *\n\nMachine precision = 2.220D-16\n N =           11     M =           10\n\nAt X0         0 variables are exactly at the bounds\n\nAt iterate    0    f=  8.48648D+00    |proj g|=  1.68372D-01\n"
     ]
    },
    {
     "output_type": "stream",
     "name": "stderr",
     "output_type": "stream",
     "text": [
      " This problem is unconstrained.\n"
     ]
    },
    {
     "output_type": "stream",
     "name": "stdout",
     "output_type": "stream",
     "text": [
      "\nAt iterate    5    f=  8.42766D+00    |proj g|=  1.50031D-02\n\nAt iterate   10    f=  8.42517D+00    |proj g|=  1.72383D-03\n\nAt iterate   15    f=  8.42500D+00    |proj g|=  4.65424D-03\n\nAt iterate   20    f=  8.42387D+00    |proj g|=  3.92192D-02\n\nAt iterate   25    f=  8.41601D+00    |proj g|=  2.00131D-02\n\nAt iterate   30    f=  8.41442D+00    |proj g|=  3.39760D-04\n\nAt iterate   35    f=  8.41430D+00    |proj g|=  7.67735D-03\n"
     ]
    },
    {
     "output_type": "stream",
     "name": "stderr",
     "output_type": "stream",
     "text": [
      "[I 2024-07-03 11:05:29,126] Trial 22 finished with value: 32.565159304448756 and parameters: {'order': (0, 0, 0), 'seasonal_order': (1, 0, 2, 12)}. Best is trial 16 with value: 3.1593911414897837.\n"
     ]
    },
    {
     "output_type": "stream",
     "name": "stdout",
     "output_type": "stream",
     "text": [
      "\nAt iterate   40    f=  8.41037D+00    |proj g|=  4.33964D-02\n\nAt iterate   45    f=  8.40955D+00    |proj g|=  6.59006D-04\n\nAt iterate   50    f=  8.40853D+00    |proj g|=  5.96044D-03\n\n           * * *\n\nTit   = total number of iterations\nTnf   = total number of function evaluations\nTnint = total number of segments explored during Cauchy searches\nSkip  = number of BFGS updates skipped\nNact  = number of active bounds at final generalized Cauchy point\nProjg = norm of the final projected gradient\nF     = final function value\n\n           * * *\n\n   N    Tit     Tnf  Tnint  Skip  Nact     Projg        F\n   11     50     56      1     0     0   5.960D-03   8.409D+00\n  F =   8.4085319844712334     \n\nSTOP: TOTAL NO. of ITERATIONS REACHED LIMIT                 \nRUNNING THE L-BFGS-B CODE\n\n           * * *\n\nMachine precision = 2.220D-16\n N =           10     M =           10\n\nAt X0         0 variables are exactly at the bounds\n\nAt iterate    0    f=  7.72024D+00    |proj g|=  6.68777D-02\n"
     ]
    },
    {
     "output_type": "stream",
     "name": "stderr",
     "output_type": "stream",
     "text": [
      " This problem is unconstrained.\n"
     ]
    },
    {
     "output_type": "stream",
     "name": "stdout",
     "output_type": "stream",
     "text": [
      "\nAt iterate    5    f=  7.71650D+00    |proj g|=  1.30004D-02\n\nAt iterate   10    f=  7.71511D+00    |proj g|=  6.07594D-04\n\nAt iterate   15    f=  7.71440D+00    |proj g|=  1.76606D-02\n\nAt iterate   20    f=  7.70739D+00    |proj g|=  1.24785D-02\n\nAt iterate   25    f=  7.70710D+00    |proj g|=  5.70579D-04\n\nAt iterate   30    f=  7.70509D+00    |proj g|=  3.26265D-03\n"
     ]
    },
    {
     "output_type": "stream",
     "name": "stderr",
     "output_type": "stream",
     "text": [
      "[I 2024-07-03 11:05:29,603] Trial 23 finished with value: 11.80449337079015 and parameters: {'order': (0, 1, 1), 'seasonal_order': (1, 0, 0, 12)}. Best is trial 16 with value: 3.1593911414897837.\n"
     ]
    },
    {
     "output_type": "stream",
     "name": "stdout",
     "output_type": "stream",
     "text": [
      "\nAt iterate   35    f=  7.70431D+00    |proj g|=  3.15670D-04\n\nAt iterate   40    f=  7.70372D+00    |proj g|=  1.08094D-02\n\nAt iterate   45    f=  7.70267D+00    |proj g|=  2.20423D-03\n\nAt iterate   50    f=  7.70266D+00    |proj g|=  2.17725D-04\n\n           * * *\n\nTit   = total number of iterations\nTnf   = total number of function evaluations\nTnint = total number of segments explored during Cauchy searches\nSkip  = number of BFGS updates skipped\nNact  = number of active bounds at final generalized Cauchy point\nProjg = norm of the final projected gradient\nF     = final function value\n\n           * * *\n\n   N    Tit     Tnf  Tnint  Skip  Nact     Projg        F\n   10     50     58      1     0     0   2.177D-04   7.703D+00\n  F =   7.7026550808439955     \n\nSTOP: TOTAL NO. of ITERATIONS REACHED LIMIT                 \nRUNNING THE L-BFGS-B CODE\n\n           * * *\n\nMachine precision = 2.220D-16\n N =           12     M =           10\n\nAt X0         0 variables are exactly at the bounds\n\nAt iterate    0    f=  5.33899D+00    |proj g|=  1.87453D-01\n"
     ]
    },
    {
     "output_type": "stream",
     "name": "stderr",
     "output_type": "stream",
     "text": [
      " This problem is unconstrained.\n"
     ]
    },
    {
     "output_type": "stream",
     "name": "stdout",
     "output_type": "stream",
     "text": [
      "\nAt iterate    5    f=  5.29090D+00    |proj g|=  1.86687D-02\n\nAt iterate   10    f=  5.28775D+00    |proj g|=  1.46940D-02\n\nAt iterate   15    f=  5.28670D+00    |proj g|=  2.13004D-03\n\nAt iterate   20    f=  5.28503D+00    |proj g|=  2.19556D-02\n\nAt iterate   25    f=  5.26925D+00    |proj g|=  1.92294D-02\n\nAt iterate   30    f=  5.26156D+00    |proj g|=  5.96580D-03\n\nAt iterate   35    f=  5.24978D+00    |proj g|=  1.23146D-02\n\nAt iterate   40    f=  5.24903D+00    |proj g|=  4.49662D-04\n\nAt iterate   45    f=  5.24762D+00    |proj g|=  1.36451D-02\n"
     ]
    },
    {
     "output_type": "stream",
     "name": "stderr",
     "output_type": "stream",
     "text": [
      "[I 2024-07-03 11:05:30,765] Trial 24 finished with value: 31.65504146866703 and parameters: {'order': (1, 1, 0), 'seasonal_order': (1, 1, 2, 12)}. Best is trial 16 with value: 3.1593911414897837.\n"
     ]
    },
    {
     "output_type": "stream",
     "name": "stdout",
     "output_type": "stream",
     "text": [
      "\nAt iterate   50    f=  5.23845D+00    |proj g|=  2.88389D-03\n\n           * * *\n\nTit   = total number of iterations\nTnf   = total number of function evaluations\nTnint = total number of segments explored during Cauchy searches\nSkip  = number of BFGS updates skipped\nNact  = number of active bounds at final generalized Cauchy point\nProjg = norm of the final projected gradient\nF     = final function value\n\n           * * *\n\n   N    Tit     Tnf  Tnint  Skip  Nact     Projg        F\n   12     50     60      1     0     0   2.884D-03   5.238D+00\n  F =   5.2384452328158675     \n\nSTOP: TOTAL NO. of ITERATIONS REACHED LIMIT                 \nRUNNING THE L-BFGS-B CODE\n\n           * * *\n\nMachine precision = 2.220D-16\n N =           16     M =           10\n\nAt X0         0 variables are exactly at the bounds\n\nAt iterate    0    f=  7.76058D+00    |proj g|=  1.84463D-01\n"
     ]
    },
    {
     "output_type": "stream",
     "name": "stderr",
     "output_type": "stream",
     "text": [
      " This problem is unconstrained.\n"
     ]
    },
    {
     "output_type": "stream",
     "name": "stdout",
     "output_type": "stream",
     "text": [
      "\nAt iterate    5    f=  7.72876D+00    |proj g|=  3.63311D-03\n\nAt iterate   10    f=  7.72631D+00    |proj g|=  3.25243D-02\n\nAt iterate   15    f=  7.71675D+00    |proj g|=  6.68214D-03\n\nAt iterate   20    f=  7.71644D+00    |proj g|=  1.61550D-03\n\nAt iterate   25    f=  7.71611D+00    |proj g|=  4.91118D-03\n\nAt iterate   30    f=  7.71494D+00    |proj g|=  7.22018D-03\n\nAt iterate   35    f=  7.71376D+00    |proj g|=  1.05272D-02\n\nAt iterate   40    f=  7.70925D+00    |proj g|=  1.61737D-02\n\nAt iterate   45    f=  7.70762D+00    |proj g|=  1.05114D-03\n\nAt iterate   50    f=  7.70750D+00    |proj g|=  6.07124D-03\n\n           * * *\n\nTit   = total number of iterations\nTnf   = total number of function evaluations\nTnint = total number of segments explored during Cauchy searches\nSkip  = number of BFGS updates skipped\nNact  = number of active bounds at final generalized Cauchy point\nProjg = norm of the final projected gradient\nF     = final function value\n\n           * * *\n\n   N    Tit     Tnf  Tnint  Skip  Nact     Projg        F\n   16     50     60      1     0     0   6.071D-03   7.707D+00\n  F =   7.7074985259043167     \n\nSTOP: TOTAL NO. of ITERATIONS REACHED LIMIT                 \n"
     ]
    },
    {
     "output_type": "stream",
     "name": "stderr",
     "output_type": "stream",
     "text": [
      "[I 2024-07-03 11:05:33,016] Trial 25 finished with value: 7.903823896445989 and parameters: {'order': (1, 1, 3), 'seasonal_order': (1, 0, 3, 12)}. Best is trial 16 with value: 3.1593911414897837.\n This problem is unconstrained.\n"
     ]
    },
    {
     "output_type": "stream",
     "name": "stdout",
     "output_type": "stream",
     "text": [
      "RUNNING THE L-BFGS-B CODE\n\n           * * *\n\nMachine precision = 2.220D-16\n N =           14     M =           10\n\nAt X0         0 variables are exactly at the bounds\n\nAt iterate    0    f=  5.34286D+00    |proj g|=  2.21149D-01\n\nAt iterate    5    f=  5.28088D+00    |proj g|=  1.89039D-02\n\nAt iterate   10    f=  5.27793D+00    |proj g|=  9.74152D-03\n\nAt iterate   15    f=  5.27424D+00    |proj g|=  7.17844D-03\n\nAt iterate   20    f=  5.25828D+00    |proj g|=  2.14118D-02\n\nAt iterate   25    f=  5.24037D+00    |proj g|=  7.93412D-03\n\nAt iterate   30    f=  5.23950D+00    |proj g|=  1.18302D-03\n\nAt iterate   35    f=  5.23941D+00    |proj g|=  3.75771D-03\n\nAt iterate   40    f=  5.23626D+00    |proj g|=  2.29715D-02\n\nAt iterate   45    f=  5.23155D+00    |proj g|=  1.41291D-03\n\nAt iterate   50    f=  5.23102D+00    |proj g|=  5.80175D-03\n\n           * * *\n\nTit   = total number of iterations\nTnf   = total number of function evaluations\nTnint = total number of segments explored during Cauchy searches\nSkip  = number of BFGS updates skipped\nNact  = number of active bounds at final generalized Cauchy point\nProjg = norm of the final projected gradient\nF     = final function value\n\n           * * *\n\n   N    Tit     Tnf  Tnint  Skip  Nact     Projg        F\n   14     50     57      1     0     0   5.802D-03   5.231D+00\n  F =   5.2310192185766509     \n\nSTOP: TOTAL NO. of ITERATIONS REACHED LIMIT                 \n"
     ]
    },
    {
     "output_type": "stream",
     "name": "stderr",
     "output_type": "stream",
     "text": [
      "[I 2024-07-03 11:05:35,260] Trial 26 finished with value: 26.93603073561581 and parameters: {'order': (1, 1, 1), 'seasonal_order': (1, 1, 3, 12)}. Best is trial 16 with value: 3.1593911414897837.\n This problem is unconstrained.\n"
     ]
    },
    {
     "output_type": "stream",
     "name": "stdout",
     "output_type": "stream",
     "text": [
      "RUNNING THE L-BFGS-B CODE\n\n           * * *\n\nMachine precision = 2.220D-16\n N =           15     M =           10\n\nAt X0         0 variables are exactly at the bounds\n\nAt iterate    0    f=  8.04507D+00    |proj g|=  1.67033D-01\n\nAt iterate    5    f=  8.01699D+00    |proj g|=  2.62231D-02\n\nAt iterate   10    f=  8.01193D+00    |proj g|=  4.98681D-03\n\nAt iterate   15    f=  8.00940D+00    |proj g|=  1.04136D-02\n\nAt iterate   20    f=  8.00890D+00    |proj g|=  1.04271D-02\n\nAt iterate   25    f=  8.00348D+00    |proj g|=  4.20286D-02\n\nAt iterate   30    f=  7.99829D+00    |proj g|=  2.18305D-02\n"
     ]
    },
    {
     "output_type": "stream",
     "name": "stderr",
     "output_type": "stream",
     "text": [
      "[I 2024-07-03 11:05:35,893] Trial 27 finished with value: 11.017565629544503 and parameters: {'order': (3, 0, 3), 'seasonal_order': (0, 0, 1, 12)}. Best is trial 16 with value: 3.1593911414897837.\n"
     ]
    },
    {
     "output_type": "stream",
     "name": "stdout",
     "output_type": "stream",
     "text": [
      "\nAt iterate   35    f=  7.99630D+00    |proj g|=  1.80113D-02\n\nAt iterate   40    f=  7.98834D+00    |proj g|=  2.79746D-02\n\nAt iterate   45    f=  7.97789D+00    |proj g|=  4.19593D-03\n\nAt iterate   50    f=  7.97765D+00    |proj g|=  2.04283D-03\n\n           * * *\n\nTit   = total number of iterations\nTnf   = total number of function evaluations\nTnint = total number of segments explored during Cauchy searches\nSkip  = number of BFGS updates skipped\nNact  = number of active bounds at final generalized Cauchy point\nProjg = norm of the final projected gradient\nF     = final function value\n\n           * * *\n\n   N    Tit     Tnf  Tnint  Skip  Nact     Projg        F\n   15     50     57      1     0     0   2.043D-03   7.978D+00\n  F =   7.9776481358736531     \n\nSTOP: TOTAL NO. of ITERATIONS REACHED LIMIT                 \nRUNNING THE L-BFGS-B CODE\n\n           * * *\n\nMachine precision = 2.220D-16\n N =           14     M =           10\n\nAt X0         0 variables are exactly at the bounds\n\nAt iterate    0    f=  8.04982D+00    |proj g|=  2.17416D-01\n"
     ]
    },
    {
     "output_type": "stream",
     "name": "stderr",
     "output_type": "stream",
     "text": [
      " This problem is unconstrained.\n"
     ]
    },
    {
     "output_type": "stream",
     "name": "stdout",
     "output_type": "stream",
     "text": [
      "\nAt iterate    5    f=  8.01080D+00    |proj g|=  1.36194D-02\n\nAt iterate   10    f=  8.00991D+00    |proj g|=  6.43569D-03\n\nAt iterate   15    f=  8.00947D+00    |proj g|=  1.35458D-02\n\nAt iterate   20    f=  8.00736D+00    |proj g|=  6.09619D-02\n\nAt iterate   25    f=  7.98626D+00    |proj g|=  3.98220D-02\n\nAt iterate   30    f=  7.97752D+00    |proj g|=  4.97000D-04\n\nAt iterate   35    f=  7.97746D+00    |proj g|=  3.79596D-03\n\nAt iterate   40    f=  7.97737D+00    |proj g|=  2.28545D-03\n\nAt iterate   45    f=  7.97628D+00    |proj g|=  1.08668D-02\n"
     ]
    },
    {
     "output_type": "stream",
     "name": "stderr",
     "output_type": "stream",
     "text": [
      "[I 2024-07-03 11:05:37,184] Trial 28 finished with value: 4.575337057609296 and parameters: {'order': (1, 0, 2), 'seasonal_order': (2, 0, 1, 12)}. Best is trial 16 with value: 3.1593911414897837.\n"
     ]
    },
    {
     "output_type": "stream",
     "name": "stdout",
     "output_type": "stream",
     "text": [
      "\nAt iterate   50    f=  7.97360D+00    |proj g|=  5.43758D-03\n\n           * * *\n\nTit   = total number of iterations\nTnf   = total number of function evaluations\nTnint = total number of segments explored during Cauchy searches\nSkip  = number of BFGS updates skipped\nNact  = number of active bounds at final generalized Cauchy point\nProjg = norm of the final projected gradient\nF     = final function value\n\n           * * *\n\n   N    Tit     Tnf  Tnint  Skip  Nact     Projg        F\n   14     50     57      1     0     0   5.438D-03   7.974D+00\n  F =   7.9735986135939596     \n\nSTOP: TOTAL NO. of ITERATIONS REACHED LIMIT                 \nRUNNING THE L-BFGS-B CODE\n\n           * * *\n\nMachine precision = 2.220D-16\n N =           13     M =           10\n\nAt X0         0 variables are exactly at the bounds\n\nAt iterate    0    f=  8.29232D+00    |proj g|=  9.31976D-02\n\nAt iterate    5    f=  8.25379D+00    |proj g|=  3.53790D-03\n"
     ]
    },
    {
     "output_type": "stream",
     "name": "stderr",
     "output_type": "stream",
     "text": [
      " This problem is unconstrained.\n"
     ]
    },
    {
     "output_type": "stream",
     "name": "stdout",
     "output_type": "stream",
     "text": [
      "\nAt iterate   10    f=  8.25302D+00    |proj g|=  1.03430D-03\n\nAt iterate   15    f=  8.25241D+00    |proj g|=  8.00354D-03\n\nAt iterate   20    f=  8.23166D+00    |proj g|=  9.74113D-03\n\nAt iterate   25    f=  8.22675D+00    |proj g|=  3.29160D-03\n\nAt iterate   30    f=  8.21926D+00    |proj g|=  5.01563D-02\n\nAt iterate   35    f=  8.21594D+00    |proj g|=  3.49071D-03\n\nAt iterate   40    f=  8.21533D+00    |proj g|=  2.92602D-03\n\nAt iterate   45    f=  8.21453D+00    |proj g|=  2.21390D-03\n\nAt iterate   50    f=  8.20125D+00    |proj g|=  3.30533D-02\n\n           * * *\n\nTit   = total number of iterations\nTnf   = total number of function evaluations\nTnint = total number of segments explored during Cauchy searches\nSkip  = number of BFGS updates skipped\nNact  = number of active bounds at final generalized Cauchy point\nProjg = norm of the final projected gradient\nF     = final function value\n\n           * * *\n\n   N    Tit     Tnf  Tnint  Skip  Nact     Projg        F\n   13     50     58      1     0     0   3.305D-02   8.201D+00\n  F =   8.2012505139116580     \n\nSTOP: TOTAL NO. of ITERATIONS REACHED LIMIT                 \n"
     ]
    },
    {
     "output_type": "stream",
     "name": "stderr",
     "output_type": "stream",
     "text": [
      "[I 2024-07-03 11:05:38,377] Trial 29 finished with value: 11.624511498546578 and parameters: {'order': (0, 0, 1), 'seasonal_order': (2, 0, 2, 12)}. Best is trial 16 with value: 3.1593911414897837.\n This problem is unconstrained.\n"
     ]
    },
    {
     "output_type": "stream",
     "name": "stdout",
     "output_type": "stream",
     "text": [
      "RUNNING THE L-BFGS-B CODE\n\n           * * *\n\nMachine precision = 2.220D-16\n N =           13     M =           10\n\nAt X0         0 variables are exactly at the bounds\n\nAt iterate    0    f=  8.10714D+00    |proj g|=  1.29706D-01\n\nAt iterate    5    f=  8.06060D+00    |proj g|=  7.88478D-03\n\nAt iterate   10    f=  8.05822D+00    |proj g|=  1.92493D-02\n\nAt iterate   15    f=  8.05722D+00    |proj g|=  8.76489D-03\n\nAt iterate   20    f=  8.05671D+00    |proj g|=  2.61147D-03\n\nAt iterate   25    f=  8.05562D+00    |proj g|=  2.01130D-02\n\nAt iterate   30    f=  8.04959D+00    |proj g|=  2.71318D-02\n\nAt iterate   35    f=  8.04662D+00    |proj g|=  1.90800D-03\n\nAt iterate   40    f=  8.04551D+00    |proj g|=  1.37548D-02\n"
     ]
    },
    {
     "output_type": "stream",
     "name": "stderr",
     "output_type": "stream",
     "text": [
      "[I 2024-07-03 11:05:39,045] Trial 30 finished with value: 6.177008797478497 and parameters: {'order': (0, 0, 3), 'seasonal_order': (1, 0, 1, 12)}. Best is trial 16 with value: 3.1593911414897837.\n"
     ]
    },
    {
     "output_type": "stream",
     "name": "stdout",
     "output_type": "stream",
     "text": [
      "\nAt iterate   45    f=  8.04470D+00    |proj g|=  8.65295D-04\n\nAt iterate   50    f=  8.04081D+00    |proj g|=  2.90093D-02\n\n           * * *\n\nTit   = total number of iterations\nTnf   = total number of function evaluations\nTnint = total number of segments explored during Cauchy searches\nSkip  = number of BFGS updates skipped\nNact  = number of active bounds at final generalized Cauchy point\nProjg = norm of the final projected gradient\nF     = final function value\n\n           * * *\n\n   N    Tit     Tnf  Tnint  Skip  Nact     Projg        F\n   13     50     62      1     0     0   2.901D-02   8.041D+00\n  F =   8.0408070874657476     \n\nSTOP: TOTAL NO. of ITERATIONS REACHED LIMIT                 \nRUNNING THE L-BFGS-B CODE\n\n           * * *\n\nMachine precision = 2.220D-16\n N =           16     M =           10\n\nAt X0         0 variables are exactly at the bounds\n\nAt iterate    0    f=  8.04350D+00    |proj g|=  1.87178D-01\n"
     ]
    },
    {
     "output_type": "stream",
     "name": "stderr",
     "output_type": "stream",
     "text": [
      " This problem is unconstrained.\n"
     ]
    },
    {
     "output_type": "stream",
     "name": "stdout",
     "output_type": "stream",
     "text": [
      "\nAt iterate    5    f=  8.01018D+00    |proj g|=  1.29156D-02\n\nAt iterate   10    f=  8.00312D+00    |proj g|=  9.21167D-03\n\nAt iterate   15    f=  8.00287D+00    |proj g|=  4.75230D-03\n\nAt iterate   20    f=  8.00244D+00    |proj g|=  1.59797D-03\n\nAt iterate   25    f=  7.99955D+00    |proj g|=  4.46311D-02\n\nAt iterate   30    f=  7.98133D+00    |proj g|=  1.64506D-02\n\nAt iterate   35    f=  7.96706D+00    |proj g|=  2.89152D-02\n\nAt iterate   40    f=  7.96304D+00    |proj g|=  4.76995D-03\n"
     ]
    },
    {
     "output_type": "stream",
     "name": "stderr",
     "output_type": "stream",
     "text": [
      "[I 2024-07-03 11:05:40,584] Trial 31 finished with value: 3.848124669595984 and parameters: {'order': (2, 0, 2), 'seasonal_order': (2, 0, 2, 12)}. Best is trial 16 with value: 3.1593911414897837.\n"
     ]
    },
    {
     "output_type": "stream",
     "name": "stdout",
     "output_type": "stream",
     "text": [
      "\nAt iterate   45    f=  7.96277D+00    |proj g|=  1.02511D-03\n\nAt iterate   50    f=  7.96247D+00    |proj g|=  4.45367D-03\n\n           * * *\n\nTit   = total number of iterations\nTnf   = total number of function evaluations\nTnint = total number of segments explored during Cauchy searches\nSkip  = number of BFGS updates skipped\nNact  = number of active bounds at final generalized Cauchy point\nProjg = norm of the final projected gradient\nF     = final function value\n\n           * * *\n\n   N    Tit     Tnf  Tnint  Skip  Nact     Projg        F\n   16     50     55      1     0     0   4.454D-03   7.962D+00\n  F =   7.9624699521091493     \n\nSTOP: TOTAL NO. of ITERATIONS REACHED LIMIT                 \n"
     ]
    },
    {
     "output_type": "stream",
     "name": "stderr",
     "output_type": "stream",
     "text": [
      " This problem is unconstrained.\n"
     ]
    },
    {
     "output_type": "stream",
     "name": "stdout",
     "output_type": "stream",
     "text": [
      "RUNNING THE L-BFGS-B CODE\n\n           * * *\n\nMachine precision = 2.220D-16\n N =           16     M =           10\n\nAt X0         0 variables are exactly at the bounds\n\nAt iterate    0    f=  8.04350D+00    |proj g|=  1.87178D-01\n\nAt iterate    5    f=  8.01018D+00    |proj g|=  1.29156D-02\n\nAt iterate   10    f=  8.00312D+00    |proj g|=  9.21167D-03\n\nAt iterate   15    f=  8.00287D+00    |proj g|=  4.75230D-03\n\nAt iterate   20    f=  8.00244D+00    |proj g|=  1.59797D-03\n\nAt iterate   25    f=  7.99955D+00    |proj g|=  4.46311D-02\n\nAt iterate   30    f=  7.98133D+00    |proj g|=  1.64506D-02\n\nAt iterate   35    f=  7.96706D+00    |proj g|=  2.89152D-02\n\nAt iterate   40    f=  7.96304D+00    |proj g|=  4.76995D-03\n\nAt iterate   45    f=  7.96277D+00    |proj g|=  1.02511D-03\n"
     ]
    },
    {
     "output_type": "stream",
     "name": "stderr",
     "output_type": "stream",
     "text": [
      "[I 2024-07-03 11:05:42,123] Trial 32 finished with value: 3.848124669595984 and parameters: {'order': (2, 0, 2), 'seasonal_order': (2, 0, 2, 12)}. Best is trial 16 with value: 3.1593911414897837.\n"
     ]
    },
    {
     "output_type": "stream",
     "name": "stdout",
     "output_type": "stream",
     "text": [
      "\nAt iterate   50    f=  7.96247D+00    |proj g|=  4.45367D-03\n\n           * * *\n\nTit   = total number of iterations\nTnf   = total number of function evaluations\nTnint = total number of segments explored during Cauchy searches\nSkip  = number of BFGS updates skipped\nNact  = number of active bounds at final generalized Cauchy point\nProjg = norm of the final projected gradient\nF     = final function value\n\n           * * *\n\n   N    Tit     Tnf  Tnint  Skip  Nact     Projg        F\n   16     50     55      1     0     0   4.454D-03   7.962D+00\n  F =   7.9624699521091493     \n\nSTOP: TOTAL NO. of ITERATIONS REACHED LIMIT                 \nRUNNING THE L-BFGS-B CODE\n\n           * * *\n\nMachine precision = 2.220D-16\n N =           14     M =           10\n\nAt X0         0 variables are exactly at the bounds\n\nAt iterate    0    f=  5.34022D+00    |proj g|=  2.06466D-01\n"
     ]
    },
    {
     "output_type": "stream",
     "name": "stderr",
     "output_type": "stream",
     "text": [
      " This problem is unconstrained.\n"
     ]
    },
    {
     "output_type": "stream",
     "name": "stdout",
     "output_type": "stream",
     "text": [
      "\nAt iterate    5    f=  5.28228D+00    |proj g|=  1.22752D-02\n\nAt iterate   10    f=  5.27978D+00    |proj g|=  3.22756D-02\n\nAt iterate   15    f=  5.27526D+00    |proj g|=  5.36450D-03\n\nAt iterate   20    f=  5.26746D+00    |proj g|=  3.01526D-02\n\nAt iterate   25    f=  5.26684D+00    |proj g|=  1.45755D-03\n\nAt iterate   30    f=  5.26655D+00    |proj g|=  7.89321D-03\n\nAt iterate   35    f=  5.26365D+00    |proj g|=  3.59453D-02\n\nAt iterate   40    f=  5.25694D+00    |proj g|=  5.26537D-02\n\nAt iterate   45    f=  5.25079D+00    |proj g|=  5.48069D-02\n"
     ]
    },
    {
     "output_type": "stream",
     "name": "stderr",
     "output_type": "stream",
     "text": [
      "[I 2024-07-03 11:05:43,073] Trial 33 finished with value: 24.984875126690113 and parameters: {'order': (2, 1, 2), 'seasonal_order': (1, 1, 1, 12)}. Best is trial 16 with value: 3.1593911414897837.\n"
     ]
    },
    {
     "output_type": "stream",
     "name": "stdout",
     "output_type": "stream",
     "text": [
      "\nAt iterate   50    f=  5.24994D+00    |proj g|=  3.54130D-03\n\n           * * *\n\nTit   = total number of iterations\nTnf   = total number of function evaluations\nTnint = total number of segments explored during Cauchy searches\nSkip  = number of BFGS updates skipped\nNact  = number of active bounds at final generalized Cauchy point\nProjg = norm of the final projected gradient\nF     = final function value\n\n           * * *\n\n   N    Tit     Tnf  Tnint  Skip  Nact     Projg        F\n   14     50     59      1     0     0   3.541D-03   5.250D+00\n  F =   5.2499410142359597     \n\nSTOP: TOTAL NO. of ITERATIONS REACHED LIMIT                 \nRUNNING THE L-BFGS-B CODE\n\n           * * *\n\nMachine precision = 2.220D-16\n N =           16     M =           10\n\nAt X0         0 variables are exactly at the bounds\n\nAt iterate    0    f=  7.73679D+00    |proj g|=  2.19579D-01\n"
     ]
    },
    {
     "output_type": "stream",
     "name": "stderr",
     "output_type": "stream",
     "text": [
      " This problem is unconstrained.\n"
     ]
    },
    {
     "output_type": "stream",
     "name": "stdout",
     "output_type": "stream",
     "text": [
      "\nAt iterate    5    f=  7.70425D+00    |proj g|=  6.53332D-03\n\nAt iterate   10    f=  7.69664D+00    |proj g|=  3.40467D-02\n\nAt iterate   15    f=  7.69493D+00    |proj g|=  1.11561D-02\n\nAt iterate   20    f=  7.69143D+00    |proj g|=  7.38682D-03\n\nAt iterate   25    f=  7.68716D+00    |proj g|=  1.61872D-02\n\nAt iterate   30    f=  7.67862D+00    |proj g|=  3.22141D-03\n\nAt iterate   35    f=  7.67846D+00    |proj g|=  6.35941D-03\n\nAt iterate   40    f=  7.67762D+00    |proj g|=  2.12648D-03\n\nAt iterate   45    f=  7.67720D+00    |proj g|=  3.50847D-03\n\nAt iterate   50    f=  7.67518D+00    |proj g|=  6.62358D-03\n\n           * * *\n\nTit   = total number of iterations\nTnf   = total number of function evaluations\nTnint = total number of segments explored during Cauchy searches\nSkip  = number of BFGS updates skipped\nNact  = number of active bounds at final generalized Cauchy point\nProjg = norm of the final projected gradient\nF     = final function value\n\n           * * *\n\n   N    Tit     Tnf  Tnint  Skip  Nact     Projg        F\n   16     50     56      1     0     0   6.624D-03   7.675D+00\n  F =   7.6751792089316861     \n\nSTOP: TOTAL NO. of ITERATIONS REACHED LIMIT                 \n"
     ]
    },
    {
     "output_type": "stream",
     "name": "stderr",
     "output_type": "stream",
     "text": [
      "[I 2024-07-03 11:05:44,714] Trial 34 finished with value: 5.997506916672669 and parameters: {'order': (3, 1, 1), 'seasonal_order': (2, 0, 2, 12)}. Best is trial 16 with value: 3.1593911414897837.\n This problem is unconstrained.\n"
     ]
    },
    {
     "output_type": "stream",
     "name": "stdout",
     "output_type": "stream",
     "text": [
      "RUNNING THE L-BFGS-B CODE\n\n           * * *\n\nMachine precision = 2.220D-16\n N =           14     M =           10\n\nAt X0         0 variables are exactly at the bounds\n\nAt iterate    0    f=  5.35768D+00    |proj g|=  5.82214D-01\n\nAt iterate    5    f=  5.27655D+00    |proj g|=  1.94220D-02\n\nAt iterate   10    f=  5.27460D+00    |proj g|=  3.94665D-03\n\nAt iterate   15    f=  5.27344D+00    |proj g|=  5.31397D-03\n\nAt iterate   20    f=  5.27212D+00    |proj g|=  3.97888D-03\n\nAt iterate   25    f=  5.27211D+00    |proj g|=  2.33680D-03\n\nAt iterate   30    f=  5.27138D+00    |proj g|=  1.87106D-02\n\nAt iterate   35    f=  5.26842D+00    |proj g|=  2.88381D-02\n\nAt iterate   40    f=  5.26692D+00    |proj g|=  3.45503D-03\n\nAt iterate   45    f=  5.26685D+00    |proj g|=  1.77194D-03\n"
     ]
    },
    {
     "output_type": "stream",
     "name": "stderr",
     "output_type": "stream",
     "text": [
      "[I 2024-07-03 11:05:45,699] Trial 35 finished with value: 12.572697701572398 and parameters: {'order': (3, 1, 2), 'seasonal_order': (0, 1, 1, 12)}. Best is trial 16 with value: 3.1593911414897837.\n"
     ]
    },
    {
     "output_type": "stream",
     "name": "stdout",
     "output_type": "stream",
     "text": [
      "\nAt iterate   50    f=  5.26587D+00    |proj g|=  2.40580D-02\n\n           * * *\n\nTit   = total number of iterations\nTnf   = total number of function evaluations\nTnint = total number of segments explored during Cauchy searches\nSkip  = number of BFGS updates skipped\nNact  = number of active bounds at final generalized Cauchy point\nProjg = norm of the final projected gradient\nF     = final function value\n\n           * * *\n\n   N    Tit     Tnf  Tnint  Skip  Nact     Projg        F\n   14     50     62      1     0     0   2.406D-02   5.266D+00\n  F =   5.2658723309126865     \n\nSTOP: TOTAL NO. of ITERATIONS REACHED LIMIT                 \nRUNNING THE L-BFGS-B CODE\n\n           * * *\n\nMachine precision = 2.220D-16\n N =           13     M =           10\n\nAt X0         0 variables are exactly at the bounds\n\nAt iterate    0    f=  8.27725D+00    |proj g|=  9.73467D-01\n"
     ]
    },
    {
     "output_type": "stream",
     "name": "stderr",
     "output_type": "stream",
     "text": [
      " This problem is unconstrained.\n"
     ]
    },
    {
     "output_type": "stream",
     "name": "stdout",
     "output_type": "stream",
     "text": [
      "\nAt iterate    5    f=  8.16092D+00    |proj g|=  2.72999D-02\n\nAt iterate   10    f=  8.15796D+00    |proj g|=  4.99164D-04\n\nAt iterate   15    f=  8.15787D+00    |proj g|=  5.99377D-03\n\nAt iterate   20    f=  8.15606D+00    |proj g|=  8.84796D-03\n\nAt iterate   25    f=  8.14159D+00    |proj g|=  6.48904D-02\n\nAt iterate   30    f=  8.13425D+00    |proj g|=  2.01831D-03\n\nAt iterate   35    f=  8.13422D+00    |proj g|=  4.39917D-04\n\nAt iterate   40    f=  8.13233D+00    |proj g|=  2.01249D-02\n\nAt iterate   45    f=  8.09751D+00    |proj g|=  7.73664D-02\n\nAt iterate   50    f=  8.08557D+00    |proj g|=  4.33777D-03\n\n           * * *\n\nTit   = total number of iterations\nTnf   = total number of function evaluations\nTnint = total number of segments explored during Cauchy searches\nSkip  = number of BFGS updates skipped\nNact  = number of active bounds at final generalized Cauchy point\nProjg = norm of the final projected gradient\nF     = final function value\n\n           * * *\n\n   N    Tit     Tnf  Tnint  Skip  Nact     Projg        F\n   13     50     54      1     0     0   4.338D-03   8.086D+00\n  F =   8.0855739328195000     \n\nSTOP: TOTAL NO. of ITERATIONS REACHED LIMIT                 \n"
     ]
    },
    {
     "output_type": "stream",
     "name": "stderr",
     "output_type": "stream",
     "text": [
      "[I 2024-07-03 11:05:47,362] Trial 36 finished with value: 28.71759443103955 and parameters: {'order': (0, 0, 2), 'seasonal_order': (3, 0, 0, 12)}. Best is trial 16 with value: 3.1593911414897837.\n This problem is unconstrained.\n"
     ]
    },
    {
     "output_type": "stream",
     "name": "stdout",
     "output_type": "stream",
     "text": [
      "RUNNING THE L-BFGS-B CODE\n\n           * * *\n\nMachine precision = 2.220D-16\n N =           15     M =           10\n\nAt X0         0 variables are exactly at the bounds\n\nAt iterate    0    f=  5.66286D+00    |proj g|=  3.80289D-01\n\nAt iterate    5    f=  5.51953D+00    |proj g|=  7.45068D-03\n\nAt iterate   10    f=  5.51855D+00    |proj g|=  1.57208D-03\n\nAt iterate   15    f=  5.51779D+00    |proj g|=  4.42645D-03\n\nAt iterate   20    f=  5.51759D+00    |proj g|=  4.14441D-03\n\nAt iterate   25    f=  5.51613D+00    |proj g|=  3.02812D-03\n\nAt iterate   30    f=  5.51498D+00    |proj g|=  7.56818D-03\n\nAt iterate   35    f=  5.49222D+00    |proj g|=  8.40215D-02\n\nAt iterate   40    f=  5.48050D+00    |proj g|=  1.29376D-02\n\nAt iterate   45    f=  5.47583D+00    |proj g|=  5.73622D-03\n"
     ]
    },
    {
     "output_type": "stream",
     "name": "stderr",
     "output_type": "stream",
     "text": [
      "[I 2024-07-03 11:05:49,306] Trial 37 finished with value: 31.78810302085643 and parameters: {'order': (2, 0, 2), 'seasonal_order': (0, 1, 3, 12)}. Best is trial 16 with value: 3.1593911414897837.\n"
     ]
    },
    {
     "output_type": "stream",
     "name": "stdout",
     "output_type": "stream",
     "text": [
      "\nAt iterate   50    f=  5.47562D+00    |proj g|=  1.45192D-03\n\n           * * *\n\nTit   = total number of iterations\nTnf   = total number of function evaluations\nTnint = total number of segments explored during Cauchy searches\nSkip  = number of BFGS updates skipped\nNact  = number of active bounds at final generalized Cauchy point\nProjg = norm of the final projected gradient\nF     = final function value\n\n           * * *\n\n   N    Tit     Tnf  Tnint  Skip  Nact     Projg        F\n   15     50     53      1     0     0   1.452D-03   5.476D+00\n  F =   5.4756194368671744     \n\nSTOP: TOTAL NO. of ITERATIONS REACHED LIMIT                 \nRUNNING THE L-BFGS-B CODE\n\n           * * *\n\nMachine precision = 2.220D-16\n N =           15     M =           10\n\nAt X0         0 variables are exactly at the bounds\n\nAt iterate    0    f=  5.68031D+00    |proj g|=  2.67473D-01\n"
     ]
    },
    {
     "output_type": "stream",
     "name": "stderr",
     "output_type": "stream",
     "text": [
      " This problem is unconstrained.\n"
     ]
    },
    {
     "output_type": "stream",
     "name": "stdout",
     "output_type": "stream",
     "text": [
      "\nAt iterate    5    f=  5.56213D+00    |proj g|=  9.11264D-03\n\nAt iterate   10    f=  5.55615D+00    |proj g|=  4.48240D-02\n\nAt iterate   15    f=  5.54968D+00    |proj g|=  1.93505D-03\n\nAt iterate   20    f=  5.54924D+00    |proj g|=  6.88964D-03\n\nAt iterate   25    f=  5.54871D+00    |proj g|=  1.57003D-03\n\nAt iterate   30    f=  5.54713D+00    |proj g|=  5.79076D-03\n\nAt iterate   35    f=  5.54501D+00    |proj g|=  5.50762D-03\n\nAt iterate   40    f=  5.53450D+00    |proj g|=  1.41320D-02\n\nAt iterate   45    f=  5.52350D+00    |proj g|=  1.62336D-03\n"
     ]
    },
    {
     "output_type": "stream",
     "name": "stderr",
     "output_type": "stream",
     "text": [
      "[I 2024-07-03 11:05:52,044] Trial 38 finished with value: 21.631535199264093 and parameters: {'order': (2, 0, 1), 'seasonal_order': (3, 1, 1, 12)}. Best is trial 16 with value: 3.1593911414897837.\n"
     ]
    },
    {
     "output_type": "stream",
     "name": "stdout",
     "output_type": "stream",
     "text": [
      "\nAt iterate   50    f=  5.52335D+00    |proj g|=  5.60820D-04\n\n           * * *\n\nTit   = total number of iterations\nTnf   = total number of function evaluations\nTnint = total number of segments explored during Cauchy searches\nSkip  = number of BFGS updates skipped\nNact  = number of active bounds at final generalized Cauchy point\nProjg = norm of the final projected gradient\nF     = final function value\n\n           * * *\n\n   N    Tit     Tnf  Tnint  Skip  Nact     Projg        F\n   15     50     54      1     0     0   5.608D-04   5.523D+00\n  F =   5.5233492397507931     \n\nSTOP: TOTAL NO. of ITERATIONS REACHED LIMIT                 \n"
     ]
    },
    {
     "output_type": "stream",
     "name": "stderr",
     "output_type": "stream",
     "text": [
      " This problem is unconstrained.\n"
     ]
    },
    {
     "output_type": "stream",
     "name": "stdout",
     "output_type": "stream",
     "text": [
      "RUNNING THE L-BFGS-B CODE\n\n           * * *\n\nMachine precision = 2.220D-16\n N =           16     M =           10\n\nAt X0         0 variables are exactly at the bounds\n\nAt iterate    0    f=  5.34886D+00    |proj g|=  1.73050D-01\n\nAt iterate    5    f=  5.28605D+00    |proj g|=  6.17005D-03\n\nAt iterate   10    f=  5.27979D+00    |proj g|=  4.11711D-02\n\nAt iterate   15    f=  5.27341D+00    |proj g|=  5.85837D-03\n\nAt iterate   20    f=  5.27262D+00    |proj g|=  9.24804D-03\n\nAt iterate   25    f=  5.27154D+00    |proj g|=  7.18253D-03\n\nAt iterate   30    f=  5.27146D+00    |proj g|=  2.37007D-03\n\nAt iterate   35    f=  5.27025D+00    |proj g|=  4.73456D-02\n\nAt iterate   40    f=  5.25989D+00    |proj g|=  7.22720D-02\n\nAt iterate   45    f=  5.24524D+00    |proj g|=  1.00581D-01\n\nAt iterate   50    f=  5.23855D+00    |proj g|=  4.16331D-02\n\n           * * *\n\nTit   = total number of iterations\nTnf   = total number of function evaluations\nTnint = total number of segments explored during Cauchy searches\nSkip  = number of BFGS updates skipped\nNact  = number of active bounds at final generalized Cauchy point\nProjg = norm of the final projected gradient\nF     = final function value\n\n           * * *\n\n   N    Tit     Tnf  Tnint  Skip  Nact     Projg        F\n   16     50     61      1     0     0   4.163D-02   5.239D+00\n  F =   5.2385470357771196     \n\nSTOP: TOTAL NO. of ITERATIONS REACHED LIMIT                 \n"
     ]
    },
    {
     "output_type": "stream",
     "name": "stderr",
     "output_type": "stream",
     "text": [
      "[I 2024-07-03 11:05:54,051] Trial 39 finished with value: 28.239579185484402 and parameters: {'order': (2, 1, 3), 'seasonal_order': (2, 1, 1, 12)}. Best is trial 16 with value: 3.1593911414897837.\n"
     ]
    },
    {
     "output_type": "stream",
     "name": "stdout",
     "output_type": "stream",
     "text": [
      "RUNNING THE L-BFGS-B CODE\n\n           * * *\n\nMachine precision = 2.220D-16\n N =           15     M =           10\n\nAt X0         0 variables are exactly at the bounds\n\nAt iterate    0    f=  5.64259D+00    |proj g|=  3.30762D-01\n"
     ]
    },
    {
     "output_type": "stream",
     "name": "stderr",
     "output_type": "stream",
     "text": [
      " This problem is unconstrained.\n"
     ]
    },
    {
     "output_type": "stream",
     "name": "stdout",
     "output_type": "stream",
     "text": [
      "\nAt iterate    5    f=  5.52559D+00    |proj g|=  2.14846D-02\n\nAt iterate   10    f=  5.52297D+00    |proj g|=  1.74749D-03\n\nAt iterate   15    f=  5.52167D+00    |proj g|=  1.24117D-02\n\nAt iterate   20    f=  5.52085D+00    |proj g|=  1.00811D-03\n\nAt iterate   25    f=  5.51989D+00    |proj g|=  1.18956D-02\n\nAt iterate   30    f=  5.51698D+00    |proj g|=  1.32180D-02\n\nAt iterate   35    f=  5.51197D+00    |proj g|=  2.60995D-02\n\nAt iterate   40    f=  5.49648D+00    |proj g|=  2.60728D-02\n\nAt iterate   45    f=  5.49518D+00    |proj g|=  1.81408D-03\n"
     ]
    },
    {
     "output_type": "stream",
     "name": "stderr",
     "output_type": "stream",
     "text": [
      "[I 2024-07-03 11:05:55,729] Trial 40 finished with value: 29.93371067967435 and parameters: {'order': (2, 0, 3), 'seasonal_order': (0, 1, 2, 12)}. Best is trial 16 with value: 3.1593911414897837.\n"
     ]
    },
    {
     "output_type": "stream",
     "name": "stdout",
     "output_type": "stream",
     "text": [
      "\nAt iterate   50    f=  5.48961D+00    |proj g|=  3.07710D-02\n\n           * * *\n\nTit   = total number of iterations\nTnf   = total number of function evaluations\nTnint = total number of segments explored during Cauchy searches\nSkip  = number of BFGS updates skipped\nNact  = number of active bounds at final generalized Cauchy point\nProjg = norm of the final projected gradient\nF     = final function value\n\n           * * *\n\n   N    Tit     Tnf  Tnint  Skip  Nact     Projg        F\n   15     50     69      1     0     0   3.077D-02   5.490D+00\n  F =   5.4896074955559797     \n\nSTOP: TOTAL NO. of ITERATIONS REACHED LIMIT                 \nRUNNING THE L-BFGS-B CODE\n\n           * * *\n\nMachine precision = 2.220D-16\n N =           16     M =           10\n\nAt X0         0 variables are exactly at the bounds\n\nAt iterate    0    f=  8.04350D+00    |proj g|=  1.87178D-01\n"
     ]
    },
    {
     "output_type": "stream",
     "name": "stderr",
     "output_type": "stream",
     "text": [
      " This problem is unconstrained.\n"
     ]
    },
    {
     "output_type": "stream",
     "name": "stdout",
     "output_type": "stream",
     "text": [
      "\nAt iterate    5    f=  8.01018D+00    |proj g|=  1.29156D-02\n\nAt iterate   10    f=  8.00312D+00    |proj g|=  9.21167D-03\n\nAt iterate   15    f=  8.00287D+00    |proj g|=  4.75230D-03\n\nAt iterate   20    f=  8.00244D+00    |proj g|=  1.59797D-03\n\nAt iterate   25    f=  7.99955D+00    |proj g|=  4.46311D-02\n\nAt iterate   30    f=  7.98133D+00    |proj g|=  1.64506D-02\n\nAt iterate   35    f=  7.96706D+00    |proj g|=  2.89152D-02\n\nAt iterate   40    f=  7.96304D+00    |proj g|=  4.76995D-03\n\nAt iterate   45    f=  7.96277D+00    |proj g|=  1.02511D-03\n"
     ]
    },
    {
     "output_type": "stream",
     "name": "stderr",
     "output_type": "stream",
     "text": [
      "[I 2024-07-03 11:05:57,680] Trial 41 finished with value: 3.848124669595984 and parameters: {'order': (2, 0, 2), 'seasonal_order': (2, 0, 2, 12)}. Best is trial 16 with value: 3.1593911414897837.\n"
     ]
    },
    {
     "output_type": "stream",
     "name": "stdout",
     "output_type": "stream",
     "text": [
      "\nAt iterate   50    f=  7.96247D+00    |proj g|=  4.45367D-03\n\n           * * *\n\nTit   = total number of iterations\nTnf   = total number of function evaluations\nTnint = total number of segments explored during Cauchy searches\nSkip  = number of BFGS updates skipped\nNact  = number of active bounds at final generalized Cauchy point\nProjg = norm of the final projected gradient\nF     = final function value\n\n           * * *\n\n   N    Tit     Tnf  Tnint  Skip  Nact     Projg        F\n   16     50     55      1     0     0   4.454D-03   7.962D+00\n  F =   7.9624699521091493     \n\nSTOP: TOTAL NO. of ITERATIONS REACHED LIMIT                 \nRUNNING THE L-BFGS-B CODE\n\n           * * *\n\nMachine precision = 2.220D-16\n N =           14     M =           10\n\nAt X0         0 variables are exactly at the bounds\n\nAt iterate    0    f=  8.04350D+00    |proj g|=  1.87178D-01\n"
     ]
    },
    {
     "output_type": "stream",
     "name": "stderr",
     "output_type": "stream",
     "text": [
      " This problem is unconstrained.\n"
     ]
    },
    {
     "output_type": "stream",
     "name": "stdout",
     "output_type": "stream",
     "text": [
      "\nAt iterate    5    f=  8.00995D+00    |proj g|=  1.39538D-02\n\nAt iterate   10    f=  8.00299D+00    |proj g|=  6.30212D-03\n\nAt iterate   15    f=  8.00248D+00    |proj g|=  4.69296D-03\n\nAt iterate   20    f=  8.00121D+00    |proj g|=  1.58395D-02\n\nAt iterate   25    f=  7.97406D+00    |proj g|=  2.64043D-02\n\nAt iterate   30    f=  7.96366D+00    |proj g|=  8.45621D-03\n\nAt iterate   35    f=  7.96283D+00    |proj g|=  8.27373D-04\n\nAt iterate   40    f=  7.96195D+00    |proj g|=  4.14860D-02\n\nAt iterate   45    f=  7.95281D+00    |proj g|=  2.34371D-02\n"
     ]
    },
    {
     "output_type": "stream",
     "name": "stderr",
     "output_type": "stream",
     "text": [
      "[I 2024-07-03 11:05:58,976] Trial 42 finished with value: 14.725773740996019 and parameters: {'order': (2, 0, 2), 'seasonal_order': (2, 0, 0, 12)}. Best is trial 16 with value: 3.1593911414897837.\n"
     ]
    },
    {
     "output_type": "stream",
     "name": "stdout",
     "output_type": "stream",
     "text": [
      "\nAt iterate   50    f=  7.93284D+00    |proj g|=  1.27936D-02\n\n           * * *\n\nTit   = total number of iterations\nTnf   = total number of function evaluations\nTnint = total number of segments explored during Cauchy searches\nSkip  = number of BFGS updates skipped\nNact  = number of active bounds at final generalized Cauchy point\nProjg = norm of the final projected gradient\nF     = final function value\n\n           * * *\n\n   N    Tit     Tnf  Tnint  Skip  Nact     Projg        F\n   14     50     63      1     0     0   1.279D-02   7.933D+00\n  F =   7.9328416247230660     \n\nSTOP: TOTAL NO. of ITERATIONS REACHED LIMIT                 \nRUNNING THE L-BFGS-B CODE\n\n           * * *\n\nMachine precision = 2.220D-16\n N =           12     M =           10\n\nAt X0         0 variables are exactly at the bounds\n\nAt iterate    0    f=  7.74499D+00    |proj g|=  1.91631D-01\n\nAt iterate    5    f=  7.71922D+00    |proj g|=  4.12896D-03\n"
     ]
    },
    {
     "output_type": "stream",
     "name": "stderr",
     "output_type": "stream",
     "text": [
      " This problem is unconstrained.\n"
     ]
    },
    {
     "output_type": "stream",
     "name": "stdout",
     "output_type": "stream",
     "text": [
      "\nAt iterate   10    f=  7.71775D+00    |proj g|=  1.55005D-02\n\nAt iterate   15    f=  7.71729D+00    |proj g|=  3.50009D-03\n\nAt iterate   20    f=  7.71503D+00    |proj g|=  3.77073D-02\n\nAt iterate   25    f=  7.70748D+00    |proj g|=  9.61329D-03\n\nAt iterate   30    f=  7.70739D+00    |proj g|=  2.87014D-03\n\nAt iterate   35    f=  7.70505D+00    |proj g|=  2.80397D-02\n\nAt iterate   40    f=  7.70223D+00    |proj g|=  8.72238D-04\n"
     ]
    },
    {
     "output_type": "stream",
     "name": "stderr",
     "output_type": "stream",
     "text": [
      "[I 2024-07-03 11:05:59,792] Trial 43 finished with value: 5.942990769955739 and parameters: {'order': (0, 1, 2), 'seasonal_order': (0, 0, 2, 12)}. Best is trial 16 with value: 3.1593911414897837.\n"
     ]
    },
    {
     "output_type": "stream",
     "name": "stdout",
     "output_type": "stream",
     "text": [
      "\nAt iterate   45    f=  7.70220D+00    |proj g|=  2.83154D-04\n\nAt iterate   50    f=  7.70208D+00    |proj g|=  5.63524D-03\n\n           * * *\n\nTit   = total number of iterations\nTnf   = total number of function evaluations\nTnint = total number of segments explored during Cauchy searches\nSkip  = number of BFGS updates skipped\nNact  = number of active bounds at final generalized Cauchy point\nProjg = norm of the final projected gradient\nF     = final function value\n\n           * * *\n\n   N    Tit     Tnf  Tnint  Skip  Nact     Projg        F\n   12     50     54      1     0     0   5.635D-03   7.702D+00\n  F =   7.7020842111747907     \n\nSTOP: TOTAL NO. of ITERATIONS REACHED LIMIT                 \nRUNNING THE L-BFGS-B CODE\n\n           * * *\n\nMachine precision = 2.220D-16\n N =           16     M =           10\n\nAt X0         0 variables are exactly at the bounds\n\nAt iterate    0    f=  8.04350D+00    |proj g|=  1.87178D-01\n"
     ]
    },
    {
     "output_type": "stream",
     "name": "stderr",
     "output_type": "stream",
     "text": [
      " This problem is unconstrained.\n"
     ]
    },
    {
     "output_type": "stream",
     "name": "stdout",
     "output_type": "stream",
     "text": [
      "\nAt iterate    5    f=  8.01018D+00    |proj g|=  1.29156D-02\n\nAt iterate   10    f=  8.00312D+00    |proj g|=  9.21167D-03\n\nAt iterate   15    f=  8.00287D+00    |proj g|=  4.75230D-03\n\nAt iterate   20    f=  8.00244D+00    |proj g|=  1.59797D-03\n\nAt iterate   25    f=  7.99955D+00    |proj g|=  4.46311D-02\n\nAt iterate   30    f=  7.98133D+00    |proj g|=  1.64506D-02\n\nAt iterate   35    f=  7.96706D+00    |proj g|=  2.89152D-02\n\nAt iterate   40    f=  7.96304D+00    |proj g|=  4.76995D-03\n\nAt iterate   45    f=  7.96277D+00    |proj g|=  1.02511D-03\n"
     ]
    },
    {
     "output_type": "stream",
     "name": "stderr",
     "output_type": "stream",
     "text": [
      "[I 2024-07-03 11:06:01,350] Trial 44 finished with value: 3.848124669595984 and parameters: {'order': (2, 0, 2), 'seasonal_order': (2, 0, 2, 12)}. Best is trial 16 with value: 3.1593911414897837.\n"
     ]
    },
    {
     "output_type": "stream",
     "name": "stdout",
     "output_type": "stream",
     "text": [
      "\nAt iterate   50    f=  7.96247D+00    |proj g|=  4.45367D-03\n\n           * * *\n\nTit   = total number of iterations\nTnf   = total number of function evaluations\nTnint = total number of segments explored during Cauchy searches\nSkip  = number of BFGS updates skipped\nNact  = number of active bounds at final generalized Cauchy point\nProjg = norm of the final projected gradient\nF     = final function value\n\n           * * *\n\n   N    Tit     Tnf  Tnint  Skip  Nact     Projg        F\n   16     50     55      1     0     0   4.454D-03   7.962D+00\n  F =   7.9624699521091493     \n\nSTOP: TOTAL NO. of ITERATIONS REACHED LIMIT                 \nRUNNING THE L-BFGS-B CODE\n\n           * * *\n\nMachine precision = 2.220D-16\n N =           17     M =           10\n\nAt X0         0 variables are exactly at the bounds\n\nAt iterate    0    f=  5.34259D+00    |proj g|=  2.19982D-01\n"
     ]
    },
    {
     "output_type": "stream",
     "name": "stderr",
     "output_type": "stream",
     "text": [
      " This problem is unconstrained.\n"
     ]
    },
    {
     "output_type": "stream",
     "name": "stdout",
     "output_type": "stream",
     "text": [
      "\nAt iterate    5    f=  5.27898D+00    |proj g|=  7.85296D-03\n\nAt iterate   10    f=  5.27679D+00    |proj g|=  9.63270D-03\n\nAt iterate   15    f=  5.27527D+00    |proj g|=  3.79215D-03\n\nAt iterate   20    f=  5.27410D+00    |proj g|=  5.52050D-03\n\nAt iterate   25    f=  5.27110D+00    |proj g|=  1.18584D-02\n\nAt iterate   30    f=  5.25565D+00    |proj g|=  2.93333D-02\n\nAt iterate   35    f=  5.23006D+00    |proj g|=  1.63679D-02\n\nAt iterate   40    f=  5.22807D+00    |proj g|=  1.59971D-03\n\nAt iterate   45    f=  5.22798D+00    |proj g|=  1.33853D-03\n"
     ]
    },
    {
     "output_type": "stream",
     "name": "stderr",
     "output_type": "stream",
     "text": [
      "[I 2024-07-03 11:06:04,723] Trial 45 finished with value: 29.84771395673169 and parameters: {'order': (2, 1, 1), 'seasonal_order': (3, 1, 3, 12)}. Best is trial 16 with value: 3.1593911414897837.\n"
     ]
    },
    {
     "output_type": "stream",
     "name": "stdout",
     "output_type": "stream",
     "text": [
      "\nAt iterate   50    f=  5.22703D+00    |proj g|=  9.39379D-03\n\n           * * *\n\nTit   = total number of iterations\nTnf   = total number of function evaluations\nTnint = total number of segments explored during Cauchy searches\nSkip  = number of BFGS updates skipped\nNact  = number of active bounds at final generalized Cauchy point\nProjg = norm of the final projected gradient\nF     = final function value\n\n           * * *\n\n   N    Tit     Tnf  Tnint  Skip  Nact     Projg        F\n   17     50     58      1     0     0   9.394D-03   5.227D+00\n  F =   5.2270255438525934     \n\nSTOP: TOTAL NO. of ITERATIONS REACHED LIMIT                 \n"
     ]
    },
    {
     "output_type": "stream",
     "name": "stderr",
     "output_type": "stream",
     "text": [
      " This problem is unconstrained.\n"
     ]
    },
    {
     "output_type": "stream",
     "name": "stdout",
     "output_type": "stream",
     "text": [
      "RUNNING THE L-BFGS-B CODE\n\n           * * *\n\nMachine precision = 2.220D-16\n N =           12     M =           10\n\nAt X0         0 variables are exactly at the bounds\n\nAt iterate    0    f=  5.29869D+00    |proj g|=  7.73467D-02\n\nAt iterate    5    f=  5.28549D+00    |proj g|=  5.55146D-03\n\nAt iterate   10    f=  5.28396D+00    |proj g|=  3.85440D-03\n\nAt iterate   15    f=  5.28241D+00    |proj g|=  2.71969D-03\n\nAt iterate   20    f=  5.27727D+00    |proj g|=  3.25673D-02\n\nAt iterate   25    f=  5.24205D+00    |proj g|=  6.04779D-03\n\nAt iterate   30    f=  5.24173D+00    |proj g|=  1.11049D-03\n\nAt iterate   35    f=  5.24008D+00    |proj g|=  1.84204D-02\n\nAt iterate   40    f=  5.23668D+00    |proj g|=  1.99689D-03\n"
     ]
    },
    {
     "output_type": "stream",
     "name": "stderr",
     "output_type": "stream",
     "text": [
      "[I 2024-07-03 11:06:05,561] Trial 46 finished with value: 32.37847585478453 and parameters: {'order': (1, 1, 2), 'seasonal_order': (1, 1, 0, 12)}. Best is trial 16 with value: 3.1593911414897837.\n"
     ]
    },
    {
     "output_type": "stream",
     "name": "stdout",
     "output_type": "stream",
     "text": [
      "\nAt iterate   45    f=  5.23618D+00    |proj g|=  2.38371D-03\n\nAt iterate   50    f=  5.22804D+00    |proj g|=  5.45854D-03\n\n           * * *\n\nTit   = total number of iterations\nTnf   = total number of function evaluations\nTnint = total number of segments explored during Cauchy searches\nSkip  = number of BFGS updates skipped\nNact  = number of active bounds at final generalized Cauchy point\nProjg = norm of the final projected gradient\nF     = final function value\n\n           * * *\n\n   N    Tit     Tnf  Tnint  Skip  Nact     Projg        F\n   12     50     59      1     0     0   5.459D-03   5.228D+00\n  F =   5.2280441814163945     \n\nSTOP: TOTAL NO. of ITERATIONS REACHED LIMIT                 \nRUNNING THE L-BFGS-B CODE\n\n           * * *\n\nMachine precision = 2.220D-16\n N =           16     M =           10\n\nAt X0         0 variables are exactly at the bounds\n\nAt iterate    0    f=  5.62070D+00    |proj g|=  2.69154D-01\n"
     ]
    },
    {
     "output_type": "stream",
     "name": "stderr",
     "output_type": "stream",
     "text": [
      " This problem is unconstrained.\n"
     ]
    },
    {
     "output_type": "stream",
     "name": "stdout",
     "output_type": "stream",
     "text": [
      "\nAt iterate    5    f=  5.54504D+00    |proj g|=  7.42674D-03\n\nAt iterate   10    f=  5.54332D+00    |proj g|=  1.27462D-03\n\nAt iterate   15    f=  5.54311D+00    |proj g|=  7.67274D-04\n\nAt iterate   20    f=  5.54278D+00    |proj g|=  1.01134D-02\n\nAt iterate   25    f=  5.53948D+00    |proj g|=  1.07698D-02\n\nAt iterate   30    f=  5.53634D+00    |proj g|=  2.03692D-02\n\nAt iterate   35    f=  5.52785D+00    |proj g|=  7.76584D-03\n\nAt iterate   40    f=  5.52471D+00    |proj g|=  3.80158D-03\n\nAt iterate   45    f=  5.52172D+00    |proj g|=  4.44648D-03\n\nAt iterate   50    f=  5.52053D+00    |proj g|=  7.30667D-03\n\n           * * *\n\nTit   = total number of iterations\nTnf   = total number of function evaluations\nTnint = total number of segments explored during Cauchy searches\nSkip  = number of BFGS updates skipped\nNact  = number of active bounds at final generalized Cauchy point\nProjg = norm of the final projected gradient\nF     = final function value\n\n           * * *\n\n   N    Tit     Tnf  Tnint  Skip  Nact     Projg        F\n   16     50     57      1     0     0   7.307D-03   5.521D+00\n  F =   5.5205305211746705     \n\nSTOP: TOTAL NO. of ITERATIONS REACHED LIMIT                 \n"
     ]
    },
    {
     "output_type": "stream",
     "name": "stderr",
     "output_type": "stream",
     "text": [
      "[I 2024-07-03 11:06:07,613] Trial 47 finished with value: 20.0059418601683 and parameters: {'order': (3, 0, 1), 'seasonal_order': (2, 1, 2, 12)}. Best is trial 16 with value: 3.1593911414897837.\n This problem is unconstrained.\n"
     ]
    },
    {
     "output_type": "stream",
     "name": "stdout",
     "output_type": "stream",
     "text": [
      "RUNNING THE L-BFGS-B CODE\n\n           * * *\n\nMachine precision = 2.220D-16\n N =           14     M =           10\n\nAt X0         0 variables are exactly at the bounds\n\nAt iterate    0    f=  8.08758D+00    |proj g|=  2.17173D-01\n\nAt iterate    5    f=  8.05178D+00    |proj g|=  4.28120D-03\n\nAt iterate   10    f=  8.04988D+00    |proj g|=  6.91282D-03\n\nAt iterate   15    f=  8.04955D+00    |proj g|=  1.19297D-02\n\nAt iterate   20    f=  8.04784D+00    |proj g|=  8.70278D-03\n\nAt iterate   25    f=  8.03517D+00    |proj g|=  4.17142D-02\n\nAt iterate   30    f=  8.00566D+00    |proj g|=  2.51976D-02\n\nAt iterate   35    f=  7.98785D+00    |proj g|=  1.88750D-02\n\nAt iterate   40    f=  7.98738D+00    |proj g|=  1.03283D-03\n"
     ]
    },
    {
     "output_type": "stream",
     "name": "stderr",
     "output_type": "stream",
     "text": [
      "[I 2024-07-03 11:06:08,813] Trial 48 finished with value: 7.466389579293847 and parameters: {'order': (1, 0, 1), 'seasonal_order': (2, 0, 2, 12)}. Best is trial 16 with value: 3.1593911414897837.\n"
     ]
    },
    {
     "output_type": "stream",
     "name": "stdout",
     "output_type": "stream",
     "text": [
      "\nAt iterate   45    f=  7.98645D+00    |proj g|=  3.89680D-03\n\nAt iterate   50    f=  7.98498D+00    |proj g|=  3.43705D-03\n\n           * * *\n\nTit   = total number of iterations\nTnf   = total number of function evaluations\nTnint = total number of segments explored during Cauchy searches\nSkip  = number of BFGS updates skipped\nNact  = number of active bounds at final generalized Cauchy point\nProjg = norm of the final projected gradient\nF     = final function value\n\n           * * *\n\n   N    Tit     Tnf  Tnint  Skip  Nact     Projg        F\n   14     50     59      1     0     0   3.437D-03   7.985D+00\n  F =   7.9849812523847410     \n\nSTOP: TOTAL NO. of ITERATIONS REACHED LIMIT                 \nRUNNING THE L-BFGS-B CODE\n\n           * * *\n\nMachine precision = 2.220D-16\n N =           11     M =           10\n\nAt X0         0 variables are exactly at the bounds\n\nAt iterate    0    f=  5.70003D+00    |proj g|=  2.31959D-01\n"
     ]
    },
    {
     "output_type": "stream",
     "name": "stderr",
     "output_type": "stream",
     "text": [
      " This problem is unconstrained.\n"
     ]
    },
    {
     "output_type": "stream",
     "name": "stdout",
     "output_type": "stream",
     "text": [
      "\nAt iterate    5    f=  5.63593D+00    |proj g|=  1.16037D-02\n\nAt iterate   10    f=  5.62689D+00    |proj g|=  9.93347D-03\n\nAt iterate   15    f=  5.62619D+00    |proj g|=  2.63807D-03\n\nAt iterate   20    f=  5.61329D+00    |proj g|=  8.39360D-02\n\nAt iterate   25    f=  5.57559D+00    |proj g|=  3.85769D-03\n\nAt iterate   30    f=  5.56937D+00    |proj g|=  6.67369D-03\n\nAt iterate   35    f=  5.56877D+00    |proj g|=  2.76988D-03\n\nAt iterate   40    f=  5.56299D+00    |proj g|=  5.02680D-03\n"
     ]
    },
    {
     "output_type": "stream",
     "name": "stderr",
     "output_type": "stream",
     "text": [
      "[I 2024-07-03 11:06:09,997] Trial 49 finished with value: 19.903787300421858 and parameters: {'order': (1, 0, 0), 'seasonal_order': (2, 1, 0, 12)}. Best is trial 16 with value: 3.1593911414897837.\n"
     ]
    },
    {
     "output_type": "stream",
     "name": "stdout",
     "output_type": "stream",
     "text": [
      "\nAt iterate   45    f=  5.55614D+00    |proj g|=  2.27368D-03\n\nAt iterate   50    f=  5.55580D+00    |proj g|=  4.19667D-03\n\n           * * *\n\nTit   = total number of iterations\nTnf   = total number of function evaluations\nTnint = total number of segments explored during Cauchy searches\nSkip  = number of BFGS updates skipped\nNact  = number of active bounds at final generalized Cauchy point\nProjg = norm of the final projected gradient\nF     = final function value\n\n           * * *\n\n   N    Tit     Tnf  Tnint  Skip  Nact     Projg        F\n   11     50     59      1     0     0   4.197D-03   5.556D+00\n  F =   5.5558039660942393     \n\nSTOP: TOTAL NO. of ITERATIONS REACHED LIMIT                 \nRUNNING THE L-BFGS-B CODE\n\n           * * *\n\nMachine precision = 2.220D-16\n N =           15     M =           10\n\nAt X0         0 variables are exactly at the bounds\n\nAt iterate    0    f=  5.64131D+00    |proj g|=  2.69275D-01\n"
     ]
    },
    {
     "output_type": "stream",
     "name": "stderr",
     "output_type": "stream",
     "text": [
      " This problem is unconstrained.\n"
     ]
    },
    {
     "output_type": "stream",
     "name": "stdout",
     "output_type": "stream",
     "text": [
      "\nAt iterate    5    f=  5.57215D+00    |proj g|=  4.82753D-03\n\nAt iterate   10    f=  5.57024D+00    |proj g|=  5.38446D-03\n\nAt iterate   15    f=  5.56842D+00    |proj g|=  1.32164D-03\n\nAt iterate   20    f=  5.56773D+00    |proj g|=  8.82161D-03\n\nAt iterate   25    f=  5.56740D+00    |proj g|=  3.06479D-03\n\nAt iterate   30    f=  5.56309D+00    |proj g|=  1.90049D-02\n\nAt iterate   35    f=  5.54596D+00    |proj g|=  2.52641D-02\n\nAt iterate   40    f=  5.53719D+00    |proj g|=  5.44368D-04\n\nAt iterate   45    f=  5.53626D+00    |proj g|=  8.60239D-03\n\nAt iterate   50    f=  5.53579D+00    |proj g|=  6.36101D-04\n\n           * * *\n\nTit   = total number of iterations\nTnf   = total number of function evaluations\nTnint = total number of segments explored during Cauchy searches\nSkip  = number of BFGS updates skipped\nNact  = number of active bounds at final generalized Cauchy point\nProjg = norm of the final projected gradient\nF     = final function value\n\n           * * *\n\n   N    Tit     Tnf  Tnint  Skip  Nact     Projg        F\n   15     50     54      1     0     0   6.361D-04   5.536D+00\n  F =   5.5357873399245303     \n\nSTOP: TOTAL NO. of ITERATIONS REACHED LIMIT                 \n"
     ]
    },
    {
     "output_type": "stream",
     "name": "stderr",
     "output_type": "stream",
     "text": [
      "[I 2024-07-03 11:06:13,353] Trial 50 finished with value: 24.233122459805834 and parameters: {'order': (2, 0, 0), 'seasonal_order': (3, 1, 2, 12)}. Best is trial 16 with value: 3.1593911414897837.\n This problem is unconstrained.\n"
     ]
    },
    {
     "output_type": "stream",
     "name": "stdout",
     "output_type": "stream",
     "text": [
      "RUNNING THE L-BFGS-B CODE\n\n           * * *\n\nMachine precision = 2.220D-16\n N =           16     M =           10\n\nAt X0         0 variables are exactly at the bounds\n\nAt iterate    0    f=  8.04350D+00    |proj g|=  1.87178D-01\n\nAt iterate    5    f=  8.01018D+00    |proj g|=  1.29156D-02\n\nAt iterate   10    f=  8.00312D+00    |proj g|=  9.21167D-03\n\nAt iterate   15    f=  8.00287D+00    |proj g|=  4.75230D-03\n\nAt iterate   20    f=  8.00244D+00    |proj g|=  1.59797D-03\n\nAt iterate   25    f=  7.99955D+00    |proj g|=  4.46311D-02\n\nAt iterate   30    f=  7.98133D+00    |proj g|=  1.64506D-02\n\nAt iterate   35    f=  7.96706D+00    |proj g|=  2.89152D-02\n\nAt iterate   40    f=  7.96304D+00    |proj g|=  4.76995D-03\n\nAt iterate   45    f=  7.96277D+00    |proj g|=  1.02511D-03\n"
     ]
    },
    {
     "output_type": "stream",
     "name": "stderr",
     "output_type": "stream",
     "text": [
      "[I 2024-07-03 11:06:14,992] Trial 51 finished with value: 3.848124669595984 and parameters: {'order': (2, 0, 2), 'seasonal_order': (2, 0, 2, 12)}. Best is trial 16 with value: 3.1593911414897837.\n"
     ]
    },
    {
     "output_type": "stream",
     "name": "stdout",
     "output_type": "stream",
     "text": [
      "\nAt iterate   50    f=  7.96247D+00    |proj g|=  4.45367D-03\n\n           * * *\n\nTit   = total number of iterations\nTnf   = total number of function evaluations\nTnint = total number of segments explored during Cauchy searches\nSkip  = number of BFGS updates skipped\nNact  = number of active bounds at final generalized Cauchy point\nProjg = norm of the final projected gradient\nF     = final function value\n\n           * * *\n\n   N    Tit     Tnf  Tnint  Skip  Nact     Projg        F\n   16     50     55      1     0     0   4.454D-03   7.962D+00\n  F =   7.9624699521091493     \n\nSTOP: TOTAL NO. of ITERATIONS REACHED LIMIT                 \nRUNNING THE L-BFGS-B CODE\n\n           * * *\n\nMachine precision = 2.220D-16\n N =           16     M =           10\n\nAt X0         0 variables are exactly at the bounds\n\nAt iterate    0    f=  8.04350D+00    |proj g|=  1.87178D-01\n"
     ]
    },
    {
     "output_type": "stream",
     "name": "stderr",
     "output_type": "stream",
     "text": [
      " This problem is unconstrained.\n"
     ]
    },
    {
     "output_type": "stream",
     "name": "stdout",
     "output_type": "stream",
     "text": [
      "\nAt iterate    5    f=  8.01018D+00    |proj g|=  1.29156D-02\n\nAt iterate   10    f=  8.00312D+00    |proj g|=  9.21167D-03\n\nAt iterate   15    f=  8.00287D+00    |proj g|=  4.75230D-03\n\nAt iterate   20    f=  8.00244D+00    |proj g|=  1.59797D-03\n\nAt iterate   25    f=  7.99955D+00    |proj g|=  4.46311D-02\n\nAt iterate   30    f=  7.98133D+00    |proj g|=  1.64506D-02\n\nAt iterate   35    f=  7.96706D+00    |proj g|=  2.89152D-02\n\nAt iterate   40    f=  7.96304D+00    |proj g|=  4.76995D-03\n\nAt iterate   45    f=  7.96277D+00    |proj g|=  1.02511D-03\n\nAt iterate   50    f=  7.96247D+00    |proj g|=  4.45367D-03\n\n           * * *\n\nTit   = total number of iterations\nTnf   = total number of function evaluations\nTnint = total number of segments explored during Cauchy searches\nSkip  = number of BFGS updates skipped\nNact  = number of active bounds at final generalized Cauchy point\nProjg = norm of the final projected gradient\nF     = final function value\n\n           * * *\n\n   N    Tit     Tnf  Tnint  Skip  Nact     Projg        F\n   16     50     55      1     0     0   4.454D-03   7.962D+00\n  F =   7.9624699521091493     \n\nSTOP: TOTAL NO. of ITERATIONS REACHED LIMIT                 \n"
     ]
    },
    {
     "output_type": "stream",
     "name": "stderr",
     "output_type": "stream",
     "text": [
      "[I 2024-07-03 11:06:16,649] Trial 52 finished with value: 3.848124669595984 and parameters: {'order': (2, 0, 2), 'seasonal_order': (2, 0, 2, 12)}. Best is trial 16 with value: 3.1593911414897837.\n This problem is unconstrained.\n"
     ]
    },
    {
     "output_type": "stream",
     "name": "stdout",
     "output_type": "stream",
     "text": [
      "RUNNING THE L-BFGS-B CODE\n\n           * * *\n\nMachine precision = 2.220D-16\n N =           11     M =           10\n\nAt X0         0 variables are exactly at the bounds\n\nAt iterate    0    f=  5.33916D+00    |proj g|=  1.90423D-01\n\nAt iterate    5    f=  5.28899D+00    |proj g|=  2.95022D-03\n\nAt iterate   10    f=  5.28614D+00    |proj g|=  1.40870D-03\n\nAt iterate   15    f=  5.28243D+00    |proj g|=  2.17162D-02\n\nAt iterate   20    f=  5.25553D+00    |proj g|=  7.89834D-03\n\nAt iterate   25    f=  5.25506D+00    |proj g|=  1.54702D-03\n\nAt iterate   30    f=  5.24884D+00    |proj g|=  2.11306D-02\n\nAt iterate   35    f=  5.23868D+00    |proj g|=  3.37779D-04\n\nAt iterate   40    f=  5.23813D+00    |proj g|=  7.43742D-03\n\nAt iterate   45    f=  5.22219D+00    |proj g|=  1.94957D-02\n"
     ]
    },
    {
     "output_type": "stream",
     "name": "stderr",
     "output_type": "stream",
     "text": [
      "[I 2024-07-03 11:06:18,592] Trial 53 finished with value: 33.67021433258736 and parameters: {'order': (0, 1, 0), 'seasonal_order': (3, 1, 0, 12)}. Best is trial 16 with value: 3.1593911414897837.\n"
     ]
    },
    {
     "output_type": "stream",
     "name": "stdout",
     "output_type": "stream",
     "text": [
      "\nAt iterate   50    f=  5.20809D+00    |proj g|=  1.47149D-02\n\n           * * *\n\nTit   = total number of iterations\nTnf   = total number of function evaluations\nTnint = total number of segments explored during Cauchy searches\nSkip  = number of BFGS updates skipped\nNact  = number of active bounds at final generalized Cauchy point\nProjg = norm of the final projected gradient\nF     = final function value\n\n           * * *\n\n   N    Tit     Tnf  Tnint  Skip  Nact     Projg        F\n   11     50     55      1     0     0   1.471D-02   5.208D+00\n  F =   5.2080936222138785     \n\nSTOP: TOTAL NO. of ITERATIONS REACHED LIMIT                 \nRUNNING THE L-BFGS-B CODE\n\n           * * *\n\nMachine precision = 2.220D-16\n N =           12     M =           10\n\nAt X0         0 variables are exactly at the bounds\n\nAt iterate    0    f=  7.74222D+00    |proj g|=  1.01019D-01\n\nAt iterate    5    f=  7.73025D+00    |proj g|=  5.45808D-03\n\nAt iterate   10    f=  7.72847D+00    |proj g|=  3.19020D-03\n"
     ]
    },
    {
     "output_type": "stream",
     "name": "stderr",
     "output_type": "stream",
     "text": [
      " This problem is unconstrained.\n"
     ]
    },
    {
     "output_type": "stream",
     "name": "stdout",
     "output_type": "stream",
     "text": [
      "\nAt iterate   15    f=  7.72819D+00    |proj g|=  8.95063D-03\n\nAt iterate   20    f=  7.71906D+00    |proj g|=  3.28500D-02\n\nAt iterate   25    f=  7.71619D+00    |proj g|=  1.53886D-03\n\nAt iterate   30    f=  7.71613D+00    |proj g|=  2.10644D-03\n\nAt iterate   35    f=  7.71337D+00    |proj g|=  2.37341D-02\n\nAt iterate   40    f=  7.69983D+00    |proj g|=  2.26006D-03\n"
     ]
    },
    {
     "output_type": "stream",
     "name": "stderr",
     "output_type": "stream",
     "text": [
      "[I 2024-07-03 11:06:19,098] Trial 54 finished with value: 5.638577334450316 and parameters: {'order': (0, 1, 3), 'seasonal_order': (1, 0, 0, 12)}. Best is trial 16 with value: 3.1593911414897837.\n"
     ]
    },
    {
     "output_type": "stream",
     "name": "stdout",
     "output_type": "stream",
     "text": [
      "\nAt iterate   45    f=  7.69910D+00    |proj g|=  2.61057D-03\n\nAt iterate   50    f=  7.69904D+00    |proj g|=  2.49802D-03\n\n           * * *\n\nTit   = total number of iterations\nTnf   = total number of function evaluations\nTnint = total number of segments explored during Cauchy searches\nSkip  = number of BFGS updates skipped\nNact  = number of active bounds at final generalized Cauchy point\nProjg = norm of the final projected gradient\nF     = final function value\n\n           * * *\n\n   N    Tit     Tnf  Tnint  Skip  Nact     Projg        F\n   12     50     53      1     0     0   2.498D-03   7.699D+00\n  F =   7.6990392746019154     \n\nSTOP: TOTAL NO. of ITERATIONS REACHED LIMIT                 \nRUNNING THE L-BFGS-B CODE\n\n           * * *\n\nMachine precision = 2.220D-16\n N =           17     M =           10\n\nAt X0         0 variables are exactly at the bounds\n\nAt iterate    0    f=  8.04350D+00    |proj g|=  1.87178D-01\n"
     ]
    },
    {
     "output_type": "stream",
     "name": "stderr",
     "output_type": "stream",
     "text": [
      " This problem is unconstrained.\n"
     ]
    },
    {
     "output_type": "stream",
     "name": "stdout",
     "output_type": "stream",
     "text": [
      "\nAt iterate    5    f=  8.01009D+00    |proj g|=  1.27005D-02\n\nAt iterate   10    f=  8.00303D+00    |proj g|=  3.67146D-03\n\nAt iterate   15    f=  8.00270D+00    |proj g|=  4.41233D-03\n\nAt iterate   20    f=  8.00233D+00    |proj g|=  1.99011D-03\n\nAt iterate   25    f=  7.99241D+00    |proj g|=  5.50968D-02\n\nAt iterate   30    f=  7.96431D+00    |proj g|=  9.72962D-03\n\nAt iterate   35    f=  7.96393D+00    |proj g|=  4.53248D-03\n\nAt iterate   40    f=  7.96331D+00    |proj g|=  3.90435D-03\n\nAt iterate   45    f=  7.95421D+00    |proj g|=  2.48441D-02\n"
     ]
    },
    {
     "output_type": "stream",
     "name": "stderr",
     "output_type": "stream",
     "text": [
      "[I 2024-07-03 11:06:21,672] Trial 55 finished with value: 19.159861362345097 and parameters: {'order': (2, 0, 2), 'seasonal_order': (3, 0, 2, 12)}. Best is trial 16 with value: 3.1593911414897837.\n"
     ]
    },
    {
     "output_type": "stream",
     "name": "stdout",
     "output_type": "stream",
     "text": [
      "\nAt iterate   50    f=  7.94058D+00    |proj g|=  1.02370D-02\n\n           * * *\n\nTit   = total number of iterations\nTnf   = total number of function evaluations\nTnint = total number of segments explored during Cauchy searches\nSkip  = number of BFGS updates skipped\nNact  = number of active bounds at final generalized Cauchy point\nProjg = norm of the final projected gradient\nF     = final function value\n\n           * * *\n\n   N    Tit     Tnf  Tnint  Skip  Nact     Projg        F\n   17     50     60      1     0     0   1.024D-02   7.941D+00\n  F =   7.9405828208635203     \n\nSTOP: TOTAL NO. of ITERATIONS REACHED LIMIT                 \nRUNNING THE L-BFGS-B CODE\n\n           * * *\n\nMachine precision = 2.220D-16\n N =           15     M =           10\n\nAt X0         0 variables are exactly at the bounds\n\nAt iterate    0    f=  7.73711D+00    |proj g|=  2.26638D-01\n"
     ]
    },
    {
     "output_type": "stream",
     "name": "stderr",
     "output_type": "stream",
     "text": [
      " This problem is unconstrained.\n"
     ]
    },
    {
     "output_type": "stream",
     "name": "stdout",
     "output_type": "stream",
     "text": [
      "\nAt iterate    5    f=  7.70306D+00    |proj g|=  6.73936D-03\n\nAt iterate   10    f=  7.69930D+00    |proj g|=  3.92754D-02\n\nAt iterate   15    f=  7.69705D+00    |proj g|=  6.99663D-03\n\nAt iterate   20    f=  7.69686D+00    |proj g|=  1.48283D-03\n\nAt iterate   25    f=  7.69585D+00    |proj g|=  8.69107D-03\n\nAt iterate   30    f=  7.69469D+00    |proj g|=  1.63390D-02\n\nAt iterate   35    f=  7.69140D+00    |proj g|=  7.59602D-03\n\nAt iterate   40    f=  7.69064D+00    |proj g|=  4.45562D-04\n\nAt iterate   45    f=  7.69046D+00    |proj g|=  5.26648D-03\n\nAt iterate   50    f=  7.68981D+00    |proj g|=  6.84456D-03\n\n           * * *\n\nTit   = total number of iterations\nTnf   = total number of function evaluations\nTnint = total number of segments explored during Cauchy searches\nSkip  = number of BFGS updates skipped\nNact  = number of active bounds at final generalized Cauchy point\nProjg = norm of the final projected gradient\nF     = final function value\n\n           * * *\n\n   N    Tit     Tnf  Tnint  Skip  Nact     Projg        F\n   15     50     57      1     0     0   6.845D-03   7.690D+00\n  F =   7.6898067010448035     \n\nSTOP: TOTAL NO. of ITERATIONS REACHED LIMIT                 \n"
     ]
    },
    {
     "output_type": "stream",
     "name": "stderr",
     "output_type": "stream",
     "text": [
      "[I 2024-07-03 11:06:23,275] Trial 56 finished with value: 6.423411607854645 and parameters: {'order': (3, 1, 0), 'seasonal_order': (2, 0, 2, 12)}. Best is trial 16 with value: 3.1593911414897837.\n This problem is unconstrained.\n"
     ]
    },
    {
     "output_type": "stream",
     "name": "stdout",
     "output_type": "stream",
     "text": [
      "RUNNING THE L-BFGS-B CODE\n\n           * * *\n\nMachine precision = 2.220D-16\n N =           17     M =           10\n\nAt X0         0 variables are exactly at the bounds\n\nAt iterate    0    f=  5.63461D+00    |proj g|=  3.33978D-01\n\nAt iterate    5    f=  5.52595D+00    |proj g|=  9.04555D-03\n\nAt iterate   10    f=  5.52397D+00    |proj g|=  7.76627D-03\n\nAt iterate   15    f=  5.52351D+00    |proj g|=  3.16364D-03\n\nAt iterate   20    f=  5.52237D+00    |proj g|=  2.77002D-03\n\nAt iterate   25    f=  5.52191D+00    |proj g|=  6.78553D-03\n\nAt iterate   30    f=  5.49936D+00    |proj g|=  4.13739D-02\n\nAt iterate   35    f=  5.48625D+00    |proj g|=  5.57600D-03\n\nAt iterate   40    f=  5.48455D+00    |proj g|=  2.93335D-03\n\nAt iterate   45    f=  5.48431D+00    |proj g|=  3.62112D-04\n"
     ]
    },
    {
     "output_type": "stream",
     "name": "stderr",
     "output_type": "stream",
     "text": [
      "[I 2024-07-03 11:06:26,112] Trial 57 finished with value: 24.167504493430098 and parameters: {'order': (1, 0, 3), 'seasonal_order': (2, 1, 3, 12)}. Best is trial 16 with value: 3.1593911414897837.\n"
     ]
    },
    {
     "output_type": "stream",
     "name": "stdout",
     "output_type": "stream",
     "text": [
      "\nAt iterate   50    f=  5.48423D+00    |proj g|=  1.96925D-03\n\n           * * *\n\nTit   = total number of iterations\nTnf   = total number of function evaluations\nTnint = total number of segments explored during Cauchy searches\nSkip  = number of BFGS updates skipped\nNact  = number of active bounds at final generalized Cauchy point\nProjg = norm of the final projected gradient\nF     = final function value\n\n           * * *\n\n   N    Tit     Tnf  Tnint  Skip  Nact     Projg        F\n   17     50     56      1     0     0   1.969D-03   5.484D+00\n  F =   5.4842270394606745     \n\nSTOP: TOTAL NO. of ITERATIONS REACHED LIMIT                 \nRUNNING THE L-BFGS-B CODE\n\n           * * *\n\nMachine precision = 2.220D-16\n N =           10     M =           10\n\nAt X0         0 variables are exactly at the bounds\n\nAt iterate    0    f=  7.73924D+00    |proj g|=  1.41965D-02\n\nAt iterate    5    f=  7.73912D+00    |proj g|=  2.38231D-03\n\nAt iterate   10    f=  7.73909D+00    |proj g|=  1.85104D-03\n\nAt iterate   15    f=  7.73891D+00    |proj g|=  8.49182D-03\n"
     ]
    },
    {
     "output_type": "stream",
     "name": "stderr",
     "output_type": "stream",
     "text": [
      " This problem is unconstrained.\n[I 2024-07-03 11:06:26,287] Trial 58 finished with value: 26.782592999181773 and parameters: {'order': (2, 1, 0), 'seasonal_order': (0, 0, 0, 12)}. Best is trial 16 with value: 3.1593911414897837.\n This problem is unconstrained.\n"
     ]
    },
    {
     "output_type": "stream",
     "name": "stdout",
     "output_type": "stream",
     "text": [
      "\nAt iterate   20    f=  7.73886D+00    |proj g|=  4.27678D-05\n\nAt iterate   25    f=  7.73886D+00    |proj g|=  2.28813D-03\n\nAt iterate   30    f=  7.73878D+00    |proj g|=  3.02038D-03\n\nAt iterate   35    f=  7.73877D+00    |proj g|=  1.20208D-04\n\nAt iterate   40    f=  7.73876D+00    |proj g|=  1.60257D-03\n\nAt iterate   45    f=  7.73871D+00    |proj g|=  1.30360D-03\n\nAt iterate   50    f=  7.73871D+00    |proj g|=  1.30321D-03\n\n           * * *\n\nTit   = total number of iterations\nTnf   = total number of function evaluations\nTnint = total number of segments explored during Cauchy searches\nSkip  = number of BFGS updates skipped\nNact  = number of active bounds at final generalized Cauchy point\nProjg = norm of the final projected gradient\nF     = final function value\n\n           * * *\n\n   N    Tit     Tnf  Tnint  Skip  Nact     Projg        F\n   10     50     57      1     0     0   1.303D-03   7.739D+00\n  F =   7.7387073719781299     \n\nSTOP: TOTAL NO. of ITERATIONS REACHED LIMIT                 \nRUNNING THE L-BFGS-B CODE\n\n           * * *\n\nMachine precision = 2.220D-16\n N =           17     M =           10\n\nAt X0         0 variables are exactly at the bounds\n\nAt iterate    0    f=  8.04350D+00    |proj g|=  1.87178D-01\n\nAt iterate    5    f=  8.01047D+00    |proj g|=  1.07079D-02\n\nAt iterate   10    f=  8.00319D+00    |proj g|=  4.53884D-03\n\nAt iterate   15    f=  8.00289D+00    |proj g|=  4.74552D-03\n\nAt iterate   20    f=  8.00241D+00    |proj g|=  4.80297D-03\n\nAt iterate   25    f=  7.98873D+00    |proj g|=  5.99150D-02\n\nAt iterate   30    f=  7.96829D+00    |proj g|=  8.33827D-03\n\nAt iterate   35    f=  7.96783D+00    |proj g|=  4.81752D-03\n\nAt iterate   40    f=  7.96586D+00    |proj g|=  1.67749D-02\n\nAt iterate   45    f=  7.96546D+00    |proj g|=  6.43430D-03\n"
     ]
    },
    {
     "output_type": "stream",
     "name": "stderr",
     "output_type": "stream",
     "text": [
      "[I 2024-07-03 11:06:28,329] Trial 59 finished with value: 3.4840197947921214 and parameters: {'order': (2, 0, 2), 'seasonal_order': (2, 0, 3, 12)}. Best is trial 16 with value: 3.1593911414897837.\n"
     ]
    },
    {
     "output_type": "stream",
     "name": "stdout",
     "output_type": "stream",
     "text": [
      "\nAt iterate   50    f=  7.96197D+00    |proj g|=  2.17632D-02\n\n           * * *\n\nTit   = total number of iterations\nTnf   = total number of function evaluations\nTnint = total number of segments explored during Cauchy searches\nSkip  = number of BFGS updates skipped\nNact  = number of active bounds at final generalized Cauchy point\nProjg = norm of the final projected gradient\nF     = final function value\n\n           * * *\n\n   N    Tit     Tnf  Tnint  Skip  Nact     Projg        F\n   17     50     55      1     0     0   2.176D-02   7.962D+00\n  F =   7.9619685435183296     \n\nSTOP: TOTAL NO. of ITERATIONS REACHED LIMIT                 \nRUNNING THE L-BFGS-B CODE\n\n           * * *\n\nMachine precision = 2.220D-16\n N =           19     M =           10\n\nAt X0         0 variables are exactly at the bounds\n\nAt iterate    0    f=  7.75080D+00    |proj g|=  1.82990D-01\n"
     ]
    },
    {
     "output_type": "stream",
     "name": "stderr",
     "output_type": "stream",
     "text": [
      " This problem is unconstrained.\n"
     ]
    },
    {
     "output_type": "stream",
     "name": "stdout",
     "output_type": "stream",
     "text": [
      "\nAt iterate    5    f=  7.70920D+00    |proj g|=  3.41868D-02\n\nAt iterate   10    f=  7.70107D+00    |proj g|=  1.65600D-02\n\nAt iterate   15    f=  7.68185D+00    |proj g|=  1.18906D-02\n\nAt iterate   20    f=  7.67747D+00    |proj g|=  1.90855D-03\n\nAt iterate   25    f=  7.67704D+00    |proj g|=  5.99876D-04\n\nAt iterate   30    f=  7.67669D+00    |proj g|=  3.82640D-03\n\nAt iterate   35    f=  7.67548D+00    |proj g|=  9.03758D-03\n\nAt iterate   40    f=  7.67171D+00    |proj g|=  2.05267D-02\n\nAt iterate   45    f=  7.66860D+00    |proj g|=  5.45575D-03\n"
     ]
    },
    {
     "output_type": "stream",
     "name": "stderr",
     "output_type": "stream",
     "text": [
      "[I 2024-07-03 11:06:30,933] Trial 60 finished with value: 15.731843606277211 and parameters: {'order': (3, 1, 3), 'seasonal_order': (2, 0, 3, 12)}. Best is trial 16 with value: 3.1593911414897837.\n"
     ]
    },
    {
     "output_type": "stream",
     "name": "stdout",
     "output_type": "stream",
     "text": [
      "\nAt iterate   50    f=  7.66659D+00    |proj g|=  1.90159D-03\n\n           * * *\n\nTit   = total number of iterations\nTnf   = total number of function evaluations\nTnint = total number of segments explored during Cauchy searches\nSkip  = number of BFGS updates skipped\nNact  = number of active bounds at final generalized Cauchy point\nProjg = norm of the final projected gradient\nF     = final function value\n\n           * * *\n\n   N    Tit     Tnf  Tnint  Skip  Nact     Projg        F\n   19     50     58      1     0     0   1.902D-03   7.667D+00\n  F =   7.6665904284028903     \n\nSTOP: TOTAL NO. of ITERATIONS REACHED LIMIT                 \n"
     ]
    },
    {
     "output_type": "stream",
     "name": "stderr",
     "output_type": "stream",
     "text": [
      " This problem is unconstrained.\n"
     ]
    },
    {
     "output_type": "stream",
     "name": "stdout",
     "output_type": "stream",
     "text": [
      "RUNNING THE L-BFGS-B CODE\n\n           * * *\n\nMachine precision = 2.220D-16\n N =           17     M =           10\n\nAt X0         0 variables are exactly at the bounds\n\nAt iterate    0    f=  8.04350D+00    |proj g|=  1.87178D-01\n\nAt iterate    5    f=  8.01047D+00    |proj g|=  1.07079D-02\n\nAt iterate   10    f=  8.00319D+00    |proj g|=  4.53884D-03\n\nAt iterate   15    f=  8.00289D+00    |proj g|=  4.74552D-03\n\nAt iterate   20    f=  8.00241D+00    |proj g|=  4.80297D-03\n\nAt iterate   25    f=  7.98873D+00    |proj g|=  5.99150D-02\n\nAt iterate   30    f=  7.96829D+00    |proj g|=  8.33827D-03\n\nAt iterate   35    f=  7.96783D+00    |proj g|=  4.81752D-03\n\nAt iterate   40    f=  7.96586D+00    |proj g|=  1.67749D-02\n\nAt iterate   45    f=  7.96546D+00    |proj g|=  6.43430D-03\n\nAt iterate   50    f=  7.96197D+00    |proj g|=  2.17632D-02\n\n           * * *\n\nTit   = total number of iterations\nTnf   = total number of function evaluations\nTnint = total number of segments explored during Cauchy searches\nSkip  = number of BFGS updates skipped\nNact  = number of active bounds at final generalized Cauchy point\nProjg = norm of the final projected gradient\nF     = final function value\n\n           * * *\n\n   N    Tit     Tnf  Tnint  Skip  Nact     Projg        F\n   17     50     55      1     0     0   2.176D-02   7.962D+00\n  F =   7.9619685435183296     \n\nSTOP: TOTAL NO. of ITERATIONS REACHED LIMIT                 \n"
     ]
    },
    {
     "output_type": "stream",
     "name": "stderr",
     "output_type": "stream",
     "text": [
      "[I 2024-07-03 11:06:33,409] Trial 61 finished with value: 3.4840197947921214 and parameters: {'order': (2, 0, 2), 'seasonal_order': (2, 0, 3, 12)}. Best is trial 16 with value: 3.1593911414897837.\n This problem is unconstrained.\n"
     ]
    },
    {
     "output_type": "stream",
     "name": "stdout",
     "output_type": "stream",
     "text": [
      "RUNNING THE L-BFGS-B CODE\n\n           * * *\n\nMachine precision = 2.220D-16\n N =           15     M =           10\n\nAt X0         0 variables are exactly at the bounds\n\nAt iterate    0    f=  8.04350D+00    |proj g|=  1.87169D-01\n\nAt iterate    5    f=  8.01039D+00    |proj g|=  1.31527D-02\n\nAt iterate   10    f=  8.00353D+00    |proj g|=  5.84466D-03\n\nAt iterate   15    f=  8.00314D+00    |proj g|=  6.86880D-03\n\nAt iterate   20    f=  8.00271D+00    |proj g|=  2.33386D-03\n\nAt iterate   25    f=  7.99990D+00    |proj g|=  8.28479D-02\n\nAt iterate   30    f=  7.96756D+00    |proj g|=  8.44712D-02\n\nAt iterate   35    f=  7.96402D+00    |proj g|=  3.74972D-03\n\nAt iterate   40    f=  7.96366D+00    |proj g|=  1.56267D-03\n\nAt iterate   45    f=  7.96355D+00    |proj g|=  6.31569D-04\n\nAt iterate   50    f=  7.96226D+00    |proj g|=  1.76712D-02\n\n           * * *\n\nTit   = total number of iterations\nTnf   = total number of function evaluations\nTnint = total number of segments explored during Cauchy searches\nSkip  = number of BFGS updates skipped\nNact  = number of active bounds at final generalized Cauchy point\nProjg = norm of the final projected gradient\nF     = final function value\n\n           * * *\n\n   N    Tit     Tnf  Tnint  Skip  Nact     Projg        F\n   15     50     55      1     0     0   1.767D-02   7.962D+00\n  F =   7.9622617357859724     \n\nSTOP: TOTAL NO. of ITERATIONS REACHED LIMIT                 \n"
     ]
    },
    {
     "output_type": "stream",
     "name": "stderr",
     "output_type": "stream",
     "text": [
      "[I 2024-07-03 11:06:34,913] Trial 62 finished with value: 3.76733329154877 and parameters: {'order': (2, 0, 2), 'seasonal_order': (0, 0, 3, 12)}. Best is trial 16 with value: 3.1593911414897837.\n"
     ]
    },
    {
     "output_type": "stream",
     "name": "stdout",
     "output_type": "stream",
     "text": [
      "RUNNING THE L-BFGS-B CODE\n\n           * * *\n\nMachine precision = 2.220D-16\n N =           18     M =           10\n\nAt X0         0 variables are exactly at the bounds\n\nAt iterate    0    f=  8.04887D+00    |proj g|=  1.90218D-01\n"
     ]
    },
    {
     "output_type": "stream",
     "name": "stderr",
     "output_type": "stream",
     "text": [
      " This problem is unconstrained.\n"
     ]
    },
    {
     "output_type": "stream",
     "name": "stdout",
     "output_type": "stream",
     "text": [
      "\nAt iterate    5    f=  8.00917D+00    |proj g|=  3.14841D-02\n\nAt iterate   10    f=  8.00426D+00    |proj g|=  1.31203D-02\n\nAt iterate   15    f=  8.00083D+00    |proj g|=  2.02123D-03\n\nAt iterate   20    f=  8.00047D+00    |proj g|=  5.47830D-03\n\nAt iterate   25    f=  7.99981D+00    |proj g|=  2.22472D-03\n\nAt iterate   30    f=  7.99682D+00    |proj g|=  3.40208D-02\n\nAt iterate   35    f=  7.97629D+00    |proj g|=  2.82409D-02\n\nAt iterate   40    f=  7.97313D+00    |proj g|=  8.49285D-03\n\nAt iterate   45    f=  7.97109D+00    |proj g|=  6.06674D-03\n"
     ]
    },
    {
     "output_type": "stream",
     "name": "stderr",
     "output_type": "stream",
     "text": [
      "[I 2024-07-03 11:06:37,634] Trial 63 finished with value: 9.212605368192742 and parameters: {'order': (3, 0, 2), 'seasonal_order': (2, 0, 3, 12)}. Best is trial 16 with value: 3.1593911414897837.\n"
     ]
    },
    {
     "output_type": "stream",
     "name": "stdout",
     "output_type": "stream",
     "text": [
      "\nAt iterate   50    f=  7.96750D+00    |proj g|=  1.79216D-02\n\n           * * *\n\nTit   = total number of iterations\nTnf   = total number of function evaluations\nTnint = total number of segments explored during Cauchy searches\nSkip  = number of BFGS updates skipped\nNact  = number of active bounds at final generalized Cauchy point\nProjg = norm of the final projected gradient\nF     = final function value\n\n           * * *\n\n   N    Tit     Tnf  Tnint  Skip  Nact     Projg        F\n   18     50     57      1     0     0   1.792D-02   7.967D+00\n  F =   7.9674976835944431     \n\nSTOP: TOTAL NO. of ITERATIONS REACHED LIMIT                 \nRUNNING THE L-BFGS-B CODE\n\n           * * *\n\nMachine precision = 2.220D-16\n N =           14     M =           10\n\nAt X0         0 variables are exactly at the bounds\n\nAt iterate    0    f=  8.05563D+00    |proj g|=  2.22786D-01\n"
     ]
    },
    {
     "output_type": "stream",
     "name": "stderr",
     "output_type": "stream",
     "text": [
      " This problem is unconstrained.\n"
     ]
    },
    {
     "output_type": "stream",
     "name": "stdout",
     "output_type": "stream",
     "text": [
      "\nAt iterate    5    f=  8.01595D+00    |proj g|=  3.57738D-03\n\nAt iterate   10    f=  8.01499D+00    |proj g|=  1.05128D-02\n\nAt iterate   15    f=  8.01436D+00    |proj g|=  8.27393D-03\n\nAt iterate   20    f=  7.99148D+00    |proj g|=  3.48626D-02\n\nAt iterate   25    f=  7.96226D+00    |proj g|=  3.64344D-02\n\nAt iterate   30    f=  7.95921D+00    |proj g|=  2.47888D-03\n\nAt iterate   35    f=  7.95906D+00    |proj g|=  1.38322D-03\n\nAt iterate   40    f=  7.95788D+00    |proj g|=  1.39369D-02\n\nAt iterate   45    f=  7.94498D+00    |proj g|=  1.45962D-02\n"
     ]
    },
    {
     "output_type": "stream",
     "name": "stderr",
     "output_type": "stream",
     "text": [
      "[I 2024-07-03 11:06:38,982] Trial 64 finished with value: 11.25213103255268 and parameters: {'order': (3, 0, 0), 'seasonal_order': (0, 0, 3, 12)}. Best is trial 16 with value: 3.1593911414897837.\n"
     ]
    },
    {
     "output_type": "stream",
     "name": "stdout",
     "output_type": "stream",
     "text": [
      "\nAt iterate   50    f=  7.94271D+00    |proj g|=  4.35240D-03\n\n           * * *\n\nTit   = total number of iterations\nTnf   = total number of function evaluations\nTnint = total number of segments explored during Cauchy searches\nSkip  = number of BFGS updates skipped\nNact  = number of active bounds at final generalized Cauchy point\nProjg = norm of the final projected gradient\nF     = final function value\n\n           * * *\n\n   N    Tit     Tnf  Tnint  Skip  Nact     Projg        F\n   14     50     53      1     0     0   4.352D-03   7.943D+00\n  F =   7.9427068968321022     \n\nSTOP: TOTAL NO. of ITERATIONS REACHED LIMIT                 \nRUNNING THE L-BFGS-B CODE\n\n           * * *\n\nMachine precision = 2.220D-16\n N =           17     M =           10\n\nAt X0         0 variables are exactly at the bounds\n\nAt iterate    0    f=  7.76058D+00    |proj g|=  1.84463D-01\n"
     ]
    },
    {
     "output_type": "stream",
     "name": "stderr",
     "output_type": "stream",
     "text": [
      " This problem is unconstrained.\n"
     ]
    },
    {
     "output_type": "stream",
     "name": "stdout",
     "output_type": "stream",
     "text": [
      "\nAt iterate    5    f=  7.72869D+00    |proj g|=  4.49853D-03\n\nAt iterate   10    f=  7.72317D+00    |proj g|=  4.79667D-02\n\nAt iterate   15    f=  7.71634D+00    |proj g|=  2.92851D-03\n\nAt iterate   20    f=  7.71627D+00    |proj g|=  1.46876D-03\n\nAt iterate   25    f=  7.71606D+00    |proj g|=  2.06235D-03\n\nAt iterate   30    f=  7.71585D+00    |proj g|=  1.54656D-03\n\nAt iterate   35    f=  7.70935D+00    |proj g|=  3.51963D-02\n\nAt iterate   40    f=  7.70652D+00    |proj g|=  1.77120D-03\n\nAt iterate   45    f=  7.70630D+00    |proj g|=  4.84583D-03\n"
     ]
    },
    {
     "output_type": "stream",
     "name": "stderr",
     "output_type": "stream",
     "text": [
      "[I 2024-07-03 11:06:41,343] Trial 65 finished with value: 7.33706996053192 and parameters: {'order': (1, 1, 3), 'seasonal_order': (2, 0, 3, 12)}. Best is trial 16 with value: 3.1593911414897837.\n"
     ]
    },
    {
     "output_type": "stream",
     "name": "stdout",
     "output_type": "stream",
     "text": [
      "\nAt iterate   50    f=  7.70623D+00    |proj g|=  1.11019D-03\n\n           * * *\n\nTit   = total number of iterations\nTnf   = total number of function evaluations\nTnint = total number of segments explored during Cauchy searches\nSkip  = number of BFGS updates skipped\nNact  = number of active bounds at final generalized Cauchy point\nProjg = norm of the final projected gradient\nF     = final function value\n\n           * * *\n\n   N    Tit     Tnf  Tnint  Skip  Nact     Projg        F\n   17     50     56      1     0     0   1.110D-03   7.706D+00\n  F =   7.7062345203649043     \n\nSTOP: TOTAL NO. of ITERATIONS REACHED LIMIT                 \nRUNNING THE L-BFGS-B CODE\n\n           * * *\n\nMachine precision = 2.220D-16\n N =            8     M =           10\n\nAt X0         0 variables are exactly at the bounds\n\nAt iterate    0    f=  6.65122D+00    |proj g|=  1.00882D-04\n"
     ]
    },
    {
     "output_type": "stream",
     "name": "stderr",
     "output_type": "stream",
     "text": [
      " This problem is unconstrained.\n[I 2024-07-03 11:06:41,432] Trial 66 finished with value: 32.00018231588153 and parameters: {'order': (0, 0, 0), 'seasonal_order': (0, 1, 0, 12)}. Best is trial 16 with value: 3.1593911414897837.\n This problem is unconstrained.\n"
     ]
    },
    {
     "output_type": "stream",
     "name": "stdout",
     "output_type": "stream",
     "text": [
      "\n           * * *\n\nTit   = total number of iterations\nTnf   = total number of function evaluations\nTnint = total number of segments explored during Cauchy searches\nSkip  = number of BFGS updates skipped\nNact  = number of active bounds at final generalized Cauchy point\nProjg = norm of the final projected gradient\nF     = final function value\n\n           * * *\n\n   N    Tit     Tnf  Tnint  Skip  Nact     Projg        F\n    8      4     16      1     0     0   2.401D-06   5.866D+00\n  F =   5.8655559227449166     \n\nCONVERGENCE: NORM_OF_PROJECTED_GRADIENT_<=_PGTOL            \nRUNNING THE L-BFGS-B CODE\n\n           * * *\n\nMachine precision = 2.220D-16\n N =           12     M =           10\n\nAt X0         0 variables are exactly at the bounds\n\nAt iterate    0    f=  8.08590D+00    |proj g|=  2.23593D-01\n\nAt iterate    5    f=  8.04922D+00    |proj g|=  4.48112D-03\n\nAt iterate   10    f=  8.04733D+00    |proj g|=  3.18745D-03\n\nAt iterate   15    f=  8.04452D+00    |proj g|=  1.83855D-02\n\nAt iterate   20    f=  8.00541D+00    |proj g|=  4.81769D-02\n\nAt iterate   25    f=  7.98103D+00    |proj g|=  8.49833D-03\n\nAt iterate   30    f=  7.98010D+00    |proj g|=  7.99011D-04\n\nAt iterate   35    f=  7.97953D+00    |proj g|=  8.82727D-03\n\nAt iterate   40    f=  7.96545D+00    |proj g|=  8.21066D-03\n\nAt iterate   45    f=  7.96062D+00    |proj g|=  1.13234D-02\n\nAt iterate   50    f=  7.96022D+00    |proj g|=  1.15775D-03\n\n           * * *\n\nTit   = total number of iterations\nTnf   = total number of function evaluations\nTnint = total number of segments explored during Cauchy searches\nSkip  = number of BFGS updates skipped\nNact  = number of active bounds at final generalized Cauchy point\nProjg = norm of the final projected gradient\nF     = final function value\n\n           * * *\n\n   N    Tit     Tnf  Tnint  Skip  Nact     Projg        F\n   12     50     53      1     0     0   1.158D-03   7.960D+00\n  F =   7.9602186132676991     \n\nSTOP: TOTAL NO. of ITERATIONS REACHED LIMIT                 \n"
     ]
    },
    {
     "output_type": "stream",
     "name": "stderr",
     "output_type": "stream",
     "text": [
      "[I 2024-07-03 11:06:42,412] Trial 67 finished with value: 5.7090767134187885 and parameters: {'order': (1, 0, 0), 'seasonal_order': (0, 0, 3, 12)}. Best is trial 16 with value: 3.1593911414897837.\n This problem is unconstrained.\n"
     ]
    },
    {
     "output_type": "stream",
     "name": "stdout",
     "output_type": "stream",
     "text": [
      "RUNNING THE L-BFGS-B CODE\n\n           * * *\n\nMachine precision = 2.220D-16\n N =           12     M =           10\n\nAt X0         0 variables are exactly at the bounds\n\nAt iterate    0    f=  7.74119D+00    |proj g|=  2.08950D-01\n\nAt iterate    5    f=  7.71341D+00    |proj g|=  1.19484D-02\n\nAt iterate   10    f=  7.71021D+00    |proj g|=  4.64365D-02\n\nAt iterate   15    f=  7.70682D+00    |proj g|=  7.31704D-04\n\nAt iterate   20    f=  7.70637D+00    |proj g|=  1.67303D-02\n\nAt iterate   25    f=  7.70422D+00    |proj g|=  9.35144D-03\n\nAt iterate   30    f=  7.69950D+00    |proj g|=  1.88372D-02\n\nAt iterate   35    f=  7.69906D+00    |proj g|=  2.52070D-03\n\nAt iterate   40    f=  7.69700D+00    |proj g|=  3.15698D-02\n"
     ]
    },
    {
     "output_type": "stream",
     "name": "stderr",
     "output_type": "stream",
     "text": [
      "[I 2024-07-03 11:06:43,306] Trial 68 finished with value: 6.269785342468319 and parameters: {'order': (0, 1, 1), 'seasonal_order': (1, 0, 2, 12)}. Best is trial 16 with value: 3.1593911414897837.\n"
     ]
    },
    {
     "output_type": "stream",
     "name": "stdout",
     "output_type": "stream",
     "text": [
      "\nAt iterate   45    f=  7.69353D+00    |proj g|=  3.53900D-03\n\nAt iterate   50    f=  7.69336D+00    |proj g|=  3.95884D-04\n\n           * * *\n\nTit   = total number of iterations\nTnf   = total number of function evaluations\nTnint = total number of segments explored during Cauchy searches\nSkip  = number of BFGS updates skipped\nNact  = number of active bounds at final generalized Cauchy point\nProjg = norm of the final projected gradient\nF     = final function value\n\n           * * *\n\n   N    Tit     Tnf  Tnint  Skip  Nact     Projg        F\n   12     50     52      1     0     0   3.959D-04   7.693D+00\n  F =   7.6933600762430476     \n\nSTOP: TOTAL NO. of ITERATIONS REACHED LIMIT                 \nRUNNING THE L-BFGS-B CODE\n\n           * * *\n\nMachine precision = 2.220D-16\n N =           19     M =           10\n\nAt X0         0 variables are exactly at the bounds\n\nAt iterate    0    f=  8.04507D+00    |proj g|=  1.67042D-01\n"
     ]
    },
    {
     "output_type": "stream",
     "name": "stderr",
     "output_type": "stream",
     "text": [
      " This problem is unconstrained.\n"
     ]
    },
    {
     "output_type": "stream",
     "name": "stdout",
     "output_type": "stream",
     "text": [
      "\nAt iterate    5    f=  8.01336D+00    |proj g|=  1.90181D-02\n\nAt iterate   10    f=  8.00774D+00    |proj g|=  6.24095D-03\n\nAt iterate   15    f=  8.00585D+00    |proj g|=  2.42661D-02\n\nAt iterate   20    f=  8.00421D+00    |proj g|=  2.22085D-03\n\nAt iterate   25    f=  8.00353D+00    |proj g|=  1.78834D-02\n\nAt iterate   30    f=  7.99889D+00    |proj g|=  2.94095D-02\n\nAt iterate   35    f=  7.98837D+00    |proj g|=  2.51554D-02\n\nAt iterate   40    f=  7.98625D+00    |proj g|=  6.96767D-03\n\nAt iterate   45    f=  7.97993D+00    |proj g|=  1.33290D-02\n"
     ]
    },
    {
     "output_type": "stream",
     "name": "stderr",
     "output_type": "stream",
     "text": [
      "[I 2024-07-03 11:06:45,777] Trial 69 finished with value: 3.7172043377274884 and parameters: {'order': (3, 0, 3), 'seasonal_order': (2, 0, 3, 12)}. Best is trial 16 with value: 3.1593911414897837.\n"
     ]
    },
    {
     "output_type": "stream",
     "name": "stdout",
     "output_type": "stream",
     "text": [
      "\nAt iterate   50    f=  7.97112D+00    |proj g|=  3.36138D-03\n\n           * * *\n\nTit   = total number of iterations\nTnf   = total number of function evaluations\nTnint = total number of segments explored during Cauchy searches\nSkip  = number of BFGS updates skipped\nNact  = number of active bounds at final generalized Cauchy point\nProjg = norm of the final projected gradient\nF     = final function value\n\n           * * *\n\n   N    Tit     Tnf  Tnint  Skip  Nact     Projg        F\n   19     50     59      1     0     0   3.361D-03   7.971D+00\n  F =   7.9711226268396471     \n\nSTOP: TOTAL NO. of ITERATIONS REACHED LIMIT                 \nRUNNING THE L-BFGS-B CODE\n\n           * * *\n\nMachine precision = 2.220D-16\n N =           19     M =           10\n\nAt X0         0 variables are exactly at the bounds\n\nAt iterate    0    f=  8.04507D+00    |proj g|=  1.67042D-01\n"
     ]
    },
    {
     "output_type": "stream",
     "name": "stderr",
     "output_type": "stream",
     "text": [
      " This problem is unconstrained.\n"
     ]
    },
    {
     "output_type": "stream",
     "name": "stdout",
     "output_type": "stream",
     "text": [
      "\nAt iterate    5    f=  8.01336D+00    |proj g|=  1.90181D-02\n\nAt iterate   10    f=  8.00774D+00    |proj g|=  6.24095D-03\n\nAt iterate   15    f=  8.00585D+00    |proj g|=  2.42661D-02\n\nAt iterate   20    f=  8.00421D+00    |proj g|=  2.22085D-03\n\nAt iterate   25    f=  8.00353D+00    |proj g|=  1.78834D-02\n\nAt iterate   30    f=  7.99889D+00    |proj g|=  2.94095D-02\n\nAt iterate   35    f=  7.98837D+00    |proj g|=  2.51554D-02\n\nAt iterate   40    f=  7.98625D+00    |proj g|=  6.96767D-03\n\nAt iterate   45    f=  7.97993D+00    |proj g|=  1.33290D-02\n"
     ]
    },
    {
     "output_type": "stream",
     "name": "stderr",
     "output_type": "stream",
     "text": [
      "[I 2024-07-03 11:06:48,223] Trial 70 finished with value: 3.7172043377274884 and parameters: {'order': (3, 0, 3), 'seasonal_order': (2, 0, 3, 12)}. Best is trial 16 with value: 3.1593911414897837.\n"
     ]
    },
    {
     "output_type": "stream",
     "name": "stdout",
     "output_type": "stream",
     "text": [
      "\nAt iterate   50    f=  7.97112D+00    |proj g|=  3.36138D-03\n\n           * * *\n\nTit   = total number of iterations\nTnf   = total number of function evaluations\nTnint = total number of segments explored during Cauchy searches\nSkip  = number of BFGS updates skipped\nNact  = number of active bounds at final generalized Cauchy point\nProjg = norm of the final projected gradient\nF     = final function value\n\n           * * *\n\n   N    Tit     Tnf  Tnint  Skip  Nact     Projg        F\n   19     50     59      1     0     0   3.361D-03   7.971D+00\n  F =   7.9711226268396471     \n\nSTOP: TOTAL NO. of ITERATIONS REACHED LIMIT                 \nRUNNING THE L-BFGS-B CODE\n\n           * * *\n\nMachine precision = 2.220D-16\n N =           13     M =           10\n\nAt X0         0 variables are exactly at the bounds\n\nAt iterate    0    f=  7.74236D+00    |proj g|=  2.29430D-01\n"
     ]
    },
    {
     "output_type": "stream",
     "name": "stderr",
     "output_type": "stream",
     "text": [
      " This problem is unconstrained.\n"
     ]
    },
    {
     "output_type": "stream",
     "name": "stdout",
     "output_type": "stream",
     "text": [
      "\nAt iterate    5    f=  7.70703D+00    |proj g|=  8.20896D-03\n\nAt iterate   10    f=  7.70068D+00    |proj g|=  1.86954D-02\n\nAt iterate   15    f=  7.69877D+00    |proj g|=  2.50848D-03\n\nAt iterate   20    f=  7.69586D+00    |proj g|=  3.24052D-02\n\nAt iterate   25    f=  7.69204D+00    |proj g|=  2.36336D-03\n\nAt iterate   30    f=  7.69201D+00    |proj g|=  6.74129D-04\n\nAt iterate   35    f=  7.69174D+00    |proj g|=  5.98793D-03\n\nAt iterate   40    f=  7.68728D+00    |proj g|=  8.21003D-03\n\nAt iterate   45    f=  7.68694D+00    |proj g|=  1.58638D-03\n\nAt iterate   50    f=  7.68691D+00    |proj g|=  5.05487D-04\n\n           * * *\n\nTit   = total number of iterations\nTnf   = total number of function evaluations\nTnint = total number of segments explored during Cauchy searches\nSkip  = number of BFGS updates skipped\nNact  = number of active bounds at final generalized Cauchy point\nProjg = norm of the final projected gradient\nF     = final function value\n\n           * * *\n\n   N    Tit     Tnf  Tnint  Skip  Nact     Projg        F\n   13     50     56      1     0     0   5.055D-04   7.687D+00\n  F =   7.6869058018043424     \n\nSTOP: TOTAL NO. of ITERATIONS REACHED LIMIT                 \n"
     ]
    },
    {
     "output_type": "stream",
     "name": "stderr",
     "output_type": "stream",
     "text": [
      "[I 2024-07-03 11:06:50,066] Trial 71 finished with value: 4.943237429718464 and parameters: {'order': (1, 1, 0), 'seasonal_order': (3, 0, 1, 12)}. Best is trial 16 with value: 3.1593911414897837.\n This problem is unconstrained.\n"
     ]
    },
    {
     "output_type": "stream",
     "name": "stdout",
     "output_type": "stream",
     "text": [
      "RUNNING THE L-BFGS-B CODE\n\n           * * *\n\nMachine precision = 2.220D-16\n N =           19     M =           10\n\nAt X0         0 variables are exactly at the bounds\n\nAt iterate    0    f=  8.04507D+00    |proj g|=  1.67042D-01\n\nAt iterate    5    f=  8.01336D+00    |proj g|=  1.90181D-02\n\nAt iterate   10    f=  8.00774D+00    |proj g|=  6.24095D-03\n\nAt iterate   15    f=  8.00585D+00    |proj g|=  2.42661D-02\n\nAt iterate   20    f=  8.00421D+00    |proj g|=  2.22085D-03\n\nAt iterate   25    f=  8.00353D+00    |proj g|=  1.78834D-02\n\nAt iterate   30    f=  7.99889D+00    |proj g|=  2.94095D-02\n\nAt iterate   35    f=  7.98837D+00    |proj g|=  2.51554D-02\n\nAt iterate   40    f=  7.98625D+00    |proj g|=  6.96767D-03\n\nAt iterate   45    f=  7.97993D+00    |proj g|=  1.33290D-02\n"
     ]
    },
    {
     "output_type": "stream",
     "name": "stderr",
     "output_type": "stream",
     "text": [
      "[I 2024-07-03 11:06:52,507] Trial 72 finished with value: 3.7172043377274884 and parameters: {'order': (3, 0, 3), 'seasonal_order': (2, 0, 3, 12)}. Best is trial 16 with value: 3.1593911414897837.\n"
     ]
    },
    {
     "output_type": "stream",
     "name": "stdout",
     "output_type": "stream",
     "text": [
      "\nAt iterate   50    f=  7.97112D+00    |proj g|=  3.36138D-03\n\n           * * *\n\nTit   = total number of iterations\nTnf   = total number of function evaluations\nTnint = total number of segments explored during Cauchy searches\nSkip  = number of BFGS updates skipped\nNact  = number of active bounds at final generalized Cauchy point\nProjg = norm of the final projected gradient\nF     = final function value\n\n           * * *\n\n   N    Tit     Tnf  Tnint  Skip  Nact     Projg        F\n   19     50     59      1     0     0   3.361D-03   7.971D+00\n  F =   7.9711226268396471     \n\nSTOP: TOTAL NO. of ITERATIONS REACHED LIMIT                 \nRUNNING THE L-BFGS-B CODE\n\n           * * *\n\nMachine precision = 2.220D-16\n N =           14     M =           10\n\nAt X0         0 variables are exactly at the bounds\n\nAt iterate    0    f=  8.29232D+00    |proj g|=  9.31976D-02\n"
     ]
    },
    {
     "output_type": "stream",
     "name": "stderr",
     "output_type": "stream",
     "text": [
      " This problem is unconstrained.\n"
     ]
    },
    {
     "output_type": "stream",
     "name": "stdout",
     "output_type": "stream",
     "text": [
      "\nAt iterate    5    f=  8.25374D+00    |proj g|=  3.63143D-03\n\nAt iterate   10    f=  8.25306D+00    |proj g|=  1.49793D-03\n\nAt iterate   15    f=  8.25282D+00    |proj g|=  4.05514D-03\n\nAt iterate   20    f=  8.25196D+00    |proj g|=  1.50584D-02\n\nAt iterate   25    f=  8.22943D+00    |proj g|=  1.06427D-01\n\nAt iterate   30    f=  8.21314D+00    |proj g|=  6.61255D-03\n\nAt iterate   35    f=  8.21181D+00    |proj g|=  6.05189D-04\n\nAt iterate   40    f=  8.21167D+00    |proj g|=  4.03878D-03\n\nAt iterate   45    f=  8.20867D+00    |proj g|=  1.80857D-02\n\nAt iterate   50    f=  8.20149D+00    |proj g|=  1.62798D-02\n\n           * * *\n\nTit   = total number of iterations\nTnf   = total number of function evaluations\nTnint = total number of segments explored during Cauchy searches\nSkip  = number of BFGS updates skipped\nNact  = number of active bounds at final generalized Cauchy point\nProjg = norm of the final projected gradient\nF     = final function value\n\n           * * *\n\n   N    Tit     Tnf  Tnint  Skip  Nact     Projg        F\n   14     50     58      1     0     0   1.628D-02   8.201D+00\n  F =   8.2014946263492359     \n\nSTOP: TOTAL NO. of ITERATIONS REACHED LIMIT                 \n"
     ]
    },
    {
     "output_type": "stream",
     "name": "stderr",
     "output_type": "stream",
     "text": [
      "[I 2024-07-03 11:06:54,438] Trial 73 finished with value: 22.602313590903353 and parameters: {'order': (0, 0, 1), 'seasonal_order': (2, 0, 3, 12)}. Best is trial 16 with value: 3.1593911414897837.\n This problem is unconstrained.\n"
     ]
    },
    {
     "output_type": "stream",
     "name": "stdout",
     "output_type": "stream",
     "text": [
      "RUNNING THE L-BFGS-B CODE\n\n           * * *\n\nMachine precision = 2.220D-16\n N =           19     M =           10\n\nAt X0         0 variables are exactly at the bounds\n\nAt iterate    0    f=  8.04507D+00    |proj g|=  1.67042D-01\n\nAt iterate    5    f=  8.01336D+00    |proj g|=  1.90181D-02\n\nAt iterate   10    f=  8.00774D+00    |proj g|=  6.24095D-03\n\nAt iterate   15    f=  8.00585D+00    |proj g|=  2.42661D-02\n\nAt iterate   20    f=  8.00421D+00    |proj g|=  2.22085D-03\n\nAt iterate   25    f=  8.00353D+00    |proj g|=  1.78834D-02\n\nAt iterate   30    f=  7.99889D+00    |proj g|=  2.94095D-02\n\nAt iterate   35    f=  7.98837D+00    |proj g|=  2.51554D-02\n\nAt iterate   40    f=  7.98625D+00    |proj g|=  6.96767D-03\n\nAt iterate   45    f=  7.97993D+00    |proj g|=  1.33290D-02\n"
     ]
    },
    {
     "output_type": "stream",
     "name": "stderr",
     "output_type": "stream",
     "text": [
      "[I 2024-07-03 11:06:57,579] Trial 74 finished with value: 3.7172043377274884 and parameters: {'order': (3, 0, 3), 'seasonal_order': (2, 0, 3, 12)}. Best is trial 16 with value: 3.1593911414897837.\n"
     ]
    },
    {
     "output_type": "stream",
     "name": "stdout",
     "output_type": "stream",
     "text": [
      "\nAt iterate   50    f=  7.97112D+00    |proj g|=  3.36138D-03\n\n           * * *\n\nTit   = total number of iterations\nTnf   = total number of function evaluations\nTnint = total number of segments explored during Cauchy searches\nSkip  = number of BFGS updates skipped\nNact  = number of active bounds at final generalized Cauchy point\nProjg = norm of the final projected gradient\nF     = final function value\n\n           * * *\n\n   N    Tit     Tnf  Tnint  Skip  Nact     Projg        F\n   19     50     59      1     0     0   3.361D-03   7.971D+00\n  F =   7.9711226268396471     \n\nSTOP: TOTAL NO. of ITERATIONS REACHED LIMIT                 \nRUNNING THE L-BFGS-B CODE\n\n           * * *\n\nMachine precision = 2.220D-16\n N =           19     M =           10\n\nAt X0         0 variables are exactly at the bounds\n\nAt iterate    0    f=  8.04507D+00    |proj g|=  1.67042D-01\n"
     ]
    },
    {
     "output_type": "stream",
     "name": "stderr",
     "output_type": "stream",
     "text": [
      " This problem is unconstrained.\n"
     ]
    },
    {
     "output_type": "stream",
     "name": "stdout",
     "output_type": "stream",
     "text": [
      "\nAt iterate    5    f=  8.01336D+00    |proj g|=  1.90181D-02\n\nAt iterate   10    f=  8.00774D+00    |proj g|=  6.24095D-03\n\nAt iterate   15    f=  8.00585D+00    |proj g|=  2.42661D-02\n\nAt iterate   20    f=  8.00421D+00    |proj g|=  2.22085D-03\n\nAt iterate   25    f=  8.00353D+00    |proj g|=  1.78834D-02\n\nAt iterate   30    f=  7.99889D+00    |proj g|=  2.94095D-02\n\nAt iterate   35    f=  7.98837D+00    |proj g|=  2.51554D-02\n\nAt iterate   40    f=  7.98625D+00    |proj g|=  6.96767D-03\n\nAt iterate   45    f=  7.97993D+00    |proj g|=  1.33290D-02\n"
     ]
    },
    {
     "output_type": "stream",
     "name": "stderr",
     "output_type": "stream",
     "text": [
      "[I 2024-07-03 11:07:00,078] Trial 75 finished with value: 3.7172043377274884 and parameters: {'order': (3, 0, 3), 'seasonal_order': (2, 0, 3, 12)}. Best is trial 16 with value: 3.1593911414897837.\n"
     ]
    },
    {
     "output_type": "stream",
     "name": "stdout",
     "output_type": "stream",
     "text": [
      "\nAt iterate   50    f=  7.97112D+00    |proj g|=  3.36138D-03\n\n           * * *\n\nTit   = total number of iterations\nTnf   = total number of function evaluations\nTnint = total number of segments explored during Cauchy searches\nSkip  = number of BFGS updates skipped\nNact  = number of active bounds at final generalized Cauchy point\nProjg = norm of the final projected gradient\nF     = final function value\n\n           * * *\n\n   N    Tit     Tnf  Tnint  Skip  Nact     Projg        F\n   19     50     59      1     0     0   3.361D-03   7.971D+00\n  F =   7.9711226268396471     \n\nSTOP: TOTAL NO. of ITERATIONS REACHED LIMIT                 \n"
     ]
    },
    {
     "output_type": "stream",
     "name": "stderr",
     "output_type": "stream",
     "text": [
      " This problem is unconstrained.\n"
     ]
    },
    {
     "output_type": "stream",
     "name": "stdout",
     "output_type": "stream",
     "text": [
      "RUNNING THE L-BFGS-B CODE\n\n           * * *\n\nMachine precision = 2.220D-16\n N =           19     M =           10\n\nAt X0         0 variables are exactly at the bounds\n\nAt iterate    0    f=  8.04507D+00    |proj g|=  1.67042D-01\n\nAt iterate    5    f=  8.01336D+00    |proj g|=  1.90181D-02\n\nAt iterate   10    f=  8.00774D+00    |proj g|=  6.24095D-03\n\nAt iterate   15    f=  8.00585D+00    |proj g|=  2.42661D-02\n\nAt iterate   20    f=  8.00421D+00    |proj g|=  2.22085D-03\n\nAt iterate   25    f=  8.00353D+00    |proj g|=  1.78834D-02\n\nAt iterate   30    f=  7.99889D+00    |proj g|=  2.94095D-02\n\nAt iterate   35    f=  7.98837D+00    |proj g|=  2.51554D-02\n\nAt iterate   40    f=  7.98625D+00    |proj g|=  6.96767D-03\n\nAt iterate   45    f=  7.97993D+00    |proj g|=  1.33290D-02\n"
     ]
    },
    {
     "output_type": "stream",
     "name": "stderr",
     "output_type": "stream",
     "text": [
      "[I 2024-07-03 11:07:02,630] Trial 76 finished with value: 3.7172043377274884 and parameters: {'order': (3, 0, 3), 'seasonal_order': (2, 0, 3, 12)}. Best is trial 16 with value: 3.1593911414897837.\n"
     ]
    },
    {
     "output_type": "stream",
     "name": "stdout",
     "output_type": "stream",
     "text": [
      "\nAt iterate   50    f=  7.97112D+00    |proj g|=  3.36138D-03\n\n           * * *\n\nTit   = total number of iterations\nTnf   = total number of function evaluations\nTnint = total number of segments explored during Cauchy searches\nSkip  = number of BFGS updates skipped\nNact  = number of active bounds at final generalized Cauchy point\nProjg = norm of the final projected gradient\nF     = final function value\n\n           * * *\n\n   N    Tit     Tnf  Tnint  Skip  Nact     Projg        F\n   19     50     59      1     0     0   3.361D-03   7.971D+00\n  F =   7.9711226268396471     \n\nSTOP: TOTAL NO. of ITERATIONS REACHED LIMIT                 \nRUNNING THE L-BFGS-B CODE\n\n           * * *\n\nMachine precision = 2.220D-16\n N =           19     M =           10\n\nAt X0         0 variables are exactly at the bounds\n\nAt iterate    0    f=  8.04507D+00    |proj g|=  1.67042D-01\n"
     ]
    },
    {
     "output_type": "stream",
     "name": "stderr",
     "output_type": "stream",
     "text": [
      " This problem is unconstrained.\n"
     ]
    },
    {
     "output_type": "stream",
     "name": "stdout",
     "output_type": "stream",
     "text": [
      "\nAt iterate    5    f=  8.01336D+00    |proj g|=  1.90181D-02\n\nAt iterate   10    f=  8.00774D+00    |proj g|=  6.24095D-03\n\nAt iterate   15    f=  8.00585D+00    |proj g|=  2.42661D-02\n\nAt iterate   20    f=  8.00421D+00    |proj g|=  2.22085D-03\n\nAt iterate   25    f=  8.00353D+00    |proj g|=  1.78834D-02\n\nAt iterate   30    f=  7.99889D+00    |proj g|=  2.94095D-02\n\nAt iterate   35    f=  7.98837D+00    |proj g|=  2.51554D-02\n\nAt iterate   40    f=  7.98625D+00    |proj g|=  6.96767D-03\n\nAt iterate   45    f=  7.97993D+00    |proj g|=  1.33290D-02\n"
     ]
    },
    {
     "output_type": "stream",
     "name": "stderr",
     "output_type": "stream",
     "text": [
      "[I 2024-07-03 11:07:05,101] Trial 77 finished with value: 3.7172043377274884 and parameters: {'order': (3, 0, 3), 'seasonal_order': (2, 0, 3, 12)}. Best is trial 16 with value: 3.1593911414897837.\n"
     ]
    },
    {
     "output_type": "stream",
     "name": "stdout",
     "output_type": "stream",
     "text": [
      "\nAt iterate   50    f=  7.97112D+00    |proj g|=  3.36138D-03\n\n           * * *\n\nTit   = total number of iterations\nTnf   = total number of function evaluations\nTnint = total number of segments explored during Cauchy searches\nSkip  = number of BFGS updates skipped\nNact  = number of active bounds at final generalized Cauchy point\nProjg = norm of the final projected gradient\nF     = final function value\n\n           * * *\n\n   N    Tit     Tnf  Tnint  Skip  Nact     Projg        F\n   19     50     59      1     0     0   3.361D-03   7.971D+00\n  F =   7.9711226268396471     \n\nSTOP: TOTAL NO. of ITERATIONS REACHED LIMIT                 \n"
     ]
    },
    {
     "output_type": "stream",
     "name": "stderr",
     "output_type": "stream",
     "text": [
      " This problem is unconstrained.\n"
     ]
    },
    {
     "output_type": "stream",
     "name": "stdout",
     "output_type": "stream",
     "text": [
      "RUNNING THE L-BFGS-B CODE\n\n           * * *\n\nMachine precision = 2.220D-16\n N =           19     M =           10\n\nAt X0         0 variables are exactly at the bounds\n\nAt iterate    0    f=  8.04507D+00    |proj g|=  1.67042D-01\n\nAt iterate    5    f=  8.01336D+00    |proj g|=  1.90181D-02\n\nAt iterate   10    f=  8.00774D+00    |proj g|=  6.24095D-03\n\nAt iterate   15    f=  8.00585D+00    |proj g|=  2.42661D-02\n\nAt iterate   20    f=  8.00421D+00    |proj g|=  2.22085D-03\n\nAt iterate   25    f=  8.00353D+00    |proj g|=  1.78834D-02\n\nAt iterate   30    f=  7.99889D+00    |proj g|=  2.94095D-02\n\nAt iterate   35    f=  7.98837D+00    |proj g|=  2.51554D-02\n\nAt iterate   40    f=  7.98625D+00    |proj g|=  6.96767D-03\n\nAt iterate   45    f=  7.97993D+00    |proj g|=  1.33290D-02\n"
     ]
    },
    {
     "output_type": "stream",
     "name": "stderr",
     "output_type": "stream",
     "text": [
      "[I 2024-07-03 11:07:07,610] Trial 78 finished with value: 3.7172043377274884 and parameters: {'order': (3, 0, 3), 'seasonal_order': (2, 0, 3, 12)}. Best is trial 16 with value: 3.1593911414897837.\n"
     ]
    },
    {
     "output_type": "stream",
     "name": "stdout",
     "output_type": "stream",
     "text": [
      "\nAt iterate   50    f=  7.97112D+00    |proj g|=  3.36138D-03\n\n           * * *\n\nTit   = total number of iterations\nTnf   = total number of function evaluations\nTnint = total number of segments explored during Cauchy searches\nSkip  = number of BFGS updates skipped\nNact  = number of active bounds at final generalized Cauchy point\nProjg = norm of the final projected gradient\nF     = final function value\n\n           * * *\n\n   N    Tit     Tnf  Tnint  Skip  Nact     Projg        F\n   19     50     59      1     0     0   3.361D-03   7.971D+00\n  F =   7.9711226268396471     \n\nSTOP: TOTAL NO. of ITERATIONS REACHED LIMIT                 \nRUNNING THE L-BFGS-B CODE\n\n           * * *\n\nMachine precision = 2.220D-16\n N =           19     M =           10\n\nAt X0         0 variables are exactly at the bounds\n\nAt iterate    0    f=  8.04507D+00    |proj g|=  1.67042D-01\n"
     ]
    },
    {
     "output_type": "stream",
     "name": "stderr",
     "output_type": "stream",
     "text": [
      " This problem is unconstrained.\n"
     ]
    },
    {
     "output_type": "stream",
     "name": "stdout",
     "output_type": "stream",
     "text": [
      "\nAt iterate    5    f=  8.01336D+00    |proj g|=  1.90181D-02\n\nAt iterate   10    f=  8.00774D+00    |proj g|=  6.24095D-03\n\nAt iterate   15    f=  8.00585D+00    |proj g|=  2.42661D-02\n\nAt iterate   20    f=  8.00421D+00    |proj g|=  2.22085D-03\n\nAt iterate   25    f=  8.00353D+00    |proj g|=  1.78834D-02\n\nAt iterate   30    f=  7.99889D+00    |proj g|=  2.94095D-02\n\nAt iterate   35    f=  7.98837D+00    |proj g|=  2.51554D-02\n\nAt iterate   40    f=  7.98625D+00    |proj g|=  6.96767D-03\n\nAt iterate   45    f=  7.97993D+00    |proj g|=  1.33290D-02\n"
     ]
    },
    {
     "output_type": "stream",
     "name": "stderr",
     "output_type": "stream",
     "text": [
      "[I 2024-07-03 11:07:10,057] Trial 79 finished with value: 3.7172043377274884 and parameters: {'order': (3, 0, 3), 'seasonal_order': (2, 0, 3, 12)}. Best is trial 16 with value: 3.1593911414897837.\n"
     ]
    },
    {
     "output_type": "stream",
     "name": "stdout",
     "output_type": "stream",
     "text": [
      "\nAt iterate   50    f=  7.97112D+00    |proj g|=  3.36138D-03\n\n           * * *\n\nTit   = total number of iterations\nTnf   = total number of function evaluations\nTnint = total number of segments explored during Cauchy searches\nSkip  = number of BFGS updates skipped\nNact  = number of active bounds at final generalized Cauchy point\nProjg = norm of the final projected gradient\nF     = final function value\n\n           * * *\n\n   N    Tit     Tnf  Tnint  Skip  Nact     Projg        F\n   19     50     59      1     0     0   3.361D-03   7.971D+00\n  F =   7.9711226268396471     \n\nSTOP: TOTAL NO. of ITERATIONS REACHED LIMIT                 \n"
     ]
    },
    {
     "output_type": "stream",
     "name": "stderr",
     "output_type": "stream",
     "text": [
      " This problem is unconstrained.\n"
     ]
    },
    {
     "output_type": "stream",
     "name": "stdout",
     "output_type": "stream",
     "text": [
      "RUNNING THE L-BFGS-B CODE\n\n           * * *\n\nMachine precision = 2.220D-16\n N =           19     M =           10\n\nAt X0         0 variables are exactly at the bounds\n\nAt iterate    0    f=  8.04507D+00    |proj g|=  1.67042D-01\n\nAt iterate    5    f=  8.01336D+00    |proj g|=  1.90181D-02\n\nAt iterate   10    f=  8.00774D+00    |proj g|=  6.24095D-03\n\nAt iterate   15    f=  8.00585D+00    |proj g|=  2.42661D-02\n\nAt iterate   20    f=  8.00421D+00    |proj g|=  2.22085D-03\n\nAt iterate   25    f=  8.00353D+00    |proj g|=  1.78834D-02\n\nAt iterate   30    f=  7.99889D+00    |proj g|=  2.94095D-02\n\nAt iterate   35    f=  7.98837D+00    |proj g|=  2.51554D-02\n\nAt iterate   40    f=  7.98625D+00    |proj g|=  6.96767D-03\n\nAt iterate   45    f=  7.97993D+00    |proj g|=  1.33290D-02\n"
     ]
    },
    {
     "output_type": "stream",
     "name": "stderr",
     "output_type": "stream",
     "text": [
      "[I 2024-07-03 11:07:13,041] Trial 80 finished with value: 3.7172043377274884 and parameters: {'order': (3, 0, 3), 'seasonal_order': (2, 0, 3, 12)}. Best is trial 16 with value: 3.1593911414897837.\n"
     ]
    },
    {
     "output_type": "stream",
     "name": "stdout",
     "output_type": "stream",
     "text": [
      "\nAt iterate   50    f=  7.97112D+00    |proj g|=  3.36138D-03\n\n           * * *\n\nTit   = total number of iterations\nTnf   = total number of function evaluations\nTnint = total number of segments explored during Cauchy searches\nSkip  = number of BFGS updates skipped\nNact  = number of active bounds at final generalized Cauchy point\nProjg = norm of the final projected gradient\nF     = final function value\n\n           * * *\n\n   N    Tit     Tnf  Tnint  Skip  Nact     Projg        F\n   19     50     59      1     0     0   3.361D-03   7.971D+00\n  F =   7.9711226268396471     \n\nSTOP: TOTAL NO. of ITERATIONS REACHED LIMIT                 \nRUNNING THE L-BFGS-B CODE\n\n           * * *\n\nMachine precision = 2.220D-16\n N =           19     M =           10\n\nAt X0         0 variables are exactly at the bounds\n\nAt iterate    0    f=  8.04507D+00    |proj g|=  1.67042D-01\n"
     ]
    },
    {
     "output_type": "stream",
     "name": "stderr",
     "output_type": "stream",
     "text": [
      " This problem is unconstrained.\n"
     ]
    },
    {
     "output_type": "stream",
     "name": "stdout",
     "output_type": "stream",
     "text": [
      "\nAt iterate    5    f=  8.01336D+00    |proj g|=  1.90181D-02\n\nAt iterate   10    f=  8.00774D+00    |proj g|=  6.24095D-03\n\nAt iterate   15    f=  8.00585D+00    |proj g|=  2.42661D-02\n\nAt iterate   20    f=  8.00421D+00    |proj g|=  2.22085D-03\n\nAt iterate   25    f=  8.00353D+00    |proj g|=  1.78834D-02\n\nAt iterate   30    f=  7.99889D+00    |proj g|=  2.94095D-02\n\nAt iterate   35    f=  7.98837D+00    |proj g|=  2.51554D-02\n\nAt iterate   40    f=  7.98625D+00    |proj g|=  6.96767D-03\n\nAt iterate   45    f=  7.97993D+00    |proj g|=  1.33290D-02\n"
     ]
    },
    {
     "output_type": "stream",
     "name": "stderr",
     "output_type": "stream",
     "text": [
      "[I 2024-07-03 11:07:15,715] Trial 81 finished with value: 3.7172043377274884 and parameters: {'order': (3, 0, 3), 'seasonal_order': (2, 0, 3, 12)}. Best is trial 16 with value: 3.1593911414897837.\n"
     ]
    },
    {
     "output_type": "stream",
     "name": "stdout",
     "output_type": "stream",
     "text": [
      "\nAt iterate   50    f=  7.97112D+00    |proj g|=  3.36138D-03\n\n           * * *\n\nTit   = total number of iterations\nTnf   = total number of function evaluations\nTnint = total number of segments explored during Cauchy searches\nSkip  = number of BFGS updates skipped\nNact  = number of active bounds at final generalized Cauchy point\nProjg = norm of the final projected gradient\nF     = final function value\n\n           * * *\n\n   N    Tit     Tnf  Tnint  Skip  Nact     Projg        F\n   19     50     59      1     0     0   3.361D-03   7.971D+00\n  F =   7.9711226268396471     \n\nSTOP: TOTAL NO. of ITERATIONS REACHED LIMIT                 \nRUNNING THE L-BFGS-B CODE\n\n           * * *\n\nMachine precision = 2.220D-16\n N =           19     M =           10\n\nAt X0         0 variables are exactly at the bounds\n\nAt iterate    0    f=  8.04507D+00    |proj g|=  1.67042D-01\n"
     ]
    },
    {
     "output_type": "stream",
     "name": "stderr",
     "output_type": "stream",
     "text": [
      " This problem is unconstrained.\n"
     ]
    },
    {
     "output_type": "stream",
     "name": "stdout",
     "output_type": "stream",
     "text": [
      "\nAt iterate    5    f=  8.01336D+00    |proj g|=  1.90181D-02\n\nAt iterate   10    f=  8.00774D+00    |proj g|=  6.24095D-03\n\nAt iterate   15    f=  8.00585D+00    |proj g|=  2.42661D-02\n\nAt iterate   20    f=  8.00421D+00    |proj g|=  2.22085D-03\n\nAt iterate   25    f=  8.00353D+00    |proj g|=  1.78834D-02\n\nAt iterate   30    f=  7.99889D+00    |proj g|=  2.94095D-02\n\nAt iterate   35    f=  7.98837D+00    |proj g|=  2.51554D-02\n\nAt iterate   40    f=  7.98625D+00    |proj g|=  6.96767D-03\n\nAt iterate   45    f=  7.97993D+00    |proj g|=  1.33290D-02\n"
     ]
    },
    {
     "output_type": "stream",
     "name": "stderr",
     "output_type": "stream",
     "text": [
      "[I 2024-07-03 11:07:18,187] Trial 82 finished with value: 3.7172043377274884 and parameters: {'order': (3, 0, 3), 'seasonal_order': (2, 0, 3, 12)}. Best is trial 16 with value: 3.1593911414897837.\n"
     ]
    },
    {
     "output_type": "stream",
     "name": "stdout",
     "output_type": "stream",
     "text": [
      "\nAt iterate   50    f=  7.97112D+00    |proj g|=  3.36138D-03\n\n           * * *\n\nTit   = total number of iterations\nTnf   = total number of function evaluations\nTnint = total number of segments explored during Cauchy searches\nSkip  = number of BFGS updates skipped\nNact  = number of active bounds at final generalized Cauchy point\nProjg = norm of the final projected gradient\nF     = final function value\n\n           * * *\n\n   N    Tit     Tnf  Tnint  Skip  Nact     Projg        F\n   19     50     59      1     0     0   3.361D-03   7.971D+00\n  F =   7.9711226268396471     \n\nSTOP: TOTAL NO. of ITERATIONS REACHED LIMIT                 \nRUNNING THE L-BFGS-B CODE\n\n           * * *\n\nMachine precision = 2.220D-16\n N =           18     M =           10\n\nAt X0         0 variables are exactly at the bounds\n\nAt iterate    0    f=  8.04507D+00    |proj g|=  1.67042D-01\n"
     ]
    },
    {
     "output_type": "stream",
     "name": "stderr",
     "output_type": "stream",
     "text": [
      " This problem is unconstrained.\n"
     ]
    },
    {
     "output_type": "stream",
     "name": "stdout",
     "output_type": "stream",
     "text": [
      "\nAt iterate    5    f=  8.01342D+00    |proj g|=  1.47060D-02\n\nAt iterate   10    f=  8.00787D+00    |proj g|=  4.98896D-03\n\nAt iterate   15    f=  8.00580D+00    |proj g|=  1.99894D-02\n\nAt iterate   20    f=  8.00447D+00    |proj g|=  2.12236D-03\n\nAt iterate   25    f=  8.00362D+00    |proj g|=  1.89238D-02\n\nAt iterate   30    f=  7.99706D+00    |proj g|=  5.38060D-02\n\nAt iterate   35    f=  7.99051D+00    |proj g|=  1.81599D-02\n\nAt iterate   40    f=  7.98766D+00    |proj g|=  1.97359D-02\n\nAt iterate   45    f=  7.98327D+00    |proj g|=  1.19742D-02\n"
     ]
    },
    {
     "output_type": "stream",
     "name": "stderr",
     "output_type": "stream",
     "text": [
      "[I 2024-07-03 11:07:20,124] Trial 83 finished with value: 3.542433043778909 and parameters: {'order': (3, 0, 3), 'seasonal_order': (1, 0, 3, 12)}. Best is trial 16 with value: 3.1593911414897837.\n"
     ]
    },
    {
     "output_type": "stream",
     "name": "stdout",
     "output_type": "stream",
     "text": [
      "\nAt iterate   50    f=  7.97251D+00    |proj g|=  1.27847D-02\n\n           * * *\n\nTit   = total number of iterations\nTnf   = total number of function evaluations\nTnint = total number of segments explored during Cauchy searches\nSkip  = number of BFGS updates skipped\nNact  = number of active bounds at final generalized Cauchy point\nProjg = norm of the final projected gradient\nF     = final function value\n\n           * * *\n\n   N    Tit     Tnf  Tnint  Skip  Nact     Projg        F\n   18     50     56      1     0     0   1.278D-02   7.973D+00\n  F =   7.9725052550010238     \n\nSTOP: TOTAL NO. of ITERATIONS REACHED LIMIT                 \nRUNNING THE L-BFGS-B CODE\n\n           * * *\n\nMachine precision = 2.220D-16\n N =           18     M =           10\n\nAt X0         0 variables are exactly at the bounds\n\nAt iterate    0    f=  8.04507D+00    |proj g|=  1.67042D-01\n"
     ]
    },
    {
     "output_type": "stream",
     "name": "stderr",
     "output_type": "stream",
     "text": [
      " This problem is unconstrained.\n"
     ]
    },
    {
     "output_type": "stream",
     "name": "stdout",
     "output_type": "stream",
     "text": [
      "\nAt iterate    5    f=  8.01342D+00    |proj g|=  1.47060D-02\n\nAt iterate   10    f=  8.00787D+00    |proj g|=  4.98896D-03\n\nAt iterate   15    f=  8.00580D+00    |proj g|=  1.99894D-02\n\nAt iterate   20    f=  8.00447D+00    |proj g|=  2.12236D-03\n\nAt iterate   25    f=  8.00362D+00    |proj g|=  1.89238D-02\n\nAt iterate   30    f=  7.99706D+00    |proj g|=  5.38060D-02\n\nAt iterate   35    f=  7.99051D+00    |proj g|=  1.81599D-02\n\nAt iterate   40    f=  7.98766D+00    |proj g|=  1.97359D-02\n\nAt iterate   45    f=  7.98327D+00    |proj g|=  1.19742D-02\n\nAt iterate   50    f=  7.97251D+00    |proj g|=  1.27847D-02\n\n           * * *\n\nTit   = total number of iterations\nTnf   = total number of function evaluations\nTnint = total number of segments explored during Cauchy searches\nSkip  = number of BFGS updates skipped\nNact  = number of active bounds at final generalized Cauchy point\nProjg = norm of the final projected gradient\nF     = final function value\n\n           * * *\n\n   N    Tit     Tnf  Tnint  Skip  Nact     Projg        F\n   18     50     56      1     0     0   1.278D-02   7.973D+00\n  F =   7.9725052550010238     \n\nSTOP: TOTAL NO. of ITERATIONS REACHED LIMIT                 \n"
     ]
    },
    {
     "output_type": "stream",
     "name": "stderr",
     "output_type": "stream",
     "text": [
      "[I 2024-07-03 11:07:22,257] Trial 84 finished with value: 3.542433043778909 and parameters: {'order': (3, 0, 3), 'seasonal_order': (1, 0, 3, 12)}. Best is trial 16 with value: 3.1593911414897837.\n This problem is unconstrained.\n"
     ]
    },
    {
     "output_type": "stream",
     "name": "stdout",
     "output_type": "stream",
     "text": [
      "RUNNING THE L-BFGS-B CODE\n\n           * * *\n\nMachine precision = 2.220D-16\n N =           12     M =           10\n\nAt X0         0 variables are exactly at the bounds\n\nAt iterate    0    f=  8.04982D+00    |proj g|=  2.17407D-01\n\nAt iterate    5    f=  8.01633D+00    |proj g|=  7.66461D-03\n\nAt iterate   10    f=  8.01536D+00    |proj g|=  1.63783D-02\n\nAt iterate   15    f=  8.01465D+00    |proj g|=  3.12351D-02\n\nAt iterate   20    f=  7.99026D+00    |proj g|=  1.23609D-01\n\nAt iterate   25    f=  7.98286D+00    |proj g|=  4.46028D-03\n\nAt iterate   30    f=  7.98279D+00    |proj g|=  1.58032D-03\n\nAt iterate   35    f=  7.98223D+00    |proj g|=  2.57048D-02\n\nAt iterate   40    f=  7.97585D+00    |proj g|=  3.36360D-02\n\nAt iterate   45    f=  7.96425D+00    |proj g|=  3.59790D-02\n"
     ]
    },
    {
     "output_type": "stream",
     "name": "stderr",
     "output_type": "stream",
     "text": [
      "[I 2024-07-03 11:07:22,732] Trial 85 finished with value: 11.153572290381952 and parameters: {'order': (1, 0, 2), 'seasonal_order': (0, 0, 1, 12)}. Best is trial 16 with value: 3.1593911414897837.\n"
     ]
    },
    {
     "output_type": "stream",
     "name": "stdout",
     "output_type": "stream",
     "text": [
      "\nAt iterate   50    f=  7.96151D+00    |proj g|=  1.84680D-03\n\n           * * *\n\nTit   = total number of iterations\nTnf   = total number of function evaluations\nTnint = total number of segments explored during Cauchy searches\nSkip  = number of BFGS updates skipped\nNact  = number of active bounds at final generalized Cauchy point\nProjg = norm of the final projected gradient\nF     = final function value\n\n           * * *\n\n   N    Tit     Tnf  Tnint  Skip  Nact     Projg        F\n   12     50     52      1     0     0   1.847D-03   7.962D+00\n  F =   7.9615143286697698     \n\nSTOP: TOTAL NO. of ITERATIONS REACHED LIMIT                 \nRUNNING THE L-BFGS-B CODE\n\n           * * *\n\nMachine precision = 2.220D-16\n N =           15     M =           10\n\nAt X0         0 variables are exactly at the bounds\n\nAt iterate    0    f=  8.10714D+00    |proj g|=  1.29706D-01\n"
     ]
    },
    {
     "output_type": "stream",
     "name": "stderr",
     "output_type": "stream",
     "text": [
      " This problem is unconstrained.\n"
     ]
    },
    {
     "output_type": "stream",
     "name": "stdout",
     "output_type": "stream",
     "text": [
      "\nAt iterate    5    f=  8.05712D+00    |proj g|=  4.15956D-03\n\nAt iterate   10    f=  8.05681D+00    |proj g|=  5.73549D-03\n\nAt iterate   15    f=  8.05655D+00    |proj g|=  4.85729D-03\n\nAt iterate   20    f=  8.04886D+00    |proj g|=  4.20902D-02\n\nAt iterate   25    f=  8.03284D+00    |proj g|=  2.61010D-02\n\nAt iterate   30    f=  8.03081D+00    |proj g|=  1.09015D-03\n\nAt iterate   35    f=  8.03075D+00    |proj g|=  1.49692D-03\n\nAt iterate   40    f=  8.03007D+00    |proj g|=  1.19398D-02\n\nAt iterate   45    f=  8.02668D+00    |proj g|=  8.41656D-03\n\nAt iterate   50    f=  8.02512D+00    |proj g|=  3.23867D-03\n\n           * * *\n\nTit   = total number of iterations\nTnf   = total number of function evaluations\nTnint = total number of segments explored during Cauchy searches\nSkip  = number of BFGS updates skipped\nNact  = number of active bounds at final generalized Cauchy point\nProjg = norm of the final projected gradient\nF     = final function value\n\n           * * *\n\n   N    Tit     Tnf  Tnint  Skip  Nact     Projg        F\n   15     50     55      1     0     0   3.239D-03   8.025D+00\n  F =   8.0251213101185268     \n\nSTOP: TOTAL NO. of ITERATIONS REACHED LIMIT                 \n"
     ]
    },
    {
     "output_type": "stream",
     "name": "stderr",
     "output_type": "stream",
     "text": [
      "[I 2024-07-03 11:07:24,333] Trial 86 finished with value: 9.683214991091075 and parameters: {'order': (0, 0, 3), 'seasonal_order': (1, 0, 3, 12)}. Best is trial 16 with value: 3.1593911414897837.\n"
     ]
    },
    {
     "output_type": "stream",
     "name": "stdout",
     "output_type": "stream",
     "text": [
      "RUNNING THE L-BFGS-B CODE\n\n           * * *\n\nMachine precision = 2.220D-16\n N =           16     M =           10\n\nAt X0         0 variables are exactly at the bounds\n\nAt iterate    0    f=  7.75201D+00    |proj g|=  2.03740D-01\n"
     ]
    },
    {
     "output_type": "stream",
     "name": "stderr",
     "output_type": "stream",
     "text": [
      " This problem is unconstrained.\n"
     ]
    },
    {
     "output_type": "stream",
     "name": "stdout",
     "output_type": "stream",
     "text": [
      "\nAt iterate    5    f=  7.71931D+00    |proj g|=  1.15423D-02\n\nAt iterate   10    f=  7.70406D+00    |proj g|=  1.91329D-02\n\nAt iterate   15    f=  7.69375D+00    |proj g|=  1.44708D-02\n\nAt iterate   20    f=  7.69176D+00    |proj g|=  4.38667D-03\n\nAt iterate   25    f=  7.68930D+00    |proj g|=  1.18015D-02\n\nAt iterate   30    f=  7.68750D+00    |proj g|=  2.41200D-03\n\nAt iterate   35    f=  7.68549D+00    |proj g|=  5.17999D-03\n\nAt iterate   40    f=  7.68273D+00    |proj g|=  1.03431D-02\n\nAt iterate   45    f=  7.67975D+00    |proj g|=  2.36781D-02\n"
     ]
    },
    {
     "output_type": "stream",
     "name": "stderr",
     "output_type": "stream",
     "text": [
      "[I 2024-07-03 11:07:26,274] Trial 87 finished with value: 8.943414731002834 and parameters: {'order': (2, 1, 2), 'seasonal_order': (1, 0, 3, 12)}. Best is trial 16 with value: 3.1593911414897837.\n"
     ]
    },
    {
     "output_type": "stream",
     "name": "stdout",
     "output_type": "stream",
     "text": [
      "\nAt iterate   50    f=  7.67861D+00    |proj g|=  1.00750D-03\n\n           * * *\n\nTit   = total number of iterations\nTnf   = total number of function evaluations\nTnint = total number of segments explored during Cauchy searches\nSkip  = number of BFGS updates skipped\nNact  = number of active bounds at final generalized Cauchy point\nProjg = norm of the final projected gradient\nF     = final function value\n\n           * * *\n\n   N    Tit     Tnf  Tnint  Skip  Nact     Projg        F\n   16     50     59      1     0     0   1.007D-03   7.679D+00\n  F =   7.6786073392948735     \n\nSTOP: TOTAL NO. of ITERATIONS REACHED LIMIT                 \nRUNNING THE L-BFGS-B CODE\n\n           * * *\n\nMachine precision = 2.220D-16\n N =           14     M =           10\n\nAt X0         0 variables are exactly at the bounds\n\nAt iterate    0    f=  7.74179D+00    |proj g|=  2.24194D-01\n"
     ]
    },
    {
     "output_type": "stream",
     "name": "stderr",
     "output_type": "stream",
     "text": [
      " This problem is unconstrained.\n"
     ]
    },
    {
     "output_type": "stream",
     "name": "stdout",
     "output_type": "stream",
     "text": [
      "\nAt iterate    5    f=  7.70876D+00    |proj g|=  1.50001D-02\n\nAt iterate   10    f=  7.70598D+00    |proj g|=  1.47728D-02\n\nAt iterate   15    f=  7.70311D+00    |proj g|=  7.85051D-03\n\nAt iterate   20    f=  7.70240D+00    |proj g|=  1.54551D-02\n\nAt iterate   25    f=  7.70173D+00    |proj g|=  6.06649D-03\n\nAt iterate   30    f=  7.70163D+00    |proj g|=  1.13617D-03\n\nAt iterate   35    f=  7.70061D+00    |proj g|=  9.17800D-03\n\nAt iterate   40    f=  7.70003D+00    |proj g|=  1.45778D-03\n\nAt iterate   45    f=  7.69990D+00    |proj g|=  1.04113D-03\n"
     ]
    },
    {
     "output_type": "stream",
     "name": "stderr",
     "output_type": "stream",
     "text": [
      "[I 2024-07-03 11:07:27,964] Trial 88 finished with value: 5.773923714728372 and parameters: {'order': (1, 1, 1), 'seasonal_order': (1, 0, 3, 12)}. Best is trial 16 with value: 3.1593911414897837.\n"
     ]
    },
    {
     "output_type": "stream",
     "name": "stdout",
     "output_type": "stream",
     "text": [
      "\nAt iterate   50    f=  7.69832D+00    |proj g|=  9.30123D-03\n\n           * * *\n\nTit   = total number of iterations\nTnf   = total number of function evaluations\nTnint = total number of segments explored during Cauchy searches\nSkip  = number of BFGS updates skipped\nNact  = number of active bounds at final generalized Cauchy point\nProjg = norm of the final projected gradient\nF     = final function value\n\n           * * *\n\n   N    Tit     Tnf  Tnint  Skip  Nact     Projg        F\n   14     50     60      1     0     0   9.301D-03   7.698D+00\n  F =   7.6983185100934275     \n\nSTOP: TOTAL NO. of ITERATIONS REACHED LIMIT                 \nRUNNING THE L-BFGS-B CODE\n\n           * * *\n\nMachine precision = 2.220D-16\n N =           16     M =           10\n\nAt X0         0 variables are exactly at the bounds\n\nAt iterate    0    f=  5.33678D+00    |proj g|=  2.00889D-01\n"
     ]
    },
    {
     "output_type": "stream",
     "name": "stderr",
     "output_type": "stream",
     "text": [
      " This problem is unconstrained.\n"
     ]
    },
    {
     "output_type": "stream",
     "name": "stdout",
     "output_type": "stream",
     "text": [
      "\nAt iterate    5    f=  5.27588D+00    |proj g|=  1.07759D-02\n\nAt iterate   10    f=  5.27419D+00    |proj g|=  7.73117D-03\n\nAt iterate   15    f=  5.27229D+00    |proj g|=  5.93113D-03\n\nAt iterate   20    f=  5.27170D+00    |proj g|=  2.16779D-03\n\nAt iterate   25    f=  5.26301D+00    |proj g|=  3.55343D-02\n\nAt iterate   30    f=  5.23309D+00    |proj g|=  1.44153D-02\n\nAt iterate   35    f=  5.22932D+00    |proj g|=  5.26670D-03\n\nAt iterate   40    f=  5.22892D+00    |proj g|=  1.05196D-03\n\nAt iterate   45    f=  5.22839D+00    |proj g|=  1.45403D-02\n"
     ]
    },
    {
     "output_type": "stream",
     "name": "stderr",
     "output_type": "stream",
     "text": [
      "[I 2024-07-03 11:07:30,330] Trial 89 finished with value: 32.10677073549212 and parameters: {'order': (3, 1, 1), 'seasonal_order': (1, 1, 3, 12)}. Best is trial 16 with value: 3.1593911414897837.\n"
     ]
    },
    {
     "output_type": "stream",
     "name": "stdout",
     "output_type": "stream",
     "text": [
      "\nAt iterate   50    f=  5.22401D+00    |proj g|=  1.62751D-02\n\n           * * *\n\nTit   = total number of iterations\nTnf   = total number of function evaluations\nTnint = total number of segments explored during Cauchy searches\nSkip  = number of BFGS updates skipped\nNact  = number of active bounds at final generalized Cauchy point\nProjg = norm of the final projected gradient\nF     = final function value\n\n           * * *\n\n   N    Tit     Tnf  Tnint  Skip  Nact     Projg        F\n   16     50     56      1     0     0   1.628D-02   5.224D+00\n  F =   5.2240107689603832     \n\nSTOP: TOTAL NO. of ITERATIONS REACHED LIMIT                 \nRUNNING THE L-BFGS-B CODE\n\n           * * *\n\nMachine precision = 2.220D-16\n N =           19     M =           10\n\nAt X0         0 variables are exactly at the bounds\n\nAt iterate    0    f=  7.75311D+00    |proj g|=  2.07015D-01\n"
     ]
    },
    {
     "output_type": "stream",
     "name": "stderr",
     "output_type": "stream",
     "text": [
      " This problem is unconstrained.\n"
     ]
    },
    {
     "output_type": "stream",
     "name": "stdout",
     "output_type": "stream",
     "text": [
      "\nAt iterate    5    f=  7.71160D+00    |proj g|=  2.52184D-02\n\nAt iterate   10    f=  7.69507D+00    |proj g|=  1.01379D-02\n\nAt iterate   15    f=  7.68915D+00    |proj g|=  2.49139D-02\n\nAt iterate   20    f=  7.68597D+00    |proj g|=  1.39541D-02\n\nAt iterate   25    f=  7.68401D+00    |proj g|=  1.47945D-02\n\nAt iterate   30    f=  7.67798D+00    |proj g|=  1.31324D-02\n\nAt iterate   35    f=  7.67600D+00    |proj g|=  9.18049D-03\n\nAt iterate   40    f=  7.67108D+00    |proj g|=  5.26483D-03\n\nAt iterate   45    f=  7.66968D+00    |proj g|=  1.27893D-02\n"
     ]
    },
    {
     "output_type": "stream",
     "name": "stderr",
     "output_type": "stream",
     "text": [
      "[I 2024-07-03 11:07:33,408] Trial 90 finished with value: 9.773321656277666 and parameters: {'order': (3, 1, 2), 'seasonal_order': (3, 0, 3, 12)}. Best is trial 16 with value: 3.1593911414897837.\n"
     ]
    },
    {
     "output_type": "stream",
     "name": "stdout",
     "output_type": "stream",
     "text": [
      "\nAt iterate   50    f=  7.66853D+00    |proj g|=  1.79846D-03\n\n           * * *\n\nTit   = total number of iterations\nTnf   = total number of function evaluations\nTnint = total number of segments explored during Cauchy searches\nSkip  = number of BFGS updates skipped\nNact  = number of active bounds at final generalized Cauchy point\nProjg = norm of the final projected gradient\nF     = final function value\n\n           * * *\n\n   N    Tit     Tnf  Tnint  Skip  Nact     Projg        F\n   19     50     57      1     0     0   1.798D-03   7.669D+00\n  F =   7.6685278101823062     \n\nSTOP: TOTAL NO. of ITERATIONS REACHED LIMIT                 \n"
     ]
    },
    {
     "output_type": "stream",
     "name": "stderr",
     "output_type": "stream",
     "text": [
      " This problem is unconstrained.\n"
     ]
    },
    {
     "output_type": "stream",
     "name": "stdout",
     "output_type": "stream",
     "text": [
      "RUNNING THE L-BFGS-B CODE\n\n           * * *\n\nMachine precision = 2.220D-16\n N =           17     M =           10\n\nAt X0         0 variables are exactly at the bounds\n\nAt iterate    0    f=  5.64241D+00    |proj g|=  3.32718D-01\n\nAt iterate    5    f=  5.52046D+00    |proj g|=  4.23359D-03\n\nAt iterate   10    f=  5.51907D+00    |proj g|=  2.24503D-02\n\nAt iterate   15    f=  5.50917D+00    |proj g|=  7.40966D-02\n\nAt iterate   20    f=  5.50419D+00    |proj g|=  7.83706D-03\n\nAt iterate   25    f=  5.50280D+00    |proj g|=  4.54874D-03\n\nAt iterate   30    f=  5.50243D+00    |proj g|=  1.34488D-03\n\nAt iterate   35    f=  5.50227D+00    |proj g|=  6.24672D-03\n\nAt iterate   40    f=  5.50167D+00    |proj g|=  4.79878D-03\n\nAt iterate   45    f=  5.50119D+00    |proj g|=  7.68809D-03\n\nAt iterate   50    f=  5.49673D+00    |proj g|=  7.29751D-02\n\n           * * *\n\nTit   = total number of iterations\nTnf   = total number of function evaluations\nTnint = total number of segments explored during Cauchy searches\nSkip  = number of BFGS updates skipped\nNact  = number of active bounds at final generalized Cauchy point\nProjg = norm of the final projected gradient\nF     = final function value\n\n           * * *\n\n   N    Tit     Tnf  Tnint  Skip  Nact     Projg        F\n   17     50     60      1     0     0   7.298D-02   5.497D+00\n  F =   5.4967317998701128     \n\nSTOP: TOTAL NO. of ITERATIONS REACHED LIMIT                 \n"
     ]
    },
    {
     "output_type": "stream",
     "name": "stderr",
     "output_type": "stream",
     "text": [
      "[I 2024-07-03 11:07:35,278] Trial 91 finished with value: 18.429175745508104 and parameters: {'order': (3, 0, 3), 'seasonal_order': (1, 1, 2, 12)}. Best is trial 16 with value: 3.1593911414897837.\n This problem is unconstrained.\n"
     ]
    },
    {
     "output_type": "stream",
     "name": "stdout",
     "output_type": "stream",
     "text": [
      "RUNNING THE L-BFGS-B CODE\n\n           * * *\n\nMachine precision = 2.220D-16\n N =           17     M =           10\n\nAt X0         0 variables are exactly at the bounds\n\nAt iterate    0    f=  8.04507D+00    |proj g|=  1.67042D-01\n\nAt iterate    5    f=  8.01313D+00    |proj g|=  1.25714D-02\n\nAt iterate   10    f=  8.00765D+00    |proj g|=  9.31882D-03\n\nAt iterate   15    f=  8.00524D+00    |proj g|=  3.02371D-02\n\nAt iterate   20    f=  8.00422D+00    |proj g|=  2.43322D-03\n\nAt iterate   25    f=  8.00370D+00    |proj g|=  2.85537D-02\n\nAt iterate   30    f=  7.99655D+00    |proj g|=  1.72356D-02\n\nAt iterate   35    f=  7.99118D+00    |proj g|=  9.19796D-03\n\nAt iterate   40    f=  7.98621D+00    |proj g|=  3.73506D-03\n\nAt iterate   45    f=  7.98118D+00    |proj g|=  2.70522D-02\n"
     ]
    },
    {
     "output_type": "stream",
     "name": "stderr",
     "output_type": "stream",
     "text": [
      "[I 2024-07-03 11:07:37,004] Trial 92 finished with value: 5.155670776813905 and parameters: {'order': (3, 0, 3), 'seasonal_order': (2, 0, 1, 12)}. Best is trial 16 with value: 3.1593911414897837.\n"
     ]
    },
    {
     "output_type": "stream",
     "name": "stdout",
     "output_type": "stream",
     "text": [
      "\nAt iterate   50    f=  7.97284D+00    |proj g|=  4.54176D-03\n\n           * * *\n\nTit   = total number of iterations\nTnf   = total number of function evaluations\nTnint = total number of segments explored during Cauchy searches\nSkip  = number of BFGS updates skipped\nNact  = number of active bounds at final generalized Cauchy point\nProjg = norm of the final projected gradient\nF     = final function value\n\n           * * *\n\n   N    Tit     Tnf  Tnint  Skip  Nact     Projg        F\n   17     50     58      1     0     0   4.542D-03   7.973D+00\n  F =   7.9728424575619741     \n\nSTOP: TOTAL NO. of ITERATIONS REACHED LIMIT                 \nRUNNING THE L-BFGS-B CODE\n\n           * * *\n\nMachine precision = 2.220D-16\n N =           15     M =           10\n\nAt X0         0 variables are exactly at the bounds\n\nAt iterate    0    f=  8.02724D+00    |proj g|=  7.67913D-02\n\nAt iterate    5    f=  8.01450D+00    |proj g|=  3.77731D-02\n"
     ]
    },
    {
     "output_type": "stream",
     "name": "stderr",
     "output_type": "stream",
     "text": [
      " This problem is unconstrained.\n"
     ]
    },
    {
     "output_type": "stream",
     "name": "stdout",
     "output_type": "stream",
     "text": [
      "\nAt iterate   10    f=  8.00963D+00    |proj g|=  6.73666D-03\n\nAt iterate   15    f=  8.00735D+00    |proj g|=  1.71002D-02\n\nAt iterate   20    f=  8.00654D+00    |proj g|=  3.10879D-03\n\nAt iterate   25    f=  8.00457D+00    |proj g|=  3.68033D-02\n\nAt iterate   30    f=  8.00094D+00    |proj g|=  1.48150D-02\n\nAt iterate   35    f=  7.99151D+00    |proj g|=  2.05420D-02\n\nAt iterate   40    f=  7.98513D+00    |proj g|=  9.97914D-03\n"
     ]
    },
    {
     "output_type": "stream",
     "name": "stderr",
     "output_type": "stream",
     "text": [
      "[I 2024-07-03 11:07:37,706] Trial 93 finished with value: 6.227597517928863 and parameters: {'order': (3, 0, 3), 'seasonal_order': (1, 0, 0, 12)}. Best is trial 16 with value: 3.1593911414897837.\n"
     ]
    },
    {
     "output_type": "stream",
     "name": "stdout",
     "output_type": "stream",
     "text": [
      "\nAt iterate   45    f=  7.97696D+00    |proj g|=  1.06912D-02\n\nAt iterate   50    f=  7.97378D+00    |proj g|=  5.69763D-03\n\n           * * *\n\nTit   = total number of iterations\nTnf   = total number of function evaluations\nTnint = total number of segments explored during Cauchy searches\nSkip  = number of BFGS updates skipped\nNact  = number of active bounds at final generalized Cauchy point\nProjg = norm of the final projected gradient\nF     = final function value\n\n           * * *\n\n   N    Tit     Tnf  Tnint  Skip  Nact     Projg        F\n   15     50     58      1     0     0   5.698D-03   7.974D+00\n  F =   7.9737758141403887     \n\nSTOP: TOTAL NO. of ITERATIONS REACHED LIMIT                 \nRUNNING THE L-BFGS-B CODE\n\n           * * *\n\nMachine precision = 2.220D-16\n N =           12     M =           10\n\nAt X0         0 variables are exactly at the bounds\n\nAt iterate    0    f=  8.27725D+00    |proj g|=  9.73467D-01\n"
     ]
    },
    {
     "output_type": "stream",
     "name": "stderr",
     "output_type": "stream",
     "text": [
      " This problem is unconstrained.\n"
     ]
    },
    {
     "output_type": "stream",
     "name": "stdout",
     "output_type": "stream",
     "text": [
      "\nAt iterate    5    f=  8.16954D+00    |proj g|=  3.12217D-02\n\nAt iterate   10    f=  8.16296D+00    |proj g|=  1.96879D-02\n\nAt iterate   15    f=  8.15973D+00    |proj g|=  1.59752D-03\n\nAt iterate   20    f=  8.15961D+00    |proj g|=  6.11895D-04\n\nAt iterate   25    f=  8.15887D+00    |proj g|=  1.37362D-02\n\nAt iterate   30    f=  8.13987D+00    |proj g|=  2.08823D-02\n\nAt iterate   35    f=  8.13874D+00    |proj g|=  4.88819D-03\n\nAt iterate   40    f=  8.13868D+00    |proj g|=  8.77344D-03\n\nAt iterate   45    f=  8.13754D+00    |proj g|=  2.03549D-02\n\nAt iterate   50    f=  8.12722D+00    |proj g|=  1.46380D-02\n\n           * * *\n\nTit   = total number of iterations\nTnf   = total number of function evaluations\nTnint = total number of segments explored during Cauchy searches\nSkip  = number of BFGS updates skipped\nNact  = number of active bounds at final generalized Cauchy point\nProjg = norm of the final projected gradient\nF     = final function value\n\n           * * *\n\n   N    Tit     Tnf  Tnint  Skip  Nact     Projg        F\n   12     50     55      1     0     0   1.464D-02   8.127D+00\n  F =   8.1272240786215075     \n\nSTOP: TOTAL NO. of ITERATIONS REACHED LIMIT                 \n"
     ]
    },
    {
     "output_type": "stream",
     "name": "stderr",
     "output_type": "stream",
     "text": [
      "[I 2024-07-03 11:07:38,262] Trial 94 finished with value: 16.42713168450903 and parameters: {'order': (0, 0, 2), 'seasonal_order': (1, 0, 1, 12)}. Best is trial 16 with value: 3.1593911414897837.\n This problem is unconstrained.\n"
     ]
    },
    {
     "output_type": "stream",
     "name": "stdout",
     "output_type": "stream",
     "text": [
      "RUNNING THE L-BFGS-B CODE\n\n           * * *\n\nMachine precision = 2.220D-16\n N =           15     M =           10\n\nAt X0         0 variables are exactly at the bounds\n\nAt iterate    0    f=  8.04237D+00    |proj g|=  1.65600D-01\n\nAt iterate    5    f=  8.01235D+00    |proj g|=  6.33461D-03\n\nAt iterate   10    f=  8.00993D+00    |proj g|=  2.46930D-02\n\nAt iterate   15    f=  8.00813D+00    |proj g|=  2.85118D-02\n\nAt iterate   20    f=  8.00343D+00    |proj g|=  1.68292D-02\n\nAt iterate   25    f=  7.99349D+00    |proj g|=  5.85410D-02\n\nAt iterate   30    f=  7.98886D+00    |proj g|=  1.58735D-02\n\nAt iterate   35    f=  7.98174D+00    |proj g|=  5.73006D-02\n\nAt iterate   40    f=  7.97385D+00    |proj g|=  2.66320D-03\n"
     ]
    },
    {
     "output_type": "stream",
     "name": "stderr",
     "output_type": "stream",
     "text": [
      "[I 2024-07-03 11:07:39,545] Trial 95 finished with value: 4.010987949585061 and parameters: {'order': (2, 0, 3), 'seasonal_order': (2, 0, 0, 12)}. Best is trial 16 with value: 3.1593911414897837.\n"
     ]
    },
    {
     "output_type": "stream",
     "name": "stdout",
     "output_type": "stream",
     "text": [
      "\nAt iterate   45    f=  7.97328D+00    |proj g|=  1.96598D-03\n\nAt iterate   50    f=  7.97308D+00    |proj g|=  8.04793D-03\n\n           * * *\n\nTit   = total number of iterations\nTnf   = total number of function evaluations\nTnint = total number of segments explored during Cauchy searches\nSkip  = number of BFGS updates skipped\nNact  = number of active bounds at final generalized Cauchy point\nProjg = norm of the final projected gradient\nF     = final function value\n\n           * * *\n\n   N    Tit     Tnf  Tnint  Skip  Nact     Projg        F\n   15     50     54      1     0     0   8.048D-03   7.973D+00\n  F =   7.9730847199271668     \n\nSTOP: TOTAL NO. of ITERATIONS REACHED LIMIT                 \nRUNNING THE L-BFGS-B CODE\n\n           * * *\n\nMachine precision = 2.220D-16\n N =           12     M =           10\n\nAt X0         0 variables are exactly at the bounds\n\nAt iterate    0    f=  5.68031D+00    |proj g|=  2.67473D-01\n"
     ]
    },
    {
     "output_type": "stream",
     "name": "stderr",
     "output_type": "stream",
     "text": [
      " This problem is unconstrained.\n"
     ]
    },
    {
     "output_type": "stream",
     "name": "stdout",
     "output_type": "stream",
     "text": [
      "\nAt iterate    5    f=  5.56116D+00    |proj g|=  7.26845D-03\n\nAt iterate   10    f=  5.55072D+00    |proj g|=  1.65224D-02\n\nAt iterate   15    f=  5.54989D+00    |proj g|=  3.80374D-03\n\nAt iterate   20    f=  5.54877D+00    |proj g|=  1.59077D-03\n\nAt iterate   25    f=  5.53983D+00    |proj g|=  3.52368D-02\n\nAt iterate   30    f=  5.52988D+00    |proj g|=  7.45593D-03\n"
     ]
    },
    {
     "output_type": "stream",
     "name": "stderr",
     "output_type": "stream",
     "text": [
      "[I 2024-07-03 11:07:40,276] Trial 96 finished with value: 15.865646004095398 and parameters: {'order': (2, 0, 1), 'seasonal_order': (0, 1, 1, 12)}. Best is trial 16 with value: 3.1593911414897837.\n"
     ]
    },
    {
     "output_type": "stream",
     "name": "stdout",
     "output_type": "stream",
     "text": [
      "\nAt iterate   35    f=  5.52415D+00    |proj g|=  1.15533D-02\n\nAt iterate   40    f=  5.52337D+00    |proj g|=  2.99938D-04\n\nAt iterate   45    f=  5.52235D+00    |proj g|=  7.91584D-03\n\nAt iterate   50    f=  5.51612D+00    |proj g|=  8.75054D-03\n\n           * * *\n\nTit   = total number of iterations\nTnf   = total number of function evaluations\nTnint = total number of segments explored during Cauchy searches\nSkip  = number of BFGS updates skipped\nNact  = number of active bounds at final generalized Cauchy point\nProjg = norm of the final projected gradient\nF     = final function value\n\n           * * *\n\n   N    Tit     Tnf  Tnint  Skip  Nact     Projg        F\n   12     50     57      1     0     0   8.751D-03   5.516D+00\n  F =   5.5161193582288304     \n\nSTOP: TOTAL NO. of ITERATIONS REACHED LIMIT                 \n"
     ]
    },
    {
     "output_type": "stream",
     "name": "stderr",
     "output_type": "stream",
     "text": [
      " This problem is unconstrained.\n"
     ]
    },
    {
     "output_type": "stream",
     "name": "stdout",
     "output_type": "stream",
     "text": [
      "RUNNING THE L-BFGS-B CODE\n\n           * * *\n\nMachine precision = 2.220D-16\n N =           16     M =           10\n\nAt X0         0 variables are exactly at the bounds\n\nAt iterate    0    f=  5.64241D+00    |proj g|=  3.32718D-01\n\nAt iterate    5    f=  5.52333D+00    |proj g|=  1.22204D-02\n\nAt iterate   10    f=  5.51976D+00    |proj g|=  4.92989D-03\n\nAt iterate   15    f=  5.51003D+00    |proj g|=  2.30085D-02\n\nAt iterate   20    f=  5.50357D+00    |proj g|=  1.22724D-02\n\nAt iterate   25    f=  5.50299D+00    |proj g|=  1.99844D-03\n\nAt iterate   30    f=  5.50278D+00    |proj g|=  2.91416D-03\n\nAt iterate   35    f=  5.50264D+00    |proj g|=  1.79734D-03\n\nAt iterate   40    f=  5.50226D+00    |proj g|=  3.34569D-03\n\nAt iterate   45    f=  5.50209D+00    |proj g|=  1.96838D-03\n"
     ]
    },
    {
     "output_type": "stream",
     "name": "stderr",
     "output_type": "stream",
     "text": [
      "[I 2024-07-03 11:07:41,449] Trial 97 finished with value: 19.030562557575806 and parameters: {'order': (3, 0, 3), 'seasonal_order': (1, 1, 1, 12)}. Best is trial 16 with value: 3.1593911414897837.\n"
     ]
    },
    {
     "output_type": "stream",
     "name": "stdout",
     "output_type": "stream",
     "text": [
      "\nAt iterate   50    f=  5.50200D+00    |proj g|=  2.47720D-03\n\n           * * *\n\nTit   = total number of iterations\nTnf   = total number of function evaluations\nTnint = total number of segments explored during Cauchy searches\nSkip  = number of BFGS updates skipped\nNact  = number of active bounds at final generalized Cauchy point\nProjg = norm of the final projected gradient\nF     = final function value\n\n           * * *\n\n   N    Tit     Tnf  Tnint  Skip  Nact     Projg        F\n   16     50     59      1     0     0   2.477D-03   5.502D+00\n  F =   5.5019951291823039     \n\nSTOP: TOTAL NO. of ITERATIONS REACHED LIMIT                 \nRUNNING THE L-BFGS-B CODE\n\n           * * *\n\nMachine precision = 2.220D-16\n N =           16     M =           10\n\nAt X0         0 variables are exactly at the bounds\n\nAt iterate    0    f=  7.76201D+00    |proj g|=  1.80489D-01\n"
     ]
    },
    {
     "output_type": "stream",
     "name": "stderr",
     "output_type": "stream",
     "text": [
      " This problem is unconstrained.\n"
     ]
    },
    {
     "output_type": "stream",
     "name": "stdout",
     "output_type": "stream",
     "text": [
      "\nAt iterate    5    f=  7.71789D+00    |proj g|=  1.86583D-02\n\nAt iterate   10    f=  7.71263D+00    |proj g|=  8.86930D-03\n\nAt iterate   15    f=  7.70372D+00    |proj g|=  1.22884D-02\n\nAt iterate   20    f=  7.70047D+00    |proj g|=  6.49271D-03\n\nAt iterate   25    f=  7.69729D+00    |proj g|=  2.82978D-02\n\nAt iterate   30    f=  7.69484D+00    |proj g|=  7.27089D-03\n\nAt iterate   35    f=  7.68853D+00    |proj g|=  3.07954D-03\n\nAt iterate   40    f=  7.68847D+00    |proj g|=  1.37973D-03\n\nAt iterate   45    f=  7.68774D+00    |proj g|=  7.68585D-03\n\nAt iterate   50    f=  7.67762D+00    |proj g|=  1.34410D-02\n\n           * * *\n\nTit   = total number of iterations\nTnf   = total number of function evaluations\nTnint = total number of segments explored during Cauchy searches\nSkip  = number of BFGS updates skipped\nNact  = number of active bounds at final generalized Cauchy point\nProjg = norm of the final projected gradient\nF     = final function value\n\n           * * *\n\n   N    Tit     Tnf  Tnint  Skip  Nact     Projg        F\n   16     50     54      1     0     0   1.344D-02   7.678D+00\n  F =   7.6776234123280700     \n\nSTOP: TOTAL NO. of ITERATIONS REACHED LIMIT                 \n"
     ]
    },
    {
     "output_type": "stream",
     "name": "stderr",
     "output_type": "stream",
     "text": [
      "[I 2024-07-03 11:07:43,755] Trial 98 finished with value: 10.814270753950026 and parameters: {'order': (2, 1, 3), 'seasonal_order': (3, 0, 0, 12)}. Best is trial 16 with value: 3.1593911414897837.\n This problem is unconstrained.\n"
     ]
    },
    {
     "output_type": "stream",
     "name": "stdout",
     "output_type": "stream",
     "text": [
      "RUNNING THE L-BFGS-B CODE\n\n           * * *\n\nMachine precision = 2.220D-16\n N =           14     M =           10\n\nAt X0         0 variables are exactly at the bounds\n\nAt iterate    0    f=  5.34259D+00    |proj g|=  2.19982D-01\n\nAt iterate    5    f=  5.27944D+00    |proj g|=  1.42384D-02\n\nAt iterate   10    f=  5.27789D+00    |proj g|=  5.38370D-03\n\nAt iterate   15    f=  5.27534D+00    |proj g|=  4.65584D-03\n\nAt iterate   20    f=  5.27480D+00    |proj g|=  6.74013D-03\n\nAt iterate   25    f=  5.27343D+00    |proj g|=  2.27180D-03\n\nAt iterate   30    f=  5.23923D+00    |proj g|=  1.43423D-02\n\nAt iterate   35    f=  5.23389D+00    |proj g|=  5.27159D-04\n\nAt iterate   40    f=  5.23378D+00    |proj g|=  3.31541D-03\n\nAt iterate   45    f=  5.22900D+00    |proj g|=  2.96160D-02\n"
     ]
    },
    {
     "output_type": "stream",
     "name": "stderr",
     "output_type": "stream",
     "text": [
      "[I 2024-07-03 11:07:45,747] Trial 99 finished with value: 28.489059312171964 and parameters: {'order': (2, 1, 1), 'seasonal_order': (0, 1, 3, 12)}. Best is trial 16 with value: 3.1593911414897837.\n"
     ]
    },
    {
     "output_type": "stream",
     "name": "stdout",
     "output_type": "stream",
     "text": [
      "\nAt iterate   50    f=  5.22530D+00    |proj g|=  4.89894D-03\n\n           * * *\n\nTit   = total number of iterations\nTnf   = total number of function evaluations\nTnint = total number of segments explored during Cauchy searches\nSkip  = number of BFGS updates skipped\nNact  = number of active bounds at final generalized Cauchy point\nProjg = norm of the final projected gradient\nF     = final function value\n\n           * * *\n\n   N    Tit     Tnf  Tnint  Skip  Nact     Projg        F\n   14     50     57      1     0     0   4.899D-03   5.225D+00\n  F =   5.2253011892335000     \n\nSTOP: TOTAL NO. of ITERATIONS REACHED LIMIT                 \nCPU times: user 3min 48s, sys: 6min 59s, total: 10min 47s\nWall time: 2min 55s\n"
     ]
    }
   ],
   "source": [
    "%%time\n",
    "def objective_sarima(trial):\n",
    "    order=trial.suggest_categorical('order',pdq)\n",
    "    seasonal_order=trial.suggest_categorical('seasonal_order',pdqs)\n",
    "    model = SARIMAX(sales_train['SLS_Qty'], \n",
    "                order = order, \n",
    "                seasonal_order = seasonal_order,\n",
    "                exog = reg_train\n",
    "                ).fit()\n",
    "    start = len(sales_train)\n",
    "    end = len(sales_train) + 3\n",
    "      \n",
    "    predictions = model.predict(start, end,\n",
    "                                  typ = 'levels', exog = reg_test_optuna).to_frame()\n",
    "\n",
    "    residuals = np.abs(sales_test_optuna['SLS_Qty'] - predictions['predicted_mean']).to_frame()\n",
    "    mape  = (residuals[0]/sales_test_optuna['SLS_Qty'])*100\n",
    "    mape=mape.mean()\n",
    "    return mape\n",
    "study=optuna.create_study(direction=\"minimize\")\n",
    "study.optimize(objective_sarima,n_trials=100)"
   ]
  },
  {
   "cell_type": "code",
   "execution_count": 0,
   "metadata": {
    "application/vnd.databricks.v1+cell": {
     "cellMetadata": {
      "byteLimit": 2048000,
      "rowLimit": 10000
     },
     "inputWidgets": {},
     "nuid": "6a1e2859-f7db-4268-9ec9-242c981caeaa",
     "showTitle": false,
     "title": ""
    }
   },
   "outputs": [
    {
     "output_type": "execute_result",
     "data": {
      "text/plain": [
       "{'order': (1, 0, 0), 'seasonal_order': (1, 0, 0, 12)}"
      ]
     },
     "execution_count": 111,
     "metadata": {},
     "output_type": "execute_result"
    }
   ],
   "source": [
    "if study.best_trial is not None:\n",
    "    best_parameter = study.best_params\n",
    "    best_parameter\n",
    "else:\n",
    "    print(\"No trials are completed yet.\")\n",
    "    \n",
    "best_parameter = study.best_params\n",
    "best_parameter"
   ]
  },
  {
   "cell_type": "markdown",
   "metadata": {
    "application/vnd.databricks.v1+cell": {
     "cellMetadata": {
      "byteLimit": 2048000,
      "rowLimit": 10000
     },
     "inputWidgets": {},
     "nuid": "bf2f6741-86ee-4399-a3a2-afb0adfe6ec6",
     "showTitle": false,
     "title": ""
    }
   },
   "source": [
    "## Model Training\n"
   ]
  },
  {
   "cell_type": "code",
   "execution_count": 0,
   "metadata": {
    "application/vnd.databricks.v1+cell": {
     "cellMetadata": {
      "byteLimit": 2048000,
      "rowLimit": 10000
     },
     "inputWidgets": {},
     "nuid": "d44df2fe-0285-4003-ac22-4926aced12cc",
     "showTitle": false,
     "title": ""
    }
   },
   "outputs": [
    {
     "output_type": "stream",
     "name": "stderr",
     "output_type": "stream",
     "text": [
      " This problem is unconstrained.\n"
     ]
    },
    {
     "output_type": "stream",
     "name": "stdout",
     "output_type": "stream",
     "text": [
      "RUNNING THE L-BFGS-B CODE\n\n           * * *\n\nMachine precision = 2.220D-16\n N =           10     M =           10\n\nAt X0         0 variables are exactly at the bounds\n\nAt iterate    0    f=  8.05923D+00    |proj g|=  3.08552D-02\n\nAt iterate    5    f=  8.05660D+00    |proj g|=  1.00383D-02\n\nAt iterate   10    f=  8.05291D+00    |proj g|=  1.65010D-02\n\nAt iterate   15    f=  8.01901D+00    |proj g|=  2.29176D-02\n\nAt iterate   20    f=  7.98376D+00    |proj g|=  4.99154D-03\n\nAt iterate   25    f=  7.98266D+00    |proj g|=  7.96021D-03\n\nAt iterate   30    f=  7.96931D+00    |proj g|=  2.82131D-02\n\nAt iterate   35    f=  7.96345D+00    |proj g|=  1.15263D-02\n\nAt iterate   40    f=  7.96280D+00    |proj g|=  2.34937D-03\n\nAt iterate   45    f=  7.95784D+00    |proj g|=  3.81479D-03\n\nAt iterate   50    f=  7.94598D+00    |proj g|=  1.53477D-03\n\n           * * *\n\nTit   = total number of iterations\nTnf   = total number of function evaluations\nTnint = total number of segments explored during Cauchy searches\nSkip  = number of BFGS updates skipped\nNact  = number of active bounds at final generalized Cauchy point\nProjg = norm of the final projected gradient\nF     = final function value\n\n           * * *\n\n   N    Tit     Tnf  Tnint  Skip  Nact     Projg        F\n   10     50     59      1     0     0   1.535D-03   7.946D+00\n  F =   7.9459765791329087     \n\nSTOP: TOTAL NO. of ITERATIONS REACHED LIMIT                 \n"
     ]
    },
    {
     "output_type": "execute_result",
     "data": {
      "text/html": [
       "<table class=\"simpletable\">\n",
       "<caption>SARIMAX Results</caption>\n",
       "<tr>\n",
       "  <th>Dep. Variable:</th>               <td>SLS_Qty</td>            <th>  No. Observations:  </th>    <td>38</td>   \n",
       "</tr>\n",
       "<tr>\n",
       "  <th>Model:</th>           <td>SARIMAX(1, 0, 0)x(1, 0, 0, 12)</td> <th>  Log Likelihood     </th> <td>-301.947</td>\n",
       "</tr>\n",
       "<tr>\n",
       "  <th>Date:</th>                   <td>Wed, 03 Jul 2024</td>        <th>  AIC                </th>  <td>623.894</td>\n",
       "</tr>\n",
       "<tr>\n",
       "  <th>Time:</th>                       <td>11:07:46</td>            <th>  BIC                </th>  <td>640.270</td>\n",
       "</tr>\n",
       "<tr>\n",
       "  <th>Sample:</th>                    <td>01-31-2021</td>           <th>  HQIC               </th>  <td>629.721</td>\n",
       "</tr>\n",
       "<tr>\n",
       "  <th></th>                          <td>- 02-29-2024</td>          <th>                     </th>     <td> </td>   \n",
       "</tr>\n",
       "<tr>\n",
       "  <th>Covariance Type:</th>               <td>opg</td>              <th>                     </th>     <td> </td>   \n",
       "</tr>\n",
       "</table>\n",
       "<table class=\"simpletable\">\n",
       "<tr>\n",
       "           <td></td>             <th>coef</th>     <th>std err</th>      <th>z</th>      <th>P>|z|</th>  <th>[0.025</th>    <th>0.975]</th>  \n",
       "</tr>\n",
       "<tr>\n",
       "  <th>covid</th>              <td>   -7.5672</td> <td>   37.524</td> <td>   -0.202</td> <td> 0.840</td> <td>  -81.113</td> <td>   65.979</td>\n",
       "</tr>\n",
       "<tr>\n",
       "  <th>Diwali_regressor</th>   <td>   59.7021</td> <td>   35.151</td> <td>    1.698</td> <td> 0.089</td> <td>   -9.193</td> <td>  128.597</td>\n",
       "</tr>\n",
       "<tr>\n",
       "  <th>Navratri_regressor</th> <td>   22.7835</td> <td>   76.493</td> <td>    0.298</td> <td> 0.766</td> <td> -127.139</td> <td>  172.707</td>\n",
       "</tr>\n",
       "<tr>\n",
       "  <th>Shraad_regressor</th>   <td>   12.9612</td> <td>   88.668</td> <td>    0.146</td> <td> 0.884</td> <td> -160.825</td> <td>  186.747</td>\n",
       "</tr>\n",
       "<tr>\n",
       "  <th>Weekend_regressor</th>  <td>  -17.9632</td> <td>  174.790</td> <td>   -0.103</td> <td> 0.918</td> <td> -360.546</td> <td>  324.619</td>\n",
       "</tr>\n",
       "<tr>\n",
       "  <th>Site_Code</th>          <td>    7.4770</td> <td>    3.690</td> <td>    2.026</td> <td> 0.043</td> <td>    0.244</td> <td>   14.710</td>\n",
       "</tr>\n",
       "<tr>\n",
       "  <th>Option_Code</th>        <td>   35.1030</td> <td>   50.878</td> <td>    0.690</td> <td> 0.490</td> <td>  -64.617</td> <td>  134.823</td>\n",
       "</tr>\n",
       "<tr>\n",
       "  <th>ar.L1</th>              <td>    0.8167</td> <td>    0.143</td> <td>    5.710</td> <td> 0.000</td> <td>    0.536</td> <td>    1.097</td>\n",
       "</tr>\n",
       "<tr>\n",
       "  <th>ar.S.L12</th>           <td>    0.3928</td> <td>    0.231</td> <td>    1.699</td> <td> 0.089</td> <td>   -0.060</td> <td>    0.846</td>\n",
       "</tr>\n",
       "<tr>\n",
       "  <th>sigma2</th>             <td> 5.286e+05</td> <td>  1.4e+05</td> <td>    3.769</td> <td> 0.000</td> <td> 2.54e+05</td> <td> 8.04e+05</td>\n",
       "</tr>\n",
       "</table>\n",
       "<table class=\"simpletable\">\n",
       "<tr>\n",
       "  <th>Ljung-Box (L1) (Q):</th>     <td>0.38</td> <th>  Jarque-Bera (JB):  </th> <td>4.68</td>\n",
       "</tr>\n",
       "<tr>\n",
       "  <th>Prob(Q):</th>                <td>0.54</td> <th>  Prob(JB):          </th> <td>0.10</td>\n",
       "</tr>\n",
       "<tr>\n",
       "  <th>Heteroskedasticity (H):</th> <td>3.07</td> <th>  Skew:              </th> <td>0.63</td>\n",
       "</tr>\n",
       "<tr>\n",
       "  <th>Prob(H) (two-sided):</th>    <td>0.05</td> <th>  Kurtosis:          </th> <td>4.18</td>\n",
       "</tr>\n",
       "</table><br/><br/>Warnings:<br/>[1] Covariance matrix calculated using the outer product of gradients (complex-step)."
      ],
      "text/plain": [
       "<class 'statsmodels.iolib.summary.Summary'>\n",
       "\"\"\"\n",
       "                                     SARIMAX Results                                      \n",
       "==========================================================================================\n",
       "Dep. Variable:                            SLS_Qty   No. Observations:                   38\n",
       "Model:             SARIMAX(1, 0, 0)x(1, 0, 0, 12)   Log Likelihood                -301.947\n",
       "Date:                            Wed, 03 Jul 2024   AIC                            623.894\n",
       "Time:                                    11:07:46   BIC                            640.270\n",
       "Sample:                                01-31-2021   HQIC                           629.721\n",
       "                                     - 02-29-2024                                         \n",
       "Covariance Type:                              opg                                         \n",
       "======================================================================================\n",
       "                         coef    std err          z      P>|z|      [0.025      0.975]\n",
       "--------------------------------------------------------------------------------------\n",
       "covid                 -7.5672     37.524     -0.202      0.840     -81.113      65.979\n",
       "Diwali_regressor      59.7021     35.151      1.698      0.089      -9.193     128.597\n",
       "Navratri_regressor    22.7835     76.493      0.298      0.766    -127.139     172.707\n",
       "Shraad_regressor      12.9612     88.668      0.146      0.884    -160.825     186.747\n",
       "Weekend_regressor    -17.9632    174.790     -0.103      0.918    -360.546     324.619\n",
       "Site_Code              7.4770      3.690      2.026      0.043       0.244      14.710\n",
       "Option_Code           35.1030     50.878      0.690      0.490     -64.617     134.823\n",
       "ar.L1                  0.8167      0.143      5.710      0.000       0.536       1.097\n",
       "ar.S.L12               0.3928      0.231      1.699      0.089      -0.060       0.846\n",
       "sigma2              5.286e+05    1.4e+05      3.769      0.000    2.54e+05    8.04e+05\n",
       "===================================================================================\n",
       "Ljung-Box (L1) (Q):                   0.38   Jarque-Bera (JB):                 4.68\n",
       "Prob(Q):                              0.54   Prob(JB):                         0.10\n",
       "Heteroskedasticity (H):               3.07   Skew:                             0.63\n",
       "Prob(H) (two-sided):                  0.05   Kurtosis:                         4.18\n",
       "===================================================================================\n",
       "\n",
       "Warnings:\n",
       "[1] Covariance matrix calculated using the outer product of gradients (complex-step).\n",
       "\"\"\""
      ]
     },
     "execution_count": 112,
     "metadata": {},
     "output_type": "execute_result"
    }
   ],
   "source": [
    "# Fit a SARIMAX\ton the training set\n",
    "from statsmodels.tsa.statespace.sarimax import SARIMAX\n",
    "\n",
    "\n",
    "model = SARIMAX(sales_train['SLS_Qty'], \n",
    "                order = best_parameter['order'], \n",
    "                seasonal_order = best_parameter['seasonal_order'],\n",
    "                exog = reg_train\n",
    "                ).fit()\n",
    "\n",
    "model.summary()"
   ]
  },
  {
   "cell_type": "markdown",
   "metadata": {
    "application/vnd.databricks.v1+cell": {
     "cellMetadata": {
      "byteLimit": 2048000,
      "rowLimit": 10000
     },
     "inputWidgets": {},
     "nuid": "88105349-041f-4d6a-a2a4-46cd136c8544",
     "showTitle": false,
     "title": ""
    }
   },
   "source": [
    "## Prediction"
   ]
  },
  {
   "cell_type": "code",
   "execution_count": 0,
   "metadata": {
    "application/vnd.databricks.v1+cell": {
     "cellMetadata": {
      "byteLimit": 2048000,
      "rowLimit": 10000
     },
     "inputWidgets": {},
     "nuid": "58061df8-3c40-403d-9094-4f77988f74a9",
     "showTitle": false,
     "title": ""
    }
   },
   "outputs": [
    {
     "output_type": "execute_result",
     "data": {
      "text/plain": [
       "Text(0.5, 1.0, '{\"\\'RB101\\',\\'SSLSETRMCBT00003\\'\"}')"
      ]
     },
     "execution_count": 134,
     "metadata": {},
     "output_type": "execute_result"
    },
    {
     "output_type": "display_data",
     "data": {
      "image/png": "[encoded data removed]",
      "text/plain": [
       "<Figure size 1500x600 with 1 Axes>"
      ]
     },
     "metadata": {},
     "output_type": "display_data"
    }
   ],
   "source": [
    "start = 0\n",
    "end = len(sales_train) + len(sales_test) -1\n",
    "  \n",
    "# Predictions for one-year against the test set\n",
    "predictions = model.predict(start, end,\n",
    "                             typ = 'levels', exog = reg_test).rename(\"Predictions\").to_frame()\n",
    "  \n",
    "# plot predictions and actual values\n",
    "predictions.plot(figsize=(15,6))\n",
    "monthly_df['SLS_Qty'][:-9].plot(legend = True)\n",
    "plt.title({Style})"
   ]
  },
  {
   "cell_type": "code",
   "execution_count": 0,
   "metadata": {
    "application/vnd.databricks.v1+cell": {
     "cellMetadata": {
      "byteLimit": 2048000,
      "rowLimit": 10000
     },
     "inputWidgets": {},
     "nuid": "1bea049f-75f8-4503-9fbf-52db66eae952",
     "showTitle": false,
     "title": ""
    }
   },
   "outputs": [
    {
     "output_type": "execute_result",
     "data": {
      "text/html": [
       "<div>\n",
       "<style scoped>\n",
       "    .dataframe tbody tr th:only-of-type {\n",
       "        vertical-align: middle;\n",
       "    }\n",
       "\n",
       "    .dataframe tbody tr th {\n",
       "        vertical-align: top;\n",
       "    }\n",
       "\n",
       "    .dataframe thead th {\n",
       "        text-align: right;\n",
       "    }\n",
       "</style>\n",
       "<table border=\"1\" class=\"dataframe\">\n",
       "  <thead>\n",
       "    <tr style=\"text-align: right;\">\n",
       "      <th></th>\n",
       "      <th>Predictions</th>\n",
       "      <th>actual</th>\n",
       "      <th>mape</th>\n",
       "    </tr>\n",
       "  </thead>\n",
       "  <tbody>\n",
       "    <tr>\n",
       "      <th>2024-01-31</th>\n",
       "      <td>2641.0</td>\n",
       "      <td>2466.0</td>\n",
       "      <td>7.096513</td>\n",
       "    </tr>\n",
       "    <tr>\n",
       "      <th>2024-02-29</th>\n",
       "      <td>2377.0</td>\n",
       "      <td>2379.0</td>\n",
       "      <td>0.084069</td>\n",
       "    </tr>\n",
       "    <tr>\n",
       "      <th>2024-03-31</th>\n",
       "      <td>3438.0</td>\n",
       "      <td>3529.0</td>\n",
       "      <td>2.578634</td>\n",
       "    </tr>\n",
       "    <tr>\n",
       "      <th>2024-04-30</th>\n",
       "      <td>3896.0</td>\n",
       "      <td>3735.0</td>\n",
       "      <td>4.310576</td>\n",
       "    </tr>\n",
       "    <tr>\n",
       "      <th>2024-05-31</th>\n",
       "      <td>3733.0</td>\n",
       "      <td>3731.0</td>\n",
       "      <td>0.053605</td>\n",
       "    </tr>\n",
       "    <tr>\n",
       "      <th>2024-06-30</th>\n",
       "      <td>3967.0</td>\n",
       "      <td>4205.0</td>\n",
       "      <td>5.659929</td>\n",
       "    </tr>\n",
       "    <tr>\n",
       "      <th>2024-07-31</th>\n",
       "      <td>1321.0</td>\n",
       "      <td>153.0</td>\n",
       "      <td>0.000000</td>\n",
       "    </tr>\n",
       "    <tr>\n",
       "      <th>2024-08-31</th>\n",
       "      <td>3075.0</td>\n",
       "      <td>0.0</td>\n",
       "      <td>0.000000</td>\n",
       "    </tr>\n",
       "    <tr>\n",
       "      <th>2024-09-30</th>\n",
       "      <td>3523.0</td>\n",
       "      <td>0.0</td>\n",
       "      <td>0.000000</td>\n",
       "    </tr>\n",
       "    <tr>\n",
       "      <th>2024-10-31</th>\n",
       "      <td>4371.0</td>\n",
       "      <td>0.0</td>\n",
       "      <td>0.000000</td>\n",
       "    </tr>\n",
       "    <tr>\n",
       "      <th>2024-11-30</th>\n",
       "      <td>2770.0</td>\n",
       "      <td>0.0</td>\n",
       "      <td>0.000000</td>\n",
       "    </tr>\n",
       "    <tr>\n",
       "      <th>2024-12-31</th>\n",
       "      <td>3000.0</td>\n",
       "      <td>0.0</td>\n",
       "      <td>0.000000</td>\n",
       "    </tr>\n",
       "    <tr>\n",
       "      <th>2025-01-31</th>\n",
       "      <td>2983.0</td>\n",
       "      <td>0.0</td>\n",
       "      <td>0.000000</td>\n",
       "    </tr>\n",
       "    <tr>\n",
       "      <th>2025-02-28</th>\n",
       "      <td>3071.0</td>\n",
       "      <td>0.0</td>\n",
       "      <td>0.000000</td>\n",
       "    </tr>\n",
       "    <tr>\n",
       "      <th>2025-03-31</th>\n",
       "      <td>3432.0</td>\n",
       "      <td>0.0</td>\n",
       "      <td>0.000000</td>\n",
       "    </tr>\n",
       "  </tbody>\n",
       "</table>\n",
       "</div>"
      ],
      "text/plain": [
       "            Predictions  actual      mape\n",
       "2024-01-31       2641.0  2466.0  7.096513\n",
       "2024-02-29       2377.0  2379.0  0.084069\n",
       "2024-03-31       3438.0  3529.0  2.578634\n",
       "2024-04-30       3896.0  3735.0  4.310576\n",
       "2024-05-31       3733.0  3731.0  0.053605\n",
       "2024-06-30       3967.0  4205.0  5.659929\n",
       "2024-07-31       1321.0   153.0  0.000000\n",
       "2024-08-31       3075.0     0.0  0.000000\n",
       "2024-09-30       3523.0     0.0  0.000000\n",
       "2024-10-31       4371.0     0.0  0.000000\n",
       "2024-11-30       2770.0     0.0  0.000000\n",
       "2024-12-31       3000.0     0.0  0.000000\n",
       "2025-01-31       2983.0     0.0  0.000000\n",
       "2025-02-28       3071.0     0.0  0.000000\n",
       "2025-03-31       3432.0     0.0  0.000000"
      ]
     },
     "execution_count": 135,
     "metadata": {},
     "output_type": "execute_result"
    }
   ],
   "source": [
    "predictions['actual'] = monthly_df['SLS_Qty']\n",
    "predictions['actual'] = predictions['actual'].fillna(0)\n",
    "predictions['Predictions'] = np.round(predictions['Predictions'])\n",
    "predictions['mape'] = (np.abs(predictions['actual']-predictions['Predictions'])/predictions['actual'])*100\n",
    "predictions['mape'][-9:] = 0\n",
    "predictions[-15:] "
   ]
  },
  {
   "cell_type": "code",
   "execution_count": 0,
   "metadata": {
    "application/vnd.databricks.v1+cell": {
     "cellMetadata": {
      "byteLimit": 2048000,
      "rowLimit": 10000
     },
     "inputWidgets": {},
     "nuid": "a63dfb40-eeba-41b9-9c5a-b8d0c07d0cc9",
     "showTitle": false,
     "title": ""
    }
   },
   "outputs": [
    {
     "output_type": "execute_result",
     "data": {
      "text/plain": [
       "2.824679249802119"
      ]
     },
     "execution_count": 136,
     "metadata": {},
     "output_type": "execute_result"
    }
   ],
   "source": [
    "predictions[-15:-10]['mape'].mean()"
   ]
  },
  {
   "cell_type": "markdown",
   "metadata": {
    "application/vnd.databricks.v1+cell": {
     "cellMetadata": {
      "byteLimit": 2048000,
      "rowLimit": 10000
     },
     "inputWidgets": {},
     "nuid": "4f3b2f54-80c6-477a-9a43-a9760d7dc657",
     "showTitle": false,
     "title": ""
    }
   },
   "source": [
    "## Significant Variables\n"
   ]
  },
  {
   "cell_type": "code",
   "execution_count": 0,
   "metadata": {
    "application/vnd.databricks.v1+cell": {
     "cellMetadata": {
      "byteLimit": 2048000,
      "rowLimit": 10000
     },
     "inputWidgets": {},
     "nuid": "72a99a1b-f86d-4c94-95fd-5d1af4e05391",
     "showTitle": false,
     "title": ""
    }
   },
   "outputs": [],
   "source": [
    "# # Get p-values from model results\n",
    "# p_values = pd.DataFrame(model.pvalues)\n",
    "# p_values = p_values.sort_values(by=0)\n",
    "# p_values = p_values.reset_index()"
   ]
  },
  {
   "cell_type": "code",
   "execution_count": 0,
   "metadata": {
    "application/vnd.databricks.v1+cell": {
     "cellMetadata": {
      "byteLimit": 2048000,
      "rowLimit": 10000
     },
     "inputWidgets": {},
     "nuid": "c92f71a3-34ba-4cf5-9161-bcde67608979",
     "showTitle": false,
     "title": ""
    }
   },
   "outputs": [],
   "source": [
    "# # Extract significant variables based on p-value less than 0.05\n",
    "# insig_var = p_values[p_values[0]>0.1]\n",
    "# insig_var = insig_var[insig_var.columns[0]].tolist()\n",
    "\n",
    "# # Filter out insignificant variables\n",
    "# sig_var = [var for var in reg_train.columns if not any(term in var for term in insig_var)]\n",
    "# sig_var"
   ]
  },
  {
   "cell_type": "code",
   "execution_count": 0,
   "metadata": {
    "application/vnd.databricks.v1+cell": {
     "cellMetadata": {
      "byteLimit": 2048000,
      "rowLimit": 10000
     },
     "inputWidgets": {},
     "nuid": "f79b50b8-b204-4712-83b8-4ec64f910af4",
     "showTitle": false,
     "title": ""
    }
   },
   "outputs": [],
   "source": [
    "## Provide Data of Training and Testing -- Data for training and testing"
   ]
  },
  {
   "cell_type": "code",
   "execution_count": 0,
   "metadata": {
    "application/vnd.databricks.v1+cell": {
     "cellMetadata": {
      "byteLimit": 2048000,
      "rowLimit": 10000
     },
     "inputWidgets": {},
     "nuid": "e4c1836a-dbd4-4027-907f-32c5d0fb8b57",
     "showTitle": false,
     "title": ""
    }
   },
   "outputs": [],
   "source": [
    "# %%capture\n",
    "# %%time\n",
    "# # Rebuild model using only significant variables without the excluded terms\n",
    "# sig_reg_train = reg_train[sig_var] \n",
    "# sig_reg_test_optuna = reg_test_optuna[sig_var] \n",
    "# sig_reg_test = reg_test[sig_var] \n",
    "\n",
    "# if sig_var == []:\n",
    "#   #Optuna\n",
    "#   def objective_sarima(trial):\n",
    "#       order=trial.suggest_categorical('order',pdq)\n",
    "#       seasonal_order=trial.suggest_categorical('seasonal_order',pdqs)\n",
    "#       sig_model = SARIMAX(sales_train['SLS_Qty'], \n",
    "#                   order = order, \n",
    "#                   seasonal_order = seasonal_order\n",
    "#                   ).fit()\n",
    "#       start = len(sales_train)\n",
    "#       end = len(sales_train) + 5\n",
    "        \n",
    "#       sig_predictions = sig_model.predict(start, end,\n",
    "#                                     typ = 'levels').to_frame()\n",
    "\n",
    "#       residuals = np.abs(sales_test_optuna['SLS_Qty'] - sig_predictions['predicted_mean']).to_frame()\n",
    "#       mape  = (residuals[0]/sales_test_optuna['SLS_Qty'])*100\n",
    "#       mape=mape[-15:].mean()\n",
    "#       return mape\n",
    "#   study=optuna.create_study(direction=\"minimize\")\n",
    "#   study.optimize(objective_sarima,n_trials=100)\n",
    "#   best_parameter = study.best_params\n",
    "#   print(best_parameter)\n",
    "\n",
    "#   # Fit a SARIMAX on the training set\n",
    "#   sig_model = SARIMAX(sales_train['SLS_Qty'], \n",
    "#                 order = best_parameter['order'], \n",
    "#                 seasonal_order = best_parameter['seasonal_order']\n",
    "#                 ).fit()\n",
    "  \n",
    "#   print(sig_model.summary())\n",
    "\n",
    "# else:\n",
    "#   #Optuna\n",
    "#   def objective_sarima(trial):\n",
    "#       order=trial.suggest_categorical('order',pdq)\n",
    "#       seasonal_order=trial.suggest_categorical('seasonal_order',pdqs)\n",
    "#       sig_model = SARIMAX(sales_train['SLS_Qty'], \n",
    "#                   order = order, \n",
    "#                   seasonal_order = seasonal_order,\n",
    "#                   exog = sig_reg_train\n",
    "#                   ).fit()\n",
    "#       start = len(sales_train)\n",
    "#       end = len(sales_train) + 5\n",
    "        \n",
    "#       sig_predictions = sig_model.predict(start, end,\n",
    "#                                     typ = 'levels', exog = sig_reg_test_optuna).to_frame()\n",
    "\n",
    "#       residuals = np.abs(sales_test_optuna['SLS_Qty'] - sig_predictions['predicted_mean']).to_frame()\n",
    "#       mape  = (residuals[0]/sales_test_optuna['SLS_Qty'])*100\n",
    "#       mape=mape[-15:].mean()\n",
    "#       return mape\n",
    "#   study=optuna.create_study(direction=\"minimize\")\n",
    "#   study.optimize(objective_sarima,n_trials=100)\n",
    "#   best_parameter = study.best_params\n",
    "#   print(best_parameter)\n",
    "\n",
    "#   # Fit a SARIMAX on the training set\n",
    "#   sig_model = SARIMAX(sales_train['SLS_Qty'], \n",
    "#                   order = best_parameter['order'], \n",
    "#                   seasonal_order = best_parameter['seasonal_order'],\n",
    "#                   exog = sig_reg_train\n",
    "#                   ).fit()\n",
    "\n",
    "#   print(sig_model.summary());"
   ]
  },
  {
   "cell_type": "code",
   "execution_count": 0,
   "metadata": {
    "application/vnd.databricks.v1+cell": {
     "cellMetadata": {
      "byteLimit": 2048000,
      "rowLimit": 10000
     },
     "inputWidgets": {},
     "nuid": "38dbd509-c746-436d-b1ef-071696eb5094",
     "showTitle": false,
     "title": ""
    }
   },
   "outputs": [],
   "source": [
    "# if sig_var == []:\n",
    "#   start = 0\n",
    "#   end = len(sales_train) + len(sales_test) -1\n",
    "    \n",
    "#   # Predictions for one-year against the test set\n",
    "#   sig_predictions = sig_model.predict(start, end,\n",
    "#                               typ = 'levels').rename(\"Predictions\").to_frame()\n",
    "    \n",
    "#   # plot predictions and actual values\n",
    "#   sig_predictions.plot(figsize=(15,6))\n",
    "#   monthly_df['SLS_Qty'][:-10].plot(legend = True)\n",
    "\n",
    "# else:\n",
    "#   start = 0\n",
    "#   end = len(sales_train) + len(sales_test) -1\n",
    "    \n",
    "#   # Predictions for one-year against the test set\n",
    "#   sig_predictions = sig_model.predict(start, end,\n",
    "#                               typ = 'levels', exog = sig_reg_test).rename(\"Predictions\").to_frame()\n",
    "    \n",
    "#   # plot predictions and actual values\n",
    "#   sig_predictions.plot(figsize=(15,6))\n",
    "#   monthly_df['SLS_Qty'][:-10].plot(legend = True)"
   ]
  },
  {
   "cell_type": "code",
   "execution_count": 0,
   "metadata": {
    "application/vnd.databricks.v1+cell": {
     "cellMetadata": {
      "byteLimit": 2048000,
      "rowLimit": 10000
     },
     "inputWidgets": {},
     "nuid": "724eb2e0-faf3-4ce0-ac32-fffb59bdcdd4",
     "showTitle": false,
     "title": ""
    }
   },
   "outputs": [],
   "source": [
    "# sig_predictions['actual'] = monthly_df['SLS_Qty']\n",
    "# sig_predictions['actual'] = sig_predictions['actual'].fillna(0)\n",
    "# sig_predictions['Predictions'] = np.round(sig_predictions['Predictions'])\n",
    "# sig_predictions['mape'] = (np.abs(sig_predictions['actual']-sig_predictions['Predictions'])/sig_predictions['actual'])*100\n",
    "# sig_predictions['mape'][-10:] = 0\n",
    "# sig_predictions[-15:]"
   ]
  },
  {
   "cell_type": "code",
   "execution_count": 0,
   "metadata": {
    "application/vnd.databricks.v1+cell": {
     "cellMetadata": {
      "byteLimit": 2048000,
      "rowLimit": 10000
     },
     "inputWidgets": {},
     "nuid": "faf61311-60f8-4bec-8a38-1bf7bd817306",
     "showTitle": false,
     "title": ""
    }
   },
   "outputs": [],
   "source": [
    "# sig_predictions[-15:-10]['mape'].mean()"
   ]
  },
  {
   "cell_type": "code",
   "execution_count": 0,
   "metadata": {
    "application/vnd.databricks.v1+cell": {
     "cellMetadata": {
      "byteLimit": 2048000,
      "rowLimit": 10000
     },
     "inputWidgets": {},
     "nuid": "5a2a09db-7500-454c-bf4c-b0dc26f731e9",
     "showTitle": false,
     "title": ""
    }
   },
   "outputs": [],
   "source": [
    "# if sig_predictions[-15:-10]['mape'].mean() < predictions[-15:-10]['mape'].mean():\n",
    "#   best_preds = sig_predictions.copy()\n",
    "# else:\n",
    "#   best_preds = predictions.copy()"
   ]
  },
  {
   "cell_type": "code",
   "execution_count": 0,
   "metadata": {
    "application/vnd.databricks.v1+cell": {
     "cellMetadata": {
      "byteLimit": 2048000,
      "rowLimit": 10000
     },
     "inputWidgets": {},
     "nuid": "357cc7c7-0583-42c1-9e51-ce85535f9b9f",
     "showTitle": false,
     "title": ""
    }
   },
   "outputs": [],
   "source": [
    "# best_preds.tail(15)"
   ]
  },
  {
   "cell_type": "code",
   "execution_count": 0,
   "metadata": {
    "application/vnd.databricks.v1+cell": {
     "cellMetadata": {
      "byteLimit": 2048000,
      "rowLimit": 10000
     },
     "inputWidgets": {},
     "nuid": "13fca36b-b9d7-455d-b051-9676c934076e",
     "showTitle": false,
     "title": ""
    }
   },
   "outputs": [],
   "source": [
    "# # best_preds\n",
    "# result = best_preds[-15:]\n",
    "# result = result.reset_index()\n",
    "# result = result.rename(columns={ result.columns[0]: \"Date\" })\n",
    "# result"
   ]
  },
  {
   "cell_type": "code",
   "execution_count": 0,
   "metadata": {
    "application/vnd.databricks.v1+cell": {
     "cellMetadata": {
      "byteLimit": 2048000,
      "rowLimit": 10000
     },
     "inputWidgets": {},
     "nuid": "952810c2-414d-438b-b852-48a964de4886",
     "showTitle": false,
     "title": ""
    }
   },
   "outputs": [],
   "source": [
    "# result[-15:-10]['mape'].mean()"
   ]
  },
  {
   "cell_type": "code",
   "execution_count": 0,
   "metadata": {
    "application/vnd.databricks.v1+cell": {
     "cellMetadata": {
      "byteLimit": 2048000,
      "rowLimit": 10000
     },
     "inputWidgets": {},
     "nuid": "235d5f12-d8e9-4450-818c-3d6aa0b64328",
     "showTitle": false,
     "title": ""
    }
   },
   "outputs": [],
   "source": [
    "# import os"
   ]
  },
  {
   "cell_type": "code",
   "execution_count": 0,
   "metadata": {
    "application/vnd.databricks.v1+cell": {
     "cellMetadata": {
      "byteLimit": 2048000,
      "rowLimit": 10000
     },
     "inputWidgets": {},
     "nuid": "1fba940d-76c3-48ae-90e3-1226e6ec1f19",
     "showTitle": false,
     "title": ""
    }
   },
   "outputs": [],
   "source": [
    "# # Save graph\n",
    "# plt.figure(figsize=(15, 6))\n",
    "# plt.title({Style})\n",
    "# plt.plot(best_preds['Predictions'], label='Predictions')\n",
    "# plt.plot(best_preds['actual'][:-7], label='Actual')\n",
    "# plt.legend()"
   ]
  },
  {
   "cell_type": "code",
   "execution_count": 0,
   "metadata": {
    "application/vnd.databricks.v1+cell": {
     "cellMetadata": {
      "byteLimit": 2048000,
      "rowLimit": 10000
     },
     "inputWidgets": {},
     "nuid": "20c54820-6943-4f7f-9dc0-536192b35f4e",
     "showTitle": false,
     "title": ""
    }
   },
   "outputs": [],
   "source": [
    "\n",
    "# if not os.path.exists(\"/FileStore/Pantaloons_Sales_Forecasting/Core Reordering PLM/{}/\".format(Style)):\n",
    "#     dbutils.fs.mkdirs(\"/FileStore/Pantaloons_Sales_Forecasting/Core Reordering PLM/{}/\".format(Style))\n",
    "\n",
    "# plt.savefig(\"/dbfs/FileStore/Pantaloons_Sales_Forecasting/Core Reordering PLM/{}/.png\".format(Style), format='png')"
   ]
  },
  {
   "cell_type": "code",
   "execution_count": 0,
   "metadata": {
    "application/vnd.databricks.v1+cell": {
     "cellMetadata": {
      "byteLimit": 2048000,
      "rowLimit": 10000
     },
     "inputWidgets": {},
     "nuid": "ce4ced0c-8c8f-43ba-b256-e90c069e2c73",
     "showTitle": false,
     "title": ""
    }
   },
   "outputs": [],
   "source": [
    "\n",
    "# # Save csv\n",
    "# # Create a folder for each result\n",
    "# result_file_path = \"/FileStore/Pantaloons_Sales_Forecasting/Core Reordering PLM/{}/\".format(Style)  # Change the path accordingly\n",
    "\n",
    "# # Check if the folder exists, if not, create it\n",
    "# if not os.path.exists(result_file_path):\n",
    "#     dbutils.fs.mkdirs(result_file_path)\n",
    "\n",
    "# # Export file to the result folder\n",
    "# file_name = \"{}.csv\".format(Style)  # Include the missing replacement value\n",
    "# file_content = result.to_csv(index=False)  # Convert dataframe to string\n",
    "# # Replace with the actual content you want to export\n",
    "\n",
    "# # Export file to the result folder\n",
    "# file_path = result_file_path + file_name\n",
    "\n",
    "# dbutils.fs.put(file_path, file_content, overwrite=True)"
   ]
  },
  {
   "cell_type": "code",
   "execution_count": 0,
   "metadata": {
    "application/vnd.databricks.v1+cell": {
     "cellMetadata": {
      "byteLimit": 2048000,
      "rowLimit": 10000
     },
     "inputWidgets": {},
     "nuid": "376594d6-3a2d-4e43-81eb-768f7bddfa9a",
     "showTitle": false,
     "title": ""
    }
   },
   "outputs": [],
   "source": [
    "# dbutils.notebook.exit(result)"
   ]
  },
  {
   "cell_type": "code",
   "execution_count": 0,
   "metadata": {
    "application/vnd.databricks.v1+cell": {
     "cellMetadata": {
      "byteLimit": 2048000,
      "rowLimit": 10000
     },
     "inputWidgets": {},
     "nuid": "4620bebe-6716-493a-9a9b-7769b52141ac",
     "showTitle": false,
     "title": ""
    }
   },
   "outputs": [],
   "source": [
    "# Check data for upto next march, April 2024 "
   ]
  }
 ],
 "metadata": {
  "application/vnd.databricks.v1+notebook": {
   "dashboards": [],
   "environmentMetadata": {
    "base_environment": "",
    "client": "1"
   },
   "language": "python",
   "notebookMetadata": {
    "pythonIndentUnit": 2,
    "widgetLayout": [
     {
      "breakBefore": false,
      "name": "World",
      "width": 174
     }
    ]
   },
   "notebookName": "Multiple Regreesors - Ethnic",
   "widgets": {
    "Style": {
     "currentValue": "'RB101','SSLSETRMCBT00003'",
     "nuid": "2e9a9512-5a86-462d-b92a-d1fa2f6d92a2",
     "typedWidgetInfo": null,
     "widgetInfo": {
      "widgetType": "multiselect",
      "defaultValue": "'RB101','SSLSETRMCBT00003'",
      "label": "",
      "name": "Style",
      "options": {
       "widgetType": "dropdown",
       "autoCreated": false,
       "choices": [
        "'RB101','SSLSETRMCBT00003'",
        "'RB113','SSLSETRMCBT00011'",
        "'RB115','SSLSETRMCBO00003'",
        "'RB82','SSLSETRMCBT00007'",
        "'RB84','SSLSETRMCBT00008'",
        "'RB96','SSLSETRMCBO00001'",
        "'RD04','SSLSETRMDUP00001'",
        "'RB100','SSLSETRMCBT00010'",
        "'RB103','SSLSETRMCBT00004'"
       ]
      }
     }
    },
    "World": {
     "currentValue": "'ETHNIC APPAREL'",
     "nuid": "7c162768-6c8f-4f40-a463-e60392f5be44",
     "typedWidgetInfo": null,
     "widgetInfo": {
      "widgetType": "text",
      "defaultValue": "ETHNIC APPAREL",
      "label": null,
      "name": "World",
      "options": {
       "widgetType": "text",
       "autoCreated": null,
       "validationRegex": null
      }
     }
    }
   }
  }
 },
 "nbformat": 4,
 "nbformat_minor": 0
}
